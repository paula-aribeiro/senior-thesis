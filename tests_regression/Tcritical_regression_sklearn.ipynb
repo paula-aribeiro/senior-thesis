{
 "cells": [
  {
   "cell_type": "code",
   "execution_count": 1,
   "metadata": {},
   "outputs": [],
   "source": [
    "import numpy as np\n",
    "import matplotlib.pyplot as plt\n",
    "\n",
    "import pandas as pd\n",
    "from pandas.plotting import scatter_matrix\n",
    "\n",
    "from sklearn.preprocessing import PolynomialFeatures, FunctionTransformer\n",
    "from sklearn import linear_model\n",
    "from sklearn.metrics import r2_score"
   ]
  },
  {
   "cell_type": "code",
   "execution_count": 2,
   "metadata": {},
   "outputs": [
    {
     "data": {
      "text/html": [
       "<div>\n",
       "<style scoped>\n",
       "    .dataframe tbody tr th:only-of-type {\n",
       "        vertical-align: middle;\n",
       "    }\n",
       "\n",
       "    .dataframe tbody tr th {\n",
       "        vertical-align: top;\n",
       "    }\n",
       "\n",
       "    .dataframe thead th {\n",
       "        text-align: right;\n",
       "    }\n",
       "</style>\n",
       "<table border=\"1\" class=\"dataframe\">\n",
       "  <thead>\n",
       "    <tr style=\"text-align: right;\">\n",
       "      <th></th>\n",
       "      <th>file</th>\n",
       "      <th>macro</th>\n",
       "      <th>C</th>\n",
       "      <th>Mn</th>\n",
       "      <th>Si</th>\n",
       "      <th>Cr</th>\n",
       "      <th>Ni</th>\n",
       "      <th>A1</th>\n",
       "      <th>A1prime</th>\n",
       "      <th>A3</th>\n",
       "      <th>eutectoid</th>\n",
       "    </tr>\n",
       "  </thead>\n",
       "  <tbody>\n",
       "    <tr>\n",
       "      <th>0</th>\n",
       "      <td>../results/00000.DAT</td>\n",
       "      <td>../macros_thermocalc/macro_1.tcm</td>\n",
       "      <td>0.0</td>\n",
       "      <td>0.000001</td>\n",
       "      <td>0.000001</td>\n",
       "      <td>0.000001</td>\n",
       "      <td>0.000001</td>\n",
       "      <td>NaN</td>\n",
       "      <td>NaN</td>\n",
       "      <td>1184.80</td>\n",
       "      <td>hipo</td>\n",
       "    </tr>\n",
       "    <tr>\n",
       "      <th>1</th>\n",
       "      <td>../results/00001.DAT</td>\n",
       "      <td>../macros_thermocalc/macro_1.tcm</td>\n",
       "      <td>0.0</td>\n",
       "      <td>0.000001</td>\n",
       "      <td>0.000001</td>\n",
       "      <td>0.000001</td>\n",
       "      <td>0.007501</td>\n",
       "      <td>NaN</td>\n",
       "      <td>NaN</td>\n",
       "      <td>1153.41</td>\n",
       "      <td>hipo</td>\n",
       "    </tr>\n",
       "    <tr>\n",
       "      <th>2</th>\n",
       "      <td>../results/00002.DAT</td>\n",
       "      <td>../macros_thermocalc/macro_1.tcm</td>\n",
       "      <td>0.0</td>\n",
       "      <td>0.000001</td>\n",
       "      <td>0.000001</td>\n",
       "      <td>0.000001</td>\n",
       "      <td>0.015000</td>\n",
       "      <td>NaN</td>\n",
       "      <td>NaN</td>\n",
       "      <td>1126.40</td>\n",
       "      <td>hipo</td>\n",
       "    </tr>\n",
       "    <tr>\n",
       "      <th>3</th>\n",
       "      <td>../results/00003.DAT</td>\n",
       "      <td>../macros_thermocalc/macro_1.tcm</td>\n",
       "      <td>0.0</td>\n",
       "      <td>0.000001</td>\n",
       "      <td>0.000001</td>\n",
       "      <td>0.000001</td>\n",
       "      <td>0.022500</td>\n",
       "      <td>NaN</td>\n",
       "      <td>NaN</td>\n",
       "      <td>1102.75</td>\n",
       "      <td>hipo</td>\n",
       "    </tr>\n",
       "    <tr>\n",
       "      <th>4</th>\n",
       "      <td>../results/00004.DAT</td>\n",
       "      <td>../macros_thermocalc/macro_1.tcm</td>\n",
       "      <td>0.0</td>\n",
       "      <td>0.000001</td>\n",
       "      <td>0.000001</td>\n",
       "      <td>0.000001</td>\n",
       "      <td>0.030000</td>\n",
       "      <td>NaN</td>\n",
       "      <td>NaN</td>\n",
       "      <td>1081.80</td>\n",
       "      <td>hipo</td>\n",
       "    </tr>\n",
       "  </tbody>\n",
       "</table>\n",
       "</div>"
      ],
      "text/plain": [
       "                   file                             macro    C        Mn  \\\n",
       "0  ../results/00000.DAT  ../macros_thermocalc/macro_1.tcm  0.0  0.000001   \n",
       "1  ../results/00001.DAT  ../macros_thermocalc/macro_1.tcm  0.0  0.000001   \n",
       "2  ../results/00002.DAT  ../macros_thermocalc/macro_1.tcm  0.0  0.000001   \n",
       "3  ../results/00003.DAT  ../macros_thermocalc/macro_1.tcm  0.0  0.000001   \n",
       "4  ../results/00004.DAT  ../macros_thermocalc/macro_1.tcm  0.0  0.000001   \n",
       "\n",
       "         Si        Cr        Ni  A1  A1prime       A3 eutectoid  \n",
       "0  0.000001  0.000001  0.000001 NaN      NaN  1184.80      hipo  \n",
       "1  0.000001  0.000001  0.007501 NaN      NaN  1153.41      hipo  \n",
       "2  0.000001  0.000001  0.015000 NaN      NaN  1126.40      hipo  \n",
       "3  0.000001  0.000001  0.022500 NaN      NaN  1102.75      hipo  \n",
       "4  0.000001  0.000001  0.030000 NaN      NaN  1081.80      hipo  "
      ]
     },
     "execution_count": 2,
     "metadata": {},
     "output_type": "execute_result"
    }
   ],
   "source": [
    "dataset = pd.read_csv('../databases/Tcritical.csv', comment='#')\n",
    "# dataset.shape[0]\n",
    "dataset.head()"
   ]
  },
  {
   "cell_type": "code",
   "execution_count": 13,
   "metadata": {},
   "outputs": [],
   "source": [
    "def fit_polynomial(tcrit, eutectoid, degree, reg=linear_model.LinearRegression()):\n",
    "    \n",
    "    if not eutectoid:\n",
    "        sel = ~np.isnan(dataset[tcrit].values)\n",
    "        \n",
    "    else:\n",
    "        sel = ~np.isnan(dataset[tcrit].values) & (dataset.eutectoid == eutectoid)\n",
    "    \n",
    "    filtered_dataset = dataset[sel]\n",
    "    \n",
    "    ind_var = filtered_dataset[['C', 'Mn', 'Si', 'Cr', 'Ni']]*100\n",
    "    \n",
    "    dep_var = filtered_dataset[tcrit].values\n",
    "    \n",
    "    poly = PolynomialFeatures(degree=degree, include_bias=False)\n",
    "    ind_var_ = poly.fit_transform(ind_var)\n",
    "\n",
    "    reg.fit(ind_var_, dep_var)\n",
    "    \n",
    "    fitting_summary = {\n",
    "        'filtered_dataset': filtered_dataset,\n",
    "        'poly': poly,\n",
    "        'reg': reg,\n",
    "        'dep_var': dep_var,\n",
    "        'ind_var_': ind_var_\n",
    "    }\n",
    "    \n",
    "    return fitting_summary"
   ]
  },
  {
   "cell_type": "code",
   "execution_count": 125,
   "metadata": {},
   "outputs": [],
   "source": [
    "def rename_ind_var_names(ind_var_names):\n",
    "    ind_var_names = list(map(lambda x: str.replace(x, 'x0', 'C'), ind_var_names))\n",
    "    ind_var_names = list(map(lambda x: str.replace(x, 'x1', 'Mn'), ind_var_names))\n",
    "    ind_var_names = list(map(lambda x: str.replace(x, 'x2', 'Si'), ind_var_names))\n",
    "    ind_var_names = list(map(lambda x: str.replace(x, 'x3', 'Cr'), ind_var_names))\n",
    "    ind_var_names = list(map(lambda x: str.replace(x, 'x4', 'Ni'), ind_var_names))\n",
    "    return ind_var_names"
   ]
  },
  {
   "cell_type": "code",
   "execution_count": 14,
   "metadata": {},
   "outputs": [],
   "source": [
    "def fit_any_function(tcrit, eutectoid, f, reg=linear_model.LinearRegression()):\n",
    "    \n",
    "    if not eutectoid:\n",
    "        sel = ~np.isnan(dataset[tcrit].values)\n",
    "        \n",
    "    else:\n",
    "        sel = ~np.isnan(dataset[tcrit].values) & (dataset.eutectoid == eutectoid)\n",
    "    \n",
    "    filtered_dataset = dataset[sel]\n",
    "    \n",
    "    ind_var = filtered_dataset[['C', 'Mn', 'Si', 'Cr', 'Ni']]*100\n",
    "    \n",
    "    dep_var = filtered_dataset[tcrit].values\n",
    "    \n",
    "    poly = FunctionTransformer(f)\n",
    "    ind_var_ = poly.fit_transform(ind_var)\n",
    "\n",
    "    reg.fit(ind_var_, dep_var)\n",
    "    \n",
    "    fitting_summary = {\n",
    "        'filtered_dataset': filtered_dataset,\n",
    "        'poly': poly,\n",
    "        'reg': reg,\n",
    "        'dep_var': dep_var,\n",
    "        'ind_var_': ind_var_\n",
    "    }\n",
    "    \n",
    "    return fitting_summary"
   ]
  },
  {
   "cell_type": "code",
   "execution_count": 15,
   "metadata": {},
   "outputs": [],
   "source": [
    "def predict_poly(smry, predict, transform=True):\n",
    "    if transform:\n",
    "        predict_ = smry['poly'].fit_transform(predict)\n",
    "    else:\n",
    "        predict_ = predict\n",
    "    return smry['reg'].predict(predict_)"
   ]
  },
  {
   "cell_type": "code",
   "execution_count": 16,
   "metadata": {},
   "outputs": [],
   "source": [
    "def get_coeficients(poly, clf, predict):\n",
    "    print(poly.get_feature_names())\n",
    "    \n",
    "    print(reg.coef_)\n",
    "    print(reg.intercept_)\n",
    "    \n",
    "    predict_ = poly.fit_transform(predict)\n",
    "    print(reg.predict(predict_))"
   ]
  },
  {
   "cell_type": "code",
   "execution_count": 17,
   "metadata": {},
   "outputs": [],
   "source": [
    "def plot_fit(smry):\n",
    "    dep_var, reg, ind_var_ = smry['dep_var'], smry['reg'], smry['ind_var_']\n",
    "    plt.plot(dep_var, reg.predict(ind_var_), 'kx')\n",
    "    Tmin, Tmax = np.min(dep_var), np.max(dep_var)\n",
    "    plt.plot([Tmin, Tmax], [Tmin, Tmax], 'r-')    "
   ]
  },
  {
   "cell_type": "code",
   "execution_count": 49,
   "metadata": {
    "scrolled": true
   },
   "outputs": [
    {
     "data": {
      "image/png": "[encoded data removed]",
      "text/plain": [
       "<matplotlib.figure.Figure at 0x7fd5670a0240>"
      ]
     },
     "metadata": {
      "needs_background": "light"
     },
     "output_type": "display_data"
    }
   ],
   "source": [
    "alphalist = 10**np.linspace(-5, 1, 10)\n",
    "coef2 = []\n",
    "r2 = []\n",
    "for alpha in alphalist:\n",
    "    smry = fit_polynomial('A3', 'hipo', 2, reg=linear_model.Lasso(alpha=alpha))\n",
    "\n",
    "    coef2 += [np.sum(np.array(smry['reg'].coef_)**2)]\n",
    "    r2 += [r2_score(smry['dep_var'], predict_poly(smry, smry['ind_var_'], False))]\n",
    "    \n",
    "# plt.legend(loc='right')\n",
    "\n",
    "fig, ax = plt.subplots()\n",
    "ax2 = ax.twinx()\n",
    "ax.plot(alphalist, r2)\n",
    "ax2.plot(alphalist, coef2, color='r')\n",
    "# ax2.set_yscale('log')\n",
    "ax.set_xscale('log')\n",
    "\n",
    "# fig, ax3 = plt.subplots()\n",
    "# plot_fit(smry)"
   ]
  },
  {
   "cell_type": "code",
   "execution_count": 137,
   "metadata": {},
   "outputs": [
    {
     "name": "stdout",
     "output_type": "stream",
     "text": [
      "1196.07128568\n"
     ]
    },
    {
     "data": {
      "image/png": "[encoded data removed]",
      "text/plain": [
       "<matplotlib.figure.Figure at 0x7fd5647f9a90>"
      ]
     },
     "metadata": {
      "needs_background": "light"
     },
     "output_type": "display_data"
    }
   ],
   "source": [
    "# def f(X):\n",
    "#     C, Mn, Si, Cr, Ni = X.T\n",
    "#     X_ = np.vstack([C, C**2, C**2*Mn, C**2*Si, C**2*Cr, C**2*Ni, C*Mn, C*Si, C*Cr, C*Ni, Mn, Mn*Si, Mn*Cr, Mn*Ni, Mn**2, Si, Si*Cr, Si*Ni, Si**2, Cr, Cr*Ni, Cr**2, Ni, Ni**2]).T\n",
    "#     return X_\n",
    "\n",
    "# smry = fit_polynomial('A3', 'hipo', 2, reg=linear_model.Lasso())\n",
    "# print(smry['reg'].coef_)\n",
    "# plot_fit(smry)\n",
    "\n",
    "# smry = fit_polynomial('A3', 'hipo', 2, reg=linear_model.Ridge(alpha=.01, normalize=True))\n",
    "smry = fit_polynomial('A3', 'hipo', 2, reg=linear_model.LinearRegression())\n",
    "# smry = fit_any_function('A3', 'hipo', f, reg=linear_model.LinearRegression())\n",
    "print(smry['reg'].intercept_)\n",
    "plot_fit(smry)"
   ]
  },
  {
   "cell_type": "code",
   "execution_count": 138,
   "metadata": {},
   "outputs": [
    {
     "data": {
      "text/plain": [
       "[<matplotlib.lines.Line2D at 0x7fd56450c940>]"
      ]
     },
     "execution_count": 138,
     "metadata": {},
     "output_type": "execute_result"
    },
    {
     "data": {
      "image/png": "[encoded data removed]",
      "text/plain": [
       "<matplotlib.figure.Figure at 0x7fd5647f1978>"
      ]
     },
     "metadata": {
      "needs_background": "light"
     },
     "output_type": "display_data"
    }
   ],
   "source": [
    "fig, ax = plt.subplots(figsize=(12,6))\n",
    "ind_var_names = smry['poly'].get_feature_names()\n",
    "ind_var_names = rename_ind_var_names(ind_var_names)\n",
    "ax.plot(ind_var_names, smry['reg'].coef_, 'kx')"
   ]
  },
  {
   "cell_type": "code",
   "execution_count": 25,
   "metadata": {},
   "outputs": [
    {
     "name": "stdout",
     "output_type": "stream",
     "text": [
      "Int64Index([ 625,  626,  627,  628,  629,  630,  631,  632,  633,  634,\n",
      "            ...\n",
      "            3003, 3025, 3026, 3050, 3051, 3075, 3100, 3125, 3150, 3225],\n",
      "           dtype='int64', length=1642)\n"
     ]
    },
    {
     "data": {
      "text/plain": [
       "[<matplotlib.lines.Line2D at 0x7fd567108ef0>]"
      ]
     },
     "execution_count": 25,
     "metadata": {},
     "output_type": "execute_result"
    },
    {
     "data": {
      "image/png": "[encoded data removed]",
      "text/plain": [
       "<matplotlib.figure.Figure at 0x7fd5670d5518>"
      ]
     },
     "metadata": {
      "needs_background": "light"
     },
     "output_type": "display_data"
    }
   ],
   "source": [
    "smry = fit_polynomial('A1prime', 'hipo', 2, reg=linear_model.RANSACRegressor())\n",
    "plot_fit(smry)\n",
    "\n",
    "filtered_dataset = smry['filtered_dataset']\n",
    "ransac = smry['reg']\n",
    "dep_var = smry['dep_var']\n",
    "ind_var_ = smry['ind_var_']\n",
    "\n",
    "inlier_mask = ransac.inlier_mask_\n",
    "outlier_mask = ~inlier_mask\n",
    "\n",
    "# print(len(filtered_dataset.index), len(inlier_mask))\n",
    "print(filtered_dataset[inlier_mask].index)\n",
    "\n",
    "plt.plot(dep_var[inlier_mask], ransac.predict(ind_var_)[inlier_mask], 'kx')\n",
    "plt.plot(dep_var[outlier_mask], ransac.predict(ind_var_)[outlier_mask], 'gx')"
   ]
  },
  {
   "cell_type": "code",
   "execution_count": 27,
   "metadata": {},
   "outputs": [
    {
     "data": {
      "text/html": [
       "<div>\n",
       "<style scoped>\n",
       "    .dataframe tbody tr th:only-of-type {\n",
       "        vertical-align: middle;\n",
       "    }\n",
       "\n",
       "    .dataframe tbody tr th {\n",
       "        vertical-align: top;\n",
       "    }\n",
       "\n",
       "    .dataframe thead th {\n",
       "        text-align: right;\n",
       "    }\n",
       "</style>\n",
       "<table border=\"1\" class=\"dataframe\">\n",
       "  <thead>\n",
       "    <tr style=\"text-align: right;\">\n",
       "      <th></th>\n",
       "      <th>file</th>\n",
       "      <th>macro</th>\n",
       "      <th>C</th>\n",
       "      <th>Mn</th>\n",
       "      <th>Si</th>\n",
       "      <th>Cr</th>\n",
       "      <th>Ni</th>\n",
       "      <th>A1</th>\n",
       "      <th>A1prime</th>\n",
       "      <th>A3</th>\n",
       "      <th>eutectoid</th>\n",
       "    </tr>\n",
       "  </thead>\n",
       "  <tbody>\n",
       "    <tr>\n",
       "      <th>3324</th>\n",
       "      <td>../results/03324.DAT</td>\n",
       "      <td>../macros_thermocalc/macro_67.tcm</td>\n",
       "      <td>0.0075</td>\n",
       "      <td>0.007501</td>\n",
       "      <td>0.015</td>\n",
       "      <td>0.03</td>\n",
       "      <td>0.03</td>\n",
       "      <td>NaN</td>\n",
       "      <td>673.0</td>\n",
       "      <td>957.899</td>\n",
       "      <td>hipo</td>\n",
       "    </tr>\n",
       "  </tbody>\n",
       "</table>\n",
       "</div>"
      ],
      "text/plain": [
       "                      file                              macro       C  \\\n",
       "3324  ../results/03324.DAT  ../macros_thermocalc/macro_67.tcm  0.0075   \n",
       "\n",
       "            Mn     Si    Cr    Ni  A1  A1prime       A3 eutectoid  \n",
       "3324  0.007501  0.015  0.03  0.03 NaN    673.0  957.899      hipo  "
      ]
     },
     "execution_count": 27,
     "metadata": {},
     "output_type": "execute_result"
    }
   ],
   "source": [
    "filtered_dataset[outlier_mask]"
   ]
  }
 ],
 "metadata": {
  "kernelspec": {
   "display_name": "Python 3",
   "language": "python",
   "name": "python3"
  },
  "language_info": {
   "codemirror_mode": {
    "name": "ipython",
    "version": 3
   },
   "file_extension": ".py",
   "mimetype": "text/x-python",
   "name": "python",
   "nbconvert_exporter": "python",
   "pygments_lexer": "ipython3",
   "version": "3.5.2"
  }
 },
 "nbformat": 4,
 "nbformat_minor": 2
}
