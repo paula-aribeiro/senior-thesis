{
 "cells": [
  {
   "cell_type": "code",
   "execution_count": 1,
   "metadata": {
    "collapsed": true
   },
   "outputs": [],
   "source": [
    "import Tcritical_regression_statsmodels as tr\n",
    "import matplotlib.pyplot as plt\n",
    "import numpy as np\n",
    "import pandas as pd\n",
    "from scipy.optimize import root\n",
    "from parse_database import read_header_database, parse_header_database\n",
    "from plot_carbon_isopleth import (load_reshape_dataset,\n",
    "                                  select_carbon_isopleth,\n",
    "                                  plot_carbon_isopleth)"
   ]
  },
  {
   "cell_type": "code",
   "execution_count": 2,
   "metadata": {
    "collapsed": true
   },
   "outputs": [],
   "source": [
    "fname_dataset = '../databases/Tcritical.csv'\n",
    "\n",
    "header = read_header_database(fname_dataset)\n",
    "# Temperature range and compositions ranges\n",
    "Trange, crange = parse_header_database(header)\n",
    "\n",
    "# dataset as pandas DataFrame\n",
    "dataset = tr.load_dataset(fname_dataset)\n",
    "\n",
    "# dependent variable\n",
    "dep_var = 'A1'\n",
    "\n",
    "reg, results = {}, {}"
   ]
  },
  {
   "cell_type": "code",
   "execution_count": 6,
   "metadata": {},
   "outputs": [
    {
     "name": "stdout",
     "output_type": "stream",
     "text": [
      "3 iteration(s)\n"
     ]
    }
   ],
   "source": [
    "reg, results = tr.regression_poly_2nd_deg(\n",
    "    dataset=dataset,\n",
    "    dep_var=dep_var, maxpvalue=.01,\n",
    "    printsummary=False)"
   ]
  },
  {
   "cell_type": "code",
   "execution_count": 8,
   "metadata": {},
   "outputs": [
    {
     "data": {
      "text/plain": [
       "<statsmodels.regression.linear_model.RegressionResultsWrapper at 0x7f3f29deb908>"
      ]
     },
     "execution_count": 8,
     "metadata": {},
     "output_type": "execute_result"
    }
   ],
   "source": [
    "results"
   ]
  },
  {
   "cell_type": "code",
   "execution_count": null,
   "metadata": {
    "collapsed": true
   },
   "outputs": [],
   "source": []
  }
 ],
 "metadata": {
  "kernelspec": {
   "display_name": "Python 3",
   "language": "python",
   "name": "python3"
  },
  "language_info": {
   "codemirror_mode": {
    "name": "ipython",
    "version": 3
   },
   "file_extension": ".py",
   "mimetype": "text/x-python",
   "name": "python",
   "nbconvert_exporter": "python",
   "pygments_lexer": "ipython3",
   "version": "3.5.2"
  }
 },
 "nbformat": 4,
 "nbformat_minor": 2
}
