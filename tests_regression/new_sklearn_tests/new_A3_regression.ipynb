{
 "cells": [
  {
   "cell_type": "code",
   "execution_count": 131,
   "metadata": {},
   "outputs": [],
   "source": [
    "import math\n",
    "import pandas as pd\n",
    "import numpy as np\n",
    "import matplotlib.pyplot as plt\n",
    "from sklearn.linear_model import LinearRegression\n",
    "from sklearn.model_selection import train_test_split\n",
    "\n",
    "from sklearn import linear_model\n",
    "from sklearn import metrics"
   ]
  },
  {
   "cell_type": "markdown",
   "metadata": {},
   "source": [
    "# Preparing dataset"
   ]
  },
  {
   "cell_type": "code",
   "execution_count": 2,
   "metadata": {
    "collapsed": true
   },
   "outputs": [],
   "source": [
    "def load_dataset(fname):\n",
    "    # read dataset\n",
    "    dataset = pd.read_csv(fname, comment='#')\n",
    "\n",
    "    # compositions to wt.%\n",
    "    dataset.C *= 100\n",
    "    dataset.Mn *= 100\n",
    "    dataset.Si *= 100\n",
    "    dataset.Cr *= 100\n",
    "    dataset.Ni *= 100\n",
    "\n",
    "    # temperatures to oC\n",
    "    dataset.A1 -= 273.15\n",
    "    dataset.A1prime -= 273.15\n",
    "    dataset.A3 -= 273.15\n",
    "\n",
    "    return dataset"
   ]
  },
  {
   "cell_type": "code",
   "execution_count": 3,
   "metadata": {
    "collapsed": true
   },
   "outputs": [],
   "source": [
    "raw_df = load_dataset('../../databases/Tcritical.csv')\n",
    "raw_df = raw_df.drop(['file', 'macro'], axis=1)\n",
    "#raw_df.head()"
   ]
  },
  {
   "cell_type": "code",
   "execution_count": 4,
   "metadata": {
    "scrolled": true
   },
   "outputs": [
    {
     "data": {
      "text/html": [
       "<div>\n",
       "<style scoped>\n",
       "    .dataframe tbody tr th:only-of-type {\n",
       "        vertical-align: middle;\n",
       "    }\n",
       "\n",
       "    .dataframe tbody tr th {\n",
       "        vertical-align: top;\n",
       "    }\n",
       "\n",
       "    .dataframe thead th {\n",
       "        text-align: right;\n",
       "    }\n",
       "</style>\n",
       "<table border=\"1\" class=\"dataframe\">\n",
       "  <thead>\n",
       "    <tr style=\"text-align: right;\">\n",
       "      <th></th>\n",
       "      <th>C</th>\n",
       "      <th>Mn</th>\n",
       "      <th>Si</th>\n",
       "      <th>Cr</th>\n",
       "      <th>Ni</th>\n",
       "      <th>A1</th>\n",
       "      <th>A1prime</th>\n",
       "      <th>A3</th>\n",
       "      <th>eutectoid</th>\n",
       "      <th>C2</th>\n",
       "      <th>...</th>\n",
       "      <th>CNi</th>\n",
       "      <th>Mn2</th>\n",
       "      <th>MnSi</th>\n",
       "      <th>MnCr</th>\n",
       "      <th>MnNi</th>\n",
       "      <th>SiCr</th>\n",
       "      <th>SiNi</th>\n",
       "      <th>Cr2</th>\n",
       "      <th>CrNi</th>\n",
       "      <th>Ni2</th>\n",
       "    </tr>\n",
       "  </thead>\n",
       "  <tbody>\n",
       "    <tr>\n",
       "      <th>0</th>\n",
       "      <td>0.0</td>\n",
       "      <td>0.0001</td>\n",
       "      <td>1.000000e-08</td>\n",
       "      <td>0.0001</td>\n",
       "      <td>0.000100</td>\n",
       "      <td>NaN</td>\n",
       "      <td>NaN</td>\n",
       "      <td>911.65</td>\n",
       "      <td>hipo</td>\n",
       "      <td>0.0</td>\n",
       "      <td>...</td>\n",
       "      <td>0.0</td>\n",
       "      <td>1.000000e-08</td>\n",
       "      <td>1.000000e-08</td>\n",
       "      <td>1.000000e-08</td>\n",
       "      <td>1.000000e-08</td>\n",
       "      <td>1.000000e-12</td>\n",
       "      <td>1.000000e-12</td>\n",
       "      <td>1.000000e-08</td>\n",
       "      <td>1.000000e-08</td>\n",
       "      <td>1.000000e-08</td>\n",
       "    </tr>\n",
       "    <tr>\n",
       "      <th>1</th>\n",
       "      <td>0.0</td>\n",
       "      <td>0.0001</td>\n",
       "      <td>1.000000e-08</td>\n",
       "      <td>0.0001</td>\n",
       "      <td>0.750075</td>\n",
       "      <td>NaN</td>\n",
       "      <td>NaN</td>\n",
       "      <td>880.26</td>\n",
       "      <td>hipo</td>\n",
       "      <td>0.0</td>\n",
       "      <td>...</td>\n",
       "      <td>0.0</td>\n",
       "      <td>1.000000e-08</td>\n",
       "      <td>1.000000e-08</td>\n",
       "      <td>1.000000e-08</td>\n",
       "      <td>7.500750e-05</td>\n",
       "      <td>1.000000e-12</td>\n",
       "      <td>7.500750e-09</td>\n",
       "      <td>1.000000e-08</td>\n",
       "      <td>7.500750e-05</td>\n",
       "      <td>5.626125e-01</td>\n",
       "    </tr>\n",
       "    <tr>\n",
       "      <th>2</th>\n",
       "      <td>0.0</td>\n",
       "      <td>0.0001</td>\n",
       "      <td>1.000000e-08</td>\n",
       "      <td>0.0001</td>\n",
       "      <td>1.500050</td>\n",
       "      <td>NaN</td>\n",
       "      <td>NaN</td>\n",
       "      <td>853.25</td>\n",
       "      <td>hipo</td>\n",
       "      <td>0.0</td>\n",
       "      <td>...</td>\n",
       "      <td>0.0</td>\n",
       "      <td>1.000000e-08</td>\n",
       "      <td>1.000000e-08</td>\n",
       "      <td>1.000000e-08</td>\n",
       "      <td>1.500050e-04</td>\n",
       "      <td>1.000000e-12</td>\n",
       "      <td>1.500050e-08</td>\n",
       "      <td>1.000000e-08</td>\n",
       "      <td>1.500050e-04</td>\n",
       "      <td>2.250150e+00</td>\n",
       "    </tr>\n",
       "    <tr>\n",
       "      <th>3</th>\n",
       "      <td>0.0</td>\n",
       "      <td>0.0001</td>\n",
       "      <td>1.000000e-08</td>\n",
       "      <td>0.0001</td>\n",
       "      <td>2.250025</td>\n",
       "      <td>NaN</td>\n",
       "      <td>NaN</td>\n",
       "      <td>829.60</td>\n",
       "      <td>hipo</td>\n",
       "      <td>0.0</td>\n",
       "      <td>...</td>\n",
       "      <td>0.0</td>\n",
       "      <td>1.000000e-08</td>\n",
       "      <td>1.000000e-08</td>\n",
       "      <td>1.000000e-08</td>\n",
       "      <td>2.250025e-04</td>\n",
       "      <td>1.000000e-12</td>\n",
       "      <td>2.250025e-08</td>\n",
       "      <td>1.000000e-08</td>\n",
       "      <td>2.250025e-04</td>\n",
       "      <td>5.062613e+00</td>\n",
       "    </tr>\n",
       "    <tr>\n",
       "      <th>4</th>\n",
       "      <td>0.0</td>\n",
       "      <td>0.0001</td>\n",
       "      <td>1.000000e-08</td>\n",
       "      <td>0.0001</td>\n",
       "      <td>3.000000</td>\n",
       "      <td>NaN</td>\n",
       "      <td>NaN</td>\n",
       "      <td>808.65</td>\n",
       "      <td>hipo</td>\n",
       "      <td>0.0</td>\n",
       "      <td>...</td>\n",
       "      <td>0.0</td>\n",
       "      <td>1.000000e-08</td>\n",
       "      <td>1.000000e-08</td>\n",
       "      <td>1.000000e-08</td>\n",
       "      <td>3.000000e-04</td>\n",
       "      <td>1.000000e-12</td>\n",
       "      <td>3.000000e-08</td>\n",
       "      <td>1.000000e-08</td>\n",
       "      <td>3.000000e-04</td>\n",
       "      <td>9.000000e+00</td>\n",
       "    </tr>\n",
       "  </tbody>\n",
       "</table>\n",
       "<p>5 rows × 23 columns</p>\n",
       "</div>"
      ],
      "text/plain": [
       "     C      Mn            Si      Cr        Ni  A1  A1prime      A3 eutectoid  \\\n",
       "0  0.0  0.0001  1.000000e-08  0.0001  0.000100 NaN      NaN  911.65      hipo   \n",
       "1  0.0  0.0001  1.000000e-08  0.0001  0.750075 NaN      NaN  880.26      hipo   \n",
       "2  0.0  0.0001  1.000000e-08  0.0001  1.500050 NaN      NaN  853.25      hipo   \n",
       "3  0.0  0.0001  1.000000e-08  0.0001  2.250025 NaN      NaN  829.60      hipo   \n",
       "4  0.0  0.0001  1.000000e-08  0.0001  3.000000 NaN      NaN  808.65      hipo   \n",
       "\n",
       "    C2      ...       CNi           Mn2          MnSi          MnCr  \\\n",
       "0  0.0      ...       0.0  1.000000e-08  1.000000e-08  1.000000e-08   \n",
       "1  0.0      ...       0.0  1.000000e-08  1.000000e-08  1.000000e-08   \n",
       "2  0.0      ...       0.0  1.000000e-08  1.000000e-08  1.000000e-08   \n",
       "3  0.0      ...       0.0  1.000000e-08  1.000000e-08  1.000000e-08   \n",
       "4  0.0      ...       0.0  1.000000e-08  1.000000e-08  1.000000e-08   \n",
       "\n",
       "           MnNi          SiCr          SiNi           Cr2          CrNi  \\\n",
       "0  1.000000e-08  1.000000e-12  1.000000e-12  1.000000e-08  1.000000e-08   \n",
       "1  7.500750e-05  1.000000e-12  7.500750e-09  1.000000e-08  7.500750e-05   \n",
       "2  1.500050e-04  1.000000e-12  1.500050e-08  1.000000e-08  1.500050e-04   \n",
       "3  2.250025e-04  1.000000e-12  2.250025e-08  1.000000e-08  2.250025e-04   \n",
       "4  3.000000e-04  1.000000e-12  3.000000e-08  1.000000e-08  3.000000e-04   \n",
       "\n",
       "            Ni2  \n",
       "0  1.000000e-08  \n",
       "1  5.626125e-01  \n",
       "2  2.250150e+00  \n",
       "3  5.062613e+00  \n",
       "4  9.000000e+00  \n",
       "\n",
       "[5 rows x 23 columns]"
      ]
     },
     "execution_count": 4,
     "metadata": {},
     "output_type": "execute_result"
    }
   ],
   "source": [
    "df = raw_df.copy()\n",
    "\n",
    "'''\n",
    "Variables\n",
    "C, C**2, C*Mn, C*Si, C*Cr, C*Ni, \n",
    "Mn, Mn**2, Mn*Si, Mn*Cr, Mn*Ni, \n",
    "Si, Si*Si, Si*Cr, Si*Ni, \n",
    "Cr, Cr**2, Cr*Ni,\n",
    "Ni, Ni**2]\n",
    "'''\n",
    "\n",
    "df['C2'] = df['C'].apply(lambda x: x**2)\n",
    "df['CMn'] = df['C'] * df['Mn']\n",
    "df['CSi'] = df['C'] * df['Si']\n",
    "df['CCr'] = df['C'] * df['Cr']\n",
    "df['CNi'] = df['C'] * df['Ni']\n",
    "df['Mn2'] = df['Mn'].apply(lambda x: x**2)\n",
    "df['MnSi'] = df['Si'] * df['Mn']\n",
    "df['MnCr'] = df['Cr'] * df['Mn']\n",
    "df['MnNi'] = df['Ni'] * df['Mn']\n",
    "df['Si'] = df['Si'].apply(lambda x: x**2)\n",
    "df['SiCr'] = df['Cr'] * df['Si']\n",
    "df['SiNi'] = df['Si'] * df['Ni']\n",
    "df['Cr2'] = df['Cr'].apply(lambda x: x**2)\n",
    "df['CrNi'] = df['Cr'] * df['Ni']\n",
    "df['Ni2'] = df['Ni'].apply(lambda x: x**2)\n",
    "\n",
    "df.head()"
   ]
  },
  {
   "cell_type": "markdown",
   "metadata": {},
   "source": [
    "# Preparing A3 dataset"
   ]
  },
  {
   "cell_type": "code",
   "execution_count": 5,
   "metadata": {
    "collapsed": true
   },
   "outputs": [],
   "source": [
    "df1 = df.copy()\n",
    "df1 = df.drop(['A1', 'A1prime'], axis=1)\n",
    "is_na = df1['A3'].isna() \n",
    "df1 = df1.loc[~is_na, :] #REMOVE ALL A3 NAN\n",
    "df1_ = df1.copy()\n",
    "df1_ = df1_.drop(['eutectoid'], axis=1) #REMOVE EUCTETOID COLLUMN BECAUSE IT'S A STRING\n",
    "#df1_"
   ]
  },
  {
   "cell_type": "markdown",
   "metadata": {},
   "source": [
    "# A3 Regression"
   ]
  },
  {
   "cell_type": "code",
   "execution_count": 90,
   "metadata": {
    "collapsed": true
   },
   "outputs": [],
   "source": [
    "def _split_between_train_and_test(df, size):\n",
    "    #train size may be 0.8, 0.7 or 0.99\n",
    "    target = df['A3']\n",
    "    features = df.iloc[:, :20]\n",
    "    X_train, X_test, y_train, y_test = train_test_split(\n",
    "        features,\n",
    "        target,\n",
    "        train_size=size,\n",
    "        random_state=42\n",
    "    )\n",
    "    \n",
    "    X_train = X_train.drop(['A3'], axis=1)\n",
    "    X_test = X_test.drop(['A3'], axis=1)\n",
    "    \n",
    "    print('Train size: {}'.format(X_train.shape))\n",
    "    print('Test size: {}'.format(X_test.shape))\n",
    "    return X_train, X_test, y_train, y_test"
   ]
  },
  {
   "cell_type": "markdown",
   "metadata": {},
   "source": [
    "## Train Size 70%"
   ]
  },
  {
   "cell_type": "code",
   "execution_count": 124,
   "metadata": {
    "scrolled": false
   },
   "outputs": [
    {
     "name": "stdout",
     "output_type": "stream",
     "text": [
      "Train size: (4791, 19)\n",
      "Test size: (2054, 19)\n"
     ]
    },
    {
     "name": "stderr",
     "output_type": "stream",
     "text": [
      "/home/paula/.local/lib/python3.5/site-packages/sklearn/model_selection/_split.py:2026: FutureWarning: From version 0.21, test_size will always complement train_size unless both are specified.\n",
      "  FutureWarning)\n"
     ]
    }
   ],
   "source": [
    "X_train, X_test, y_train, y_test = _split_between_train_and_test(df1_, 0.7)"
   ]
  },
  {
   "cell_type": "code",
   "execution_count": 93,
   "metadata": {},
   "outputs": [
    {
     "data": {
      "text/plain": [
       "4277     813.96\n",
       "5322    1008.43\n",
       "4292     899.99\n",
       "1613     792.50\n",
       "3144     855.06\n",
       "Name: A3, dtype: float64"
      ]
     },
     "execution_count": 93,
     "metadata": {},
     "output_type": "execute_result"
    }
   ],
   "source": [
    "y_test.head()"
   ]
  },
  {
   "cell_type": "code",
   "execution_count": 94,
   "metadata": {},
   "outputs": [
    {
     "data": {
      "text/plain": [
       "5275    911.41\n",
       "30      956.51\n",
       "1906    777.76\n",
       "2212    756.39\n",
       "4192    911.98\n",
       "Name: A3, dtype: float64"
      ]
     },
     "execution_count": 94,
     "metadata": {},
     "output_type": "execute_result"
    }
   ],
   "source": [
    "y_train.head()"
   ]
  },
  {
   "cell_type": "code",
   "execution_count": 114,
   "metadata": {},
   "outputs": [
    {
     "data": {
      "text/plain": [
       "896.3291215014789"
      ]
     },
     "execution_count": 114,
     "metadata": {},
     "output_type": "execute_result"
    }
   ],
   "source": [
    "model = lm.fit(X_train, y_train)\n",
    "predictions = lm.predict(X_test)\n",
    "model.intercept_\n",
    "\n",
    "# predictor = LinearRegression(n_jobs=-1, normalize=True)\n",
    "# estimator = predictor.fit(X_train, y_train)\n",
    "# estimator.intercept_"
   ]
  },
  {
   "cell_type": "code",
   "execution_count": 115,
   "metadata": {
    "scrolled": true
   },
   "outputs": [
    {
     "data": {
      "text/plain": [
       "[('C', -262.6913897889049),\n",
       " ('Mn', -41.0124245674925),\n",
       " ('Si', 10.027047364738646),\n",
       " ('Cr', -9.012024126134541),\n",
       " ('Ni', -33.3369506223936),\n",
       " ('C2', 215.98962057092717),\n",
       " ('CMn', 27.06417150894294),\n",
       " ('CSi', -8.246162579934989),\n",
       " ('CCr', 25.87816956109647),\n",
       " ('CNi', 25.9294402420976),\n",
       " ('Mn2', 1.315755403166023),\n",
       " ('MnSi', 1.075877091818366),\n",
       " ('MnCr', 2.1663146271083806),\n",
       " ('MnNi', 1.974137195802674),\n",
       " ('SiCr', -0.8800394775533249),\n",
       " ('SiNi', -0.48408789787227535),\n",
       " ('Cr2', 1.1117325756543437),\n",
       " ('CrNi', 2.478813489705872),\n",
       " ('Ni2', 0.8503596269121272)]"
      ]
     },
     "execution_count": 115,
     "metadata": {},
     "output_type": "execute_result"
    }
   ],
   "source": [
    "list(zip(X_test.keys(), model.coef_))"
   ]
  },
  {
   "cell_type": "code",
   "execution_count": 125,
   "metadata": {
    "collapsed": true
   },
   "outputs": [],
   "source": [
    "# fit a model\n",
    "lm = linear_model.LinearRegression()\n",
    "model = lm.fit(X_train, y_train)\n",
    "predictions = lm.predict(X_test)"
   ]
  },
  {
   "cell_type": "code",
   "execution_count": 126,
   "metadata": {
    "scrolled": true
   },
   "outputs": [
    {
     "data": {
      "image/png": "[encoded data removed]",
      "text/plain": [
       "<Figure size 432x288 with 1 Axes>"
      ]
     },
     "metadata": {},
     "output_type": "display_data"
    }
   ],
   "source": [
    "## The line / model\n",
    "plt.scatter(y_test, predictions)\n",
    "#plt.xlabel(“True Values”)\n",
    "#plt.ylabel(“Predictions”)\n",
    "plt.show()"
   ]
  },
  {
   "cell_type": "code",
   "execution_count": 127,
   "metadata": {},
   "outputs": [
    {
     "data": {
      "text/plain": [
       "0.8807748471556844"
      ]
     },
     "execution_count": 127,
     "metadata": {},
     "output_type": "execute_result"
    }
   ],
   "source": [
    "metrics.r2_score(y_test, predictions)"
   ]
  },
  {
   "cell_type": "code",
   "execution_count": 132,
   "metadata": {},
   "outputs": [
    {
     "data": {
      "text/plain": [
       "36.1867729133932"
      ]
     },
     "execution_count": 132,
     "metadata": {},
     "output_type": "execute_result"
    }
   ],
   "source": [
    "#RMSE\n",
    "math.sqrt(metrics.mean_squared_error(y_test, predictions))"
   ]
  },
  {
   "cell_type": "markdown",
   "metadata": {},
   "source": [
    "## Train Size 80%"
   ]
  },
  {
   "cell_type": "code",
   "execution_count": 133,
   "metadata": {},
   "outputs": [
    {
     "name": "stdout",
     "output_type": "stream",
     "text": [
      "Train size: (5476, 19)\n",
      "Test size: (1369, 19)\n"
     ]
    },
    {
     "name": "stderr",
     "output_type": "stream",
     "text": [
      "/home/paula/.local/lib/python3.5/site-packages/sklearn/model_selection/_split.py:2026: FutureWarning: From version 0.21, test_size will always complement train_size unless both are specified.\n",
      "  FutureWarning)\n"
     ]
    }
   ],
   "source": [
    "X_train, X_test, y_train, y_test = _split_between_train_and_test(df1_, 0.8)"
   ]
  },
  {
   "cell_type": "code",
   "execution_count": 134,
   "metadata": {},
   "outputs": [
    {
     "data": {
      "text/plain": [
       "893.2257134168982"
      ]
     },
     "execution_count": 134,
     "metadata": {},
     "output_type": "execute_result"
    }
   ],
   "source": [
    "model = lm.fit(X_train, y_train)\n",
    "predictions = lm.predict(X_test)\n",
    "model.intercept_"
   ]
  },
  {
   "cell_type": "code",
   "execution_count": 135,
   "metadata": {},
   "outputs": [
    {
     "data": {
      "text/plain": [
       "[('C', -261.1753153220493),\n",
       " ('Mn', -40.409609047923155),\n",
       " ('Si', 10.112628873981503),\n",
       " ('Cr', -7.66764694263189),\n",
       " ('Ni', -32.44386325589558),\n",
       " ('C2', 216.0753734030949),\n",
       " ('CMn', 26.989264493348532),\n",
       " ('CSi', -8.378830409182925),\n",
       " ('CCr', 25.553020179146003),\n",
       " ('CNi', 25.430291611650542),\n",
       " ('Mn2', 1.336661055251549),\n",
       " ('MnSi', 1.0962279500999488),\n",
       " ('MnCr', 1.9547738185634616),\n",
       " ('MnNi', 1.7814164625761828),\n",
       " ('SiCr', -0.915680001104493),\n",
       " ('SiNi', -0.5003619953379947),\n",
       " ('Cr2', 0.9852984624601098),\n",
       " ('CrNi', 2.2705386323444166),\n",
       " ('Ni2', 0.9299984427325296)]"
      ]
     },
     "execution_count": 135,
     "metadata": {},
     "output_type": "execute_result"
    }
   ],
   "source": [
    "list(zip(X_test.keys(), model.coef_))"
   ]
  },
  {
   "cell_type": "code",
   "execution_count": 136,
   "metadata": {},
   "outputs": [
    {
     "data": {
      "image/png": "[encoded data removed]",
      "text/plain": [
       "<Figure size 432x288 with 1 Axes>"
      ]
     },
     "metadata": {},
     "output_type": "display_data"
    }
   ],
   "source": [
    "model = lm.fit(X_train, y_train)\n",
    "predictions = lm.predict(X_test)\n",
    "plt.scatter(y_test, predictions)\n",
    "plt.show()"
   ]
  },
  {
   "cell_type": "code",
   "execution_count": 137,
   "metadata": {},
   "outputs": [
    {
     "data": {
      "text/plain": [
       "0.8774082232916405"
      ]
     },
     "execution_count": 137,
     "metadata": {},
     "output_type": "execute_result"
    }
   ],
   "source": [
    "#R2\n",
    "metrics.r2_score(y_test, predictions)"
   ]
  },
  {
   "cell_type": "code",
   "execution_count": 138,
   "metadata": {},
   "outputs": [
    {
     "data": {
      "text/plain": [
       "36.91817441410102"
      ]
     },
     "execution_count": 138,
     "metadata": {},
     "output_type": "execute_result"
    }
   ],
   "source": [
    "#RMSE\n",
    "math.sqrt(metrics.mean_squared_error(y_test, predictions))"
   ]
  },
  {
   "cell_type": "markdown",
   "metadata": {},
   "source": [
    "# A3 regression with database normalization"
   ]
  },
  {
   "cell_type": "code",
   "execution_count": 60,
   "metadata": {
    "collapsed": true
   },
   "outputs": [],
   "source": [
    "df2_ = df1_.copy()\n",
    "df2_ = df2_.loc[~is_na, :]"
   ]
  },
  {
   "cell_type": "code",
   "execution_count": null,
   "metadata": {
    "collapsed": true
   },
   "outputs": [],
   "source": [
    "'''\n",
    "AINDA NÃO SEI SE PRECISA DISSO\n",
    "def standardize(feature):\n",
    "    return np.divide(np.subtract(feature - np.mean(feature)), np.std(feature))\n",
    "'''"
   ]
  },
  {
   "cell_type": "code",
   "execution_count": 61,
   "metadata": {
    "collapsed": true
   },
   "outputs": [],
   "source": [
    "from sklearn.preprocessing import StandardScaler\n",
    "scaler = StandardScaler()\n",
    "scaler.fit(df2_.iloc[:, :-1])\n",
    "df2_.iloc[:, :-1] = scaler.transform(df2_.iloc[:, :-1])"
   ]
  },
  {
   "cell_type": "code",
   "execution_count": 62,
   "metadata": {},
   "outputs": [
    {
     "data": {
      "text/html": [
       "<div>\n",
       "<style scoped>\n",
       "    .dataframe tbody tr th:only-of-type {\n",
       "        vertical-align: middle;\n",
       "    }\n",
       "\n",
       "    .dataframe tbody tr th {\n",
       "        vertical-align: top;\n",
       "    }\n",
       "\n",
       "    .dataframe thead th {\n",
       "        text-align: right;\n",
       "    }\n",
       "</style>\n",
       "<table border=\"1\" class=\"dataframe\">\n",
       "  <thead>\n",
       "    <tr style=\"text-align: right;\">\n",
       "      <th></th>\n",
       "      <th>C</th>\n",
       "      <th>Mn</th>\n",
       "      <th>Si</th>\n",
       "      <th>Cr</th>\n",
       "      <th>Ni</th>\n",
       "      <th>A3</th>\n",
       "      <th>C2</th>\n",
       "      <th>CMn</th>\n",
       "      <th>CSi</th>\n",
       "      <th>CCr</th>\n",
       "      <th>CNi</th>\n",
       "      <th>Mn2</th>\n",
       "      <th>MnSi</th>\n",
       "      <th>MnCr</th>\n",
       "      <th>MnNi</th>\n",
       "      <th>SiCr</th>\n",
       "      <th>SiNi</th>\n",
       "      <th>Cr2</th>\n",
       "      <th>CrNi</th>\n",
       "      <th>Ni2</th>\n",
       "    </tr>\n",
       "  </thead>\n",
       "  <tbody>\n",
       "    <tr>\n",
       "      <th>0</th>\n",
       "      <td>-1.59196</td>\n",
       "      <td>-1.420018</td>\n",
       "      <td>-1.014318</td>\n",
       "      <td>-1.415661</td>\n",
       "      <td>-1.418927</td>\n",
       "      <td>0.315327</td>\n",
       "      <td>-1.070703</td>\n",
       "      <td>-0.956883</td>\n",
       "      <td>-0.957037</td>\n",
       "      <td>-0.957237</td>\n",
       "      <td>-0.95691</td>\n",
       "      <td>-1.020358</td>\n",
       "      <td>-0.896146</td>\n",
       "      <td>-0.896975</td>\n",
       "      <td>-0.897060</td>\n",
       "      <td>-0.714945</td>\n",
       "      <td>-0.716194</td>\n",
       "      <td>-1.018043</td>\n",
       "      <td>-0.896749</td>\n",
       "      <td>1.000000e-08</td>\n",
       "    </tr>\n",
       "    <tr>\n",
       "      <th>1</th>\n",
       "      <td>-1.59196</td>\n",
       "      <td>-1.420018</td>\n",
       "      <td>-1.014318</td>\n",
       "      <td>-1.415661</td>\n",
       "      <td>-0.711376</td>\n",
       "      <td>0.013911</td>\n",
       "      <td>-1.070703</td>\n",
       "      <td>-0.956883</td>\n",
       "      <td>-0.957037</td>\n",
       "      <td>-0.957237</td>\n",
       "      <td>-0.95691</td>\n",
       "      <td>-1.020358</td>\n",
       "      <td>-0.896146</td>\n",
       "      <td>-0.896975</td>\n",
       "      <td>-0.897030</td>\n",
       "      <td>-0.714945</td>\n",
       "      <td>-0.716194</td>\n",
       "      <td>-1.018043</td>\n",
       "      <td>-0.896719</td>\n",
       "      <td>5.626125e-01</td>\n",
       "    </tr>\n",
       "    <tr>\n",
       "      <th>2</th>\n",
       "      <td>-1.59196</td>\n",
       "      <td>-1.420018</td>\n",
       "      <td>-1.014318</td>\n",
       "      <td>-1.415661</td>\n",
       "      <td>-0.003825</td>\n",
       "      <td>-0.245447</td>\n",
       "      <td>-1.070703</td>\n",
       "      <td>-0.956883</td>\n",
       "      <td>-0.957037</td>\n",
       "      <td>-0.957237</td>\n",
       "      <td>-0.95691</td>\n",
       "      <td>-1.020358</td>\n",
       "      <td>-0.896146</td>\n",
       "      <td>-0.896975</td>\n",
       "      <td>-0.897000</td>\n",
       "      <td>-0.714945</td>\n",
       "      <td>-0.716194</td>\n",
       "      <td>-1.018043</td>\n",
       "      <td>-0.896689</td>\n",
       "      <td>2.250150e+00</td>\n",
       "    </tr>\n",
       "    <tr>\n",
       "      <th>3</th>\n",
       "      <td>-1.59196</td>\n",
       "      <td>-1.420018</td>\n",
       "      <td>-1.014318</td>\n",
       "      <td>-1.415661</td>\n",
       "      <td>0.703727</td>\n",
       "      <td>-0.472541</td>\n",
       "      <td>-1.070703</td>\n",
       "      <td>-0.956883</td>\n",
       "      <td>-0.957037</td>\n",
       "      <td>-0.957237</td>\n",
       "      <td>-0.95691</td>\n",
       "      <td>-1.020358</td>\n",
       "      <td>-0.896146</td>\n",
       "      <td>-0.896975</td>\n",
       "      <td>-0.896970</td>\n",
       "      <td>-0.714945</td>\n",
       "      <td>-0.716194</td>\n",
       "      <td>-1.018043</td>\n",
       "      <td>-0.896659</td>\n",
       "      <td>5.062613e+00</td>\n",
       "    </tr>\n",
       "    <tr>\n",
       "      <th>4</th>\n",
       "      <td>-1.59196</td>\n",
       "      <td>-1.420018</td>\n",
       "      <td>-1.014318</td>\n",
       "      <td>-1.415661</td>\n",
       "      <td>1.411278</td>\n",
       "      <td>-0.673709</td>\n",
       "      <td>-1.070703</td>\n",
       "      <td>-0.956883</td>\n",
       "      <td>-0.957037</td>\n",
       "      <td>-0.957237</td>\n",
       "      <td>-0.95691</td>\n",
       "      <td>-1.020358</td>\n",
       "      <td>-0.896146</td>\n",
       "      <td>-0.896975</td>\n",
       "      <td>-0.896941</td>\n",
       "      <td>-0.714945</td>\n",
       "      <td>-0.716194</td>\n",
       "      <td>-1.018043</td>\n",
       "      <td>-0.896630</td>\n",
       "      <td>9.000000e+00</td>\n",
       "    </tr>\n",
       "  </tbody>\n",
       "</table>\n",
       "</div>"
      ],
      "text/plain": [
       "         C        Mn        Si        Cr        Ni        A3        C2  \\\n",
       "0 -1.59196 -1.420018 -1.014318 -1.415661 -1.418927  0.315327 -1.070703   \n",
       "1 -1.59196 -1.420018 -1.014318 -1.415661 -0.711376  0.013911 -1.070703   \n",
       "2 -1.59196 -1.420018 -1.014318 -1.415661 -0.003825 -0.245447 -1.070703   \n",
       "3 -1.59196 -1.420018 -1.014318 -1.415661  0.703727 -0.472541 -1.070703   \n",
       "4 -1.59196 -1.420018 -1.014318 -1.415661  1.411278 -0.673709 -1.070703   \n",
       "\n",
       "        CMn       CSi       CCr      CNi       Mn2      MnSi      MnCr  \\\n",
       "0 -0.956883 -0.957037 -0.957237 -0.95691 -1.020358 -0.896146 -0.896975   \n",
       "1 -0.956883 -0.957037 -0.957237 -0.95691 -1.020358 -0.896146 -0.896975   \n",
       "2 -0.956883 -0.957037 -0.957237 -0.95691 -1.020358 -0.896146 -0.896975   \n",
       "3 -0.956883 -0.957037 -0.957237 -0.95691 -1.020358 -0.896146 -0.896975   \n",
       "4 -0.956883 -0.957037 -0.957237 -0.95691 -1.020358 -0.896146 -0.896975   \n",
       "\n",
       "       MnNi      SiCr      SiNi       Cr2      CrNi           Ni2  \n",
       "0 -0.897060 -0.714945 -0.716194 -1.018043 -0.896749  1.000000e-08  \n",
       "1 -0.897030 -0.714945 -0.716194 -1.018043 -0.896719  5.626125e-01  \n",
       "2 -0.897000 -0.714945 -0.716194 -1.018043 -0.896689  2.250150e+00  \n",
       "3 -0.896970 -0.714945 -0.716194 -1.018043 -0.896659  5.062613e+00  \n",
       "4 -0.896941 -0.714945 -0.716194 -1.018043 -0.896630  9.000000e+00  "
      ]
     },
     "execution_count": 62,
     "metadata": {},
     "output_type": "execute_result"
    }
   ],
   "source": [
    "df2_.head()"
   ]
  },
  {
   "cell_type": "markdown",
   "metadata": {},
   "source": [
    "## Normalization & Train Size 70%"
   ]
  },
  {
   "cell_type": "code",
   "execution_count": 146,
   "metadata": {},
   "outputs": [
    {
     "name": "stdout",
     "output_type": "stream",
     "text": [
      "Train size: (4791, 19)\n",
      "Test size: (2054, 19)\n"
     ]
    },
    {
     "name": "stderr",
     "output_type": "stream",
     "text": [
      "/home/paula/.local/lib/python3.5/site-packages/sklearn/model_selection/_split.py:2026: FutureWarning: From version 0.21, test_size will always complement train_size unless both are specified.\n",
      "  FutureWarning)\n"
     ]
    }
   ],
   "source": [
    "X2_train, X2_test, y2_train, y2_test = _split_between_train_and_test(df2_, 0.7)"
   ]
  },
  {
   "cell_type": "code",
   "execution_count": 147,
   "metadata": {},
   "outputs": [
    {
     "data": {
      "text/plain": [
       "-0.026212899769096284"
      ]
     },
     "execution_count": 147,
     "metadata": {},
     "output_type": "execute_result"
    }
   ],
   "source": [
    "model2 = lm.fit(X2_train, y2_train)\n",
    "predictions2 = lm.predict(X2_test)\n",
    "model2.intercept_"
   ]
  },
  {
   "cell_type": "code",
   "execution_count": 148,
   "metadata": {},
   "outputs": [
    {
     "data": {
      "text/plain": [
       "[('C', -1.1931922056638908),\n",
       " ('Mn', -0.41719640605024044),\n",
       " ('Si', 0.31869714094450846),\n",
       " ('Cr', -0.09176890630181309),\n",
       " ('Ni', -0.3393047023257462),\n",
       " ('C2', 1.5318828156714714),\n",
       " ('CMn', 0.3067432051755709),\n",
       " ('CSi', -0.09345994838253979),\n",
       " ('CCr', 0.2932782579990827),\n",
       " ('CNi', 0.2938870785689815),\n",
       " ('Mn2', 0.04192107966165463),\n",
       " ('MnSi', 0.02599876271695831),\n",
       " ('MnCr', 0.05236774466398319),\n",
       " ('MnNi', 0.04770369599695075),\n",
       " ('SiCr', -0.05960283385954036),\n",
       " ('SiNi', -0.032890058868410364),\n",
       " ('Cr2', 0.03542892830707417),\n",
       " ('CrNi', 0.05992180820983349),\n",
       " ('Ni2', 0.008165407218013489)]"
      ]
     },
     "execution_count": 148,
     "metadata": {},
     "output_type": "execute_result"
    }
   ],
   "source": [
    "list(zip(X2_test.keys(), model2.coef_))"
   ]
  },
  {
   "cell_type": "code",
   "execution_count": 149,
   "metadata": {},
   "outputs": [
    {
     "data": {
      "image/png": "[encoded data removed]",
      "text/plain": [
       "<Figure size 432x288 with 1 Axes>"
      ]
     },
     "metadata": {},
     "output_type": "display_data"
    }
   ],
   "source": [
    "plt.scatter(y2_test, predictions2)\n",
    "plt.show()"
   ]
  },
  {
   "cell_type": "code",
   "execution_count": 150,
   "metadata": {
    "scrolled": true
   },
   "outputs": [
    {
     "data": {
      "text/plain": [
       "0.8807748471556847"
      ]
     },
     "execution_count": 150,
     "metadata": {},
     "output_type": "execute_result"
    }
   ],
   "source": [
    "#R2\n",
    "metrics.r2_score(y2_test, predictions2)"
   ]
  },
  {
   "cell_type": "code",
   "execution_count": 151,
   "metadata": {},
   "outputs": [
    {
     "data": {
      "text/plain": [
       "0.3474762058220069"
      ]
     },
     "execution_count": 151,
     "metadata": {},
     "output_type": "execute_result"
    }
   ],
   "source": [
    "#RMSE\n",
    "math.sqrt(metrics.mean_squared_error(y2_test, predictions2))"
   ]
  },
  {
   "cell_type": "markdown",
   "metadata": {},
   "source": [
    "## Normalization && Train Size 80%"
   ]
  },
  {
   "cell_type": "code",
   "execution_count": 152,
   "metadata": {},
   "outputs": [
    {
     "name": "stdout",
     "output_type": "stream",
     "text": [
      "Train size: (5476, 19)\n",
      "Test size: (1369, 19)\n"
     ]
    },
    {
     "name": "stderr",
     "output_type": "stream",
     "text": [
      "/home/paula/.local/lib/python3.5/site-packages/sklearn/model_selection/_split.py:2026: FutureWarning: From version 0.21, test_size will always complement train_size unless both are specified.\n",
      "  FutureWarning)\n"
     ]
    }
   ],
   "source": [
    "X2_train, X2_test, y2_train, y2_test = _split_between_train_and_test(df2_, 0.8)"
   ]
  },
  {
   "cell_type": "code",
   "execution_count": 153,
   "metadata": {},
   "outputs": [
    {
     "data": {
      "text/plain": [
       "-0.03062250475232043"
      ]
     },
     "execution_count": 153,
     "metadata": {},
     "output_type": "execute_result"
    }
   ],
   "source": [
    "model2 = lm.fit(X2_train, y2_train)\n",
    "predictions2 = lm.predict(X2_test)\n",
    "model2.intercept_"
   ]
  },
  {
   "cell_type": "code",
   "execution_count": 154,
   "metadata": {},
   "outputs": [
    {
     "data": {
      "text/plain": [
       "[('C', -1.1863059189130412),\n",
       " ('Mn', -0.4110643016714367),\n",
       " ('Si', 0.32141724201926003),\n",
       " ('Cr', -0.07807919330722286),\n",
       " ('Ni', -0.3302148264557887),\n",
       " ('C2', 1.532491008276497),\n",
       " ('CMn', 0.3058942149138121),\n",
       " ('CSi', -0.09496357244443998),\n",
       " ('CCr', 0.28959332796170817),\n",
       " ('CNi', 0.2882296740355965),\n",
       " ('Mn2', 0.04258715141355074),\n",
       " ('MnSi', 0.026490544854132034),\n",
       " ('MnCr', 0.04725402992039709),\n",
       " ('MnNi', 0.04304672925234435),\n",
       " ('SiCr', -0.06201667580421341),\n",
       " ('SiNi', -0.033995758940713224),\n",
       " ('Cr2', 0.03139969930900618),\n",
       " ('CrNi', 0.054887058274203676),\n",
       " ('Ni2', 0.008930122922938693)]"
      ]
     },
     "execution_count": 154,
     "metadata": {},
     "output_type": "execute_result"
    }
   ],
   "source": [
    "list(zip(X2_test.keys(), model2.coef_))"
   ]
  },
  {
   "cell_type": "code",
   "execution_count": 155,
   "metadata": {},
   "outputs": [
    {
     "data": {
      "image/png": "[encoded data removed]",
      "text/plain": [
       "<Figure size 432x288 with 1 Axes>"
      ]
     },
     "metadata": {},
     "output_type": "display_data"
    }
   ],
   "source": [
    "plt.scatter(y2_test, predictions2)\n",
    "plt.show()"
   ]
  },
  {
   "cell_type": "code",
   "execution_count": 156,
   "metadata": {},
   "outputs": [
    {
     "data": {
      "text/plain": [
       "0.8774082232916397"
      ]
     },
     "execution_count": 156,
     "metadata": {},
     "output_type": "execute_result"
    }
   ],
   "source": [
    "#R2\n",
    "metrics.r2_score(y2_test, predictions2)"
   ]
  },
  {
   "cell_type": "code",
   "execution_count": 157,
   "metadata": {},
   "outputs": [
    {
     "data": {
      "text/plain": [
       "0.3544993415685068"
      ]
     },
     "execution_count": 157,
     "metadata": {},
     "output_type": "execute_result"
    }
   ],
   "source": [
    "#RMSE\n",
    "math.sqrt(metrics.mean_squared_error(y2_test, predictions2))"
   ]
  },
  {
   "cell_type": "markdown",
   "metadata": {},
   "source": [
    "# Summarizing..."
   ]
  },
  {
   "cell_type": "markdown",
   "metadata": {},
   "source": [
    "### Non-standardized"
   ]
  },
  {
   "cell_type": "markdown",
   "metadata": {},
   "source": [
    "|  | 0.7 | 0.8 |\n",
    "| --- | --- | --- |\n",
    "| R2 | 0.88077 | 0.87741 |\n",
    "| RMSE | 36.18677 | 36.91817 |"
   ]
  },
  {
   "cell_type": "markdown",
   "metadata": {},
   "source": [
    "### Standardized"
   ]
  },
  {
   "cell_type": "markdown",
   "metadata": {},
   "source": [
    "|  | 0.7 | 0.8 |\n",
    "| --- | --- | --- |\n",
    "| R2 | 0.88077 | 0.87408 |\n",
    "| RMSE | 0.34748 | 0.35450 |"
   ]
  },
  {
   "cell_type": "markdown",
   "metadata": {},
   "source": [
    "### Next steps\n",
    "- other metrics: relative percentage error"
   ]
  },
  {
   "cell_type": "code",
   "execution_count": null,
   "metadata": {
    "collapsed": true
   },
   "outputs": [],
   "source": []
  }
 ],
 "metadata": {
  "kernelspec": {
   "display_name": "Python 3",
   "language": "python",
   "name": "python3"
  },
  "language_info": {
   "codemirror_mode": {
    "name": "ipython",
    "version": 3
   },
   "file_extension": ".py",
   "mimetype": "text/x-python",
   "name": "python",
   "nbconvert_exporter": "python",
   "pygments_lexer": "ipython3",
   "version": "3.5.2"
  }
 },
 "nbformat": 4,
 "nbformat_minor": 2
}
