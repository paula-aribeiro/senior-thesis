{
 "cells": [
  {
   "cell_type": "code",
   "execution_count": 1,
   "metadata": {
    "collapsed": true
   },
   "outputs": [],
   "source": [
    "import math\n",
    "import pandas as pd\n",
    "import numpy as np\n",
    "import matplotlib.pyplot as plt\n",
    "from sklearn.linear_model import LinearRegression\n",
    "from sklearn.model_selection import train_test_split\n",
    "\n",
    "from sklearn import linear_model\n",
    "from sklearn import metrics"
   ]
  },
  {
   "cell_type": "markdown",
   "metadata": {},
   "source": [
    "# Preparing dataset"
   ]
  },
  {
   "cell_type": "code",
   "execution_count": 2,
   "metadata": {
    "collapsed": true
   },
   "outputs": [],
   "source": [
    "def load_dataset(fname):\n",
    "    # read dataset\n",
    "    dataset = pd.read_csv(fname, comment='#')\n",
    "\n",
    "    # compositions to wt.%\n",
    "    dataset.C *= 100\n",
    "    dataset.Mn *= 100\n",
    "    dataset.Si *= 100\n",
    "    dataset.Cr *= 100\n",
    "    dataset.Ni *= 100\n",
    "\n",
    "    # temperatures to oC\n",
    "    dataset.A1 -= 273.15\n",
    "    dataset.A1prime -= 273.15\n",
    "    dataset.A3 -= 273.15\n",
    "\n",
    "    return dataset"
   ]
  },
  {
   "cell_type": "code",
   "execution_count": 3,
   "metadata": {
    "collapsed": true
   },
   "outputs": [],
   "source": [
    "raw_df = load_dataset('../../databases/Tcritical.csv')\n",
    "raw_df = raw_df.drop(['file', 'macro'], axis=1)\n",
    "#raw_df.head()"
   ]
  },
  {
   "cell_type": "code",
   "execution_count": 4,
   "metadata": {
    "scrolled": true
   },
   "outputs": [
    {
     "data": {
      "text/html": [
       "<div>\n",
       "<style scoped>\n",
       "    .dataframe tbody tr th:only-of-type {\n",
       "        vertical-align: middle;\n",
       "    }\n",
       "\n",
       "    .dataframe tbody tr th {\n",
       "        vertical-align: top;\n",
       "    }\n",
       "\n",
       "    .dataframe thead th {\n",
       "        text-align: right;\n",
       "    }\n",
       "</style>\n",
       "<table border=\"1\" class=\"dataframe\">\n",
       "  <thead>\n",
       "    <tr style=\"text-align: right;\">\n",
       "      <th></th>\n",
       "      <th>C</th>\n",
       "      <th>Mn</th>\n",
       "      <th>Si</th>\n",
       "      <th>Cr</th>\n",
       "      <th>Ni</th>\n",
       "      <th>A1</th>\n",
       "      <th>A1prime</th>\n",
       "      <th>A3</th>\n",
       "      <th>eutectoid</th>\n",
       "      <th>C2</th>\n",
       "      <th>...</th>\n",
       "      <th>CNi</th>\n",
       "      <th>Mn2</th>\n",
       "      <th>MnSi</th>\n",
       "      <th>MnCr</th>\n",
       "      <th>MnNi</th>\n",
       "      <th>SiCr</th>\n",
       "      <th>SiNi</th>\n",
       "      <th>Cr2</th>\n",
       "      <th>CrNi</th>\n",
       "      <th>Ni2</th>\n",
       "    </tr>\n",
       "  </thead>\n",
       "  <tbody>\n",
       "    <tr>\n",
       "      <th>0</th>\n",
       "      <td>0.0</td>\n",
       "      <td>0.0001</td>\n",
       "      <td>1.000000e-08</td>\n",
       "      <td>0.0001</td>\n",
       "      <td>0.000100</td>\n",
       "      <td>NaN</td>\n",
       "      <td>NaN</td>\n",
       "      <td>911.65</td>\n",
       "      <td>hipo</td>\n",
       "      <td>0.0</td>\n",
       "      <td>...</td>\n",
       "      <td>0.0</td>\n",
       "      <td>1.000000e-08</td>\n",
       "      <td>1.000000e-08</td>\n",
       "      <td>1.000000e-08</td>\n",
       "      <td>1.000000e-08</td>\n",
       "      <td>1.000000e-12</td>\n",
       "      <td>1.000000e-12</td>\n",
       "      <td>1.000000e-08</td>\n",
       "      <td>1.000000e-08</td>\n",
       "      <td>1.000000e-08</td>\n",
       "    </tr>\n",
       "    <tr>\n",
       "      <th>1</th>\n",
       "      <td>0.0</td>\n",
       "      <td>0.0001</td>\n",
       "      <td>1.000000e-08</td>\n",
       "      <td>0.0001</td>\n",
       "      <td>0.750075</td>\n",
       "      <td>NaN</td>\n",
       "      <td>NaN</td>\n",
       "      <td>880.26</td>\n",
       "      <td>hipo</td>\n",
       "      <td>0.0</td>\n",
       "      <td>...</td>\n",
       "      <td>0.0</td>\n",
       "      <td>1.000000e-08</td>\n",
       "      <td>1.000000e-08</td>\n",
       "      <td>1.000000e-08</td>\n",
       "      <td>7.500750e-05</td>\n",
       "      <td>1.000000e-12</td>\n",
       "      <td>7.500750e-09</td>\n",
       "      <td>1.000000e-08</td>\n",
       "      <td>7.500750e-05</td>\n",
       "      <td>5.626125e-01</td>\n",
       "    </tr>\n",
       "    <tr>\n",
       "      <th>2</th>\n",
       "      <td>0.0</td>\n",
       "      <td>0.0001</td>\n",
       "      <td>1.000000e-08</td>\n",
       "      <td>0.0001</td>\n",
       "      <td>1.500050</td>\n",
       "      <td>NaN</td>\n",
       "      <td>NaN</td>\n",
       "      <td>853.25</td>\n",
       "      <td>hipo</td>\n",
       "      <td>0.0</td>\n",
       "      <td>...</td>\n",
       "      <td>0.0</td>\n",
       "      <td>1.000000e-08</td>\n",
       "      <td>1.000000e-08</td>\n",
       "      <td>1.000000e-08</td>\n",
       "      <td>1.500050e-04</td>\n",
       "      <td>1.000000e-12</td>\n",
       "      <td>1.500050e-08</td>\n",
       "      <td>1.000000e-08</td>\n",
       "      <td>1.500050e-04</td>\n",
       "      <td>2.250150e+00</td>\n",
       "    </tr>\n",
       "    <tr>\n",
       "      <th>3</th>\n",
       "      <td>0.0</td>\n",
       "      <td>0.0001</td>\n",
       "      <td>1.000000e-08</td>\n",
       "      <td>0.0001</td>\n",
       "      <td>2.250025</td>\n",
       "      <td>NaN</td>\n",
       "      <td>NaN</td>\n",
       "      <td>829.60</td>\n",
       "      <td>hipo</td>\n",
       "      <td>0.0</td>\n",
       "      <td>...</td>\n",
       "      <td>0.0</td>\n",
       "      <td>1.000000e-08</td>\n",
       "      <td>1.000000e-08</td>\n",
       "      <td>1.000000e-08</td>\n",
       "      <td>2.250025e-04</td>\n",
       "      <td>1.000000e-12</td>\n",
       "      <td>2.250025e-08</td>\n",
       "      <td>1.000000e-08</td>\n",
       "      <td>2.250025e-04</td>\n",
       "      <td>5.062613e+00</td>\n",
       "    </tr>\n",
       "    <tr>\n",
       "      <th>4</th>\n",
       "      <td>0.0</td>\n",
       "      <td>0.0001</td>\n",
       "      <td>1.000000e-08</td>\n",
       "      <td>0.0001</td>\n",
       "      <td>3.000000</td>\n",
       "      <td>NaN</td>\n",
       "      <td>NaN</td>\n",
       "      <td>808.65</td>\n",
       "      <td>hipo</td>\n",
       "      <td>0.0</td>\n",
       "      <td>...</td>\n",
       "      <td>0.0</td>\n",
       "      <td>1.000000e-08</td>\n",
       "      <td>1.000000e-08</td>\n",
       "      <td>1.000000e-08</td>\n",
       "      <td>3.000000e-04</td>\n",
       "      <td>1.000000e-12</td>\n",
       "      <td>3.000000e-08</td>\n",
       "      <td>1.000000e-08</td>\n",
       "      <td>3.000000e-04</td>\n",
       "      <td>9.000000e+00</td>\n",
       "    </tr>\n",
       "  </tbody>\n",
       "</table>\n",
       "<p>5 rows × 23 columns</p>\n",
       "</div>"
      ],
      "text/plain": [
       "     C      Mn            Si      Cr        Ni  A1  A1prime      A3 eutectoid  \\\n",
       "0  0.0  0.0001  1.000000e-08  0.0001  0.000100 NaN      NaN  911.65      hipo   \n",
       "1  0.0  0.0001  1.000000e-08  0.0001  0.750075 NaN      NaN  880.26      hipo   \n",
       "2  0.0  0.0001  1.000000e-08  0.0001  1.500050 NaN      NaN  853.25      hipo   \n",
       "3  0.0  0.0001  1.000000e-08  0.0001  2.250025 NaN      NaN  829.60      hipo   \n",
       "4  0.0  0.0001  1.000000e-08  0.0001  3.000000 NaN      NaN  808.65      hipo   \n",
       "\n",
       "    C2      ...       CNi           Mn2          MnSi          MnCr  \\\n",
       "0  0.0      ...       0.0  1.000000e-08  1.000000e-08  1.000000e-08   \n",
       "1  0.0      ...       0.0  1.000000e-08  1.000000e-08  1.000000e-08   \n",
       "2  0.0      ...       0.0  1.000000e-08  1.000000e-08  1.000000e-08   \n",
       "3  0.0      ...       0.0  1.000000e-08  1.000000e-08  1.000000e-08   \n",
       "4  0.0      ...       0.0  1.000000e-08  1.000000e-08  1.000000e-08   \n",
       "\n",
       "           MnNi          SiCr          SiNi           Cr2          CrNi  \\\n",
       "0  1.000000e-08  1.000000e-12  1.000000e-12  1.000000e-08  1.000000e-08   \n",
       "1  7.500750e-05  1.000000e-12  7.500750e-09  1.000000e-08  7.500750e-05   \n",
       "2  1.500050e-04  1.000000e-12  1.500050e-08  1.000000e-08  1.500050e-04   \n",
       "3  2.250025e-04  1.000000e-12  2.250025e-08  1.000000e-08  2.250025e-04   \n",
       "4  3.000000e-04  1.000000e-12  3.000000e-08  1.000000e-08  3.000000e-04   \n",
       "\n",
       "            Ni2  \n",
       "0  1.000000e-08  \n",
       "1  5.626125e-01  \n",
       "2  2.250150e+00  \n",
       "3  5.062613e+00  \n",
       "4  9.000000e+00  \n",
       "\n",
       "[5 rows x 23 columns]"
      ]
     },
     "execution_count": 4,
     "metadata": {},
     "output_type": "execute_result"
    }
   ],
   "source": [
    "df = raw_df.copy()\n",
    "\n",
    "'''\n",
    "Variables\n",
    "C, C**2, C*Mn, C*Si, C*Cr, C*Ni, \n",
    "Mn, Mn**2, Mn*Si, Mn*Cr, Mn*Ni, \n",
    "Si, Si*Si, Si*Cr, Si*Ni, \n",
    "Cr, Cr**2, Cr*Ni,\n",
    "Ni, Ni**2]\n",
    "'''\n",
    "\n",
    "df['C2'] = df['C'].apply(lambda x: x**2)\n",
    "df['CMn'] = df['C'] * df['Mn']\n",
    "df['CSi'] = df['C'] * df['Si']\n",
    "df['CCr'] = df['C'] * df['Cr']\n",
    "df['CNi'] = df['C'] * df['Ni']\n",
    "df['Mn2'] = df['Mn'].apply(lambda x: x**2)\n",
    "df['MnSi'] = df['Si'] * df['Mn']\n",
    "df['MnCr'] = df['Cr'] * df['Mn']\n",
    "df['MnNi'] = df['Ni'] * df['Mn']\n",
    "df['Si'] = df['Si'].apply(lambda x: x**2)\n",
    "df['SiCr'] = df['Cr'] * df['Si']\n",
    "df['SiNi'] = df['Si'] * df['Ni']\n",
    "df['Cr2'] = df['Cr'].apply(lambda x: x**2)\n",
    "df['CrNi'] = df['Cr'] * df['Ni']\n",
    "df['Ni2'] = df['Ni'].apply(lambda x: x**2)\n",
    "\n",
    "df.head()"
   ]
  },
  {
   "cell_type": "markdown",
   "metadata": {},
   "source": [
    "# Preparing A3 dataset"
   ]
  },
  {
   "cell_type": "code",
   "execution_count": 5,
   "metadata": {
    "collapsed": true
   },
   "outputs": [],
   "source": [
    "df1 = df.copy()\n",
    "df1 = df.drop(['A1', 'A1prime'], axis=1)\n",
    "is_na = df1['A3'].isna() \n",
    "df1 = df1.loc[~is_na, :] #REMOVE ALL A3 NAN\n",
    "df1_ = df1.copy()\n",
    "df1_['eutec'] = (df1_['eutectoid'].map(lambda x: 1 if x == 'hiper' else 0))\n",
    "df1_ = df1_.drop(['eutectoid'], axis=1) #REMOVE EUTECTOID COLLUMN BECAUSE IT'S A STRING\n",
    "#df1_"
   ]
  },
  {
   "cell_type": "code",
   "execution_count": 6,
   "metadata": {},
   "outputs": [
    {
     "data": {
      "text/plain": [
       "1    4542\n",
       "0    2303\n",
       "Name: eutec, dtype: int64"
      ]
     },
     "execution_count": 6,
     "metadata": {},
     "output_type": "execute_result"
    }
   ],
   "source": [
    "df1_['eutec'].value_counts()"
   ]
  },
  {
   "cell_type": "code",
   "execution_count": 7,
   "metadata": {},
   "outputs": [
    {
     "data": {
      "text/html": [
       "<div>\n",
       "<style scoped>\n",
       "    .dataframe tbody tr th:only-of-type {\n",
       "        vertical-align: middle;\n",
       "    }\n",
       "\n",
       "    .dataframe tbody tr th {\n",
       "        vertical-align: top;\n",
       "    }\n",
       "\n",
       "    .dataframe thead th {\n",
       "        text-align: right;\n",
       "    }\n",
       "</style>\n",
       "<table border=\"1\" class=\"dataframe\">\n",
       "  <thead>\n",
       "    <tr style=\"text-align: right;\">\n",
       "      <th></th>\n",
       "      <th>C</th>\n",
       "      <th>Mn</th>\n",
       "      <th>Si</th>\n",
       "      <th>Cr</th>\n",
       "      <th>Ni</th>\n",
       "      <th>A3</th>\n",
       "      <th>C2</th>\n",
       "      <th>CMn</th>\n",
       "      <th>CSi</th>\n",
       "      <th>CCr</th>\n",
       "      <th>...</th>\n",
       "      <th>Mn2</th>\n",
       "      <th>MnSi</th>\n",
       "      <th>MnCr</th>\n",
       "      <th>MnNi</th>\n",
       "      <th>SiCr</th>\n",
       "      <th>SiNi</th>\n",
       "      <th>Cr2</th>\n",
       "      <th>CrNi</th>\n",
       "      <th>Ni2</th>\n",
       "      <th>eutec</th>\n",
       "    </tr>\n",
       "  </thead>\n",
       "  <tbody>\n",
       "    <tr>\n",
       "      <th>0</th>\n",
       "      <td>0.0</td>\n",
       "      <td>0.0001</td>\n",
       "      <td>1.000000e-08</td>\n",
       "      <td>0.0001</td>\n",
       "      <td>0.000100</td>\n",
       "      <td>911.65</td>\n",
       "      <td>0.0</td>\n",
       "      <td>0.0</td>\n",
       "      <td>0.0</td>\n",
       "      <td>0.0</td>\n",
       "      <td>...</td>\n",
       "      <td>1.000000e-08</td>\n",
       "      <td>1.000000e-08</td>\n",
       "      <td>1.000000e-08</td>\n",
       "      <td>1.000000e-08</td>\n",
       "      <td>1.000000e-12</td>\n",
       "      <td>1.000000e-12</td>\n",
       "      <td>1.000000e-08</td>\n",
       "      <td>1.000000e-08</td>\n",
       "      <td>1.000000e-08</td>\n",
       "      <td>0</td>\n",
       "    </tr>\n",
       "    <tr>\n",
       "      <th>1</th>\n",
       "      <td>0.0</td>\n",
       "      <td>0.0001</td>\n",
       "      <td>1.000000e-08</td>\n",
       "      <td>0.0001</td>\n",
       "      <td>0.750075</td>\n",
       "      <td>880.26</td>\n",
       "      <td>0.0</td>\n",
       "      <td>0.0</td>\n",
       "      <td>0.0</td>\n",
       "      <td>0.0</td>\n",
       "      <td>...</td>\n",
       "      <td>1.000000e-08</td>\n",
       "      <td>1.000000e-08</td>\n",
       "      <td>1.000000e-08</td>\n",
       "      <td>7.500750e-05</td>\n",
       "      <td>1.000000e-12</td>\n",
       "      <td>7.500750e-09</td>\n",
       "      <td>1.000000e-08</td>\n",
       "      <td>7.500750e-05</td>\n",
       "      <td>5.626125e-01</td>\n",
       "      <td>0</td>\n",
       "    </tr>\n",
       "    <tr>\n",
       "      <th>2</th>\n",
       "      <td>0.0</td>\n",
       "      <td>0.0001</td>\n",
       "      <td>1.000000e-08</td>\n",
       "      <td>0.0001</td>\n",
       "      <td>1.500050</td>\n",
       "      <td>853.25</td>\n",
       "      <td>0.0</td>\n",
       "      <td>0.0</td>\n",
       "      <td>0.0</td>\n",
       "      <td>0.0</td>\n",
       "      <td>...</td>\n",
       "      <td>1.000000e-08</td>\n",
       "      <td>1.000000e-08</td>\n",
       "      <td>1.000000e-08</td>\n",
       "      <td>1.500050e-04</td>\n",
       "      <td>1.000000e-12</td>\n",
       "      <td>1.500050e-08</td>\n",
       "      <td>1.000000e-08</td>\n",
       "      <td>1.500050e-04</td>\n",
       "      <td>2.250150e+00</td>\n",
       "      <td>0</td>\n",
       "    </tr>\n",
       "    <tr>\n",
       "      <th>3</th>\n",
       "      <td>0.0</td>\n",
       "      <td>0.0001</td>\n",
       "      <td>1.000000e-08</td>\n",
       "      <td>0.0001</td>\n",
       "      <td>2.250025</td>\n",
       "      <td>829.60</td>\n",
       "      <td>0.0</td>\n",
       "      <td>0.0</td>\n",
       "      <td>0.0</td>\n",
       "      <td>0.0</td>\n",
       "      <td>...</td>\n",
       "      <td>1.000000e-08</td>\n",
       "      <td>1.000000e-08</td>\n",
       "      <td>1.000000e-08</td>\n",
       "      <td>2.250025e-04</td>\n",
       "      <td>1.000000e-12</td>\n",
       "      <td>2.250025e-08</td>\n",
       "      <td>1.000000e-08</td>\n",
       "      <td>2.250025e-04</td>\n",
       "      <td>5.062613e+00</td>\n",
       "      <td>0</td>\n",
       "    </tr>\n",
       "    <tr>\n",
       "      <th>4</th>\n",
       "      <td>0.0</td>\n",
       "      <td>0.0001</td>\n",
       "      <td>1.000000e-08</td>\n",
       "      <td>0.0001</td>\n",
       "      <td>3.000000</td>\n",
       "      <td>808.65</td>\n",
       "      <td>0.0</td>\n",
       "      <td>0.0</td>\n",
       "      <td>0.0</td>\n",
       "      <td>0.0</td>\n",
       "      <td>...</td>\n",
       "      <td>1.000000e-08</td>\n",
       "      <td>1.000000e-08</td>\n",
       "      <td>1.000000e-08</td>\n",
       "      <td>3.000000e-04</td>\n",
       "      <td>1.000000e-12</td>\n",
       "      <td>3.000000e-08</td>\n",
       "      <td>1.000000e-08</td>\n",
       "      <td>3.000000e-04</td>\n",
       "      <td>9.000000e+00</td>\n",
       "      <td>0</td>\n",
       "    </tr>\n",
       "  </tbody>\n",
       "</table>\n",
       "<p>5 rows × 21 columns</p>\n",
       "</div>"
      ],
      "text/plain": [
       "     C      Mn            Si      Cr        Ni      A3   C2  CMn  CSi  CCr  \\\n",
       "0  0.0  0.0001  1.000000e-08  0.0001  0.000100  911.65  0.0  0.0  0.0  0.0   \n",
       "1  0.0  0.0001  1.000000e-08  0.0001  0.750075  880.26  0.0  0.0  0.0  0.0   \n",
       "2  0.0  0.0001  1.000000e-08  0.0001  1.500050  853.25  0.0  0.0  0.0  0.0   \n",
       "3  0.0  0.0001  1.000000e-08  0.0001  2.250025  829.60  0.0  0.0  0.0  0.0   \n",
       "4  0.0  0.0001  1.000000e-08  0.0001  3.000000  808.65  0.0  0.0  0.0  0.0   \n",
       "\n",
       "   ...             Mn2          MnSi          MnCr          MnNi  \\\n",
       "0  ...    1.000000e-08  1.000000e-08  1.000000e-08  1.000000e-08   \n",
       "1  ...    1.000000e-08  1.000000e-08  1.000000e-08  7.500750e-05   \n",
       "2  ...    1.000000e-08  1.000000e-08  1.000000e-08  1.500050e-04   \n",
       "3  ...    1.000000e-08  1.000000e-08  1.000000e-08  2.250025e-04   \n",
       "4  ...    1.000000e-08  1.000000e-08  1.000000e-08  3.000000e-04   \n",
       "\n",
       "           SiCr          SiNi           Cr2          CrNi           Ni2  eutec  \n",
       "0  1.000000e-12  1.000000e-12  1.000000e-08  1.000000e-08  1.000000e-08      0  \n",
       "1  1.000000e-12  7.500750e-09  1.000000e-08  7.500750e-05  5.626125e-01      0  \n",
       "2  1.000000e-12  1.500050e-08  1.000000e-08  1.500050e-04  2.250150e+00      0  \n",
       "3  1.000000e-12  2.250025e-08  1.000000e-08  2.250025e-04  5.062613e+00      0  \n",
       "4  1.000000e-12  3.000000e-08  1.000000e-08  3.000000e-04  9.000000e+00      0  \n",
       "\n",
       "[5 rows x 21 columns]"
      ]
     },
     "execution_count": 7,
     "metadata": {},
     "output_type": "execute_result"
    }
   ],
   "source": [
    "df1_.head()"
   ]
  },
  {
   "cell_type": "code",
   "execution_count": 8,
   "metadata": {
    "collapsed": true
   },
   "outputs": [],
   "source": [
    "hiper = df1_['eutec'] == 1\n",
    "hipo = df1_['eutec'] == 0\n",
    "\n",
    "df_hiper = df1_.loc[hiper, :]\n",
    "df_hipo = df1_.loc[hipo, :]"
   ]
  },
  {
   "cell_type": "code",
   "execution_count": 9,
   "metadata": {},
   "outputs": [
    {
     "data": {
      "text/plain": [
       "(4542, 21)"
      ]
     },
     "execution_count": 9,
     "metadata": {},
     "output_type": "execute_result"
    }
   ],
   "source": [
    "df_hiper.shape"
   ]
  },
  {
   "cell_type": "code",
   "execution_count": 10,
   "metadata": {},
   "outputs": [
    {
     "data": {
      "text/plain": [
       "(2303, 21)"
      ]
     },
     "execution_count": 10,
     "metadata": {},
     "output_type": "execute_result"
    }
   ],
   "source": [
    "df_hipo.shape"
   ]
  },
  {
   "cell_type": "markdown",
   "metadata": {},
   "source": [
    "# A3 Regression"
   ]
  },
  {
   "cell_type": "code",
   "execution_count": 11,
   "metadata": {
    "collapsed": true
   },
   "outputs": [],
   "source": [
    "def _split_between_train_and_test(df, size):\n",
    "    #train size may be 0.8, 0.7 or 0.99\n",
    "    target = df['A3']\n",
    "    features = df.iloc[:, :20]\n",
    "    X_train, X_test, y_train, y_test = train_test_split(\n",
    "        features,\n",
    "        target,\n",
    "        train_size=size,\n",
    "        random_state=42\n",
    "    )\n",
    "    \n",
    "    X_train = X_train.drop(['A3'], axis=1)\n",
    "    X_test = X_test.drop(['A3'], axis=1)\n",
    "    \n",
    "    print('Train size: {}'.format(X_train.shape))\n",
    "    print('Test size: {}'.format(X_test.shape))\n",
    "    return X_train, X_test, y_train, y_test"
   ]
  },
  {
   "cell_type": "markdown",
   "metadata": {},
   "source": [
    "## Hipereutectoid"
   ]
  },
  {
   "cell_type": "code",
   "execution_count": 12,
   "metadata": {
    "scrolled": true
   },
   "outputs": [
    {
     "name": "stdout",
     "output_type": "stream",
     "text": [
      "Train size: (3633, 19)\n",
      "Test size: (909, 19)\n"
     ]
    },
    {
     "name": "stderr",
     "output_type": "stream",
     "text": [
      "/home/paula/.local/lib/python3.5/site-packages/sklearn/model_selection/_split.py:2026: FutureWarning: From version 0.21, test_size will always complement train_size unless both are specified.\n",
      "  FutureWarning)\n"
     ]
    }
   ],
   "source": [
    "X_train, X_test, y_train, y_test = _split_between_train_and_test(df_hiper, 0.8)"
   ]
  },
  {
   "cell_type": "code",
   "execution_count": 13,
   "metadata": {},
   "outputs": [
    {
     "data": {
      "text/html": [
       "<div>\n",
       "<style scoped>\n",
       "    .dataframe tbody tr th:only-of-type {\n",
       "        vertical-align: middle;\n",
       "    }\n",
       "\n",
       "    .dataframe tbody tr th {\n",
       "        vertical-align: top;\n",
       "    }\n",
       "\n",
       "    .dataframe thead th {\n",
       "        text-align: right;\n",
       "    }\n",
       "</style>\n",
       "<table border=\"1\" class=\"dataframe\">\n",
       "  <thead>\n",
       "    <tr style=\"text-align: right;\">\n",
       "      <th></th>\n",
       "      <th>C</th>\n",
       "      <th>Mn</th>\n",
       "      <th>Si</th>\n",
       "      <th>Cr</th>\n",
       "      <th>Ni</th>\n",
       "      <th>C2</th>\n",
       "      <th>CMn</th>\n",
       "      <th>CSi</th>\n",
       "      <th>CCr</th>\n",
       "      <th>CNi</th>\n",
       "      <th>Mn2</th>\n",
       "      <th>MnSi</th>\n",
       "      <th>MnCr</th>\n",
       "      <th>MnNi</th>\n",
       "      <th>SiCr</th>\n",
       "      <th>SiNi</th>\n",
       "      <th>Cr2</th>\n",
       "      <th>CrNi</th>\n",
       "      <th>Ni2</th>\n",
       "    </tr>\n",
       "  </thead>\n",
       "  <tbody>\n",
       "    <tr>\n",
       "      <th>6751</th>\n",
       "      <td>1.50</td>\n",
       "      <td>3.000000</td>\n",
       "      <td>1.000000e-08</td>\n",
       "      <td>0.000100</td>\n",
       "      <td>0.750075</td>\n",
       "      <td>2.2500</td>\n",
       "      <td>4.500000</td>\n",
       "      <td>0.000150</td>\n",
       "      <td>0.000150</td>\n",
       "      <td>1.125112</td>\n",
       "      <td>9.000000e+00</td>\n",
       "      <td>0.000300</td>\n",
       "      <td>0.00030</td>\n",
       "      <td>2.250225</td>\n",
       "      <td>1.000000e-12</td>\n",
       "      <td>7.500750e-09</td>\n",
       "      <td>1.000000e-08</td>\n",
       "      <td>0.000075</td>\n",
       "      <td>0.562613</td>\n",
       "    </tr>\n",
       "    <tr>\n",
       "      <th>5188</th>\n",
       "      <td>1.20</td>\n",
       "      <td>0.750075</td>\n",
       "      <td>2.250150e+00</td>\n",
       "      <td>1.500050</td>\n",
       "      <td>2.250025</td>\n",
       "      <td>1.4400</td>\n",
       "      <td>0.900090</td>\n",
       "      <td>1.800060</td>\n",
       "      <td>1.800060</td>\n",
       "      <td>2.700030</td>\n",
       "      <td>5.626125e-01</td>\n",
       "      <td>1.125150</td>\n",
       "      <td>1.12515</td>\n",
       "      <td>1.687688</td>\n",
       "      <td>3.375338e+00</td>\n",
       "      <td>5.062894e+00</td>\n",
       "      <td>2.250150e+00</td>\n",
       "      <td>3.375150</td>\n",
       "      <td>5.062613</td>\n",
       "    </tr>\n",
       "    <tr>\n",
       "      <th>4211</th>\n",
       "      <td>0.90</td>\n",
       "      <td>2.250025</td>\n",
       "      <td>5.062613e+00</td>\n",
       "      <td>1.500050</td>\n",
       "      <td>0.750075</td>\n",
       "      <td>0.8100</td>\n",
       "      <td>2.025023</td>\n",
       "      <td>2.025023</td>\n",
       "      <td>1.350045</td>\n",
       "      <td>0.675068</td>\n",
       "      <td>5.062613e+00</td>\n",
       "      <td>5.062613</td>\n",
       "      <td>3.37515</td>\n",
       "      <td>1.687688</td>\n",
       "      <td>7.594172e+00</td>\n",
       "      <td>3.797339e+00</td>\n",
       "      <td>2.250150e+00</td>\n",
       "      <td>1.125150</td>\n",
       "      <td>0.562613</td>\n",
       "    </tr>\n",
       "    <tr>\n",
       "      <th>3813</th>\n",
       "      <td>0.90</td>\n",
       "      <td>0.000100</td>\n",
       "      <td>2.250150e+00</td>\n",
       "      <td>1.500050</td>\n",
       "      <td>2.250025</td>\n",
       "      <td>0.8100</td>\n",
       "      <td>0.000090</td>\n",
       "      <td>1.350045</td>\n",
       "      <td>1.350045</td>\n",
       "      <td>2.025023</td>\n",
       "      <td>1.000000e-08</td>\n",
       "      <td>0.000150</td>\n",
       "      <td>0.00015</td>\n",
       "      <td>0.000225</td>\n",
       "      <td>3.375338e+00</td>\n",
       "      <td>5.062894e+00</td>\n",
       "      <td>2.250150e+00</td>\n",
       "      <td>3.375150</td>\n",
       "      <td>5.062613</td>\n",
       "    </tr>\n",
       "    <tr>\n",
       "      <th>4666</th>\n",
       "      <td>1.05</td>\n",
       "      <td>1.500050</td>\n",
       "      <td>5.626125e-01</td>\n",
       "      <td>2.250025</td>\n",
       "      <td>0.750075</td>\n",
       "      <td>1.1025</td>\n",
       "      <td>1.575052</td>\n",
       "      <td>0.787579</td>\n",
       "      <td>2.362526</td>\n",
       "      <td>0.787579</td>\n",
       "      <td>2.250150e+00</td>\n",
       "      <td>1.125150</td>\n",
       "      <td>3.37515</td>\n",
       "      <td>1.125150</td>\n",
       "      <td>1.265892e+00</td>\n",
       "      <td>4.220016e-01</td>\n",
       "      <td>5.062613e+00</td>\n",
       "      <td>1.687688</td>\n",
       "      <td>0.562613</td>\n",
       "    </tr>\n",
       "  </tbody>\n",
       "</table>\n",
       "</div>"
      ],
      "text/plain": [
       "         C        Mn            Si        Cr        Ni      C2       CMn  \\\n",
       "6751  1.50  3.000000  1.000000e-08  0.000100  0.750075  2.2500  4.500000   \n",
       "5188  1.20  0.750075  2.250150e+00  1.500050  2.250025  1.4400  0.900090   \n",
       "4211  0.90  2.250025  5.062613e+00  1.500050  0.750075  0.8100  2.025023   \n",
       "3813  0.90  0.000100  2.250150e+00  1.500050  2.250025  0.8100  0.000090   \n",
       "4666  1.05  1.500050  5.626125e-01  2.250025  0.750075  1.1025  1.575052   \n",
       "\n",
       "           CSi       CCr       CNi           Mn2      MnSi     MnCr      MnNi  \\\n",
       "6751  0.000150  0.000150  1.125112  9.000000e+00  0.000300  0.00030  2.250225   \n",
       "5188  1.800060  1.800060  2.700030  5.626125e-01  1.125150  1.12515  1.687688   \n",
       "4211  2.025023  1.350045  0.675068  5.062613e+00  5.062613  3.37515  1.687688   \n",
       "3813  1.350045  1.350045  2.025023  1.000000e-08  0.000150  0.00015  0.000225   \n",
       "4666  0.787579  2.362526  0.787579  2.250150e+00  1.125150  3.37515  1.125150   \n",
       "\n",
       "              SiCr          SiNi           Cr2      CrNi       Ni2  \n",
       "6751  1.000000e-12  7.500750e-09  1.000000e-08  0.000075  0.562613  \n",
       "5188  3.375338e+00  5.062894e+00  2.250150e+00  3.375150  5.062613  \n",
       "4211  7.594172e+00  3.797339e+00  2.250150e+00  1.125150  0.562613  \n",
       "3813  3.375338e+00  5.062894e+00  2.250150e+00  3.375150  5.062613  \n",
       "4666  1.265892e+00  4.220016e-01  5.062613e+00  1.687688  0.562613  "
      ]
     },
     "execution_count": 13,
     "metadata": {},
     "output_type": "execute_result"
    }
   ],
   "source": [
    "X_train.head()"
   ]
  },
  {
   "cell_type": "code",
   "execution_count": 14,
   "metadata": {
    "scrolled": true
   },
   "outputs": [
    {
     "data": {
      "text/plain": [
       "3980     876.37\n",
       "3809     866.31\n",
       "4444     957.26\n",
       "5943    1032.25\n",
       "2943     827.70\n",
       "Name: A3, dtype: float64"
      ]
     },
     "execution_count": 14,
     "metadata": {},
     "output_type": "execute_result"
    }
   ],
   "source": [
    "y_test.head()"
   ]
  },
  {
   "cell_type": "code",
   "execution_count": 15,
   "metadata": {},
   "outputs": [
    {
     "data": {
      "text/plain": [
       "6751    992.91\n",
       "5188    975.02\n",
       "4211    896.77\n",
       "3813    888.49\n",
       "4666    935.51\n",
       "Name: A3, dtype: float64"
      ]
     },
     "execution_count": 15,
     "metadata": {},
     "output_type": "execute_result"
    }
   ],
   "source": [
    "y_train.head()"
   ]
  },
  {
   "cell_type": "code",
   "execution_count": 16,
   "metadata": {},
   "outputs": [
    {
     "data": {
      "text/plain": [
       "460.2117026280473"
      ]
     },
     "execution_count": 16,
     "metadata": {},
     "output_type": "execute_result"
    }
   ],
   "source": [
    "lm = linear_model.LinearRegression()\n",
    "model = lm.fit(X_train, y_train)\n",
    "predictions = lm.predict(X_test)\n",
    "model.intercept_\n",
    "\n",
    "# predictor = LinearRegression(n_jobs=-1, normalize=True)\n",
    "# estimator = predictor.fit(X_train, y_train)\n",
    "# estimator.intercept_"
   ]
  },
  {
   "cell_type": "code",
   "execution_count": 17,
   "metadata": {
    "scrolled": true
   },
   "outputs": [
    {
     "data": {
      "text/plain": [
       "[('C', 427.30671545042327),\n",
       " ('Mn', -1.564847269287931),\n",
       " ('Si', 2.0669471571271485),\n",
       " ('Cr', 65.59186135786541),\n",
       " ('Ni', 4.968104129067496),\n",
       " ('C2', -50.63948152837183),\n",
       " ('CMn', 0.32856522637112207),\n",
       " ('CSi', 7.896009883223943),\n",
       " ('CCr', -27.3901844972642),\n",
       " ('CNi', -1.2810272811441994),\n",
       " ('Mn2', -0.004264699393676352),\n",
       " ('MnSi', 1.8478457230806027),\n",
       " ('MnCr', 0.1881127223281691),\n",
       " ('MnNi', -0.2770755242134868),\n",
       " ('SiCr', -0.6190690372889822),\n",
       " ('SiNi', 0.11245456248437513),\n",
       " ('Cr2', -1.7950177065005413),\n",
       " ('CrNi', 0.4911788783883049),\n",
       " ('Ni2', -0.02153005254347029)]"
      ]
     },
     "execution_count": 17,
     "metadata": {},
     "output_type": "execute_result"
    }
   ],
   "source": [
    "list(zip(X_test.keys(), model.coef_))"
   ]
  },
  {
   "cell_type": "code",
   "execution_count": 18,
   "metadata": {
    "collapsed": true
   },
   "outputs": [],
   "source": [
    "# fit a model\n",
    "lm = linear_model.LinearRegression()\n",
    "model = lm.fit(X_train, y_train)\n",
    "predictions = lm.predict(X_test)"
   ]
  },
  {
   "cell_type": "markdown",
   "metadata": {},
   "source": [
    "### The line / model"
   ]
  },
  {
   "cell_type": "code",
   "execution_count": 19,
   "metadata": {},
   "outputs": [
    {
     "data": {
      "image/png": "[encoded data removed]",
      "text/plain": [
       "<Figure size 432x288 with 1 Axes>"
      ]
     },
     "metadata": {},
     "output_type": "display_data"
    }
   ],
   "source": [
    "plt.scatter(y_test, predictions)\n",
    "plt.xlabel('True_Values')\n",
    "plt.ylabel('Predictions')\n",
    "\n",
    "# Draw y = x line\n",
    "ymin, ymax = y_test.min(), y_test.max()\n",
    "plt.plot([ymin, ymin], [ymax, ymax], 'r-')\n",
    "\n",
    "plt.show()"
   ]
  },
  {
   "cell_type": "code",
   "execution_count": 20,
   "metadata": {},
   "outputs": [
    {
     "data": {
      "text/plain": [
       "0.997139182983552"
      ]
     },
     "execution_count": 20,
     "metadata": {},
     "output_type": "execute_result"
    }
   ],
   "source": [
    "metrics.r2_score(y_test, predictions)"
   ]
  },
  {
   "cell_type": "code",
   "execution_count": 21,
   "metadata": {},
   "outputs": [
    {
     "data": {
      "text/plain": [
       "5.277559253613008"
      ]
     },
     "execution_count": 21,
     "metadata": {},
     "output_type": "execute_result"
    }
   ],
   "source": [
    "#RMSE\n",
    "math.sqrt(metrics.mean_squared_error(y_test, predictions))"
   ]
  },
  {
   "cell_type": "markdown",
   "metadata": {
    "collapsed": true
   },
   "source": [
    "## Hipoeutectoid"
   ]
  },
  {
   "cell_type": "code",
   "execution_count": 22,
   "metadata": {
    "scrolled": false
   },
   "outputs": [
    {
     "name": "stdout",
     "output_type": "stream",
     "text": [
      "Train size: (1842, 19)\n",
      "Test size: (461, 19)\n"
     ]
    },
    {
     "name": "stderr",
     "output_type": "stream",
     "text": [
      "/home/paula/.local/lib/python3.5/site-packages/sklearn/model_selection/_split.py:2026: FutureWarning: From version 0.21, test_size will always complement train_size unless both are specified.\n",
      "  FutureWarning)\n"
     ]
    }
   ],
   "source": [
    "X_train, X_test, y_train, y_test = _split_between_train_and_test(df_hipo, 0.8)"
   ]
  },
  {
   "cell_type": "code",
   "execution_count": 23,
   "metadata": {},
   "outputs": [
    {
     "data": {
      "text/html": [
       "<div>\n",
       "<style scoped>\n",
       "    .dataframe tbody tr th:only-of-type {\n",
       "        vertical-align: middle;\n",
       "    }\n",
       "\n",
       "    .dataframe tbody tr th {\n",
       "        vertical-align: top;\n",
       "    }\n",
       "\n",
       "    .dataframe thead th {\n",
       "        text-align: right;\n",
       "    }\n",
       "</style>\n",
       "<table border=\"1\" class=\"dataframe\">\n",
       "  <thead>\n",
       "    <tr style=\"text-align: right;\">\n",
       "      <th></th>\n",
       "      <th>C</th>\n",
       "      <th>Mn</th>\n",
       "      <th>Si</th>\n",
       "      <th>Cr</th>\n",
       "      <th>Ni</th>\n",
       "      <th>C2</th>\n",
       "      <th>CMn</th>\n",
       "      <th>CSi</th>\n",
       "      <th>CCr</th>\n",
       "      <th>CNi</th>\n",
       "      <th>Mn2</th>\n",
       "      <th>MnSi</th>\n",
       "      <th>MnCr</th>\n",
       "      <th>MnNi</th>\n",
       "      <th>SiCr</th>\n",
       "      <th>SiNi</th>\n",
       "      <th>Cr2</th>\n",
       "      <th>CrNi</th>\n",
       "      <th>Ni2</th>\n",
       "    </tr>\n",
       "  </thead>\n",
       "  <tbody>\n",
       "    <tr>\n",
       "      <th>1817</th>\n",
       "      <td>0.3</td>\n",
       "      <td>3.000000</td>\n",
       "      <td>2.250150e+00</td>\n",
       "      <td>2.250025</td>\n",
       "      <td>1.500050</td>\n",
       "      <td>0.09</td>\n",
       "      <td>0.900000</td>\n",
       "      <td>0.450015</td>\n",
       "      <td>0.675007</td>\n",
       "      <td>0.450015</td>\n",
       "      <td>9.000000</td>\n",
       "      <td>4.500150</td>\n",
       "      <td>6.750075</td>\n",
       "      <td>4.500150</td>\n",
       "      <td>5.062894e+00</td>\n",
       "      <td>3.375338e+00</td>\n",
       "      <td>5.062613e+00</td>\n",
       "      <td>3.375150</td>\n",
       "      <td>2.250150e+00</td>\n",
       "    </tr>\n",
       "    <tr>\n",
       "      <th>385</th>\n",
       "      <td>0.0</td>\n",
       "      <td>2.250025</td>\n",
       "      <td>1.000000e-08</td>\n",
       "      <td>1.500050</td>\n",
       "      <td>0.000100</td>\n",
       "      <td>0.00</td>\n",
       "      <td>0.000000</td>\n",
       "      <td>0.000000</td>\n",
       "      <td>0.000000</td>\n",
       "      <td>0.000000</td>\n",
       "      <td>5.062613</td>\n",
       "      <td>0.000225</td>\n",
       "      <td>3.375150</td>\n",
       "      <td>0.000225</td>\n",
       "      <td>1.500050e-08</td>\n",
       "      <td>1.000000e-12</td>\n",
       "      <td>2.250150e+00</td>\n",
       "      <td>0.000150</td>\n",
       "      <td>1.000000e-08</td>\n",
       "    </tr>\n",
       "    <tr>\n",
       "      <th>2676</th>\n",
       "      <td>0.6</td>\n",
       "      <td>0.750075</td>\n",
       "      <td>2.250150e+00</td>\n",
       "      <td>0.000100</td>\n",
       "      <td>0.750075</td>\n",
       "      <td>0.36</td>\n",
       "      <td>0.450045</td>\n",
       "      <td>0.900030</td>\n",
       "      <td>0.000060</td>\n",
       "      <td>0.450045</td>\n",
       "      <td>0.562613</td>\n",
       "      <td>1.125150</td>\n",
       "      <td>0.000075</td>\n",
       "      <td>0.562613</td>\n",
       "      <td>2.250150e-04</td>\n",
       "      <td>1.687781e+00</td>\n",
       "      <td>1.000000e-08</td>\n",
       "      <td>0.000075</td>\n",
       "      <td>5.626125e-01</td>\n",
       "    </tr>\n",
       "    <tr>\n",
       "      <th>376</th>\n",
       "      <td>0.0</td>\n",
       "      <td>2.250025</td>\n",
       "      <td>1.000000e-08</td>\n",
       "      <td>0.000100</td>\n",
       "      <td>0.750075</td>\n",
       "      <td>0.00</td>\n",
       "      <td>0.000000</td>\n",
       "      <td>0.000000</td>\n",
       "      <td>0.000000</td>\n",
       "      <td>0.000000</td>\n",
       "      <td>5.062613</td>\n",
       "      <td>0.000225</td>\n",
       "      <td>0.000225</td>\n",
       "      <td>1.687688</td>\n",
       "      <td>1.000000e-12</td>\n",
       "      <td>7.500750e-09</td>\n",
       "      <td>1.000000e-08</td>\n",
       "      <td>0.000075</td>\n",
       "      <td>5.626125e-01</td>\n",
       "    </tr>\n",
       "    <tr>\n",
       "      <th>1462</th>\n",
       "      <td>0.3</td>\n",
       "      <td>0.750075</td>\n",
       "      <td>5.062613e+00</td>\n",
       "      <td>1.500050</td>\n",
       "      <td>1.500050</td>\n",
       "      <td>0.09</td>\n",
       "      <td>0.225022</td>\n",
       "      <td>0.675007</td>\n",
       "      <td>0.450015</td>\n",
       "      <td>0.450015</td>\n",
       "      <td>0.562613</td>\n",
       "      <td>1.687688</td>\n",
       "      <td>1.125150</td>\n",
       "      <td>1.125150</td>\n",
       "      <td>7.594172e+00</td>\n",
       "      <td>7.594172e+00</td>\n",
       "      <td>2.250150e+00</td>\n",
       "      <td>2.250150</td>\n",
       "      <td>2.250150e+00</td>\n",
       "    </tr>\n",
       "  </tbody>\n",
       "</table>\n",
       "</div>"
      ],
      "text/plain": [
       "        C        Mn            Si        Cr        Ni    C2       CMn  \\\n",
       "1817  0.3  3.000000  2.250150e+00  2.250025  1.500050  0.09  0.900000   \n",
       "385   0.0  2.250025  1.000000e-08  1.500050  0.000100  0.00  0.000000   \n",
       "2676  0.6  0.750075  2.250150e+00  0.000100  0.750075  0.36  0.450045   \n",
       "376   0.0  2.250025  1.000000e-08  0.000100  0.750075  0.00  0.000000   \n",
       "1462  0.3  0.750075  5.062613e+00  1.500050  1.500050  0.09  0.225022   \n",
       "\n",
       "           CSi       CCr       CNi       Mn2      MnSi      MnCr      MnNi  \\\n",
       "1817  0.450015  0.675007  0.450015  9.000000  4.500150  6.750075  4.500150   \n",
       "385   0.000000  0.000000  0.000000  5.062613  0.000225  3.375150  0.000225   \n",
       "2676  0.900030  0.000060  0.450045  0.562613  1.125150  0.000075  0.562613   \n",
       "376   0.000000  0.000000  0.000000  5.062613  0.000225  0.000225  1.687688   \n",
       "1462  0.675007  0.450015  0.450015  0.562613  1.687688  1.125150  1.125150   \n",
       "\n",
       "              SiCr          SiNi           Cr2      CrNi           Ni2  \n",
       "1817  5.062894e+00  3.375338e+00  5.062613e+00  3.375150  2.250150e+00  \n",
       "385   1.500050e-08  1.000000e-12  2.250150e+00  0.000150  1.000000e-08  \n",
       "2676  2.250150e-04  1.687781e+00  1.000000e-08  0.000075  5.626125e-01  \n",
       "376   1.000000e-12  7.500750e-09  1.000000e-08  0.000075  5.626125e-01  \n",
       "1462  7.594172e+00  7.594172e+00  2.250150e+00  2.250150  2.250150e+00  "
      ]
     },
     "execution_count": 23,
     "metadata": {},
     "output_type": "execute_result"
    }
   ],
   "source": [
    "X_train.head()"
   ]
  },
  {
   "cell_type": "code",
   "execution_count": 24,
   "metadata": {
    "scrolled": true
   },
   "outputs": [
    {
     "data": {
      "text/plain": [
       "968     791.42\n",
       "1328    830.22\n",
       "1343    801.82\n",
       "1300    872.84\n",
       "489     825.70\n",
       "Name: A3, dtype: float64"
      ]
     },
     "execution_count": 24,
     "metadata": {},
     "output_type": "execute_result"
    }
   ],
   "source": [
    "y_test.head()"
   ]
  },
  {
   "cell_type": "code",
   "execution_count": 25,
   "metadata": {},
   "outputs": [
    {
     "data": {
      "text/plain": [
       "1817    725.203\n",
       "385     806.030\n",
       "2676    756.890\n",
       "376     802.240\n",
       "1462    808.480\n",
       "Name: A3, dtype: float64"
      ]
     },
     "execution_count": 25,
     "metadata": {},
     "output_type": "execute_result"
    }
   ],
   "source": [
    "y_train.head()"
   ]
  },
  {
   "cell_type": "code",
   "execution_count": 26,
   "metadata": {},
   "outputs": [
    {
     "data": {
      "text/plain": [
       "957.8334188727475"
      ]
     },
     "execution_count": 26,
     "metadata": {},
     "output_type": "execute_result"
    }
   ],
   "source": [
    "lm = linear_model.LinearRegression()\n",
    "model = lm.fit(X_train, y_train)\n",
    "predictions = lm.predict(X_test)\n",
    "model.intercept_\n",
    "\n",
    "# predictor = LinearRegression(n_jobs=-1, normalize=True)\n",
    "# estimator = predictor.fit(X_train, y_train)\n",
    "# estimator.intercept_"
   ]
  },
  {
   "cell_type": "code",
   "execution_count": 27,
   "metadata": {
    "scrolled": true
   },
   "outputs": [
    {
     "data": {
      "text/plain": [
       "[('C', -434.7524223422389),\n",
       " ('Mn', -52.5292969865028),\n",
       " ('Si', 19.753551647549457),\n",
       " ('Cr', -18.628169931432197),\n",
       " ('Ni', -46.481110521756364),\n",
       " ('C2', 188.17275481820096),\n",
       " ('CMn', 51.438487224528544),\n",
       " ('CSi', -41.25224114410301),\n",
       " ('CCr', 14.960229019876603),\n",
       " ('CNi', 39.07898931460379),\n",
       " ('Mn2', 2.3405277755983747),\n",
       " ('MnSi', -4.852185165010264),\n",
       " ('MnCr', 1.6944416526160957),\n",
       " ('MnNi', 4.952581588762136),\n",
       " ('SiCr', -0.7773975192921618),\n",
       " ('SiNi', -1.8944963088335065),\n",
       " ('Cr2', 0.40741378871617684),\n",
       " ('CrNi', 1.6170002288773198),\n",
       " ('Ni2', 2.1706885591920617)]"
      ]
     },
     "execution_count": 27,
     "metadata": {},
     "output_type": "execute_result"
    }
   ],
   "source": [
    "list(zip(X_test.keys(), model.coef_))"
   ]
  },
  {
   "cell_type": "code",
   "execution_count": 28,
   "metadata": {
    "collapsed": true
   },
   "outputs": [],
   "source": [
    "# fit a model\n",
    "lm = linear_model.LinearRegression()\n",
    "model = lm.fit(X_train, y_train)\n",
    "predictions = lm.predict(X_test)"
   ]
  },
  {
   "cell_type": "markdown",
   "metadata": {},
   "source": [
    "### The line / model"
   ]
  },
  {
   "cell_type": "code",
   "execution_count": 29,
   "metadata": {},
   "outputs": [
    {
     "data": {
      "image/png": "[encoded data removed]",
      "text/plain": [
       "<Figure size 432x288 with 1 Axes>"
      ]
     },
     "metadata": {},
     "output_type": "display_data"
    }
   ],
   "source": [
    "plt.scatter(y_test, predictions)\n",
    "plt.xlabel('True_Values')\n",
    "plt.ylabel('Predictions')\n",
    "plt.show()"
   ]
  },
  {
   "cell_type": "code",
   "execution_count": 30,
   "metadata": {},
   "outputs": [
    {
     "data": {
      "text/plain": [
       "0.960698966333567"
      ]
     },
     "execution_count": 30,
     "metadata": {},
     "output_type": "execute_result"
    }
   ],
   "source": [
    "metrics.r2_score(y_test, predictions)"
   ]
  },
  {
   "cell_type": "code",
   "execution_count": 31,
   "metadata": {},
   "outputs": [
    {
     "data": {
      "text/plain": [
       "13.90936897691065"
      ]
     },
     "execution_count": 31,
     "metadata": {},
     "output_type": "execute_result"
    }
   ],
   "source": [
    "#RMSE\n",
    "math.sqrt(metrics.mean_squared_error(y_test, predictions))"
   ]
  },
  {
   "cell_type": "markdown",
   "metadata": {},
   "source": [
    "# A3 regression with database standardization"
   ]
  },
  {
   "cell_type": "markdown",
   "metadata": {},
   "source": [
    "## Hipereutectoid"
   ]
  },
  {
   "cell_type": "code",
   "execution_count": 32,
   "metadata": {
    "collapsed": true
   },
   "outputs": [],
   "source": [
    "df2_ = df_hiper.copy()\n",
    "df2_ = df2_.loc[~is_na, :]"
   ]
  },
  {
   "cell_type": "code",
   "execution_count": 33,
   "metadata": {
    "collapsed": true
   },
   "outputs": [],
   "source": [
    "from sklearn.preprocessing import StandardScaler\n",
    "scaler = StandardScaler()\n",
    "scaler.fit(df2_.iloc[:, :-1])\n",
    "df2_.iloc[:, :-1] = scaler.transform(df2_.iloc[:, :-1])"
   ]
  },
  {
   "cell_type": "code",
   "execution_count": 34,
   "metadata": {},
   "outputs": [
    {
     "data": {
      "text/html": [
       "<div>\n",
       "<style scoped>\n",
       "    .dataframe tbody tr th:only-of-type {\n",
       "        vertical-align: middle;\n",
       "    }\n",
       "\n",
       "    .dataframe tbody tr th {\n",
       "        vertical-align: top;\n",
       "    }\n",
       "\n",
       "    .dataframe thead th {\n",
       "        text-align: right;\n",
       "    }\n",
       "</style>\n",
       "<table border=\"1\" class=\"dataframe\">\n",
       "  <thead>\n",
       "    <tr style=\"text-align: right;\">\n",
       "      <th></th>\n",
       "      <th>C</th>\n",
       "      <th>Mn</th>\n",
       "      <th>Si</th>\n",
       "      <th>Cr</th>\n",
       "      <th>Ni</th>\n",
       "      <th>A3</th>\n",
       "      <th>C2</th>\n",
       "      <th>CMn</th>\n",
       "      <th>CSi</th>\n",
       "      <th>CCr</th>\n",
       "      <th>...</th>\n",
       "      <th>Mn2</th>\n",
       "      <th>MnSi</th>\n",
       "      <th>MnCr</th>\n",
       "      <th>MnNi</th>\n",
       "      <th>SiCr</th>\n",
       "      <th>SiNi</th>\n",
       "      <th>Cr2</th>\n",
       "      <th>CrNi</th>\n",
       "      <th>Ni2</th>\n",
       "      <th>eutec</th>\n",
       "    </tr>\n",
       "  </thead>\n",
       "  <tbody>\n",
       "    <tr>\n",
       "      <th>1273</th>\n",
       "      <td>-2.161098</td>\n",
       "      <td>-1.454925</td>\n",
       "      <td>-1.007144</td>\n",
       "      <td>1.319264</td>\n",
       "      <td>0.664628</td>\n",
       "      <td>-1.770927</td>\n",
       "      <td>-1.58724</td>\n",
       "      <td>-1.263071</td>\n",
       "      <td>-1.223202</td>\n",
       "      <td>-0.565768</td>\n",
       "      <td>...</td>\n",
       "      <td>-1.052287</td>\n",
       "      <td>-0.90719</td>\n",
       "      <td>-0.954937</td>\n",
       "      <td>-0.926840</td>\n",
       "      <td>-0.736294</td>\n",
       "      <td>-0.723239</td>\n",
       "      <td>1.570307</td>\n",
       "      <td>1.633777</td>\n",
       "      <td>0.463410</td>\n",
       "      <td>1</td>\n",
       "    </tr>\n",
       "    <tr>\n",
       "      <th>1274</th>\n",
       "      <td>-2.161098</td>\n",
       "      <td>-1.454925</td>\n",
       "      <td>-1.007144</td>\n",
       "      <td>1.319264</td>\n",
       "      <td>1.372755</td>\n",
       "      <td>-1.739327</td>\n",
       "      <td>-1.58724</td>\n",
       "      <td>-1.263071</td>\n",
       "      <td>-1.223202</td>\n",
       "      <td>-0.565768</td>\n",
       "      <td>...</td>\n",
       "      <td>-1.052287</td>\n",
       "      <td>-0.90719</td>\n",
       "      <td>-0.954937</td>\n",
       "      <td>-0.926811</td>\n",
       "      <td>-0.736294</td>\n",
       "      <td>-0.723239</td>\n",
       "      <td>1.570307</td>\n",
       "      <td>2.497379</td>\n",
       "      <td>1.640253</td>\n",
       "      <td>1</td>\n",
       "    </tr>\n",
       "    <tr>\n",
       "      <th>1299</th>\n",
       "      <td>-2.161098</td>\n",
       "      <td>-1.454925</td>\n",
       "      <td>-0.836406</td>\n",
       "      <td>1.319264</td>\n",
       "      <td>1.372755</td>\n",
       "      <td>-1.740467</td>\n",
       "      <td>-1.58724</td>\n",
       "      <td>-1.263071</td>\n",
       "      <td>-1.041963</td>\n",
       "      <td>-0.565768</td>\n",
       "      <td>...</td>\n",
       "      <td>-1.052287</td>\n",
       "      <td>-0.90716</td>\n",
       "      <td>-0.954937</td>\n",
       "      <td>-0.926811</td>\n",
       "      <td>-0.502339</td>\n",
       "      <td>-0.486442</td>\n",
       "      <td>1.570307</td>\n",
       "      <td>2.497379</td>\n",
       "      <td>1.640253</td>\n",
       "      <td>1</td>\n",
       "    </tr>\n",
       "    <tr>\n",
       "      <th>1398</th>\n",
       "      <td>-2.161098</td>\n",
       "      <td>-0.749968</td>\n",
       "      <td>-1.007144</td>\n",
       "      <td>1.319264</td>\n",
       "      <td>0.664628</td>\n",
       "      <td>-1.783567</td>\n",
       "      <td>-1.58724</td>\n",
       "      <td>-1.079746</td>\n",
       "      <td>-1.223202</td>\n",
       "      <td>-0.565768</td>\n",
       "      <td>...</td>\n",
       "      <td>-0.884473</td>\n",
       "      <td>-0.90716</td>\n",
       "      <td>-0.093992</td>\n",
       "      <td>-0.271865</td>\n",
       "      <td>-0.736294</td>\n",
       "      <td>-0.723239</td>\n",
       "      <td>1.570307</td>\n",
       "      <td>1.633777</td>\n",
       "      <td>0.463410</td>\n",
       "      <td>1</td>\n",
       "    </tr>\n",
       "    <tr>\n",
       "      <th>1399</th>\n",
       "      <td>-2.161098</td>\n",
       "      <td>-0.749968</td>\n",
       "      <td>-1.007144</td>\n",
       "      <td>1.319264</td>\n",
       "      <td>1.372755</td>\n",
       "      <td>-1.751656</td>\n",
       "      <td>-1.58724</td>\n",
       "      <td>-1.079746</td>\n",
       "      <td>-1.223202</td>\n",
       "      <td>-0.565768</td>\n",
       "      <td>...</td>\n",
       "      <td>-0.884473</td>\n",
       "      <td>-0.90716</td>\n",
       "      <td>-0.093992</td>\n",
       "      <td>-0.053520</td>\n",
       "      <td>-0.736294</td>\n",
       "      <td>-0.723239</td>\n",
       "      <td>1.570307</td>\n",
       "      <td>2.497379</td>\n",
       "      <td>1.640253</td>\n",
       "      <td>1</td>\n",
       "    </tr>\n",
       "  </tbody>\n",
       "</table>\n",
       "<p>5 rows × 21 columns</p>\n",
       "</div>"
      ],
      "text/plain": [
       "             C        Mn        Si        Cr        Ni        A3       C2  \\\n",
       "1273 -2.161098 -1.454925 -1.007144  1.319264  0.664628 -1.770927 -1.58724   \n",
       "1274 -2.161098 -1.454925 -1.007144  1.319264  1.372755 -1.739327 -1.58724   \n",
       "1299 -2.161098 -1.454925 -0.836406  1.319264  1.372755 -1.740467 -1.58724   \n",
       "1398 -2.161098 -0.749968 -1.007144  1.319264  0.664628 -1.783567 -1.58724   \n",
       "1399 -2.161098 -0.749968 -1.007144  1.319264  1.372755 -1.751656 -1.58724   \n",
       "\n",
       "           CMn       CSi       CCr  ...         Mn2     MnSi      MnCr  \\\n",
       "1273 -1.263071 -1.223202 -0.565768  ...   -1.052287 -0.90719 -0.954937   \n",
       "1274 -1.263071 -1.223202 -0.565768  ...   -1.052287 -0.90719 -0.954937   \n",
       "1299 -1.263071 -1.041963 -0.565768  ...   -1.052287 -0.90716 -0.954937   \n",
       "1398 -1.079746 -1.223202 -0.565768  ...   -0.884473 -0.90716 -0.093992   \n",
       "1399 -1.079746 -1.223202 -0.565768  ...   -0.884473 -0.90716 -0.093992   \n",
       "\n",
       "          MnNi      SiCr      SiNi       Cr2      CrNi       Ni2  eutec  \n",
       "1273 -0.926840 -0.736294 -0.723239  1.570307  1.633777  0.463410      1  \n",
       "1274 -0.926811 -0.736294 -0.723239  1.570307  2.497379  1.640253      1  \n",
       "1299 -0.926811 -0.502339 -0.486442  1.570307  2.497379  1.640253      1  \n",
       "1398 -0.271865 -0.736294 -0.723239  1.570307  1.633777  0.463410      1  \n",
       "1399 -0.053520 -0.736294 -0.723239  1.570307  2.497379  1.640253      1  \n",
       "\n",
       "[5 rows x 21 columns]"
      ]
     },
     "execution_count": 34,
     "metadata": {},
     "output_type": "execute_result"
    }
   ],
   "source": [
    "df2_.head()"
   ]
  },
  {
   "cell_type": "code",
   "execution_count": 35,
   "metadata": {},
   "outputs": [
    {
     "name": "stdout",
     "output_type": "stream",
     "text": [
      "Train size: (3633, 19)\n",
      "Test size: (909, 19)\n"
     ]
    },
    {
     "name": "stderr",
     "output_type": "stream",
     "text": [
      "/home/paula/.local/lib/python3.5/site-packages/sklearn/model_selection/_split.py:2026: FutureWarning: From version 0.21, test_size will always complement train_size unless both are specified.\n",
      "  FutureWarning)\n"
     ]
    }
   ],
   "source": [
    "X2_train, X2_test, y2_train, y2_test = _split_between_train_and_test(df2_, 0.8)"
   ]
  },
  {
   "cell_type": "code",
   "execution_count": 36,
   "metadata": {},
   "outputs": [
    {
     "data": {
      "text/plain": [
       "0.00043372512136385065"
      ]
     },
     "execution_count": 36,
     "metadata": {},
     "output_type": "execute_result"
    }
   ],
   "source": [
    "model2 = lm.fit(X2_train, y2_train)\n",
    "predictions2 = lm.predict(X2_test)\n",
    "model2.intercept_"
   ]
  },
  {
   "cell_type": "code",
   "execution_count": 37,
   "metadata": {},
   "outputs": [
    {
     "data": {
      "text/plain": [
       "[('C', 1.4693046746927),\n",
       " ('Mn', -0.01724799284255346),\n",
       " ('Si', 0.07056540636532181),\n",
       " ('Cr', 0.7143779010968048),\n",
       " ('Ni', 0.054514158037806806),\n",
       " ('C2', -0.3486988257427935),\n",
       " ('CMn', 0.00417782910140399),\n",
       " ('CSi', 0.10155618468683933),\n",
       " ('CCr', -0.3409382539993614),\n",
       " ('CNi', -0.01626139050334749),\n",
       " ('Mn2', -0.00014813337278275773),\n",
       " ('MnSi', 0.04887592504432317),\n",
       " ('MnCr', 0.005093231510774718),\n",
       " ('MnNi', -0.007395877999905685),\n",
       " ('SiCr', -0.0462721245716947),\n",
       " ('SiNi', 0.008304533061220296),\n",
       " ('Cr2', -0.06268156777012067),\n",
       " ('CrNi', 0.013257960271557935),\n",
       " ('Ni2', -0.000746306756735364)]"
      ]
     },
     "execution_count": 37,
     "metadata": {},
     "output_type": "execute_result"
    }
   ],
   "source": [
    "list(zip(X2_test.keys(), model2.coef_))"
   ]
  },
  {
   "cell_type": "code",
   "execution_count": 38,
   "metadata": {},
   "outputs": [
    {
     "data": {
      "image/png": "[encoded data removed]",
      "text/plain": [
       "<Figure size 432x288 with 1 Axes>"
      ]
     },
     "metadata": {},
     "output_type": "display_data"
    }
   ],
   "source": [
    "plt.scatter(y2_test, predictions2)\n",
    "plt.show()"
   ]
  },
  {
   "cell_type": "code",
   "execution_count": 39,
   "metadata": {},
   "outputs": [
    {
     "data": {
      "text/plain": [
       "0.997139182983552"
      ]
     },
     "execution_count": 39,
     "metadata": {},
     "output_type": "execute_result"
    }
   ],
   "source": [
    "#R2\n",
    "metrics.r2_score(y2_test, predictions2)"
   ]
  },
  {
   "cell_type": "code",
   "execution_count": 40,
   "metadata": {},
   "outputs": [
    {
     "data": {
      "text/plain": [
       "0.05467838347612649"
      ]
     },
     "execution_count": 40,
     "metadata": {},
     "output_type": "execute_result"
    }
   ],
   "source": [
    "#RMSE\n",
    "math.sqrt(metrics.mean_squared_error(y2_test, predictions2))"
   ]
  },
  {
   "cell_type": "code",
   "execution_count": null,
   "metadata": {
    "collapsed": true
   },
   "outputs": [],
   "source": []
  },
  {
   "cell_type": "markdown",
   "metadata": {},
   "source": [
    "## Hipoeutectoid"
   ]
  },
  {
   "cell_type": "code",
   "execution_count": 41,
   "metadata": {
    "collapsed": true
   },
   "outputs": [],
   "source": [
    "df2_ = df_hipo.copy()\n",
    "df2_ = df2_.loc[~is_na, :]"
   ]
  },
  {
   "cell_type": "code",
   "execution_count": 42,
   "metadata": {
    "collapsed": true
   },
   "outputs": [],
   "source": [
    "from sklearn.preprocessing import StandardScaler\n",
    "scaler = StandardScaler()\n",
    "scaler.fit(df2_.iloc[:, :-1])\n",
    "df2_.iloc[:, :-1] = scaler.transform(df2_.iloc[:, :-1])"
   ]
  },
  {
   "cell_type": "code",
   "execution_count": 43,
   "metadata": {},
   "outputs": [
    {
     "data": {
      "text/html": [
       "<div>\n",
       "<style scoped>\n",
       "    .dataframe tbody tr th:only-of-type {\n",
       "        vertical-align: middle;\n",
       "    }\n",
       "\n",
       "    .dataframe tbody tr th {\n",
       "        vertical-align: top;\n",
       "    }\n",
       "\n",
       "    .dataframe thead th {\n",
       "        text-align: right;\n",
       "    }\n",
       "</style>\n",
       "<table border=\"1\" class=\"dataframe\">\n",
       "  <thead>\n",
       "    <tr style=\"text-align: right;\">\n",
       "      <th></th>\n",
       "      <th>C</th>\n",
       "      <th>Mn</th>\n",
       "      <th>Si</th>\n",
       "      <th>Cr</th>\n",
       "      <th>Ni</th>\n",
       "      <th>A3</th>\n",
       "      <th>C2</th>\n",
       "      <th>CMn</th>\n",
       "      <th>CSi</th>\n",
       "      <th>CCr</th>\n",
       "      <th>...</th>\n",
       "      <th>Mn2</th>\n",
       "      <th>MnSi</th>\n",
       "      <th>MnCr</th>\n",
       "      <th>MnNi</th>\n",
       "      <th>SiCr</th>\n",
       "      <th>SiNi</th>\n",
       "      <th>Cr2</th>\n",
       "      <th>CrNi</th>\n",
       "      <th>Ni2</th>\n",
       "      <th>eutec</th>\n",
       "    </tr>\n",
       "  </thead>\n",
       "  <tbody>\n",
       "    <tr>\n",
       "      <th>0</th>\n",
       "      <td>-1.179693</td>\n",
       "      <td>-1.357214</td>\n",
       "      <td>-1.028744</td>\n",
       "      <td>-1.226863</td>\n",
       "      <td>-1.344800</td>\n",
       "      <td>1.569570</td>\n",
       "      <td>-0.746339</td>\n",
       "      <td>-0.823016</td>\n",
       "      <td>-0.782522</td>\n",
       "      <td>-0.742131</td>\n",
       "      <td>...</td>\n",
       "      <td>-0.961136</td>\n",
       "      <td>-0.87556</td>\n",
       "      <td>-0.797261</td>\n",
       "      <td>-0.842699</td>\n",
       "      <td>-0.674147</td>\n",
       "      <td>-0.702431</td>\n",
       "      <td>-0.876713</td>\n",
       "      <td>-0.791632</td>\n",
       "      <td>-0.964538</td>\n",
       "      <td>0</td>\n",
       "    </tr>\n",
       "    <tr>\n",
       "      <th>1</th>\n",
       "      <td>-1.179693</td>\n",
       "      <td>-1.357214</td>\n",
       "      <td>-1.028744</td>\n",
       "      <td>-1.226863</td>\n",
       "      <td>-0.635113</td>\n",
       "      <td>1.121385</td>\n",
       "      <td>-0.746339</td>\n",
       "      <td>-0.823016</td>\n",
       "      <td>-0.782522</td>\n",
       "      <td>-0.742131</td>\n",
       "      <td>...</td>\n",
       "      <td>-0.961136</td>\n",
       "      <td>-0.87556</td>\n",
       "      <td>-0.797261</td>\n",
       "      <td>-0.842667</td>\n",
       "      <td>-0.674147</td>\n",
       "      <td>-0.702431</td>\n",
       "      <td>-0.876713</td>\n",
       "      <td>-0.791599</td>\n",
       "      <td>-0.791534</td>\n",
       "      <td>0</td>\n",
       "    </tr>\n",
       "    <tr>\n",
       "      <th>2</th>\n",
       "      <td>-1.179693</td>\n",
       "      <td>-1.357214</td>\n",
       "      <td>-1.028744</td>\n",
       "      <td>-1.226863</td>\n",
       "      <td>0.074574</td>\n",
       "      <td>0.735739</td>\n",
       "      <td>-0.746339</td>\n",
       "      <td>-0.823016</td>\n",
       "      <td>-0.782522</td>\n",
       "      <td>-0.742131</td>\n",
       "      <td>...</td>\n",
       "      <td>-0.961136</td>\n",
       "      <td>-0.87556</td>\n",
       "      <td>-0.797261</td>\n",
       "      <td>-0.842636</td>\n",
       "      <td>-0.674147</td>\n",
       "      <td>-0.702431</td>\n",
       "      <td>-0.876713</td>\n",
       "      <td>-0.791565</td>\n",
       "      <td>-0.272613</td>\n",
       "      <td>0</td>\n",
       "    </tr>\n",
       "    <tr>\n",
       "      <th>3</th>\n",
       "      <td>-1.179693</td>\n",
       "      <td>-1.357214</td>\n",
       "      <td>-1.028744</td>\n",
       "      <td>-1.226863</td>\n",
       "      <td>0.784261</td>\n",
       "      <td>0.398066</td>\n",
       "      <td>-0.746339</td>\n",
       "      <td>-0.823016</td>\n",
       "      <td>-0.782522</td>\n",
       "      <td>-0.742131</td>\n",
       "      <td>...</td>\n",
       "      <td>-0.961136</td>\n",
       "      <td>-0.87556</td>\n",
       "      <td>-0.797261</td>\n",
       "      <td>-0.842604</td>\n",
       "      <td>-0.674147</td>\n",
       "      <td>-0.702431</td>\n",
       "      <td>-0.876713</td>\n",
       "      <td>-0.791532</td>\n",
       "      <td>0.592224</td>\n",
       "      <td>0</td>\n",
       "    </tr>\n",
       "    <tr>\n",
       "      <th>4</th>\n",
       "      <td>-1.179693</td>\n",
       "      <td>-1.357214</td>\n",
       "      <td>-1.028744</td>\n",
       "      <td>-1.226863</td>\n",
       "      <td>1.493948</td>\n",
       "      <td>0.098943</td>\n",
       "      <td>-0.746339</td>\n",
       "      <td>-0.823016</td>\n",
       "      <td>-0.782522</td>\n",
       "      <td>-0.742131</td>\n",
       "      <td>...</td>\n",
       "      <td>-0.961136</td>\n",
       "      <td>-0.87556</td>\n",
       "      <td>-0.797261</td>\n",
       "      <td>-0.842572</td>\n",
       "      <td>-0.674147</td>\n",
       "      <td>-0.702431</td>\n",
       "      <td>-0.876713</td>\n",
       "      <td>-0.791499</td>\n",
       "      <td>1.802978</td>\n",
       "      <td>0</td>\n",
       "    </tr>\n",
       "  </tbody>\n",
       "</table>\n",
       "<p>5 rows × 21 columns</p>\n",
       "</div>"
      ],
      "text/plain": [
       "          C        Mn        Si        Cr        Ni        A3        C2  \\\n",
       "0 -1.179693 -1.357214 -1.028744 -1.226863 -1.344800  1.569570 -0.746339   \n",
       "1 -1.179693 -1.357214 -1.028744 -1.226863 -0.635113  1.121385 -0.746339   \n",
       "2 -1.179693 -1.357214 -1.028744 -1.226863  0.074574  0.735739 -0.746339   \n",
       "3 -1.179693 -1.357214 -1.028744 -1.226863  0.784261  0.398066 -0.746339   \n",
       "4 -1.179693 -1.357214 -1.028744 -1.226863  1.493948  0.098943 -0.746339   \n",
       "\n",
       "        CMn       CSi       CCr  ...         Mn2     MnSi      MnCr      MnNi  \\\n",
       "0 -0.823016 -0.782522 -0.742131  ...   -0.961136 -0.87556 -0.797261 -0.842699   \n",
       "1 -0.823016 -0.782522 -0.742131  ...   -0.961136 -0.87556 -0.797261 -0.842667   \n",
       "2 -0.823016 -0.782522 -0.742131  ...   -0.961136 -0.87556 -0.797261 -0.842636   \n",
       "3 -0.823016 -0.782522 -0.742131  ...   -0.961136 -0.87556 -0.797261 -0.842604   \n",
       "4 -0.823016 -0.782522 -0.742131  ...   -0.961136 -0.87556 -0.797261 -0.842572   \n",
       "\n",
       "       SiCr      SiNi       Cr2      CrNi       Ni2  eutec  \n",
       "0 -0.674147 -0.702431 -0.876713 -0.791632 -0.964538      0  \n",
       "1 -0.674147 -0.702431 -0.876713 -0.791599 -0.791534      0  \n",
       "2 -0.674147 -0.702431 -0.876713 -0.791565 -0.272613      0  \n",
       "3 -0.674147 -0.702431 -0.876713 -0.791532  0.592224      0  \n",
       "4 -0.674147 -0.702431 -0.876713 -0.791499  1.802978      0  \n",
       "\n",
       "[5 rows x 21 columns]"
      ]
     },
     "execution_count": 43,
     "metadata": {},
     "output_type": "execute_result"
    }
   ],
   "source": [
    "df2_.head()"
   ]
  },
  {
   "cell_type": "code",
   "execution_count": 44,
   "metadata": {},
   "outputs": [
    {
     "name": "stdout",
     "output_type": "stream",
     "text": [
      "Train size: (1842, 19)\n",
      "Test size: (461, 19)\n"
     ]
    },
    {
     "name": "stderr",
     "output_type": "stream",
     "text": [
      "/home/paula/.local/lib/python3.5/site-packages/sklearn/model_selection/_split.py:2026: FutureWarning: From version 0.21, test_size will always complement train_size unless both are specified.\n",
      "  FutureWarning)\n"
     ]
    }
   ],
   "source": [
    "X2_train, X2_test, y2_train, y2_test = _split_between_train_and_test(df2_, 0.8)"
   ]
  },
  {
   "cell_type": "code",
   "execution_count": 45,
   "metadata": {},
   "outputs": [
    {
     "data": {
      "text/plain": [
       "-0.0006857339951749346"
      ]
     },
     "execution_count": 45,
     "metadata": {},
     "output_type": "execute_result"
    }
   ],
   "source": [
    "model2 = lm.fit(X2_train, y2_train)\n",
    "predictions2 = lm.predict(X2_test)\n",
    "model2.intercept_"
   ]
  },
  {
   "cell_type": "code",
   "execution_count": 46,
   "metadata": {},
   "outputs": [
    {
     "data": {
      "text/plain": [
       "[('C', -1.220757751317345),\n",
       " ('Mn', -0.7838974743036216),\n",
       " ('Si', 0.9413789630864503),\n",
       " ('Cr', -0.2776617315229739),\n",
       " ('Ni', -0.7013287709834604),\n",
       " ('C2', 0.3329909688918003),\n",
       " ('CMn', 0.2674032933365116),\n",
       " ('CSi', -0.2729033317308881),\n",
       " ('CCr', 0.06975535704752955),\n",
       " ('CNi', 0.22153366392716367),\n",
       " ('Mn2', 0.10795614041913491),\n",
       " ('MnSi', -0.16896116194920302),\n",
       " ('MnCr', 0.054295557077035816),\n",
       " ('MnNi', 0.16780715216185896),\n",
       " ('SiCr', -0.07428483966591762),\n",
       " ('SiNi', -0.1884908383554977),\n",
       " ('Cr2', 0.01811702002569679),\n",
       " ('CrNi', 0.05226085211227813),\n",
       " ('Ni2', 0.10078943480438048)]"
      ]
     },
     "execution_count": 46,
     "metadata": {},
     "output_type": "execute_result"
    }
   ],
   "source": [
    "list(zip(X2_test.keys(), model2.coef_))"
   ]
  },
  {
   "cell_type": "code",
   "execution_count": 47,
   "metadata": {},
   "outputs": [
    {
     "data": {
      "image/png": "[encoded data removed]",
      "text/plain": [
       "<Figure size 432x288 with 1 Axes>"
      ]
     },
     "metadata": {},
     "output_type": "display_data"
    }
   ],
   "source": [
    "plt.scatter(y2_test, predictions2)\n",
    "plt.show()"
   ]
  },
  {
   "cell_type": "code",
   "execution_count": 48,
   "metadata": {},
   "outputs": [
    {
     "data": {
      "text/plain": [
       "0.9606989663335671"
      ]
     },
     "execution_count": 48,
     "metadata": {},
     "output_type": "execute_result"
    }
   ],
   "source": [
    "#R2\n",
    "metrics.r2_score(y2_test, predictions2)"
   ]
  },
  {
   "cell_type": "code",
   "execution_count": 49,
   "metadata": {},
   "outputs": [
    {
     "data": {
      "text/plain": [
       "0.19859694441398787"
      ]
     },
     "execution_count": 49,
     "metadata": {},
     "output_type": "execute_result"
    }
   ],
   "source": [
    "#RMSE\n",
    "math.sqrt(metrics.mean_squared_error(y2_test, predictions2))"
   ]
  },
  {
   "cell_type": "markdown",
   "metadata": {},
   "source": [
    "# Summarizing..."
   ]
  },
  {
   "cell_type": "markdown",
   "metadata": {},
   "source": [
    "### Non-standardized"
   ]
  },
  {
   "cell_type": "markdown",
   "metadata": {},
   "source": [
    "|  | Hipo | Hiper |\n",
    "| --- | --- | --- |\n",
    "| R2 |0.9607|0.9971|\n",
    "| RMSE |13.9094|5.2775|"
   ]
  },
  {
   "cell_type": "markdown",
   "metadata": {},
   "source": [
    "### Standardized"
   ]
  },
  {
   "cell_type": "markdown",
   "metadata": {},
   "source": [
    "|  | Hipo | Hiper |\n",
    "| --- | --- | --- |\n",
    "| R2 |0.9607|0.9971|\n",
    "| RMSE |0.1986|0.0547|"
   ]
  },
  {
   "cell_type": "markdown",
   "metadata": {},
   "source": [
    "### Next steps\n",
    "- other metrics: relative percentage error"
   ]
  }
 ],
 "metadata": {
  "kernelspec": {
   "display_name": "Python 3",
   "language": "python",
   "name": "python3"
  },
  "language_info": {
   "codemirror_mode": {
    "name": "ipython",
    "version": 3
   },
   "file_extension": ".py",
   "mimetype": "text/x-python",
   "name": "python",
   "nbconvert_exporter": "python",
   "pygments_lexer": "ipython3",
   "version": "3.5.2"
  }
 },
 "nbformat": 4,
 "nbformat_minor": 2
}
