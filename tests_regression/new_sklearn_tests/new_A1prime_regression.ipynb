{
 "cells": [
  {
   "cell_type": "code",
   "execution_count": 1,
   "metadata": {},
   "outputs": [],
   "source": [
    "import math\n",
    "import pandas as pd\n",
    "import numpy as np\n",
    "import matplotlib.pyplot as plt\n",
    "\n",
    "from sklearn.linear_model import LinearRegression\n",
    "from sklearn.model_selection import train_test_split\n",
    "from sklearn import linear_model\n",
    "from sklearn import metrics\n",
    "\n",
    "import pickle"
   ]
  },
  {
   "cell_type": "markdown",
   "metadata": {},
   "source": [
    "# Preparing dataset"
   ]
  },
  {
   "cell_type": "code",
   "execution_count": 2,
   "metadata": {},
   "outputs": [],
   "source": [
    "def load_dataset(fname):\n",
    "    # read dataset\n",
    "    dataset = pd.read_csv(fname, comment='#')\n",
    "\n",
    "    # compositions to wt.%\n",
    "    dataset.C *= 100\n",
    "    dataset.Mn *= 100\n",
    "    dataset.Si *= 100\n",
    "    dataset.Cr *= 100\n",
    "    dataset.Ni *= 100\n",
    "\n",
    "    # temperatures to oC\n",
    "    dataset.A1 -= 273.15\n",
    "    dataset.A1prime -= 273.15\n",
    "    dataset.A3 -= 273.15\n",
    "\n",
    "    return dataset"
   ]
  },
  {
   "cell_type": "code",
   "execution_count": 3,
   "metadata": {},
   "outputs": [],
   "source": [
    "raw_df = load_dataset('../../databases/Tcritical.csv')\n",
    "raw_df = raw_df.drop(['file', 'macro'], axis=1)\n",
    "#raw_df.head()"
   ]
  },
  {
   "cell_type": "code",
   "execution_count": 4,
   "metadata": {
    "scrolled": true
   },
   "outputs": [
    {
     "data": {
      "text/html": [
       "<div>\n",
       "<style scoped>\n",
       "    .dataframe tbody tr th:only-of-type {\n",
       "        vertical-align: middle;\n",
       "    }\n",
       "\n",
       "    .dataframe tbody tr th {\n",
       "        vertical-align: top;\n",
       "    }\n",
       "\n",
       "    .dataframe thead th {\n",
       "        text-align: right;\n",
       "    }\n",
       "</style>\n",
       "<table border=\"1\" class=\"dataframe\">\n",
       "  <thead>\n",
       "    <tr style=\"text-align: right;\">\n",
       "      <th></th>\n",
       "      <th>C</th>\n",
       "      <th>Mn</th>\n",
       "      <th>Si</th>\n",
       "      <th>Cr</th>\n",
       "      <th>Ni</th>\n",
       "      <th>A1</th>\n",
       "      <th>A1prime</th>\n",
       "      <th>A3</th>\n",
       "      <th>eutectoid</th>\n",
       "      <th>C2</th>\n",
       "      <th>...</th>\n",
       "      <th>CNi</th>\n",
       "      <th>Mn2</th>\n",
       "      <th>MnSi</th>\n",
       "      <th>MnCr</th>\n",
       "      <th>MnNi</th>\n",
       "      <th>SiCr</th>\n",
       "      <th>SiNi</th>\n",
       "      <th>Cr2</th>\n",
       "      <th>CrNi</th>\n",
       "      <th>Ni2</th>\n",
       "    </tr>\n",
       "  </thead>\n",
       "  <tbody>\n",
       "    <tr>\n",
       "      <th>0</th>\n",
       "      <td>0.0</td>\n",
       "      <td>0.0001</td>\n",
       "      <td>1.000000e-08</td>\n",
       "      <td>0.0001</td>\n",
       "      <td>0.000100</td>\n",
       "      <td>NaN</td>\n",
       "      <td>NaN</td>\n",
       "      <td>911.65</td>\n",
       "      <td>hipo</td>\n",
       "      <td>0.0</td>\n",
       "      <td>...</td>\n",
       "      <td>0.0</td>\n",
       "      <td>1.000000e-08</td>\n",
       "      <td>1.000000e-08</td>\n",
       "      <td>1.000000e-08</td>\n",
       "      <td>1.000000e-08</td>\n",
       "      <td>1.000000e-12</td>\n",
       "      <td>1.000000e-12</td>\n",
       "      <td>1.000000e-08</td>\n",
       "      <td>1.000000e-08</td>\n",
       "      <td>1.000000e-08</td>\n",
       "    </tr>\n",
       "    <tr>\n",
       "      <th>1</th>\n",
       "      <td>0.0</td>\n",
       "      <td>0.0001</td>\n",
       "      <td>1.000000e-08</td>\n",
       "      <td>0.0001</td>\n",
       "      <td>0.750075</td>\n",
       "      <td>NaN</td>\n",
       "      <td>NaN</td>\n",
       "      <td>880.26</td>\n",
       "      <td>hipo</td>\n",
       "      <td>0.0</td>\n",
       "      <td>...</td>\n",
       "      <td>0.0</td>\n",
       "      <td>1.000000e-08</td>\n",
       "      <td>1.000000e-08</td>\n",
       "      <td>1.000000e-08</td>\n",
       "      <td>7.500750e-05</td>\n",
       "      <td>1.000000e-12</td>\n",
       "      <td>7.500750e-09</td>\n",
       "      <td>1.000000e-08</td>\n",
       "      <td>7.500750e-05</td>\n",
       "      <td>5.626125e-01</td>\n",
       "    </tr>\n",
       "    <tr>\n",
       "      <th>2</th>\n",
       "      <td>0.0</td>\n",
       "      <td>0.0001</td>\n",
       "      <td>1.000000e-08</td>\n",
       "      <td>0.0001</td>\n",
       "      <td>1.500050</td>\n",
       "      <td>NaN</td>\n",
       "      <td>NaN</td>\n",
       "      <td>853.25</td>\n",
       "      <td>hipo</td>\n",
       "      <td>0.0</td>\n",
       "      <td>...</td>\n",
       "      <td>0.0</td>\n",
       "      <td>1.000000e-08</td>\n",
       "      <td>1.000000e-08</td>\n",
       "      <td>1.000000e-08</td>\n",
       "      <td>1.500050e-04</td>\n",
       "      <td>1.000000e-12</td>\n",
       "      <td>1.500050e-08</td>\n",
       "      <td>1.000000e-08</td>\n",
       "      <td>1.500050e-04</td>\n",
       "      <td>2.250150e+00</td>\n",
       "    </tr>\n",
       "    <tr>\n",
       "      <th>3</th>\n",
       "      <td>0.0</td>\n",
       "      <td>0.0001</td>\n",
       "      <td>1.000000e-08</td>\n",
       "      <td>0.0001</td>\n",
       "      <td>2.250025</td>\n",
       "      <td>NaN</td>\n",
       "      <td>NaN</td>\n",
       "      <td>829.60</td>\n",
       "      <td>hipo</td>\n",
       "      <td>0.0</td>\n",
       "      <td>...</td>\n",
       "      <td>0.0</td>\n",
       "      <td>1.000000e-08</td>\n",
       "      <td>1.000000e-08</td>\n",
       "      <td>1.000000e-08</td>\n",
       "      <td>2.250025e-04</td>\n",
       "      <td>1.000000e-12</td>\n",
       "      <td>2.250025e-08</td>\n",
       "      <td>1.000000e-08</td>\n",
       "      <td>2.250025e-04</td>\n",
       "      <td>5.062613e+00</td>\n",
       "    </tr>\n",
       "    <tr>\n",
       "      <th>4</th>\n",
       "      <td>0.0</td>\n",
       "      <td>0.0001</td>\n",
       "      <td>1.000000e-08</td>\n",
       "      <td>0.0001</td>\n",
       "      <td>3.000000</td>\n",
       "      <td>NaN</td>\n",
       "      <td>NaN</td>\n",
       "      <td>808.65</td>\n",
       "      <td>hipo</td>\n",
       "      <td>0.0</td>\n",
       "      <td>...</td>\n",
       "      <td>0.0</td>\n",
       "      <td>1.000000e-08</td>\n",
       "      <td>1.000000e-08</td>\n",
       "      <td>1.000000e-08</td>\n",
       "      <td>3.000000e-04</td>\n",
       "      <td>1.000000e-12</td>\n",
       "      <td>3.000000e-08</td>\n",
       "      <td>1.000000e-08</td>\n",
       "      <td>3.000000e-04</td>\n",
       "      <td>9.000000e+00</td>\n",
       "    </tr>\n",
       "  </tbody>\n",
       "</table>\n",
       "<p>5 rows × 23 columns</p>\n",
       "</div>"
      ],
      "text/plain": [
       "     C      Mn            Si      Cr        Ni  A1  A1prime      A3 eutectoid  \\\n",
       "0  0.0  0.0001  1.000000e-08  0.0001  0.000100 NaN      NaN  911.65      hipo   \n",
       "1  0.0  0.0001  1.000000e-08  0.0001  0.750075 NaN      NaN  880.26      hipo   \n",
       "2  0.0  0.0001  1.000000e-08  0.0001  1.500050 NaN      NaN  853.25      hipo   \n",
       "3  0.0  0.0001  1.000000e-08  0.0001  2.250025 NaN      NaN  829.60      hipo   \n",
       "4  0.0  0.0001  1.000000e-08  0.0001  3.000000 NaN      NaN  808.65      hipo   \n",
       "\n",
       "    C2      ...       CNi           Mn2          MnSi          MnCr  \\\n",
       "0  0.0      ...       0.0  1.000000e-08  1.000000e-08  1.000000e-08   \n",
       "1  0.0      ...       0.0  1.000000e-08  1.000000e-08  1.000000e-08   \n",
       "2  0.0      ...       0.0  1.000000e-08  1.000000e-08  1.000000e-08   \n",
       "3  0.0      ...       0.0  1.000000e-08  1.000000e-08  1.000000e-08   \n",
       "4  0.0      ...       0.0  1.000000e-08  1.000000e-08  1.000000e-08   \n",
       "\n",
       "           MnNi          SiCr          SiNi           Cr2          CrNi  \\\n",
       "0  1.000000e-08  1.000000e-12  1.000000e-12  1.000000e-08  1.000000e-08   \n",
       "1  7.500750e-05  1.000000e-12  7.500750e-09  1.000000e-08  7.500750e-05   \n",
       "2  1.500050e-04  1.000000e-12  1.500050e-08  1.000000e-08  1.500050e-04   \n",
       "3  2.250025e-04  1.000000e-12  2.250025e-08  1.000000e-08  2.250025e-04   \n",
       "4  3.000000e-04  1.000000e-12  3.000000e-08  1.000000e-08  3.000000e-04   \n",
       "\n",
       "            Ni2  \n",
       "0  1.000000e-08  \n",
       "1  5.626125e-01  \n",
       "2  2.250150e+00  \n",
       "3  5.062613e+00  \n",
       "4  9.000000e+00  \n",
       "\n",
       "[5 rows x 23 columns]"
      ]
     },
     "execution_count": 4,
     "metadata": {},
     "output_type": "execute_result"
    }
   ],
   "source": [
    "df = raw_df.copy()\n",
    "\n",
    "'''\n",
    "Variables\n",
    "C, C**2, C*Mn, C*Si, C*Cr, C*Ni, \n",
    "Mn, Mn**2, Mn*Si, Mn*Cr, Mn*Ni, \n",
    "Si, Si*Si, Si*Cr, Si*Ni, \n",
    "Cr, Cr**2, Cr*Ni,\n",
    "Ni, Ni**2]\n",
    "'''\n",
    "\n",
    "df['C2'] = df['C'].apply(lambda x: x**2)\n",
    "df['CMn'] = df['C'] * df['Mn']\n",
    "df['CSi'] = df['C'] * df['Si']\n",
    "df['CCr'] = df['C'] * df['Cr']\n",
    "df['CNi'] = df['C'] * df['Ni']\n",
    "df['Mn2'] = df['Mn'].apply(lambda x: x**2)\n",
    "df['MnSi'] = df['Si'] * df['Mn']\n",
    "df['MnCr'] = df['Cr'] * df['Mn']\n",
    "df['MnNi'] = df['Ni'] * df['Mn']\n",
    "df['Si'] = df['Si'].apply(lambda x: x**2)\n",
    "df['SiCr'] = df['Cr'] * df['Si']\n",
    "df['SiNi'] = df['Si'] * df['Ni']\n",
    "df['Cr2'] = df['Cr'].apply(lambda x: x**2)\n",
    "df['CrNi'] = df['Cr'] * df['Ni']\n",
    "df['Ni2'] = df['Ni'].apply(lambda x: x**2)\n",
    "\n",
    "df.head()"
   ]
  },
  {
   "cell_type": "markdown",
   "metadata": {},
   "source": [
    "# Preparing A1' dataset"
   ]
  },
  {
   "cell_type": "code",
   "execution_count": 5,
   "metadata": {},
   "outputs": [],
   "source": [
    "df1 = df.copy()\n",
    "df1 = df.drop(['A3', 'A1'], axis=1)\n",
    "is_na = df1['A1prime'].isna() \n",
    "df1 = df1.loc[~is_na, :] #REMOVE ALL A1 NAN\n",
    "df1_ = df1.copy()\n",
    "df1_['eutec'] = (df1_['eutectoid'].map(lambda x: 1 if x == 'hiper' else 0))\n",
    "df1_ = df1_.drop(['eutectoid'], axis=1) #REMOVE EUTECTOID COLLUMN BECAUSE IT'S A STRING\n",
    "#df1_"
   ]
  },
  {
   "cell_type": "code",
   "execution_count": 6,
   "metadata": {},
   "outputs": [
    {
     "data": {
      "text/plain": [
       "1    4339\n",
       "0    1643\n",
       "Name: eutec, dtype: int64"
      ]
     },
     "execution_count": 6,
     "metadata": {},
     "output_type": "execute_result"
    }
   ],
   "source": [
    "df1_['eutec'].value_counts()\n",
    "#1 = hipereutectoid\n",
    "#0 = hipoeutectoid"
   ]
  },
  {
   "cell_type": "code",
   "execution_count": 7,
   "metadata": {},
   "outputs": [
    {
     "data": {
      "text/html": [
       "<div>\n",
       "<style scoped>\n",
       "    .dataframe tbody tr th:only-of-type {\n",
       "        vertical-align: middle;\n",
       "    }\n",
       "\n",
       "    .dataframe tbody tr th {\n",
       "        vertical-align: top;\n",
       "    }\n",
       "\n",
       "    .dataframe thead th {\n",
       "        text-align: right;\n",
       "    }\n",
       "</style>\n",
       "<table border=\"1\" class=\"dataframe\">\n",
       "  <thead>\n",
       "    <tr style=\"text-align: right;\">\n",
       "      <th></th>\n",
       "      <th>C</th>\n",
       "      <th>Mn</th>\n",
       "      <th>Si</th>\n",
       "      <th>Cr</th>\n",
       "      <th>Ni</th>\n",
       "      <th>A1prime</th>\n",
       "      <th>C2</th>\n",
       "      <th>CMn</th>\n",
       "      <th>CSi</th>\n",
       "      <th>CCr</th>\n",
       "      <th>...</th>\n",
       "      <th>Mn2</th>\n",
       "      <th>MnSi</th>\n",
       "      <th>MnCr</th>\n",
       "      <th>MnNi</th>\n",
       "      <th>SiCr</th>\n",
       "      <th>SiNi</th>\n",
       "      <th>Cr2</th>\n",
       "      <th>CrNi</th>\n",
       "      <th>Ni2</th>\n",
       "      <th>eutec</th>\n",
       "    </tr>\n",
       "  </thead>\n",
       "  <tbody>\n",
       "    <tr>\n",
       "      <th>625</th>\n",
       "      <td>0.15</td>\n",
       "      <td>0.0001</td>\n",
       "      <td>1.000000e-08</td>\n",
       "      <td>0.0001</td>\n",
       "      <td>0.000100</td>\n",
       "      <td>726.633</td>\n",
       "      <td>0.0225</td>\n",
       "      <td>0.000015</td>\n",
       "      <td>0.000015</td>\n",
       "      <td>0.000015</td>\n",
       "      <td>...</td>\n",
       "      <td>1.000000e-08</td>\n",
       "      <td>1.000000e-08</td>\n",
       "      <td>1.000000e-08</td>\n",
       "      <td>1.000000e-08</td>\n",
       "      <td>1.000000e-12</td>\n",
       "      <td>1.000000e-12</td>\n",
       "      <td>1.000000e-08</td>\n",
       "      <td>1.000000e-08</td>\n",
       "      <td>1.000000e-08</td>\n",
       "      <td>0</td>\n",
       "    </tr>\n",
       "    <tr>\n",
       "      <th>626</th>\n",
       "      <td>0.15</td>\n",
       "      <td>0.0001</td>\n",
       "      <td>1.000000e-08</td>\n",
       "      <td>0.0001</td>\n",
       "      <td>0.750075</td>\n",
       "      <td>713.041</td>\n",
       "      <td>0.0225</td>\n",
       "      <td>0.000015</td>\n",
       "      <td>0.000015</td>\n",
       "      <td>0.000015</td>\n",
       "      <td>...</td>\n",
       "      <td>1.000000e-08</td>\n",
       "      <td>1.000000e-08</td>\n",
       "      <td>1.000000e-08</td>\n",
       "      <td>7.500750e-05</td>\n",
       "      <td>1.000000e-12</td>\n",
       "      <td>7.500750e-09</td>\n",
       "      <td>1.000000e-08</td>\n",
       "      <td>7.500750e-05</td>\n",
       "      <td>5.626125e-01</td>\n",
       "      <td>0</td>\n",
       "    </tr>\n",
       "    <tr>\n",
       "      <th>627</th>\n",
       "      <td>0.15</td>\n",
       "      <td>0.0001</td>\n",
       "      <td>1.000000e-08</td>\n",
       "      <td>0.0001</td>\n",
       "      <td>1.500050</td>\n",
       "      <td>699.260</td>\n",
       "      <td>0.0225</td>\n",
       "      <td>0.000015</td>\n",
       "      <td>0.000015</td>\n",
       "      <td>0.000015</td>\n",
       "      <td>...</td>\n",
       "      <td>1.000000e-08</td>\n",
       "      <td>1.000000e-08</td>\n",
       "      <td>1.000000e-08</td>\n",
       "      <td>1.500050e-04</td>\n",
       "      <td>1.000000e-12</td>\n",
       "      <td>1.500050e-08</td>\n",
       "      <td>1.000000e-08</td>\n",
       "      <td>1.500050e-04</td>\n",
       "      <td>2.250150e+00</td>\n",
       "      <td>0</td>\n",
       "    </tr>\n",
       "    <tr>\n",
       "      <th>628</th>\n",
       "      <td>0.15</td>\n",
       "      <td>0.0001</td>\n",
       "      <td>1.000000e-08</td>\n",
       "      <td>0.0001</td>\n",
       "      <td>2.250025</td>\n",
       "      <td>685.552</td>\n",
       "      <td>0.0225</td>\n",
       "      <td>0.000015</td>\n",
       "      <td>0.000015</td>\n",
       "      <td>0.000015</td>\n",
       "      <td>...</td>\n",
       "      <td>1.000000e-08</td>\n",
       "      <td>1.000000e-08</td>\n",
       "      <td>1.000000e-08</td>\n",
       "      <td>2.250025e-04</td>\n",
       "      <td>1.000000e-12</td>\n",
       "      <td>2.250025e-08</td>\n",
       "      <td>1.000000e-08</td>\n",
       "      <td>2.250025e-04</td>\n",
       "      <td>5.062613e+00</td>\n",
       "      <td>0</td>\n",
       "    </tr>\n",
       "    <tr>\n",
       "      <th>629</th>\n",
       "      <td>0.15</td>\n",
       "      <td>0.0001</td>\n",
       "      <td>1.000000e-08</td>\n",
       "      <td>0.0001</td>\n",
       "      <td>3.000000</td>\n",
       "      <td>672.221</td>\n",
       "      <td>0.0225</td>\n",
       "      <td>0.000015</td>\n",
       "      <td>0.000015</td>\n",
       "      <td>0.000015</td>\n",
       "      <td>...</td>\n",
       "      <td>1.000000e-08</td>\n",
       "      <td>1.000000e-08</td>\n",
       "      <td>1.000000e-08</td>\n",
       "      <td>3.000000e-04</td>\n",
       "      <td>1.000000e-12</td>\n",
       "      <td>3.000000e-08</td>\n",
       "      <td>1.000000e-08</td>\n",
       "      <td>3.000000e-04</td>\n",
       "      <td>9.000000e+00</td>\n",
       "      <td>0</td>\n",
       "    </tr>\n",
       "  </tbody>\n",
       "</table>\n",
       "<p>5 rows × 21 columns</p>\n",
       "</div>"
      ],
      "text/plain": [
       "        C      Mn            Si      Cr        Ni  A1prime      C2       CMn  \\\n",
       "625  0.15  0.0001  1.000000e-08  0.0001  0.000100  726.633  0.0225  0.000015   \n",
       "626  0.15  0.0001  1.000000e-08  0.0001  0.750075  713.041  0.0225  0.000015   \n",
       "627  0.15  0.0001  1.000000e-08  0.0001  1.500050  699.260  0.0225  0.000015   \n",
       "628  0.15  0.0001  1.000000e-08  0.0001  2.250025  685.552  0.0225  0.000015   \n",
       "629  0.15  0.0001  1.000000e-08  0.0001  3.000000  672.221  0.0225  0.000015   \n",
       "\n",
       "          CSi       CCr  ...             Mn2          MnSi          MnCr  \\\n",
       "625  0.000015  0.000015  ...    1.000000e-08  1.000000e-08  1.000000e-08   \n",
       "626  0.000015  0.000015  ...    1.000000e-08  1.000000e-08  1.000000e-08   \n",
       "627  0.000015  0.000015  ...    1.000000e-08  1.000000e-08  1.000000e-08   \n",
       "628  0.000015  0.000015  ...    1.000000e-08  1.000000e-08  1.000000e-08   \n",
       "629  0.000015  0.000015  ...    1.000000e-08  1.000000e-08  1.000000e-08   \n",
       "\n",
       "             MnNi          SiCr          SiNi           Cr2          CrNi  \\\n",
       "625  1.000000e-08  1.000000e-12  1.000000e-12  1.000000e-08  1.000000e-08   \n",
       "626  7.500750e-05  1.000000e-12  7.500750e-09  1.000000e-08  7.500750e-05   \n",
       "627  1.500050e-04  1.000000e-12  1.500050e-08  1.000000e-08  1.500050e-04   \n",
       "628  2.250025e-04  1.000000e-12  2.250025e-08  1.000000e-08  2.250025e-04   \n",
       "629  3.000000e-04  1.000000e-12  3.000000e-08  1.000000e-08  3.000000e-04   \n",
       "\n",
       "              Ni2  eutec  \n",
       "625  1.000000e-08      0  \n",
       "626  5.626125e-01      0  \n",
       "627  2.250150e+00      0  \n",
       "628  5.062613e+00      0  \n",
       "629  9.000000e+00      0  \n",
       "\n",
       "[5 rows x 21 columns]"
      ]
     },
     "execution_count": 7,
     "metadata": {},
     "output_type": "execute_result"
    }
   ],
   "source": [
    "df1_.head()"
   ]
  },
  {
   "cell_type": "code",
   "execution_count": 8,
   "metadata": {},
   "outputs": [],
   "source": [
    "hiper = df1_['eutec'] == 1\n",
    "hipo = df1_['eutec'] == 0\n",
    "\n",
    "df_hiper = df1_.loc[hiper, :]\n",
    "df_hipo = df1_.loc[hipo, :]"
   ]
  },
  {
   "cell_type": "code",
   "execution_count": 9,
   "metadata": {},
   "outputs": [
    {
     "data": {
      "text/plain": [
       "(4339, 21)"
      ]
     },
     "execution_count": 9,
     "metadata": {},
     "output_type": "execute_result"
    }
   ],
   "source": [
    "df_hiper.shape"
   ]
  },
  {
   "cell_type": "code",
   "execution_count": 10,
   "metadata": {},
   "outputs": [
    {
     "data": {
      "text/plain": [
       "(1643, 21)"
      ]
     },
     "execution_count": 10,
     "metadata": {},
     "output_type": "execute_result"
    }
   ],
   "source": [
    "df_hipo.shape"
   ]
  },
  {
   "cell_type": "markdown",
   "metadata": {},
   "source": [
    "# A1' Regression"
   ]
  },
  {
   "cell_type": "code",
   "execution_count": 11,
   "metadata": {},
   "outputs": [],
   "source": [
    "def _split_between_train_and_test(df, size):\n",
    "    #train size may be 0.8, 0.7 or 0.99\n",
    "    target = df['A1prime']\n",
    "    features = df.iloc[:, :20]\n",
    "    X_train, X_test, y_train, y_test = train_test_split(\n",
    "        features,\n",
    "        target,\n",
    "        train_size=size,\n",
    "        random_state=42\n",
    "    )\n",
    "    \n",
    "    X_train = X_train.drop(['A1prime'], axis=1)\n",
    "    X_test = X_test.drop(['A1prime'], axis=1)\n",
    "    \n",
    "    print('Train size: {}'.format(X_train.shape))\n",
    "    print('Test size: {}'.format(X_test.shape))\n",
    "    return X_train, X_test, y_train, y_test"
   ]
  },
  {
   "cell_type": "markdown",
   "metadata": {},
   "source": [
    "## Hipereutectoid"
   ]
  },
  {
   "cell_type": "code",
   "execution_count": 12,
   "metadata": {
    "scrolled": true
   },
   "outputs": [
    {
     "name": "stdout",
     "output_type": "stream",
     "text": [
      "Train size: (3471, 19)\n",
      "Test size: (868, 19)\n"
     ]
    },
    {
     "name": "stderr",
     "output_type": "stream",
     "text": [
      "/home/paula/.local/lib/python3.5/site-packages/sklearn/model_selection/_split.py:2026: FutureWarning: From version 0.21, test_size will always complement train_size unless both are specified.\n",
      "  FutureWarning)\n"
     ]
    }
   ],
   "source": [
    "X_train, X_test, y_train, y_test = _split_between_train_and_test(df_hiper, 0.8)"
   ]
  },
  {
   "cell_type": "code",
   "execution_count": 13,
   "metadata": {},
   "outputs": [
    {
     "data": {
      "text/html": [
       "<div>\n",
       "<style scoped>\n",
       "    .dataframe tbody tr th:only-of-type {\n",
       "        vertical-align: middle;\n",
       "    }\n",
       "\n",
       "    .dataframe tbody tr th {\n",
       "        vertical-align: top;\n",
       "    }\n",
       "\n",
       "    .dataframe thead th {\n",
       "        text-align: right;\n",
       "    }\n",
       "</style>\n",
       "<table border=\"1\" class=\"dataframe\">\n",
       "  <thead>\n",
       "    <tr style=\"text-align: right;\">\n",
       "      <th></th>\n",
       "      <th>C</th>\n",
       "      <th>Mn</th>\n",
       "      <th>Si</th>\n",
       "      <th>Cr</th>\n",
       "      <th>Ni</th>\n",
       "      <th>C2</th>\n",
       "      <th>CMn</th>\n",
       "      <th>CSi</th>\n",
       "      <th>CCr</th>\n",
       "      <th>CNi</th>\n",
       "      <th>Mn2</th>\n",
       "      <th>MnSi</th>\n",
       "      <th>MnCr</th>\n",
       "      <th>MnNi</th>\n",
       "      <th>SiCr</th>\n",
       "      <th>SiNi</th>\n",
       "      <th>Cr2</th>\n",
       "      <th>CrNi</th>\n",
       "      <th>Ni2</th>\n",
       "    </tr>\n",
       "  </thead>\n",
       "  <tbody>\n",
       "    <tr>\n",
       "      <th>2287</th>\n",
       "      <td>0.45</td>\n",
       "      <td>2.250025</td>\n",
       "      <td>0.562613</td>\n",
       "      <td>1.50005</td>\n",
       "      <td>1.500050</td>\n",
       "      <td>0.2025</td>\n",
       "      <td>1.012511</td>\n",
       "      <td>0.337534</td>\n",
       "      <td>0.675022</td>\n",
       "      <td>0.675022</td>\n",
       "      <td>5.062613e+00</td>\n",
       "      <td>1.687688</td>\n",
       "      <td>3.375150</td>\n",
       "      <td>3.375150e+00</td>\n",
       "      <td>0.843947</td>\n",
       "      <td>0.843947</td>\n",
       "      <td>2.250150e+00</td>\n",
       "      <td>2.250150</td>\n",
       "      <td>2.250150e+00</td>\n",
       "    </tr>\n",
       "    <tr>\n",
       "      <th>3235</th>\n",
       "      <td>0.75</td>\n",
       "      <td>0.000100</td>\n",
       "      <td>9.000000</td>\n",
       "      <td>1.50005</td>\n",
       "      <td>0.000100</td>\n",
       "      <td>0.5625</td>\n",
       "      <td>0.000075</td>\n",
       "      <td>2.250000</td>\n",
       "      <td>1.125037</td>\n",
       "      <td>0.000075</td>\n",
       "      <td>1.000000e-08</td>\n",
       "      <td>0.000300</td>\n",
       "      <td>0.000150</td>\n",
       "      <td>1.000000e-08</td>\n",
       "      <td>13.500450</td>\n",
       "      <td>0.000900</td>\n",
       "      <td>2.250150e+00</td>\n",
       "      <td>0.000150</td>\n",
       "      <td>1.000000e-08</td>\n",
       "    </tr>\n",
       "    <tr>\n",
       "      <th>4461</th>\n",
       "      <td>1.05</td>\n",
       "      <td>0.000100</td>\n",
       "      <td>5.062613</td>\n",
       "      <td>1.50005</td>\n",
       "      <td>0.750075</td>\n",
       "      <td>1.1025</td>\n",
       "      <td>0.000105</td>\n",
       "      <td>2.362526</td>\n",
       "      <td>1.575052</td>\n",
       "      <td>0.787579</td>\n",
       "      <td>1.000000e-08</td>\n",
       "      <td>0.000225</td>\n",
       "      <td>0.000150</td>\n",
       "      <td>7.500750e-05</td>\n",
       "      <td>7.594172</td>\n",
       "      <td>3.797339</td>\n",
       "      <td>2.250150e+00</td>\n",
       "      <td>1.125150</td>\n",
       "      <td>5.626125e-01</td>\n",
       "    </tr>\n",
       "    <tr>\n",
       "      <th>3296</th>\n",
       "      <td>0.75</td>\n",
       "      <td>0.750075</td>\n",
       "      <td>0.562613</td>\n",
       "      <td>3.00000</td>\n",
       "      <td>0.750075</td>\n",
       "      <td>0.5625</td>\n",
       "      <td>0.562556</td>\n",
       "      <td>0.562556</td>\n",
       "      <td>2.250000</td>\n",
       "      <td>0.562556</td>\n",
       "      <td>5.626125e-01</td>\n",
       "      <td>0.562613</td>\n",
       "      <td>2.250225</td>\n",
       "      <td>5.626125e-01</td>\n",
       "      <td>1.687838</td>\n",
       "      <td>0.422002</td>\n",
       "      <td>9.000000e+00</td>\n",
       "      <td>2.250225</td>\n",
       "      <td>5.626125e-01</td>\n",
       "    </tr>\n",
       "    <tr>\n",
       "      <th>6777</th>\n",
       "      <td>1.50</td>\n",
       "      <td>3.000000</td>\n",
       "      <td>0.562613</td>\n",
       "      <td>0.00010</td>\n",
       "      <td>1.500050</td>\n",
       "      <td>2.2500</td>\n",
       "      <td>4.500000</td>\n",
       "      <td>1.125112</td>\n",
       "      <td>0.000150</td>\n",
       "      <td>2.250075</td>\n",
       "      <td>9.000000e+00</td>\n",
       "      <td>2.250225</td>\n",
       "      <td>0.000300</td>\n",
       "      <td>4.500150e+00</td>\n",
       "      <td>0.000056</td>\n",
       "      <td>0.843947</td>\n",
       "      <td>1.000000e-08</td>\n",
       "      <td>0.000150</td>\n",
       "      <td>2.250150e+00</td>\n",
       "    </tr>\n",
       "  </tbody>\n",
       "</table>\n",
       "</div>"
      ],
      "text/plain": [
       "         C        Mn        Si       Cr        Ni      C2       CMn       CSi  \\\n",
       "2287  0.45  2.250025  0.562613  1.50005  1.500050  0.2025  1.012511  0.337534   \n",
       "3235  0.75  0.000100  9.000000  1.50005  0.000100  0.5625  0.000075  2.250000   \n",
       "4461  1.05  0.000100  5.062613  1.50005  0.750075  1.1025  0.000105  2.362526   \n",
       "3296  0.75  0.750075  0.562613  3.00000  0.750075  0.5625  0.562556  0.562556   \n",
       "6777  1.50  3.000000  0.562613  0.00010  1.500050  2.2500  4.500000  1.125112   \n",
       "\n",
       "           CCr       CNi           Mn2      MnSi      MnCr          MnNi  \\\n",
       "2287  0.675022  0.675022  5.062613e+00  1.687688  3.375150  3.375150e+00   \n",
       "3235  1.125037  0.000075  1.000000e-08  0.000300  0.000150  1.000000e-08   \n",
       "4461  1.575052  0.787579  1.000000e-08  0.000225  0.000150  7.500750e-05   \n",
       "3296  2.250000  0.562556  5.626125e-01  0.562613  2.250225  5.626125e-01   \n",
       "6777  0.000150  2.250075  9.000000e+00  2.250225  0.000300  4.500150e+00   \n",
       "\n",
       "           SiCr      SiNi           Cr2      CrNi           Ni2  \n",
       "2287   0.843947  0.843947  2.250150e+00  2.250150  2.250150e+00  \n",
       "3235  13.500450  0.000900  2.250150e+00  0.000150  1.000000e-08  \n",
       "4461   7.594172  3.797339  2.250150e+00  1.125150  5.626125e-01  \n",
       "3296   1.687838  0.422002  9.000000e+00  2.250225  5.626125e-01  \n",
       "6777   0.000056  0.843947  1.000000e-08  0.000150  2.250150e+00  "
      ]
     },
     "execution_count": 13,
     "metadata": {},
     "output_type": "execute_result"
    }
   ],
   "source": [
    "X_train.head()"
   ]
  },
  {
   "cell_type": "code",
   "execution_count": 14,
   "metadata": {
    "scrolled": true
   },
   "outputs": [
    {
     "data": {
      "text/plain": [
       "6512    706.281\n",
       "3781    743.560\n",
       "5199    729.550\n",
       "1574    730.540\n",
       "4044    708.972\n",
       "Name: A1prime, dtype: float64"
      ]
     },
     "execution_count": 14,
     "metadata": {},
     "output_type": "execute_result"
    }
   ],
   "source": [
    "y_test.head()"
   ]
  },
  {
   "cell_type": "code",
   "execution_count": 15,
   "metadata": {},
   "outputs": [
    {
     "data": {
      "text/plain": [
       "2287    718.967\n",
       "3235    817.730\n",
       "4461    785.390\n",
       "3296    752.430\n",
       "6777    699.755\n",
       "Name: A1prime, dtype: float64"
      ]
     },
     "execution_count": 15,
     "metadata": {},
     "output_type": "execute_result"
    }
   ],
   "source": [
    "y_train.head()"
   ]
  },
  {
   "cell_type": "code",
   "execution_count": 16,
   "metadata": {},
   "outputs": [
    {
     "data": {
      "text/plain": [
       "753.6549526120252"
      ]
     },
     "execution_count": 16,
     "metadata": {},
     "output_type": "execute_result"
    }
   ],
   "source": [
    "lm = linear_model.LinearRegression()\n",
    "model = lm.fit(X_train, y_train)\n",
    "predictions = lm.predict(X_test)\n",
    "model.intercept_\n",
    "\n",
    "# predictor = LinearRegression(n_jobs=-1, normalize=True)\n",
    "# estimator = predictor.fit(X_train, y_train)\n",
    "# estimator.intercept_"
   ]
  },
  {
   "cell_type": "code",
   "execution_count": 17,
   "metadata": {
    "scrolled": true
   },
   "outputs": [
    {
     "data": {
      "text/plain": [
       "[('C', -24.416955239138147),\n",
       " ('Mn', -12.865436436987917),\n",
       " ('Si', 4.649427856475851),\n",
       " ('Cr', 12.816993102541353),\n",
       " ('Ni', -10.075622965616523),\n",
       " ('C2', 5.994638337513171),\n",
       " ('CMn', 2.241343991622389),\n",
       " ('CSi', 9.812705163691138),\n",
       " ('CCr', -3.502256357571804),\n",
       " ('CNi', -1.6750145677924388),\n",
       " ('Mn2', 0.1680125619079238),\n",
       " ('MnSi', -1.476995004189296),\n",
       " ('MnCr', -0.7850590380589635),\n",
       " ('MnNi', 0.4814002115770988),\n",
       " ('SiCr', 0.06835106813771219),\n",
       " ('SiNi', -0.4009927460785456),\n",
       " ('Cr2', -0.5305237148628894),\n",
       " ('CrNi', -0.61316048840298),\n",
       " ('Ni2', 0.09240001582552448)]"
      ]
     },
     "execution_count": 17,
     "metadata": {},
     "output_type": "execute_result"
    }
   ],
   "source": [
    "list(zip(X_test.keys(), model.coef_))"
   ]
  },
  {
   "cell_type": "code",
   "execution_count": 19,
   "metadata": {},
   "outputs": [],
   "source": [
    "# fit a model\n",
    "lm = linear_model.LinearRegression()\n",
    "model = lm.fit(X_train, y_train)\n",
    "filename = 'models/A1prime_hiper.sav'\n",
    "pickle.dump(model, open(filename, 'wb'))\n",
    "predictions = lm.predict(X_test)"
   ]
  },
  {
   "cell_type": "markdown",
   "metadata": {},
   "source": [
    "### The line / model"
   ]
  },
  {
   "cell_type": "code",
   "execution_count": 19,
   "metadata": {},
   "outputs": [
    {
     "data": {
      "image/png": "[encoded data removed]",
      "text/plain": [
       "<Figure size 432x288 with 1 Axes>"
      ]
     },
     "metadata": {
      "needs_background": "light"
     },
     "output_type": "display_data"
    }
   ],
   "source": [
    "# plt.scatter(y_test, predictions)\n",
    "# plt.xlabel('True_Values')\n",
    "# plt.ylabel('Predictions')\n",
    "# plt.title('A1prime Hipereutectoid non-standardized')\n",
    "# plt.show()\n",
    "\n",
    "fig, ax = plt.subplots()\n",
    "ax.scatter(y_test, predictions)\n",
    "lims = [\n",
    "    np.min([ax.get_xlim(), ax.get_ylim()]),  # min of both axes\n",
    "    np.max([ax.get_xlim(), ax.get_ylim()]),  # max of both axes\n",
    "]\n",
    "ax.plot(lims, lims, 'r-', alpha=0.75, color='black')\n",
    "ax.set_aspect('equal')\n",
    "ax.set_xlim(lims)\n",
    "ax.set_ylim(lims)\n",
    "ax.set_xlabel('Valor esperado')\n",
    "ax.set_ylabel('Valor predito')\n",
    "ax.set_title('A1\\' Hipereutetóide')\n",
    "plt.savefig('img/A1prime_hiper.png')"
   ]
  },
  {
   "cell_type": "code",
   "execution_count": 20,
   "metadata": {},
   "outputs": [
    {
     "data": {
      "text/plain": [
       "0.9934436868975275"
      ]
     },
     "execution_count": 20,
     "metadata": {},
     "output_type": "execute_result"
    }
   ],
   "source": [
    "metrics.r2_score(y_test, predictions)"
   ]
  },
  {
   "cell_type": "code",
   "execution_count": 21,
   "metadata": {},
   "outputs": [
    {
     "data": {
      "text/plain": [
       "2.466923661400628"
      ]
     },
     "execution_count": 21,
     "metadata": {},
     "output_type": "execute_result"
    }
   ],
   "source": [
    "#RMSE\n",
    "math.sqrt(metrics.mean_squared_error(y_test, predictions))"
   ]
  },
  {
   "cell_type": "markdown",
   "metadata": {
    "collapsed": true
   },
   "source": [
    "## Hipoeutectoid"
   ]
  },
  {
   "cell_type": "code",
   "execution_count": 20,
   "metadata": {
    "scrolled": false
   },
   "outputs": [
    {
     "name": "stdout",
     "output_type": "stream",
     "text": [
      "Train size: (1314, 19)\n",
      "Test size: (329, 19)\n"
     ]
    }
   ],
   "source": [
    "X_train, X_test, y_train, y_test = _split_between_train_and_test(df_hipo, 0.8)"
   ]
  },
  {
   "cell_type": "code",
   "execution_count": 21,
   "metadata": {},
   "outputs": [
    {
     "data": {
      "text/html": [
       "<div>\n",
       "<style scoped>\n",
       "    .dataframe tbody tr th:only-of-type {\n",
       "        vertical-align: middle;\n",
       "    }\n",
       "\n",
       "    .dataframe tbody tr th {\n",
       "        vertical-align: top;\n",
       "    }\n",
       "\n",
       "    .dataframe thead th {\n",
       "        text-align: right;\n",
       "    }\n",
       "</style>\n",
       "<table border=\"1\" class=\"dataframe\">\n",
       "  <thead>\n",
       "    <tr style=\"text-align: right;\">\n",
       "      <th></th>\n",
       "      <th>C</th>\n",
       "      <th>Mn</th>\n",
       "      <th>Si</th>\n",
       "      <th>Cr</th>\n",
       "      <th>Ni</th>\n",
       "      <th>C2</th>\n",
       "      <th>CMn</th>\n",
       "      <th>CSi</th>\n",
       "      <th>CCr</th>\n",
       "      <th>CNi</th>\n",
       "      <th>Mn2</th>\n",
       "      <th>MnSi</th>\n",
       "      <th>MnCr</th>\n",
       "      <th>MnNi</th>\n",
       "      <th>SiCr</th>\n",
       "      <th>SiNi</th>\n",
       "      <th>Cr2</th>\n",
       "      <th>CrNi</th>\n",
       "      <th>Ni2</th>\n",
       "    </tr>\n",
       "  </thead>\n",
       "  <tbody>\n",
       "    <tr>\n",
       "      <th>1450</th>\n",
       "      <td>0.30</td>\n",
       "      <td>0.750075</td>\n",
       "      <td>5.062613</td>\n",
       "      <td>0.000100</td>\n",
       "      <td>0.000100</td>\n",
       "      <td>0.0900</td>\n",
       "      <td>0.225022</td>\n",
       "      <td>0.675007</td>\n",
       "      <td>0.000030</td>\n",
       "      <td>0.000030</td>\n",
       "      <td>5.626125e-01</td>\n",
       "      <td>1.687688</td>\n",
       "      <td>7.500750e-05</td>\n",
       "      <td>7.500750e-05</td>\n",
       "      <td>0.000506</td>\n",
       "      <td>0.000506</td>\n",
       "      <td>1.000000e-08</td>\n",
       "      <td>1.000000e-08</td>\n",
       "      <td>1.000000e-08</td>\n",
       "    </tr>\n",
       "    <tr>\n",
       "      <th>2077</th>\n",
       "      <td>0.45</td>\n",
       "      <td>0.750075</td>\n",
       "      <td>5.062613</td>\n",
       "      <td>0.000100</td>\n",
       "      <td>1.500050</td>\n",
       "      <td>0.2025</td>\n",
       "      <td>0.337534</td>\n",
       "      <td>1.012511</td>\n",
       "      <td>0.000045</td>\n",
       "      <td>0.675022</td>\n",
       "      <td>5.626125e-01</td>\n",
       "      <td>1.687688</td>\n",
       "      <td>7.500750e-05</td>\n",
       "      <td>1.125150e+00</td>\n",
       "      <td>0.000506</td>\n",
       "      <td>7.594172</td>\n",
       "      <td>1.000000e-08</td>\n",
       "      <td>1.500050e-04</td>\n",
       "      <td>2.250150e+00</td>\n",
       "    </tr>\n",
       "    <tr>\n",
       "      <th>1709</th>\n",
       "      <td>0.30</td>\n",
       "      <td>2.250025</td>\n",
       "      <td>5.062613</td>\n",
       "      <td>0.750075</td>\n",
       "      <td>3.000000</td>\n",
       "      <td>0.0900</td>\n",
       "      <td>0.675007</td>\n",
       "      <td>0.675007</td>\n",
       "      <td>0.225022</td>\n",
       "      <td>0.900000</td>\n",
       "      <td>5.062613e+00</td>\n",
       "      <td>5.062613</td>\n",
       "      <td>1.687688e+00</td>\n",
       "      <td>6.750075e+00</td>\n",
       "      <td>3.797339</td>\n",
       "      <td>15.187838</td>\n",
       "      <td>5.626125e-01</td>\n",
       "      <td>2.250225e+00</td>\n",
       "      <td>9.000000e+00</td>\n",
       "    </tr>\n",
       "    <tr>\n",
       "      <th>1838</th>\n",
       "      <td>0.30</td>\n",
       "      <td>3.000000</td>\n",
       "      <td>5.062613</td>\n",
       "      <td>1.500050</td>\n",
       "      <td>2.250025</td>\n",
       "      <td>0.0900</td>\n",
       "      <td>0.900000</td>\n",
       "      <td>0.675007</td>\n",
       "      <td>0.450015</td>\n",
       "      <td>0.675007</td>\n",
       "      <td>9.000000e+00</td>\n",
       "      <td>6.750075</td>\n",
       "      <td>4.500150e+00</td>\n",
       "      <td>6.750075e+00</td>\n",
       "      <td>7.594172</td>\n",
       "      <td>11.391005</td>\n",
       "      <td>2.250150e+00</td>\n",
       "      <td>3.375150e+00</td>\n",
       "      <td>5.062613e+00</td>\n",
       "    </tr>\n",
       "    <tr>\n",
       "      <th>1350</th>\n",
       "      <td>0.30</td>\n",
       "      <td>0.000100</td>\n",
       "      <td>9.000000</td>\n",
       "      <td>0.000100</td>\n",
       "      <td>0.000100</td>\n",
       "      <td>0.0900</td>\n",
       "      <td>0.000030</td>\n",
       "      <td>0.900000</td>\n",
       "      <td>0.000030</td>\n",
       "      <td>0.000030</td>\n",
       "      <td>1.000000e-08</td>\n",
       "      <td>0.000300</td>\n",
       "      <td>1.000000e-08</td>\n",
       "      <td>1.000000e-08</td>\n",
       "      <td>0.000900</td>\n",
       "      <td>0.000900</td>\n",
       "      <td>1.000000e-08</td>\n",
       "      <td>1.000000e-08</td>\n",
       "      <td>1.000000e-08</td>\n",
       "    </tr>\n",
       "  </tbody>\n",
       "</table>\n",
       "</div>"
      ],
      "text/plain": [
       "         C        Mn        Si        Cr        Ni      C2       CMn  \\\n",
       "1450  0.30  0.750075  5.062613  0.000100  0.000100  0.0900  0.225022   \n",
       "2077  0.45  0.750075  5.062613  0.000100  1.500050  0.2025  0.337534   \n",
       "1709  0.30  2.250025  5.062613  0.750075  3.000000  0.0900  0.675007   \n",
       "1838  0.30  3.000000  5.062613  1.500050  2.250025  0.0900  0.900000   \n",
       "1350  0.30  0.000100  9.000000  0.000100  0.000100  0.0900  0.000030   \n",
       "\n",
       "           CSi       CCr       CNi           Mn2      MnSi          MnCr  \\\n",
       "1450  0.675007  0.000030  0.000030  5.626125e-01  1.687688  7.500750e-05   \n",
       "2077  1.012511  0.000045  0.675022  5.626125e-01  1.687688  7.500750e-05   \n",
       "1709  0.675007  0.225022  0.900000  5.062613e+00  5.062613  1.687688e+00   \n",
       "1838  0.675007  0.450015  0.675007  9.000000e+00  6.750075  4.500150e+00   \n",
       "1350  0.900000  0.000030  0.000030  1.000000e-08  0.000300  1.000000e-08   \n",
       "\n",
       "              MnNi      SiCr       SiNi           Cr2          CrNi  \\\n",
       "1450  7.500750e-05  0.000506   0.000506  1.000000e-08  1.000000e-08   \n",
       "2077  1.125150e+00  0.000506   7.594172  1.000000e-08  1.500050e-04   \n",
       "1709  6.750075e+00  3.797339  15.187838  5.626125e-01  2.250225e+00   \n",
       "1838  6.750075e+00  7.594172  11.391005  2.250150e+00  3.375150e+00   \n",
       "1350  1.000000e-08  0.000900   0.000900  1.000000e-08  1.000000e-08   \n",
       "\n",
       "               Ni2  \n",
       "1450  1.000000e-08  \n",
       "2077  2.250150e+00  \n",
       "1709  9.000000e+00  \n",
       "1838  5.062613e+00  \n",
       "1350  1.000000e-08  "
      ]
     },
     "execution_count": 21,
     "metadata": {},
     "output_type": "execute_result"
    }
   ],
   "source": [
    "X_train.head()"
   ]
  },
  {
   "cell_type": "code",
   "execution_count": 22,
   "metadata": {
    "scrolled": true
   },
   "outputs": [
    {
     "data": {
      "text/plain": [
       "1306    756.050\n",
       "1775    689.570\n",
       "2076    749.760\n",
       "1233    686.194\n",
       "2225    765.060\n",
       "Name: A1prime, dtype: float64"
      ]
     },
     "execution_count": 22,
     "metadata": {},
     "output_type": "execute_result"
    }
   ],
   "source": [
    "y_test.head()"
   ]
  },
  {
   "cell_type": "code",
   "execution_count": 23,
   "metadata": {},
   "outputs": [
    {
     "data": {
      "text/plain": [
       "1450    754.590\n",
       "2077    739.600\n",
       "1709    704.307\n",
       "1838    715.578\n",
       "1350    787.630\n",
       "Name: A1prime, dtype: float64"
      ]
     },
     "execution_count": 23,
     "metadata": {},
     "output_type": "execute_result"
    }
   ],
   "source": [
    "y_train.head()"
   ]
  },
  {
   "cell_type": "code",
   "execution_count": 24,
   "metadata": {},
   "outputs": [
    {
     "data": {
      "text/plain": [
       "689.1687655138876"
      ]
     },
     "execution_count": 24,
     "metadata": {},
     "output_type": "execute_result"
    }
   ],
   "source": [
    "lm = linear_model.LinearRegression()\n",
    "model = lm.fit(X_train, y_train)\n",
    "predictions = lm.predict(X_test)\n",
    "model.intercept_\n",
    "\n",
    "# predictor = LinearRegression(n_jobs=-1, normalize=True)\n",
    "# estimator = predictor.fit(X_train, y_train)\n",
    "# estimator.intercept_"
   ]
  },
  {
   "cell_type": "code",
   "execution_count": 25,
   "metadata": {
    "scrolled": true
   },
   "outputs": [
    {
     "data": {
      "text/plain": [
       "[('C', 256.65884260459745),\n",
       " ('Mn', -27.182339675845846),\n",
       " ('Si', 3.542103739133628),\n",
       " ('Cr', 42.71137744052649),\n",
       " ('Ni', -14.561281230961477),\n",
       " ('C2', -302.8765594014187),\n",
       " ('CMn', 18.334673538978528),\n",
       " ('CSi', 20.988732126980615),\n",
       " ('CCr', -56.18308771491146),\n",
       " ('CNi', -4.289402049054994),\n",
       " ('Mn2', 1.0852997215795648),\n",
       " ('MnSi', -0.834518784848119),\n",
       " ('MnCr', 0.3190480555892541),\n",
       " ('MnNi', 1.7433451490331051),\n",
       " ('SiCr', 0.17979376333527686),\n",
       " ('SiNi', -0.24779304763548216),\n",
       " ('Cr2', -4.571017455822069),\n",
       " ('CrNi', -1.0247055590785012),\n",
       " ('Ni2', 0.40985988460564293)]"
      ]
     },
     "execution_count": 25,
     "metadata": {},
     "output_type": "execute_result"
    }
   ],
   "source": [
    "list(zip(X_test.keys(), model.coef_))"
   ]
  },
  {
   "cell_type": "code",
   "execution_count": 26,
   "metadata": {},
   "outputs": [],
   "source": [
    "# fit a model\n",
    "lm = linear_model.LinearRegression()\n",
    "model = lm.fit(X_train, y_train)\n",
    "filename = 'models/A1prime_hipo.sav'\n",
    "pickle.dump(model, open(filename, 'wb'))\n",
    "predictions = lm.predict(X_test)"
   ]
  },
  {
   "cell_type": "markdown",
   "metadata": {},
   "source": [
    "### The line / model"
   ]
  },
  {
   "cell_type": "code",
   "execution_count": 29,
   "metadata": {},
   "outputs": [
    {
     "data": {
      "image/png": "[encoded data removed]",
      "text/plain": [
       "<Figure size 432x288 with 1 Axes>"
      ]
     },
     "metadata": {
      "needs_background": "light"
     },
     "output_type": "display_data"
    }
   ],
   "source": [
    "# plt.scatter(y_test, predictions)\n",
    "# plt.xlabel('True_Values')\n",
    "# plt.ylabel('Predictions')\n",
    "# plt.title('A1prime Hipoeutectoid non-standardized')\n",
    "# plt.show()\n",
    "\n",
    "fig, ax = plt.subplots()\n",
    "ax.scatter(y_test, predictions)\n",
    "lims = [\n",
    "    np.min([ax.get_xlim(), ax.get_ylim()]),  # min of both axes\n",
    "    np.max([ax.get_xlim(), ax.get_ylim()]),  # max of both axes\n",
    "]\n",
    "ax.plot(lims, lims, 'r-', alpha=0.75, color='black')\n",
    "ax.set_aspect('equal')\n",
    "ax.set_xlim(lims)\n",
    "ax.set_ylim(lims)\n",
    "ax.set_xlabel('Valor esperado')\n",
    "ax.set_ylabel('Valor predito')\n",
    "ax.set_title('A1\\' Hipoeutetóide')\n",
    "plt.savefig('img/A1prime_hipo.png')"
   ]
  },
  {
   "cell_type": "code",
   "execution_count": 30,
   "metadata": {},
   "outputs": [
    {
     "data": {
      "text/plain": [
       "0.9743263464131865"
      ]
     },
     "execution_count": 30,
     "metadata": {},
     "output_type": "execute_result"
    }
   ],
   "source": [
    "metrics.r2_score(y_test, predictions)"
   ]
  },
  {
   "cell_type": "code",
   "execution_count": 31,
   "metadata": {},
   "outputs": [
    {
     "data": {
      "text/plain": [
       "5.445118624837603"
      ]
     },
     "execution_count": 31,
     "metadata": {},
     "output_type": "execute_result"
    }
   ],
   "source": [
    "#RMSE\n",
    "math.sqrt(metrics.mean_squared_error(y_test, predictions))"
   ]
  },
  {
   "cell_type": "markdown",
   "metadata": {},
   "source": [
    "## Hipo & Hipereutectoid"
   ]
  },
  {
   "cell_type": "code",
   "execution_count": 27,
   "metadata": {
    "scrolled": true
   },
   "outputs": [
    {
     "name": "stdout",
     "output_type": "stream",
     "text": [
      "Train size: (4785, 19)\n",
      "Test size: (1197, 19)\n"
     ]
    }
   ],
   "source": [
    "X_train, X_test, y_train, y_test = _split_between_train_and_test(df1_, 0.8)"
   ]
  },
  {
   "cell_type": "code",
   "execution_count": 28,
   "metadata": {},
   "outputs": [
    {
     "data": {
      "text/html": [
       "<div>\n",
       "<style scoped>\n",
       "    .dataframe tbody tr th:only-of-type {\n",
       "        vertical-align: middle;\n",
       "    }\n",
       "\n",
       "    .dataframe tbody tr th {\n",
       "        vertical-align: top;\n",
       "    }\n",
       "\n",
       "    .dataframe thead th {\n",
       "        text-align: right;\n",
       "    }\n",
       "</style>\n",
       "<table border=\"1\" class=\"dataframe\">\n",
       "  <thead>\n",
       "    <tr style=\"text-align: right;\">\n",
       "      <th></th>\n",
       "      <th>C</th>\n",
       "      <th>Mn</th>\n",
       "      <th>Si</th>\n",
       "      <th>Cr</th>\n",
       "      <th>Ni</th>\n",
       "      <th>C2</th>\n",
       "      <th>CMn</th>\n",
       "      <th>CSi</th>\n",
       "      <th>CCr</th>\n",
       "      <th>CNi</th>\n",
       "      <th>Mn2</th>\n",
       "      <th>MnSi</th>\n",
       "      <th>MnCr</th>\n",
       "      <th>MnNi</th>\n",
       "      <th>SiCr</th>\n",
       "      <th>SiNi</th>\n",
       "      <th>Cr2</th>\n",
       "      <th>CrNi</th>\n",
       "      <th>Ni2</th>\n",
       "    </tr>\n",
       "  </thead>\n",
       "  <tbody>\n",
       "    <tr>\n",
       "      <th>2097</th>\n",
       "      <td>0.45</td>\n",
       "      <td>0.750075</td>\n",
       "      <td>5.062613e+00</td>\n",
       "      <td>3.000000</td>\n",
       "      <td>1.500050</td>\n",
       "      <td>0.2025</td>\n",
       "      <td>0.337534</td>\n",
       "      <td>1.012511</td>\n",
       "      <td>1.350000</td>\n",
       "      <td>0.675022</td>\n",
       "      <td>5.626125e-01</td>\n",
       "      <td>1.687688e+00</td>\n",
       "      <td>2.250225e+00</td>\n",
       "      <td>1.125150</td>\n",
       "      <td>1.518784e+01</td>\n",
       "      <td>7.594172e+00</td>\n",
       "      <td>9.000000e+00</td>\n",
       "      <td>4.500150</td>\n",
       "      <td>2.250150e+00</td>\n",
       "    </tr>\n",
       "    <tr>\n",
       "      <th>5995</th>\n",
       "      <td>1.35</td>\n",
       "      <td>1.500050</td>\n",
       "      <td>9.000000e+00</td>\n",
       "      <td>3.000000</td>\n",
       "      <td>0.000100</td>\n",
       "      <td>1.8225</td>\n",
       "      <td>2.025067</td>\n",
       "      <td>4.050000</td>\n",
       "      <td>4.050000</td>\n",
       "      <td>0.000135</td>\n",
       "      <td>2.250150e+00</td>\n",
       "      <td>4.500150e+00</td>\n",
       "      <td>4.500150e+00</td>\n",
       "      <td>0.000150</td>\n",
       "      <td>2.700000e+01</td>\n",
       "      <td>9.000000e-04</td>\n",
       "      <td>9.000000e+00</td>\n",
       "      <td>0.000300</td>\n",
       "      <td>1.000000e-08</td>\n",
       "    </tr>\n",
       "    <tr>\n",
       "      <th>1064</th>\n",
       "      <td>0.15</td>\n",
       "      <td>2.250025</td>\n",
       "      <td>2.250150e+00</td>\n",
       "      <td>1.500050</td>\n",
       "      <td>3.000000</td>\n",
       "      <td>0.0225</td>\n",
       "      <td>0.337504</td>\n",
       "      <td>0.225007</td>\n",
       "      <td>0.225007</td>\n",
       "      <td>0.450000</td>\n",
       "      <td>5.062613e+00</td>\n",
       "      <td>3.375150e+00</td>\n",
       "      <td>3.375150e+00</td>\n",
       "      <td>6.750075</td>\n",
       "      <td>3.375338e+00</td>\n",
       "      <td>6.750450e+00</td>\n",
       "      <td>2.250150e+00</td>\n",
       "      <td>4.500150</td>\n",
       "      <td>9.000000e+00</td>\n",
       "    </tr>\n",
       "    <tr>\n",
       "      <th>1253</th>\n",
       "      <td>0.30</td>\n",
       "      <td>0.000100</td>\n",
       "      <td>1.000000e-08</td>\n",
       "      <td>0.000100</td>\n",
       "      <td>2.250025</td>\n",
       "      <td>0.0900</td>\n",
       "      <td>0.000030</td>\n",
       "      <td>0.000030</td>\n",
       "      <td>0.000030</td>\n",
       "      <td>0.675007</td>\n",
       "      <td>1.000000e-08</td>\n",
       "      <td>1.000000e-08</td>\n",
       "      <td>1.000000e-08</td>\n",
       "      <td>0.000225</td>\n",
       "      <td>1.000000e-12</td>\n",
       "      <td>2.250025e-08</td>\n",
       "      <td>1.000000e-08</td>\n",
       "      <td>0.000225</td>\n",
       "      <td>5.062613e+00</td>\n",
       "    </tr>\n",
       "    <tr>\n",
       "      <th>4307</th>\n",
       "      <td>0.90</td>\n",
       "      <td>3.000000</td>\n",
       "      <td>2.250150e+00</td>\n",
       "      <td>0.750075</td>\n",
       "      <td>1.500050</td>\n",
       "      <td>0.8100</td>\n",
       "      <td>2.700000</td>\n",
       "      <td>1.350045</td>\n",
       "      <td>0.675068</td>\n",
       "      <td>1.350045</td>\n",
       "      <td>9.000000e+00</td>\n",
       "      <td>4.500150e+00</td>\n",
       "      <td>2.250225e+00</td>\n",
       "      <td>4.500150</td>\n",
       "      <td>1.687781e+00</td>\n",
       "      <td>3.375338e+00</td>\n",
       "      <td>5.626125e-01</td>\n",
       "      <td>1.125150</td>\n",
       "      <td>2.250150e+00</td>\n",
       "    </tr>\n",
       "  </tbody>\n",
       "</table>\n",
       "</div>"
      ],
      "text/plain": [
       "         C        Mn            Si        Cr        Ni      C2       CMn  \\\n",
       "2097  0.45  0.750075  5.062613e+00  3.000000  1.500050  0.2025  0.337534   \n",
       "5995  1.35  1.500050  9.000000e+00  3.000000  0.000100  1.8225  2.025067   \n",
       "1064  0.15  2.250025  2.250150e+00  1.500050  3.000000  0.0225  0.337504   \n",
       "1253  0.30  0.000100  1.000000e-08  0.000100  2.250025  0.0900  0.000030   \n",
       "4307  0.90  3.000000  2.250150e+00  0.750075  1.500050  0.8100  2.700000   \n",
       "\n",
       "           CSi       CCr       CNi           Mn2          MnSi          MnCr  \\\n",
       "2097  1.012511  1.350000  0.675022  5.626125e-01  1.687688e+00  2.250225e+00   \n",
       "5995  4.050000  4.050000  0.000135  2.250150e+00  4.500150e+00  4.500150e+00   \n",
       "1064  0.225007  0.225007  0.450000  5.062613e+00  3.375150e+00  3.375150e+00   \n",
       "1253  0.000030  0.000030  0.675007  1.000000e-08  1.000000e-08  1.000000e-08   \n",
       "4307  1.350045  0.675068  1.350045  9.000000e+00  4.500150e+00  2.250225e+00   \n",
       "\n",
       "          MnNi          SiCr          SiNi           Cr2      CrNi  \\\n",
       "2097  1.125150  1.518784e+01  7.594172e+00  9.000000e+00  4.500150   \n",
       "5995  0.000150  2.700000e+01  9.000000e-04  9.000000e+00  0.000300   \n",
       "1064  6.750075  3.375338e+00  6.750450e+00  2.250150e+00  4.500150   \n",
       "1253  0.000225  1.000000e-12  2.250025e-08  1.000000e-08  0.000225   \n",
       "4307  4.500150  1.687781e+00  3.375338e+00  5.626125e-01  1.125150   \n",
       "\n",
       "               Ni2  \n",
       "2097  2.250150e+00  \n",
       "5995  1.000000e-08  \n",
       "1064  9.000000e+00  \n",
       "1253  5.062613e+00  \n",
       "4307  2.250150e+00  "
      ]
     },
     "execution_count": 28,
     "metadata": {},
     "output_type": "execute_result"
    }
   ],
   "source": [
    "X_train.head()"
   ]
  },
  {
   "cell_type": "code",
   "execution_count": 29,
   "metadata": {
    "scrolled": true
   },
   "outputs": [
    {
     "data": {
      "text/plain": [
       "1699    719.060\n",
       "6359    771.560\n",
       "6197    721.007\n",
       "1947    773.170\n",
       "6848    726.428\n",
       "Name: A1prime, dtype: float64"
      ]
     },
     "execution_count": 29,
     "metadata": {},
     "output_type": "execute_result"
    }
   ],
   "source": [
    "y_test.head()"
   ]
  },
  {
   "cell_type": "code",
   "execution_count": 30,
   "metadata": {},
   "outputs": [
    {
     "data": {
      "text/plain": [
       "2097    776.170\n",
       "5995    806.900\n",
       "1064    688.540\n",
       "1253    693.955\n",
       "4307    712.633\n",
       "Name: A1prime, dtype: float64"
      ]
     },
     "execution_count": 30,
     "metadata": {},
     "output_type": "execute_result"
    }
   ],
   "source": [
    "y_train.head()"
   ]
  },
  {
   "cell_type": "code",
   "execution_count": 31,
   "metadata": {},
   "outputs": [
    {
     "data": {
      "text/plain": [
       "722.5158963260731"
      ]
     },
     "execution_count": 31,
     "metadata": {},
     "output_type": "execute_result"
    }
   ],
   "source": [
    "lm = linear_model.LinearRegression()\n",
    "model = lm.fit(X_train, y_train)\n",
    "predictions = lm.predict(X_test)\n",
    "model.intercept_\n",
    "\n",
    "# predictor = LinearRegression(n_jobs=-1, normalize=True)\n",
    "# estimator = predictor.fit(X_train, y_train)\n",
    "# estimator.intercept_"
   ]
  },
  {
   "cell_type": "code",
   "execution_count": 32,
   "metadata": {
    "scrolled": true
   },
   "outputs": [
    {
     "data": {
      "text/plain": [
       "[('C', 36.27203925437317),\n",
       " ('Mn', -17.327286306106988),\n",
       " ('Si', 4.885406805341597),\n",
       " ('Cr', 22.06665833693506),\n",
       " ('Ni', -12.819223157903492),\n",
       " ('C2', -20.76190458478548),\n",
       " ('CMn', 4.45656199781129),\n",
       " ('CSi', 9.26864499037676),\n",
       " ('CCr', -9.317594535422003),\n",
       " ('CNi', -0.40986274079559504),\n",
       " ('Mn2', 0.41201930270949644),\n",
       " ('MnSi', -1.1786701975334344),\n",
       " ('MnCr', -0.5131176132113092),\n",
       " ('MnNi', 0.8386209283325776),\n",
       " ('SiCr', -0.02503544457947693),\n",
       " ('SiNi', -0.3761659917959695),\n",
       " ('Cr2', -1.4736325035410658),\n",
       " ('CrNi', -0.4441372388721621),\n",
       " ('Ni2', 0.22958982940184502)]"
      ]
     },
     "execution_count": 32,
     "metadata": {},
     "output_type": "execute_result"
    }
   ],
   "source": [
    "list(zip(X_test.keys(), model.coef_))"
   ]
  },
  {
   "cell_type": "code",
   "execution_count": 33,
   "metadata": {},
   "outputs": [],
   "source": [
    "# fit a model\n",
    "lm = linear_model.LinearRegression()\n",
    "model = lm.fit(X_train, y_train)\n",
    "filename = 'models/A1prime_total.sav'\n",
    "pickle.dump(model, open(filename, 'wb'))\n",
    "predictions = lm.predict(X_test)"
   ]
  },
  {
   "cell_type": "markdown",
   "metadata": {},
   "source": [
    "### The line / model"
   ]
  },
  {
   "cell_type": "code",
   "execution_count": 39,
   "metadata": {},
   "outputs": [
    {
     "data": {
      "image/png": "[encoded data removed]",
      "text/plain": [
       "<Figure size 432x288 with 1 Axes>"
      ]
     },
     "metadata": {
      "needs_background": "light"
     },
     "output_type": "display_data"
    }
   ],
   "source": [
    "# plt.scatter(y_test, predictions)\n",
    "# plt.xlabel('True_Values')\n",
    "# plt.ylabel('Predictions')\n",
    "# plt.title('A1prime Hipo & Hipereutectoid non-standardized')\n",
    "# plt.show()\n",
    "\n",
    "fig, ax = plt.subplots()\n",
    "ax.scatter(y_test, predictions)\n",
    "lims = [\n",
    "    np.min([ax.get_xlim(), ax.get_ylim()]),  # min of both axes\n",
    "    np.max([ax.get_xlim(), ax.get_ylim()]),  # max of both axes\n",
    "]\n",
    "ax.plot(lims, lims, 'r-', alpha=0.75, color='black')\n",
    "ax.set_aspect('equal')\n",
    "ax.set_xlim(lims)\n",
    "ax.set_ylim(lims)\n",
    "ax.set_xlabel('Valor esperado')\n",
    "ax.set_ylabel('Valor predito')\n",
    "ax.set_title('A1\\' Hipo e Hipereutetóide')\n",
    "plt.savefig('img/A1prime_total.png')"
   ]
  },
  {
   "cell_type": "code",
   "execution_count": 40,
   "metadata": {},
   "outputs": [
    {
     "data": {
      "text/plain": [
       "0.9748337026862111"
      ]
     },
     "execution_count": 40,
     "metadata": {},
     "output_type": "execute_result"
    }
   ],
   "source": [
    "metrics.r2_score(y_test, predictions)"
   ]
  },
  {
   "cell_type": "code",
   "execution_count": 41,
   "metadata": {},
   "outputs": [
    {
     "data": {
      "text/plain": [
       "5.0346882530121375"
      ]
     },
     "execution_count": 41,
     "metadata": {},
     "output_type": "execute_result"
    }
   ],
   "source": [
    "#RMSE\n",
    "math.sqrt(metrics.mean_squared_error(y_test, predictions))"
   ]
  },
  {
   "cell_type": "markdown",
   "metadata": {},
   "source": [
    "# A1 regression with database standardization"
   ]
  },
  {
   "cell_type": "markdown",
   "metadata": {},
   "source": [
    "## Hipereutectoid"
   ]
  },
  {
   "cell_type": "code",
   "execution_count": 42,
   "metadata": {},
   "outputs": [],
   "source": [
    "df2_hiper = df_hiper.copy()\n",
    "df2_hiper = df2_hiper.loc[~is_na, :]"
   ]
  },
  {
   "cell_type": "code",
   "execution_count": 43,
   "metadata": {},
   "outputs": [],
   "source": [
    "from sklearn.preprocessing import StandardScaler\n",
    "scaler = StandardScaler()\n",
    "scaler.fit(df2_hiper.iloc[:, :-1])\n",
    "df2_hiper.iloc[:, :-1] = scaler.transform(df2_hiper.iloc[:, :-1])"
   ]
  },
  {
   "cell_type": "code",
   "execution_count": 44,
   "metadata": {},
   "outputs": [
    {
     "data": {
      "text/html": [
       "<div>\n",
       "<style scoped>\n",
       "    .dataframe tbody tr th:only-of-type {\n",
       "        vertical-align: middle;\n",
       "    }\n",
       "\n",
       "    .dataframe tbody tr th {\n",
       "        vertical-align: top;\n",
       "    }\n",
       "\n",
       "    .dataframe thead th {\n",
       "        text-align: right;\n",
       "    }\n",
       "</style>\n",
       "<table border=\"1\" class=\"dataframe\">\n",
       "  <thead>\n",
       "    <tr style=\"text-align: right;\">\n",
       "      <th></th>\n",
       "      <th>C</th>\n",
       "      <th>Mn</th>\n",
       "      <th>Si</th>\n",
       "      <th>Cr</th>\n",
       "      <th>Ni</th>\n",
       "      <th>A1prime</th>\n",
       "      <th>C2</th>\n",
       "      <th>CMn</th>\n",
       "      <th>CSi</th>\n",
       "      <th>CCr</th>\n",
       "      <th>...</th>\n",
       "      <th>Mn2</th>\n",
       "      <th>MnSi</th>\n",
       "      <th>MnCr</th>\n",
       "      <th>MnNi</th>\n",
       "      <th>SiCr</th>\n",
       "      <th>SiNi</th>\n",
       "      <th>Cr2</th>\n",
       "      <th>CrNi</th>\n",
       "      <th>Ni2</th>\n",
       "      <th>eutec</th>\n",
       "    </tr>\n",
       "  </thead>\n",
       "  <tbody>\n",
       "    <tr>\n",
       "      <th>1273</th>\n",
       "      <td>-2.118083</td>\n",
       "      <td>-1.446588</td>\n",
       "      <td>-0.991342</td>\n",
       "      <td>1.322211</td>\n",
       "      <td>0.663576</td>\n",
       "      <td>0.212320</td>\n",
       "      <td>-1.565383</td>\n",
       "      <td>-1.251193</td>\n",
       "      <td>-1.195031</td>\n",
       "      <td>-0.561339</td>\n",
       "      <td>...</td>\n",
       "      <td>-1.053276</td>\n",
       "      <td>-0.893261</td>\n",
       "      <td>-0.952166</td>\n",
       "      <td>-0.924038</td>\n",
       "      <td>-0.728464</td>\n",
       "      <td>-0.715302</td>\n",
       "      <td>1.574783</td>\n",
       "      <td>1.636396</td>\n",
       "      <td>0.462367</td>\n",
       "      <td>1</td>\n",
       "    </tr>\n",
       "    <tr>\n",
       "      <th>1274</th>\n",
       "      <td>-2.118083</td>\n",
       "      <td>-1.446588</td>\n",
       "      <td>-0.991342</td>\n",
       "      <td>1.322211</td>\n",
       "      <td>1.371879</td>\n",
       "      <td>-0.103722</td>\n",
       "      <td>-1.565383</td>\n",
       "      <td>-1.251193</td>\n",
       "      <td>-1.195031</td>\n",
       "      <td>-0.561339</td>\n",
       "      <td>...</td>\n",
       "      <td>-1.053276</td>\n",
       "      <td>-0.893261</td>\n",
       "      <td>-0.952166</td>\n",
       "      <td>-0.924009</td>\n",
       "      <td>-0.728464</td>\n",
       "      <td>-0.715302</td>\n",
       "      <td>1.574783</td>\n",
       "      <td>2.501115</td>\n",
       "      <td>1.639164</td>\n",
       "      <td>1</td>\n",
       "    </tr>\n",
       "    <tr>\n",
       "      <th>1299</th>\n",
       "      <td>-2.118083</td>\n",
       "      <td>-1.446588</td>\n",
       "      <td>-0.820796</td>\n",
       "      <td>1.322211</td>\n",
       "      <td>1.371879</td>\n",
       "      <td>0.177910</td>\n",
       "      <td>-1.565383</td>\n",
       "      <td>-1.251193</td>\n",
       "      <td>-1.015886</td>\n",
       "      <td>-0.561339</td>\n",
       "      <td>...</td>\n",
       "      <td>-1.053276</td>\n",
       "      <td>-0.893231</td>\n",
       "      <td>-0.952166</td>\n",
       "      <td>-0.924009</td>\n",
       "      <td>-0.494361</td>\n",
       "      <td>-0.478122</td>\n",
       "      <td>1.574783</td>\n",
       "      <td>2.501115</td>\n",
       "      <td>1.639164</td>\n",
       "      <td>1</td>\n",
       "    </tr>\n",
       "    <tr>\n",
       "      <th>1398</th>\n",
       "      <td>-2.118083</td>\n",
       "      <td>-0.741256</td>\n",
       "      <td>-0.991342</td>\n",
       "      <td>1.322211</td>\n",
       "      <td>0.663576</td>\n",
       "      <td>-0.131785</td>\n",
       "      <td>-1.565383</td>\n",
       "      <td>-1.068212</td>\n",
       "      <td>-1.195031</td>\n",
       "      <td>-0.561339</td>\n",
       "      <td>...</td>\n",
       "      <td>-0.883811</td>\n",
       "      <td>-0.893231</td>\n",
       "      <td>-0.088184</td>\n",
       "      <td>-0.267650</td>\n",
       "      <td>-0.728464</td>\n",
       "      <td>-0.715302</td>\n",
       "      <td>1.574783</td>\n",
       "      <td>1.636396</td>\n",
       "      <td>0.462367</td>\n",
       "      <td>1</td>\n",
       "    </tr>\n",
       "    <tr>\n",
       "      <th>1399</th>\n",
       "      <td>-2.118083</td>\n",
       "      <td>-0.741256</td>\n",
       "      <td>-0.991342</td>\n",
       "      <td>1.322211</td>\n",
       "      <td>1.371879</td>\n",
       "      <td>-0.428751</td>\n",
       "      <td>-1.565383</td>\n",
       "      <td>-1.068212</td>\n",
       "      <td>-1.195031</td>\n",
       "      <td>-0.561339</td>\n",
       "      <td>...</td>\n",
       "      <td>-0.883811</td>\n",
       "      <td>-0.893231</td>\n",
       "      <td>-0.088184</td>\n",
       "      <td>-0.048834</td>\n",
       "      <td>-0.728464</td>\n",
       "      <td>-0.715302</td>\n",
       "      <td>1.574783</td>\n",
       "      <td>2.501115</td>\n",
       "      <td>1.639164</td>\n",
       "      <td>1</td>\n",
       "    </tr>\n",
       "  </tbody>\n",
       "</table>\n",
       "<p>5 rows × 21 columns</p>\n",
       "</div>"
      ],
      "text/plain": [
       "             C        Mn        Si        Cr        Ni   A1prime        C2  \\\n",
       "1273 -2.118083 -1.446588 -0.991342  1.322211  0.663576  0.212320 -1.565383   \n",
       "1274 -2.118083 -1.446588 -0.991342  1.322211  1.371879 -0.103722 -1.565383   \n",
       "1299 -2.118083 -1.446588 -0.820796  1.322211  1.371879  0.177910 -1.565383   \n",
       "1398 -2.118083 -0.741256 -0.991342  1.322211  0.663576 -0.131785 -1.565383   \n",
       "1399 -2.118083 -0.741256 -0.991342  1.322211  1.371879 -0.428751 -1.565383   \n",
       "\n",
       "           CMn       CSi       CCr  ...         Mn2      MnSi      MnCr  \\\n",
       "1273 -1.251193 -1.195031 -0.561339  ...   -1.053276 -0.893261 -0.952166   \n",
       "1274 -1.251193 -1.195031 -0.561339  ...   -1.053276 -0.893261 -0.952166   \n",
       "1299 -1.251193 -1.015886 -0.561339  ...   -1.053276 -0.893231 -0.952166   \n",
       "1398 -1.068212 -1.195031 -0.561339  ...   -0.883811 -0.893231 -0.088184   \n",
       "1399 -1.068212 -1.195031 -0.561339  ...   -0.883811 -0.893231 -0.088184   \n",
       "\n",
       "          MnNi      SiCr      SiNi       Cr2      CrNi       Ni2  eutec  \n",
       "1273 -0.924038 -0.728464 -0.715302  1.574783  1.636396  0.462367      1  \n",
       "1274 -0.924009 -0.728464 -0.715302  1.574783  2.501115  1.639164      1  \n",
       "1299 -0.924009 -0.494361 -0.478122  1.574783  2.501115  1.639164      1  \n",
       "1398 -0.267650 -0.728464 -0.715302  1.574783  1.636396  0.462367      1  \n",
       "1399 -0.048834 -0.728464 -0.715302  1.574783  2.501115  1.639164      1  \n",
       "\n",
       "[5 rows x 21 columns]"
      ]
     },
     "execution_count": 44,
     "metadata": {},
     "output_type": "execute_result"
    }
   ],
   "source": [
    "df2_hiper.head()"
   ]
  },
  {
   "cell_type": "code",
   "execution_count": 45,
   "metadata": {},
   "outputs": [
    {
     "name": "stdout",
     "output_type": "stream",
     "text": [
      "Train size: (3471, 19)\n",
      "Test size: (868, 19)\n"
     ]
    }
   ],
   "source": [
    "X2_train, X2_test, y2_train, y2_test = _split_between_train_and_test(df2_hiper, 0.8)"
   ]
  },
  {
   "cell_type": "code",
   "execution_count": 46,
   "metadata": {},
   "outputs": [
    {
     "data": {
      "text/plain": [
       "6.117713516745301e-05"
      ]
     },
     "execution_count": 46,
     "metadata": {},
     "output_type": "execute_result"
    }
   ],
   "source": [
    "model2 = lm.fit(X2_train, y2_train)\n",
    "predictions2 = lm.predict(X2_test)\n",
    "model2.intercept_"
   ]
  },
  {
   "cell_type": "code",
   "execution_count": 47,
   "metadata": {},
   "outputs": [
    {
     "data": {
      "text/plain": [
       "[('C', -0.27664857183880015),\n",
       " ('Mn', -0.45701636498119336),\n",
       " ('Si', 0.5124135508322953),\n",
       " ('Cr', 0.4495372180440529),\n",
       " ('Ni', -0.3564124173045779),\n",
       " ('C2', 0.13587184808536762),\n",
       " ('CMn', 0.09207139375327518),\n",
       " ('CSi', 0.4117237645394521),\n",
       " ('CCr', -0.14114347021953413),\n",
       " ('CNi', -0.06895237349693056),\n",
       " ('Mn2', 0.01863479240856869),\n",
       " ('MnSi', -0.12479257811944389),\n",
       " ('MnCr', -0.06829980224494005),\n",
       " ('MnNi', 0.04134596973601891),\n",
       " ('SiCr', 0.016463481681492656),\n",
       " ('SiNi', -0.09533296713689565),\n",
       " ('Cr2', -0.059646635386646316),\n",
       " ('CrNi', -0.053299209905021044),\n",
       " ('Ni2', 0.010328377711909413)]"
      ]
     },
     "execution_count": 47,
     "metadata": {},
     "output_type": "execute_result"
    }
   ],
   "source": [
    "list(zip(X2_test.keys(), model2.coef_))"
   ]
  },
  {
   "cell_type": "code",
   "execution_count": 48,
   "metadata": {},
   "outputs": [
    {
     "data": {
      "image/png": "[encoded data removed]",
      "text/plain": [
       "<Figure size 432x288 with 1 Axes>"
      ]
     },
     "metadata": {
      "needs_background": "light"
     },
     "output_type": "display_data"
    }
   ],
   "source": [
    "plt.scatter(y2_test, predictions2)\n",
    "plt.xlabel('True_Values')\n",
    "plt.ylabel('Predictions')\n",
    "plt.title('A1prime Hipereutectoid standardized')\n",
    "plt.show()"
   ]
  },
  {
   "cell_type": "code",
   "execution_count": 49,
   "metadata": {},
   "outputs": [
    {
     "data": {
      "text/plain": [
       "0.9934436868975275"
      ]
     },
     "execution_count": 49,
     "metadata": {},
     "output_type": "execute_result"
    }
   ],
   "source": [
    "#R2\n",
    "metrics.r2_score(y2_test, predictions2)"
   ]
  },
  {
   "cell_type": "code",
   "execution_count": 50,
   "metadata": {},
   "outputs": [
    {
     "data": {
      "text/plain": [
       "0.0824155794745237"
      ]
     },
     "execution_count": 50,
     "metadata": {},
     "output_type": "execute_result"
    }
   ],
   "source": [
    "#RMSE\n",
    "math.sqrt(metrics.mean_squared_error(y2_test, predictions2))"
   ]
  },
  {
   "cell_type": "markdown",
   "metadata": {},
   "source": [
    "## Hipoeutectoid"
   ]
  },
  {
   "cell_type": "code",
   "execution_count": 51,
   "metadata": {},
   "outputs": [],
   "source": [
    "df2_hipo = df_hipo.copy()\n",
    "df2_hipo = df2_hipo.loc[~is_na, :]"
   ]
  },
  {
   "cell_type": "code",
   "execution_count": 52,
   "metadata": {},
   "outputs": [],
   "source": [
    "from sklearn.preprocessing import StandardScaler\n",
    "scaler = StandardScaler()\n",
    "scaler.fit(df2_hipo.iloc[:, :-1])\n",
    "df2_hipo.iloc[:, :-1] = scaler.transform(df2_hipo.iloc[:, :-1])"
   ]
  },
  {
   "cell_type": "code",
   "execution_count": 53,
   "metadata": {},
   "outputs": [
    {
     "data": {
      "text/html": [
       "<div>\n",
       "<style scoped>\n",
       "    .dataframe tbody tr th:only-of-type {\n",
       "        vertical-align: middle;\n",
       "    }\n",
       "\n",
       "    .dataframe tbody tr th {\n",
       "        vertical-align: top;\n",
       "    }\n",
       "\n",
       "    .dataframe thead th {\n",
       "        text-align: right;\n",
       "    }\n",
       "</style>\n",
       "<table border=\"1\" class=\"dataframe\">\n",
       "  <thead>\n",
       "    <tr style=\"text-align: right;\">\n",
       "      <th></th>\n",
       "      <th>C</th>\n",
       "      <th>Mn</th>\n",
       "      <th>Si</th>\n",
       "      <th>Cr</th>\n",
       "      <th>Ni</th>\n",
       "      <th>A1prime</th>\n",
       "      <th>C2</th>\n",
       "      <th>CMn</th>\n",
       "      <th>CSi</th>\n",
       "      <th>CCr</th>\n",
       "      <th>...</th>\n",
       "      <th>Mn2</th>\n",
       "      <th>MnSi</th>\n",
       "      <th>MnCr</th>\n",
       "      <th>MnNi</th>\n",
       "      <th>SiCr</th>\n",
       "      <th>SiNi</th>\n",
       "      <th>Cr2</th>\n",
       "      <th>CrNi</th>\n",
       "      <th>Ni2</th>\n",
       "      <th>eutec</th>\n",
       "    </tr>\n",
       "  </thead>\n",
       "  <tbody>\n",
       "    <tr>\n",
       "      <th>625</th>\n",
       "      <td>-1.032771</td>\n",
       "      <td>-1.313779</td>\n",
       "      <td>-1.034718</td>\n",
       "      <td>-1.16713</td>\n",
       "      <td>-1.300962</td>\n",
       "      <td>-0.081503</td>\n",
       "      <td>-0.865091</td>\n",
       "      <td>-1.068838</td>\n",
       "      <td>-1.098922</td>\n",
       "      <td>-1.078835</td>\n",
       "      <td>...</td>\n",
       "      <td>-0.94266</td>\n",
       "      <td>-0.859783</td>\n",
       "      <td>-0.757169</td>\n",
       "      <td>-0.811672</td>\n",
       "      <td>-0.65856</td>\n",
       "      <td>-0.691719</td>\n",
       "      <td>-0.829084</td>\n",
       "      <td>-0.750543</td>\n",
       "      <td>-0.933366</td>\n",
       "      <td>0</td>\n",
       "    </tr>\n",
       "    <tr>\n",
       "      <th>626</th>\n",
       "      <td>-1.032771</td>\n",
       "      <td>-1.313779</td>\n",
       "      <td>-1.034718</td>\n",
       "      <td>-1.16713</td>\n",
       "      <td>-0.590127</td>\n",
       "      <td>-0.461702</td>\n",
       "      <td>-0.865091</td>\n",
       "      <td>-1.068838</td>\n",
       "      <td>-1.098922</td>\n",
       "      <td>-1.078835</td>\n",
       "      <td>...</td>\n",
       "      <td>-0.94266</td>\n",
       "      <td>-0.859783</td>\n",
       "      <td>-0.757169</td>\n",
       "      <td>-0.811640</td>\n",
       "      <td>-0.65856</td>\n",
       "      <td>-0.691719</td>\n",
       "      <td>-0.829084</td>\n",
       "      <td>-0.750508</td>\n",
       "      <td>-0.758176</td>\n",
       "      <td>0</td>\n",
       "    </tr>\n",
       "    <tr>\n",
       "      <th>627</th>\n",
       "      <td>-1.032771</td>\n",
       "      <td>-1.313779</td>\n",
       "      <td>-1.034718</td>\n",
       "      <td>-1.16713</td>\n",
       "      <td>0.120708</td>\n",
       "      <td>-0.847187</td>\n",
       "      <td>-0.865091</td>\n",
       "      <td>-1.068838</td>\n",
       "      <td>-1.098922</td>\n",
       "      <td>-1.078835</td>\n",
       "      <td>...</td>\n",
       "      <td>-0.94266</td>\n",
       "      <td>-0.859783</td>\n",
       "      <td>-0.757169</td>\n",
       "      <td>-0.811607</td>\n",
       "      <td>-0.65856</td>\n",
       "      <td>-0.691719</td>\n",
       "      <td>-0.829084</td>\n",
       "      <td>-0.750472</td>\n",
       "      <td>-0.232699</td>\n",
       "      <td>0</td>\n",
       "    </tr>\n",
       "    <tr>\n",
       "      <th>628</th>\n",
       "      <td>-1.032771</td>\n",
       "      <td>-1.313779</td>\n",
       "      <td>-1.034718</td>\n",
       "      <td>-1.16713</td>\n",
       "      <td>0.831543</td>\n",
       "      <td>-1.230631</td>\n",
       "      <td>-0.865091</td>\n",
       "      <td>-1.068838</td>\n",
       "      <td>-1.098922</td>\n",
       "      <td>-1.078835</td>\n",
       "      <td>...</td>\n",
       "      <td>-0.94266</td>\n",
       "      <td>-0.859783</td>\n",
       "      <td>-0.757169</td>\n",
       "      <td>-0.811575</td>\n",
       "      <td>-0.65856</td>\n",
       "      <td>-0.691719</td>\n",
       "      <td>-0.829084</td>\n",
       "      <td>-0.750437</td>\n",
       "      <td>0.643064</td>\n",
       "      <td>0</td>\n",
       "    </tr>\n",
       "    <tr>\n",
       "      <th>629</th>\n",
       "      <td>-1.032771</td>\n",
       "      <td>-1.313779</td>\n",
       "      <td>-1.034718</td>\n",
       "      <td>-1.16713</td>\n",
       "      <td>1.542378</td>\n",
       "      <td>-1.603529</td>\n",
       "      <td>-0.865091</td>\n",
       "      <td>-1.068838</td>\n",
       "      <td>-1.098922</td>\n",
       "      <td>-1.078835</td>\n",
       "      <td>...</td>\n",
       "      <td>-0.94266</td>\n",
       "      <td>-0.859783</td>\n",
       "      <td>-0.757169</td>\n",
       "      <td>-0.811543</td>\n",
       "      <td>-0.65856</td>\n",
       "      <td>-0.691719</td>\n",
       "      <td>-0.829084</td>\n",
       "      <td>-0.750402</td>\n",
       "      <td>1.869113</td>\n",
       "      <td>0</td>\n",
       "    </tr>\n",
       "  </tbody>\n",
       "</table>\n",
       "<p>5 rows × 21 columns</p>\n",
       "</div>"
      ],
      "text/plain": [
       "            C        Mn        Si       Cr        Ni   A1prime        C2  \\\n",
       "625 -1.032771 -1.313779 -1.034718 -1.16713 -1.300962 -0.081503 -0.865091   \n",
       "626 -1.032771 -1.313779 -1.034718 -1.16713 -0.590127 -0.461702 -0.865091   \n",
       "627 -1.032771 -1.313779 -1.034718 -1.16713  0.120708 -0.847187 -0.865091   \n",
       "628 -1.032771 -1.313779 -1.034718 -1.16713  0.831543 -1.230631 -0.865091   \n",
       "629 -1.032771 -1.313779 -1.034718 -1.16713  1.542378 -1.603529 -0.865091   \n",
       "\n",
       "          CMn       CSi       CCr  ...        Mn2      MnSi      MnCr  \\\n",
       "625 -1.068838 -1.098922 -1.078835  ...   -0.94266 -0.859783 -0.757169   \n",
       "626 -1.068838 -1.098922 -1.078835  ...   -0.94266 -0.859783 -0.757169   \n",
       "627 -1.068838 -1.098922 -1.078835  ...   -0.94266 -0.859783 -0.757169   \n",
       "628 -1.068838 -1.098922 -1.078835  ...   -0.94266 -0.859783 -0.757169   \n",
       "629 -1.068838 -1.098922 -1.078835  ...   -0.94266 -0.859783 -0.757169   \n",
       "\n",
       "         MnNi     SiCr      SiNi       Cr2      CrNi       Ni2  eutec  \n",
       "625 -0.811672 -0.65856 -0.691719 -0.829084 -0.750543 -0.933366      0  \n",
       "626 -0.811640 -0.65856 -0.691719 -0.829084 -0.750508 -0.758176      0  \n",
       "627 -0.811607 -0.65856 -0.691719 -0.829084 -0.750472 -0.232699      0  \n",
       "628 -0.811575 -0.65856 -0.691719 -0.829084 -0.750437  0.643064      0  \n",
       "629 -0.811543 -0.65856 -0.691719 -0.829084 -0.750402  1.869113      0  \n",
       "\n",
       "[5 rows x 21 columns]"
      ]
     },
     "execution_count": 53,
     "metadata": {},
     "output_type": "execute_result"
    }
   ],
   "source": [
    "df2_hipo.head()"
   ]
  },
  {
   "cell_type": "code",
   "execution_count": 54,
   "metadata": {},
   "outputs": [
    {
     "name": "stdout",
     "output_type": "stream",
     "text": [
      "Train size: (1314, 19)\n",
      "Test size: (329, 19)\n"
     ]
    }
   ],
   "source": [
    "X2_train, X2_test, y2_train, y2_test = _split_between_train_and_test(df2_hipo, 0.8)"
   ]
  },
  {
   "cell_type": "code",
   "execution_count": 55,
   "metadata": {},
   "outputs": [
    {
     "data": {
      "text/plain": [
       "0.00015156810860245291"
      ]
     },
     "execution_count": 55,
     "metadata": {},
     "output_type": "execute_result"
    }
   ],
   "source": [
    "model2 = lm.fit(X2_train, y2_train)\n",
    "predictions2 = lm.predict(X2_test)\n",
    "model2.intercept_"
   ]
  },
  {
   "cell_type": "code",
   "execution_count": 56,
   "metadata": {},
   "outputs": [
    {
     "data": {
      "text/plain": [
       "[('C', 1.0243223751482704),\n",
       " ('Mn', -0.8025805152025652),\n",
       " ('Si', 0.3321666163144043),\n",
       " ('Cr', 1.223292764532191),\n",
       " ('Ni', -0.42973912162353606),\n",
       " ('C2', -0.844921696756852),\n",
       " ('CMn', 0.18872079286826704),\n",
       " ('CSi', 0.24333994146854465),\n",
       " ('CCr', -0.440482186597031),\n",
       " ('CNi', -0.04381877586393839),\n",
       " ('Mn2', 0.09782253043809815),\n",
       " ('MnSi', -0.05696518291334857),\n",
       " ('MnCr', 0.01897169941375848),\n",
       " ('MnNi', 0.11379722421894894),\n",
       " ('SiCr', 0.03287064346238612),\n",
       " ('SiNi', -0.04739165297642325),\n",
       " ('Cr2', -0.38195994157810403),\n",
       " ('CrNi', -0.06069905274958488),\n",
       " ('Ni2', 0.036818220301686744)]"
      ]
     },
     "execution_count": 56,
     "metadata": {},
     "output_type": "execute_result"
    }
   ],
   "source": [
    "list(zip(X2_test.keys(), model2.coef_))"
   ]
  },
  {
   "cell_type": "code",
   "execution_count": 57,
   "metadata": {},
   "outputs": [
    {
     "data": {
      "image/png": "[encoded data removed]",
      "text/plain": [
       "<Figure size 432x288 with 1 Axes>"
      ]
     },
     "metadata": {
      "needs_background": "light"
     },
     "output_type": "display_data"
    }
   ],
   "source": [
    "plt.scatter(y2_test, predictions2)\n",
    "plt.xlabel('True_Values')\n",
    "plt.ylabel('Predictions')\n",
    "plt.title('A1prime Hipoeutectoid standardized')\n",
    "plt.show()"
   ]
  },
  {
   "cell_type": "code",
   "execution_count": 58,
   "metadata": {},
   "outputs": [
    {
     "data": {
      "text/plain": [
       "0.9743263464131867"
      ]
     },
     "execution_count": 58,
     "metadata": {},
     "output_type": "execute_result"
    }
   ],
   "source": [
    "#R2\n",
    "metrics.r2_score(y2_test, predictions2)"
   ]
  },
  {
   "cell_type": "code",
   "execution_count": 59,
   "metadata": {
    "scrolled": true
   },
   "outputs": [
    {
     "data": {
      "text/plain": [
       "0.15231215863171446"
      ]
     },
     "execution_count": 59,
     "metadata": {},
     "output_type": "execute_result"
    }
   ],
   "source": [
    "#RMSE\n",
    "math.sqrt(metrics.mean_squared_error(y2_test, predictions2))"
   ]
  },
  {
   "cell_type": "markdown",
   "metadata": {},
   "source": [
    "## Hipo & Hipereutectoid"
   ]
  },
  {
   "cell_type": "code",
   "execution_count": 60,
   "metadata": {},
   "outputs": [],
   "source": [
    "df2_ = df1_.copy()\n",
    "df2_ = df2_.loc[~is_na, :]"
   ]
  },
  {
   "cell_type": "code",
   "execution_count": 61,
   "metadata": {},
   "outputs": [],
   "source": [
    "from sklearn.preprocessing import StandardScaler\n",
    "scaler = StandardScaler()\n",
    "scaler.fit(df2_.iloc[:, :-1])\n",
    "df2_.iloc[:, :-1] = scaler.transform(df2_.iloc[:, :-1])"
   ]
  },
  {
   "cell_type": "code",
   "execution_count": 62,
   "metadata": {},
   "outputs": [
    {
     "name": "stdout",
     "output_type": "stream",
     "text": [
      "Train size: (4785, 19)\n",
      "Test size: (1197, 19)\n"
     ]
    }
   ],
   "source": [
    "X2_train, X2_test, y2_train, y2_test = _split_between_train_and_test(df2_, 0.8)"
   ]
  },
  {
   "cell_type": "code",
   "execution_count": 63,
   "metadata": {},
   "outputs": [
    {
     "data": {
      "text/plain": [
       "-0.0009611679803452505"
      ]
     },
     "execution_count": 63,
     "metadata": {},
     "output_type": "execute_result"
    }
   ],
   "source": [
    "model2 = lm.fit(X2_train, y2_train)\n",
    "predictions2 = lm.predict(X2_test)\n",
    "model2.intercept_"
   ]
  },
  {
   "cell_type": "code",
   "execution_count": 64,
   "metadata": {},
   "outputs": [
    {
     "data": {
      "text/plain": [
       "[('C', 0.49972107848768355),\n",
       " ('Mn', -0.5784270606977662),\n",
       " ('Si', 0.5084201961881378),\n",
       " ('Cr', 0.7338169831912316),\n",
       " ('Ni', -0.42687005748496143),\n",
       " ('C2', -0.4848960802178003),\n",
       " ('CMn', 0.16525596919968022),\n",
       " ('CSi', 0.34540572028694083),\n",
       " ('CCr', -0.3462174773066208),\n",
       " ('CNi', -0.015262373183953029),\n",
       " ('Mn2', 0.042683058661417195),\n",
       " ('MnSi', -0.09273214485205834),\n",
       " ('MnCr', -0.04046877637953486),\n",
       " ('MnNi', 0.06627050744846184),\n",
       " ('SiCr', -0.0055363053250839),\n",
       " ('SiNi', -0.08317001719453654),\n",
       " ('Cr2', -0.15318997054575664),\n",
       " ('CrNi', -0.035010782733296976),\n",
       " ('Ni2', 0.023912451128990497)]"
      ]
     },
     "execution_count": 64,
     "metadata": {},
     "output_type": "execute_result"
    }
   ],
   "source": [
    "list(zip(X2_test.keys(), model2.coef_))"
   ]
  },
  {
   "cell_type": "code",
   "execution_count": 65,
   "metadata": {},
   "outputs": [
    {
     "data": {
      "image/png": "[encoded data removed]",
      "text/plain": [
       "<Figure size 432x288 with 1 Axes>"
      ]
     },
     "metadata": {
      "needs_background": "light"
     },
     "output_type": "display_data"
    }
   ],
   "source": [
    "plt.scatter(y2_test, predictions2)\n",
    "plt.xlabel('True_Values')\n",
    "plt.ylabel('Predictions')\n",
    "plt.title('A1prime Hipo & Hipereutectoid standardized')\n",
    "plt.show()"
   ]
  },
  {
   "cell_type": "code",
   "execution_count": 66,
   "metadata": {},
   "outputs": [
    {
     "data": {
      "text/plain": [
       "0.9748337026862112"
      ]
     },
     "execution_count": 66,
     "metadata": {},
     "output_type": "execute_result"
    }
   ],
   "source": [
    "#R2\n",
    "metrics.r2_score(y2_test, predictions2)"
   ]
  },
  {
   "cell_type": "code",
   "execution_count": 67,
   "metadata": {
    "scrolled": true
   },
   "outputs": [
    {
     "data": {
      "text/plain": [
       "0.15806172274345648"
      ]
     },
     "execution_count": 67,
     "metadata": {},
     "output_type": "execute_result"
    }
   ],
   "source": [
    "#RMSE\n",
    "math.sqrt(metrics.mean_squared_error(y2_test, predictions2))"
   ]
  },
  {
   "cell_type": "markdown",
   "metadata": {},
   "source": [
    "# Summarizing..."
   ]
  },
  {
   "cell_type": "markdown",
   "metadata": {},
   "source": [
    "### Non-standardized"
   ]
  },
  {
   "cell_type": "markdown",
   "metadata": {},
   "source": [
    "|  | Hipo | Hiper | All |\n",
    "| --- | --- | --- | --- |\n",
    "| R2 |0.9743|0.9934|0.9748|\n",
    "| RMSE |5.4451|2.4669|5.0347|"
   ]
  },
  {
   "cell_type": "markdown",
   "metadata": {},
   "source": [
    "### Standardized"
   ]
  },
  {
   "cell_type": "markdown",
   "metadata": {},
   "source": [
    "|  | Hipo | Hiper | All |\n",
    "| --- | --- | --- | --- |\n",
    "| R2 |0.9743|0.9934|0.9425|\n",
    "| RMSE |0.1523|0.0824|0.2335|"
   ]
  },
  {
   "cell_type": "markdown",
   "metadata": {},
   "source": [
    "### Next steps\n",
    "- other metrics: relative percentage error"
   ]
  }
 ],
 "metadata": {
  "kernelspec": {
   "display_name": "Python 3",
   "language": "python",
   "name": "python3"
  },
  "language_info": {
   "codemirror_mode": {
    "name": "ipython",
    "version": 3
   },
   "file_extension": ".py",
   "mimetype": "text/x-python",
   "name": "python",
   "nbconvert_exporter": "python",
   "pygments_lexer": "ipython3",
   "version": "3.5.2"
  }
 },
 "nbformat": 4,
 "nbformat_minor": 2
}
