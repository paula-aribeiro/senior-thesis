{
 "cells": [
  {
   "cell_type": "code",
   "execution_count": 2,
   "metadata": {},
   "outputs": [],
   "source": [
    "import pandas as pd\n",
    "\n",
    "import matplotlib.pyplot as plt\n",
    "\n",
    "from sklearn.preprocessing import MinMaxScaler\n",
    "\n",
    "from plot_carbon_isopleth import load_dataset, load_reshape_dataset\n",
    "\n",
    "import pickle\n",
    "\n",
    "%matplotlib inline"
   ]
  },
  {
   "cell_type": "markdown",
   "metadata": {},
   "source": [
    "# Plot predicted isopleth"
   ]
  },
  {
   "cell_type": "code",
   "execution_count": 3,
   "metadata": {},
   "outputs": [
    {
     "data": {
      "text/plain": [
       "odict_keys(['file', 'macro', 'C', 'Mn', 'Si', 'Cr', 'Ni', 'A1', 'A1prime', 'A3', 'eutectoid', 'idx'])"
      ]
     },
     "execution_count": 3,
     "metadata": {},
     "output_type": "execute_result"
    }
   ],
   "source": [
    "dataset = load_reshape_dataset('../../databases/Tcritical.csv')\n",
    "dataset.keys()"
   ]
  },
  {
   "cell_type": "code",
   "execution_count": 27,
   "metadata": {},
   "outputs": [
    {
     "data": {
      "text/plain": [
       "array([0.  , 0.  , 0.  , ..., 0.75, 0.75, 0.75])"
      ]
     },
     "execution_count": 27,
     "metadata": {},
     "output_type": "execute_result"
    }
   ],
   "source": [
    "dataset['C'][dataset['eutectoid'] == 'hipo']"
   ]
  },
  {
   "cell_type": "markdown",
   "metadata": {},
   "source": [
    "## The Model\n",
    "Linear Regression to A3"
   ]
  },
  {
   "cell_type": "code",
   "execution_count": 18,
   "metadata": {},
   "outputs": [],
   "source": [
    "# load the model from disk\n",
    "hiper_model = pickle.load(open('models/A3_hiper.sav', 'rb'))\n",
    "hipo_model = pickle.load(open('models/A3_hipo.sav', 'rb'))"
   ]
  },
  {
   "cell_type": "markdown",
   "metadata": {},
   "source": [
    "## Carbon Isopleth"
   ]
  },
  {
   "cell_type": "code",
   "execution_count": 39,
   "metadata": {},
   "outputs": [],
   "source": [
    "selh = dataset['eutectoid'][:,0,0,0,0] == 'hipo'\n",
    "selH = dataset['eutectoid'][:,0,0,0,0] == 'hiper'"
   ]
  },
  {
   "cell_type": "code",
   "execution_count": 40,
   "metadata": {
    "scrolled": true
   },
   "outputs": [
    {
     "data": {
      "text/plain": [
       "Text(0.5, 1.0, 'Níveis [:,0,0,0,0]')"
      ]
     },
     "execution_count": 40,
     "metadata": {},
     "output_type": "execute_result"
    },
    {
     "data": {
      "image/png": "[encoded data removed]",
      "text/plain": [
       "<Figure size 432x288 with 1 Axes>"
      ]
     },
     "metadata": {
      "needs_background": "light"
     },
     "output_type": "display_data"
    }
   ],
   "source": [
    "# X: composition\n",
    "X = pd.DataFrame()\n",
    "X['C'] = dataset['C'][:,0,0,0,0]\n",
    "X['Mn'] = dataset['Mn'][:,0,0,0,0]\n",
    "X['Si'] = dataset['Si'][:,0,0,0,0]\n",
    "X['Cr'] = dataset['Cr'][:,0,0,0,0]\n",
    "X['Ni'] = dataset['Ni'][:,0,0,0,0]\n",
    "\n",
    "X['C2'] = X['C'].apply(lambda x: x**2)\n",
    "X['CMn'] = X['C'] * X['Mn']\n",
    "X['CSi'] = X['C'] * X['Si']\n",
    "X['CCr'] = X['C'] * X['Cr']\n",
    "X['CNi'] = X['C'] * X['Ni']\n",
    "X['Mn2'] = X['Mn'].apply(lambda x: x**2)\n",
    "X['MnSi'] = X['Si'] * X['Mn']\n",
    "X['MnCr'] = X['Cr'] * X['Mn']\n",
    "X['MnNi'] = X['Ni'] * X['Mn']\n",
    "X['Si'] = X['Si'].apply(lambda x: x**2)\n",
    "X['SiCr'] = X['Cr'] * X['Si']\n",
    "X['SiNi'] = X['Si'] * X['Ni']\n",
    "X['Cr2'] = X['Cr'].apply(lambda x: x**2)\n",
    "X['CrNi'] = X['Cr'] * X['Ni']\n",
    "X['Ni2'] = X['Ni'].apply(lambda x: x**2)\n",
    "\n",
    "# print(X.head())\n",
    "\n",
    "yh = hipo_model.predict(X[selh])\n",
    "yH = hiper_model.predict(X[selH])\n",
    "\n",
    "fig, ax = plt.subplots()\n",
    "plt.plot(dataset['C'][:,0,0,0,0], dataset['A3'][:,0,0,0,0], 'kx')\n",
    "plt.plot(dataset['C'][:,0,0,0,0][selh], yh, color='blue')\n",
    "plt.plot(dataset['C'][:,0,0,0,0][selH], yH, color='red')\n",
    "ax.set_xlabel('% C')\n",
    "ax.set_ylabel('A3 (°C)')\n",
    "plt.title('Níveis [:,0,0,0,0]')"
   ]
  },
  {
   "cell_type": "markdown",
   "metadata": {},
   "source": [
    "## Manganese Isopleth"
   ]
  },
  {
   "cell_type": "code",
   "execution_count": 41,
   "metadata": {},
   "outputs": [],
   "source": [
    "selh = dataset['eutectoid'][0,:,0,0,0] == 'hipo'\n",
    "selH = dataset['eutectoid'][0,:,0,0,0] == 'hiper'"
   ]
  },
  {
   "cell_type": "code",
   "execution_count": 43,
   "metadata": {
    "scrolled": false
   },
   "outputs": [
    {
     "data": {
      "text/plain": [
       "Text(0.5, 1.0, 'Níveis [0,:,0,0,0]')"
      ]
     },
     "execution_count": 43,
     "metadata": {},
     "output_type": "execute_result"
    },
    {
     "data": {
      "image/png": "[encoded data removed]",
      "text/plain": [
       "<Figure size 432x288 with 1 Axes>"
      ]
     },
     "metadata": {
      "needs_background": "light"
     },
     "output_type": "display_data"
    }
   ],
   "source": [
    "# X: composition\n",
    "X = pd.DataFrame()\n",
    "X['C'] = dataset['C'][0,:,0,0,0]\n",
    "X['Mn'] = dataset['Mn'][0,:,0,0,0]\n",
    "X['Si'] = dataset['Si'][0,:,0,0,0]\n",
    "X['Cr'] = dataset['Cr'][0,:,0,0,0]\n",
    "X['Ni'] = dataset['Ni'][0,:,0,0,0]\n",
    "\n",
    "X['C2'] = X['C'].apply(lambda x: x**2)\n",
    "X['CMn'] = X['C'] * X['Mn']\n",
    "X['CSi'] = X['C'] * X['Si']\n",
    "X['CCr'] = X['C'] * X['Cr']\n",
    "X['CNi'] = X['C'] * X['Ni']\n",
    "X['Mn2'] = X['Mn'].apply(lambda x: x**2)\n",
    "X['MnSi'] = X['Si'] * X['Mn']\n",
    "X['MnCr'] = X['Cr'] * X['Mn']\n",
    "X['MnNi'] = X['Ni'] * X['Mn']\n",
    "X['Si'] = X['Si'].apply(lambda x: x**2)\n",
    "X['SiCr'] = X['Cr'] * X['Si']\n",
    "X['SiNi'] = X['Si'] * X['Ni']\n",
    "X['Cr2'] = X['Cr'].apply(lambda x: x**2)\n",
    "X['CrNi'] = X['Cr'] * X['Ni']\n",
    "X['Ni2'] = X['Ni'].apply(lambda x: x**2)\n",
    "\n",
    "# print(X.head())\n",
    "\n",
    "yh = hipo_model.predict(X[selh])\n",
    "# yH = hiper_model.predict(X[selH])\n",
    "\n",
    "fig, ax = plt.subplots()\n",
    "plt.plot(dataset['Mn'][0,:,0,0,0], dataset['A3'][0,:,0,0,0], 'kx')\n",
    "plt.plot(dataset['Mn'][0,:,0,0,0][selh], yh, color='blue')\n",
    "# plt.plot(dataset['Mn'][0,:,0,0,0][selH], yH, color='red')\n",
    "ax.set_xlabel('% Mn')\n",
    "ax.set_ylabel('A3 (°C)')\n",
    "plt.title('Níveis [0,:,0,0,0]')"
   ]
  },
  {
   "cell_type": "markdown",
   "metadata": {},
   "source": [
    "## Silicon Isopleth"
   ]
  },
  {
   "cell_type": "code",
   "execution_count": 59,
   "metadata": {},
   "outputs": [],
   "source": [
    "selh = dataset['eutectoid'][0,0,:,0,0] == 'hipo'\n",
    "# selH = dataset['eutectoid'][0,0,:,0,0] == 'hiper'"
   ]
  },
  {
   "cell_type": "code",
   "execution_count": 62,
   "metadata": {
    "scrolled": true
   },
   "outputs": [
    {
     "data": {
      "text/plain": [
       "Text(0.5, 1.0, 'Níveis [0,0,:,0,0]')"
      ]
     },
     "execution_count": 62,
     "metadata": {},
     "output_type": "execute_result"
    },
    {
     "data": {
      "image/png": "[encoded data removed]",
      "text/plain": [
       "<Figure size 432x288 with 1 Axes>"
      ]
     },
     "metadata": {
      "needs_background": "light"
     },
     "output_type": "display_data"
    }
   ],
   "source": [
    "# X: composition\n",
    "X = pd.DataFrame()\n",
    "X['C'] = dataset['C'][0,0,:,0,0]\n",
    "X['Mn'] = dataset['Mn'][0,0,:,0,0]\n",
    "X['Si'] = dataset['Si'][0,0,:,0,0]\n",
    "X['Cr'] = dataset['Cr'][0,0,:,0,0]\n",
    "X['Ni'] = dataset['Ni'][0,0,:,0,0]\n",
    "\n",
    "X['C2'] = X['C'].apply(lambda x: x**2)\n",
    "X['CMn'] = X['C'] * X['Mn']\n",
    "X['CSi'] = X['C'] * X['Si']\n",
    "X['CCr'] = X['C'] * X['Cr']\n",
    "X['CNi'] = X['C'] * X['Ni']\n",
    "X['Mn2'] = X['Mn'].apply(lambda x: x**2)\n",
    "X['MnSi'] = X['Si'] * X['Mn']\n",
    "X['MnCr'] = X['Cr'] * X['Mn']\n",
    "X['MnNi'] = X['Ni'] * X['Mn']\n",
    "X['Si'] = X['Si'].apply(lambda x: x**2)\n",
    "X['SiCr'] = X['Cr'] * X['Si']\n",
    "X['SiNi'] = X['Si'] * X['Ni']\n",
    "X['Cr2'] = X['Cr'].apply(lambda x: x**2)\n",
    "X['CrNi'] = X['Cr'] * X['Ni']\n",
    "X['Ni2'] = X['Ni'].apply(lambda x: x**2)\n",
    "\n",
    "# print(X.head())\n",
    "\n",
    "yh = hipo_model.predict(X[selh])\n",
    "# yH = hiper_model.predict(X[selH])\n",
    "\n",
    "fig, ax = plt.subplots()\n",
    "plt.plot(dataset['Si'][0,0,:,0,0], dataset['A3'][0,0,:,0,0], 'kx')\n",
    "plt.plot(dataset['Si'][0,0,:,0,0][selh], yh, color='blue')\n",
    "# plt.plot(dataset['Si'][0,0,:,0,0][selH], yH, color='red')\n",
    "ax.set_xlabel('% Si')\n",
    "ax.set_ylabel('A3 (°C)')\n",
    "plt.title('Níveis [0,0,:,0,0]')"
   ]
  },
  {
   "cell_type": "markdown",
   "metadata": {},
   "source": [
    "## Chrome Isopleth"
   ]
  },
  {
   "cell_type": "code",
   "execution_count": 55,
   "metadata": {},
   "outputs": [],
   "source": [
    "selh = dataset['eutectoid'][0,0,0,:,0] == 'hipo'\n",
    "selH = dataset['eutectoid'][0,0,0,:,0] == 'hiper'"
   ]
  },
  {
   "cell_type": "code",
   "execution_count": 58,
   "metadata": {
    "scrolled": true
   },
   "outputs": [
    {
     "data": {
      "text/plain": [
       "Text(0.5, 1.0, 'Níveis [0,0,0,:,0]')"
      ]
     },
     "execution_count": 58,
     "metadata": {},
     "output_type": "execute_result"
    },
    {
     "data": {
      "image/png": "[encoded data removed]",
      "text/plain": [
       "<Figure size 432x288 with 1 Axes>"
      ]
     },
     "metadata": {
      "needs_background": "light"
     },
     "output_type": "display_data"
    }
   ],
   "source": [
    "# X: composition\n",
    "X = pd.DataFrame()\n",
    "X['C'] = dataset['C'][0,0,0,:,0]\n",
    "X['Mn'] = dataset['Mn'][0,0,0,:,0]\n",
    "X['Si'] = dataset['Si'][0,0,0,:,0]\n",
    "X['Cr'] = dataset['Cr'][0,0,0,:,0]\n",
    "X['Ni'] = dataset['Ni'][0,0,0,:,0]\n",
    "\n",
    "X['C2'] = X['C'].apply(lambda x: x**2)\n",
    "X['CMn'] = X['C'] * X['Mn']\n",
    "X['CSi'] = X['C'] * X['Si']\n",
    "X['CCr'] = X['C'] * X['Cr']\n",
    "X['CNi'] = X['C'] * X['Ni']\n",
    "X['Mn2'] = X['Mn'].apply(lambda x: x**2)\n",
    "X['MnSi'] = X['Si'] * X['Mn']\n",
    "X['MnCr'] = X['Cr'] * X['Mn']\n",
    "X['MnNi'] = X['Ni'] * X['Mn']\n",
    "X['Si'] = X['Si'].apply(lambda x: x**2)\n",
    "X['SiCr'] = X['Cr'] * X['Si']\n",
    "X['SiNi'] = X['Si'] * X['Ni']\n",
    "X['Cr2'] = X['Cr'].apply(lambda x: x**2)\n",
    "X['CrNi'] = X['Cr'] * X['Ni']\n",
    "X['Ni2'] = X['Ni'].apply(lambda x: x**2)\n",
    "\n",
    "# print(X.head())\n",
    "\n",
    "yh = hipo_model.predict(X[selh])\n",
    "# yH = hiper_model.predict(X[selH])\n",
    "\n",
    "fig, ax = plt.subplots()\n",
    "plt.plot(dataset['Cr'][0,0,0,:,0], dataset['A3'][0,0,0,:,0], 'kx')\n",
    "plt.plot(dataset['Cr'][0,0,0,:,0][selh], yh, color='blue')\n",
    "# plt.plot(dataset['Cr'][0,0,0,:,0][selH], yH, color='red')\n",
    "ax.set_xlabel('% Cr')\n",
    "ax.set_ylabel('A3 (°C)')\n",
    "plt.title('Níveis [0,0,0,:,0]')"
   ]
  },
  {
   "cell_type": "markdown",
   "metadata": {},
   "source": [
    "## Nickel Isopleth"
   ]
  },
  {
   "cell_type": "code",
   "execution_count": 52,
   "metadata": {},
   "outputs": [],
   "source": [
    "selh = dataset['eutectoid'][0,0,0,0,:] == 'hipo'\n",
    "selH = dataset['eutectoid'][0,0,0,0,:] == 'hiper'"
   ]
  },
  {
   "cell_type": "code",
   "execution_count": 54,
   "metadata": {},
   "outputs": [
    {
     "data": {
      "text/plain": [
       "Text(0.5, 1.0, 'Níveis [0,0,0,0,:]')"
      ]
     },
     "execution_count": 54,
     "metadata": {},
     "output_type": "execute_result"
    },
    {
     "data": {
      "image/png": "[encoded data removed]",
      "text/plain": [
       "<Figure size 432x288 with 1 Axes>"
      ]
     },
     "metadata": {
      "needs_background": "light"
     },
     "output_type": "display_data"
    }
   ],
   "source": [
    "# X: composition\n",
    "X = pd.DataFrame()\n",
    "X['C'] = dataset['C'][0,0,0,0,:]\n",
    "X['Mn'] = dataset['Mn'][0,0,0,0,:]\n",
    "X['Si'] = dataset['Si'][0,0,0,0,:]\n",
    "X['Cr'] = dataset['Cr'][0,0,0,0,:]\n",
    "X['Ni'] = dataset['Ni'][0,0,0,0,:]\n",
    "\n",
    "X['C2'] = X['C'].apply(lambda x: x**2)\n",
    "X['CMn'] = X['C'] * X['Mn']\n",
    "X['CSi'] = X['C'] * X['Si']\n",
    "X['CCr'] = X['C'] * X['Cr']\n",
    "X['CNi'] = X['C'] * X['Ni']\n",
    "X['Mn2'] = X['Mn'].apply(lambda x: x**2)\n",
    "X['MnSi'] = X['Si'] * X['Mn']\n",
    "X['MnCr'] = X['Cr'] * X['Mn']\n",
    "X['MnNi'] = X['Ni'] * X['Mn']\n",
    "X['Si'] = X['Si'].apply(lambda x: x**2)\n",
    "X['SiCr'] = X['Cr'] * X['Si']\n",
    "X['SiNi'] = X['Si'] * X['Ni']\n",
    "X['Cr2'] = X['Cr'].apply(lambda x: x**2)\n",
    "X['CrNi'] = X['Cr'] * X['Ni']\n",
    "X['Ni2'] = X['Ni'].apply(lambda x: x**2)\n",
    "\n",
    "# print(X.head())\n",
    "\n",
    "yh = hipo_model.predict(X[selh])\n",
    "# yH = hiper_model.predict(X[selH])\n",
    "\n",
    "fig, ax = plt.subplots()\n",
    "plt.plot(dataset['Ni'][0,0,0,0,:], dataset['A3'][0,0,0,0,:], 'kx')\n",
    "plt.plot(dataset['Ni'][0,0,0,0,:][selh], yh, color='blue')\n",
    "# plt.plot(dataset['Ni'][0,0,0,0,:][selH], yH, color='red')\n",
    "ax.set_xlabel('% Ni')\n",
    "ax.set_ylabel('A3 (°C)')\n",
    "plt.title('Níveis [0,0,0,0,:]')"
   ]
  },
  {
   "cell_type": "code",
   "execution_count": null,
   "metadata": {},
   "outputs": [],
   "source": []
  }
 ],
 "metadata": {
  "kernelspec": {
   "display_name": "Python 3",
   "language": "python",
   "name": "python3"
  },
  "language_info": {
   "codemirror_mode": {
    "name": "ipython",
    "version": 3
   },
   "file_extension": ".py",
   "mimetype": "text/x-python",
   "name": "python",
   "nbconvert_exporter": "python",
   "pygments_lexer": "ipython3",
   "version": "3.5.2"
  }
 },
 "nbformat": 4,
 "nbformat_minor": 2
}
