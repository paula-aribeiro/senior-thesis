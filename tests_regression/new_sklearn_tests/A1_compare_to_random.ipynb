{
 "cells": [
  {
   "cell_type": "code",
   "execution_count": 1,
   "metadata": {
    "collapsed": true
   },
   "outputs": [],
   "source": [
    "import math\n",
    "import pandas as pd\n",
    "import numpy as np\n",
    "import matplotlib.pyplot as plt\n",
    "from sklearn.linear_model import LinearRegression\n",
    "from sklearn.model_selection import train_test_split\n",
    "\n",
    "from sklearn import linear_model\n",
    "from sklearn import metrics"
   ]
  },
  {
   "cell_type": "markdown",
   "metadata": {},
   "source": [
    "# Preparing Datasets"
   ]
  },
  {
   "cell_type": "code",
   "execution_count": 2,
   "metadata": {
    "collapsed": true
   },
   "outputs": [],
   "source": [
    "def load_dataset(fname):\n",
    "    # read dataset\n",
    "    dataset = pd.read_csv(fname, comment='#')\n",
    "\n",
    "    # compositions to wt.%\n",
    "    dataset.C *= 100\n",
    "    dataset.Mn *= 100\n",
    "    dataset.Si *= 100\n",
    "    dataset.Cr *= 100\n",
    "    dataset.Ni *= 100\n",
    "\n",
    "    # temperatures to oC\n",
    "    dataset.A1 -= 273.15\n",
    "    dataset.A1prime -= 273.15\n",
    "    dataset.A3 -= 273.15\n",
    "\n",
    "    return dataset"
   ]
  },
  {
   "cell_type": "code",
   "execution_count": 3,
   "metadata": {
    "collapsed": true
   },
   "outputs": [],
   "source": [
    "def prepare_dataset(fname):\n",
    "    raw_df = load_dataset(fname)\n",
    "    \n",
    "    \n",
    "    if set(['file']).issubset(raw_df.columns):\n",
    "        raw_df = raw_df.drop(['file'], axis=1)\n",
    "    if set(['macro']).issubset(raw_df.columns):\n",
    "        raw_df = raw_df.drop(['macro'], axis=1)\n",
    "    \n",
    "    df = raw_df.copy()\n",
    "\n",
    "    '''\n",
    "    Variables\n",
    "    C, C**2, C*Mn, C*Si, C*Cr, C*Ni, \n",
    "    Mn, Mn**2, Mn*Si, Mn*Cr, Mn*Ni, \n",
    "    Si, Si*Si, Si*Cr, Si*Ni, \n",
    "    Cr, Cr**2, Cr*Ni,\n",
    "    Ni, Ni**2]\n",
    "    '''\n",
    "\n",
    "    df['C2'] = df['C'].apply(lambda x: x**2)\n",
    "    df['CMn'] = df['C'] * df['Mn']\n",
    "    df['CSi'] = df['C'] * df['Si']\n",
    "    df['CCr'] = df['C'] * df['Cr']\n",
    "    df['CNi'] = df['C'] * df['Ni']\n",
    "    df['Mn2'] = df['Mn'].apply(lambda x: x**2)\n",
    "    df['MnSi'] = df['Si'] * df['Mn']\n",
    "    df['MnCr'] = df['Cr'] * df['Mn']\n",
    "    df['MnNi'] = df['Ni'] * df['Mn']\n",
    "    df['Si'] = df['Si'].apply(lambda x: x**2)\n",
    "    df['SiCr'] = df['Cr'] * df['Si']\n",
    "    df['SiNi'] = df['Si'] * df['Ni']\n",
    "    df['Cr2'] = df['Cr'].apply(lambda x: x**2)\n",
    "    df['CrNi'] = df['Cr'] * df['Ni']\n",
    "    df['Ni2'] = df['Ni'].apply(lambda x: x**2)\n",
    "\n",
    "    df = df.drop(['A3', 'A1prime'], axis=1)\n",
    "    is_na = df['A1'].isna() \n",
    "    df = df.loc[~is_na, :] #REMOVE ALL A1 NAN\n",
    "    df['euct'] = (df['eutectoid'].map(lambda x: 1 if x == 'hiper' else 0))\n",
    "    df= df.drop(['eutectoid'], axis=1) #REMOVE EUCTETOID COLLUMN BECAUSE IT'S A STRING\n",
    "    \n",
    "    return df"
   ]
  },
  {
   "cell_type": "code",
   "execution_count": 4,
   "metadata": {
    "scrolled": false
   },
   "outputs": [],
   "source": [
    "df_A1 = prepare_dataset('../../databases/Tcriticalcopy.csv')\n",
    "\n",
    "hiper = df_A1['euct'] == 1\n",
    "hipo = df_A1['euct'] == 0\n",
    "\n",
    "df_hiper = df_A1.loc[hiper, :]\n",
    "df_hipo = df_A1.loc[hipo, :]"
   ]
  },
  {
   "cell_type": "code",
   "execution_count": 5,
   "metadata": {
    "collapsed": true
   },
   "outputs": [],
   "source": [
    "df_random = prepare_dataset('../../databases/Tcritical_random_compositions_database.csv')\n",
    "\n",
    "hiper = df_random['euct'] == 1\n",
    "hipo = df_random['euct'] == 0\n",
    "dfR_hiper = df_random.loc[hiper, :]\n",
    "dfR_hipo = df_random.loc[hipo, :]"
   ]
  },
  {
   "cell_type": "markdown",
   "metadata": {},
   "source": [
    "# A1 Testing Regression"
   ]
  },
  {
   "cell_type": "code",
   "execution_count": 6,
   "metadata": {
    "collapsed": true
   },
   "outputs": [],
   "source": [
    "def _split_between_train_and_test(df, size):\n",
    "    #train size may be 0.8, 0.7 or 0.99\n",
    "    target = df['A1']\n",
    "    features = df.iloc[:, :20]\n",
    "    X_train, X_test, y_train, y_test = train_test_split(\n",
    "        features,\n",
    "        target,\n",
    "        train_size=size,\n",
    "        random_state=42\n",
    "    )\n",
    "    \n",
    "    X_train = X_train.drop(['A1'], axis=1)\n",
    "    X_test = X_test.drop(['A1'], axis=1)\n",
    "    \n",
    "    print('Train size: {}'.format(X_train.shape))\n",
    "    #print('Test size: {}'.format(X_test.shape))\n",
    "#     return X_train, y_train, X_test, y_test\n",
    "    return X_train, y_train"
   ]
  },
  {
   "cell_type": "markdown",
   "metadata": {},
   "source": [
    "## Hipoeutectoid"
   ]
  },
  {
   "cell_type": "code",
   "execution_count": 7,
   "metadata": {
    "scrolled": false
   },
   "outputs": [
    {
     "name": "stdout",
     "output_type": "stream",
     "text": [
      "Train size: (920, 19)\n",
      "Test size (265, 19)\n"
     ]
    },
    {
     "name": "stderr",
     "output_type": "stream",
     "text": [
      "/home/paula/.local/lib/python3.5/site-packages/sklearn/model_selection/_split.py:2026: FutureWarning: From version 0.21, test_size will always complement train_size unless both are specified.\n",
      "  FutureWarning)\n"
     ]
    },
    {
     "data": {
      "image/png": "[encoded data removed]",
      "text/plain": [
       "<Figure size 432x288 with 1 Axes>"
      ]
     },
     "metadata": {},
     "output_type": "display_data"
    }
   ],
   "source": [
    "lm = linear_model.LinearRegression()\n",
    "\n",
    "#Train\n",
    "# Xh_train, yh_train, Xh_test, yh_test = _split_between_train_and_test(df_hipo, 0.8)\n",
    "Xh_train, yh_train = _split_between_train_and_test(df_hipo, 0.8)\n",
    "model_hipo = lm.fit(Xh_train, yh_train)\n",
    "\n",
    "#Test\n",
    "yh_test = dfR_hipo['A1']\n",
    "Xh_test = dfR_hipo.copy().drop(['A1', 'euct'], axis=1)\n",
    "\n",
    "print('Test size {}'.format(Xh_test.shape))\n",
    "\n",
    "#Predict\n",
    "predictions_h = lm.predict(Xh_test)\n",
    "\n",
    "plt.scatter(yh_test, predictions_h)\n",
    "plt.xlabel('True_Values')\n",
    "plt.ylabel('Predictions')\n",
    "plt.title('A1 Hipoeutectoid')\n",
    "plt.show()\n",
    "\n",
    "#Xh_train"
   ]
  },
  {
   "cell_type": "code",
   "execution_count": 8,
   "metadata": {},
   "outputs": [
    {
     "data": {
      "text/plain": [
       "0.73042408553188"
      ]
     },
     "execution_count": 8,
     "metadata": {},
     "output_type": "execute_result"
    }
   ],
   "source": [
    "metrics.r2_score(yh_test, predictions_h)"
   ]
  },
  {
   "cell_type": "markdown",
   "metadata": {},
   "source": [
    "## Hipereutectoid"
   ]
  },
  {
   "cell_type": "code",
   "execution_count": 9,
   "metadata": {},
   "outputs": [
    {
     "name": "stderr",
     "output_type": "stream",
     "text": [
      "/home/paula/.local/lib/python3.5/site-packages/sklearn/model_selection/_split.py:2026: FutureWarning: From version 0.21, test_size will always complement train_size unless both are specified.\n",
      "  FutureWarning)\n"
     ]
    },
    {
     "name": "stdout",
     "output_type": "stream",
     "text": [
      "Train size: (2646, 19)\n",
      "Test size (265, 19)\n"
     ]
    },
    {
     "data": {
      "image/png": "[encoded data removed]",
      "text/plain": [
       "<Figure size 432x288 with 1 Axes>"
      ]
     },
     "metadata": {},
     "output_type": "display_data"
    }
   ],
   "source": [
    "lm = linear_model.LinearRegression()\n",
    "\n",
    "#Train\n",
    "XH_train, yH_train = _split_between_train_and_test(df_hiper, 0.8)\n",
    "model_hiper = lm.fit(XH_train, yH_train)\n",
    "\n",
    "#Test\n",
    "yH_test = dfR_hiper['A1']\n",
    "XH_test = dfR_hiper.copy().drop(['A1', 'euct'], axis=1)\n",
    "\n",
    "print('Test size {}'.format(Xh_test.shape))\n",
    "\n",
    "#Predict\n",
    "predictions_H = lm.predict(XH_test)\n",
    "\n",
    "plt.scatter(yH_test, predictions_H)\n",
    "plt.xlabel('True_Values')\n",
    "plt.ylabel('Predictions')\n",
    "plt.title('A1 Hipereutectoid')\n",
    "plt.show()"
   ]
  },
  {
   "cell_type": "code",
   "execution_count": 10,
   "metadata": {},
   "outputs": [
    {
     "data": {
      "text/plain": [
       "0.9806204426442964"
      ]
     },
     "execution_count": 10,
     "metadata": {},
     "output_type": "execute_result"
    }
   ],
   "source": [
    "metrics.r2_score(yH_test, predictions_H)"
   ]
  },
  {
   "cell_type": "markdown",
   "metadata": {},
   "source": [
    "# Hipo & Hipereutectoid"
   ]
  },
  {
   "cell_type": "code",
   "execution_count": 11,
   "metadata": {},
   "outputs": [
    {
     "name": "stderr",
     "output_type": "stream",
     "text": [
      "/home/paula/.local/lib/python3.5/site-packages/sklearn/model_selection/_split.py:2026: FutureWarning: From version 0.21, test_size will always complement train_size unless both are specified.\n",
      "  FutureWarning)\n"
     ]
    },
    {
     "name": "stdout",
     "output_type": "stream",
     "text": [
      "Train size: (842, 19)\n",
      "Test size (265, 19)\n"
     ]
    },
    {
     "data": {
      "image/png": "[encoded data removed]",
      "text/plain": [
       "<Figure size 432x288 with 1 Axes>"
      ]
     },
     "metadata": {},
     "output_type": "display_data"
    }
   ],
   "source": [
    "lm = linear_model.LinearRegression()\n",
    "\n",
    "#Train\n",
    "X_train, y_train = _split_between_train_and_test(df_random, 0.8)\n",
    "model_all = lm.fit(X_train, y_train)\n",
    "\n",
    "#Test\n",
    "y_test = df_random['A1']\n",
    "X_test = df_random.copy().drop(['A1', 'euct'], axis=1)\n",
    "\n",
    "print('Test size {}'.format(Xh_test.shape))\n",
    "\n",
    "#Predict\n",
    "predictions_all = lm.predict(X_test)\n",
    "\n",
    "plt.scatter(y_test, predictions_all)\n",
    "plt.xlabel('True_Values')\n",
    "plt.ylabel('Predictions')\n",
    "plt.title('A1 Hipo & Hipereutectoid')\n",
    "plt.show()"
   ]
  },
  {
   "cell_type": "code",
   "execution_count": 12,
   "metadata": {},
   "outputs": [
    {
     "data": {
      "text/plain": [
       "0.9752075659808951"
      ]
     },
     "execution_count": 12,
     "metadata": {},
     "output_type": "execute_result"
    }
   ],
   "source": [
    "metrics.r2_score(y_test, predictions_all)"
   ]
  },
  {
   "cell_type": "markdown",
   "metadata": {},
   "source": [
    "# Summarizing..."
   ]
  },
  {
   "cell_type": "markdown",
   "metadata": {},
   "source": [
    "r2 metrics\n",
    "\n",
    "|  | Hipo | Hiper | All |\n",
    "| --- | --- | --- | --- |\n",
    "| original dataset|0.8663|0.9817|0.9425|\n",
    "| random dataset |0.7304|0.9806|0.9752|"
   ]
  }
 ],
 "metadata": {
  "kernelspec": {
   "display_name": "Python 3",
   "language": "python",
   "name": "python3"
  },
  "language_info": {
   "codemirror_mode": {
    "name": "ipython",
    "version": 3
   },
   "file_extension": ".py",
   "mimetype": "text/x-python",
   "name": "python",
   "nbconvert_exporter": "python",
   "pygments_lexer": "ipython3",
   "version": "3.5.2"
  }
 },
 "nbformat": 4,
 "nbformat_minor": 2
}
