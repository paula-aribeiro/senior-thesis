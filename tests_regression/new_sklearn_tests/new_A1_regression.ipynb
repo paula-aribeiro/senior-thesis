{
 "cells": [
  {
   "cell_type": "code",
   "execution_count": 1,
   "metadata": {},
   "outputs": [],
   "source": [
    "import math\n",
    "import pandas as pd\n",
    "import numpy as np\n",
    "import matplotlib.pyplot as plt\n",
    "from sklearn.linear_model import LinearRegression\n",
    "from sklearn.model_selection import train_test_split\n",
    "\n",
    "from sklearn import linear_model\n",
    "from sklearn import metrics"
   ]
  },
  {
   "cell_type": "markdown",
   "metadata": {},
   "source": [
    "# Preparing dataset"
   ]
  },
  {
   "cell_type": "code",
   "execution_count": 2,
   "metadata": {},
   "outputs": [],
   "source": [
    "def load_dataset(fname):\n",
    "    # read dataset\n",
    "    dataset = pd.read_csv(fname, comment='#')\n",
    "\n",
    "    # compositions to wt.%\n",
    "    dataset.C *= 100\n",
    "    dataset.Mn *= 100\n",
    "    dataset.Si *= 100\n",
    "    dataset.Cr *= 100\n",
    "    dataset.Ni *= 100\n",
    "\n",
    "    # temperatures to oC\n",
    "    dataset.A1 -= 273.15\n",
    "    dataset.A1prime -= 273.15\n",
    "    dataset.A3 -= 273.15\n",
    "\n",
    "    return dataset"
   ]
  },
  {
   "cell_type": "code",
   "execution_count": 3,
   "metadata": {},
   "outputs": [],
   "source": [
    "raw_df = load_dataset('../../databases/Tcritical.csv')\n",
    "raw_df = raw_df.drop(['file', 'macro'], axis=1)\n",
    "#raw_df.head()"
   ]
  },
  {
   "cell_type": "code",
   "execution_count": 4,
   "metadata": {
    "scrolled": true
   },
   "outputs": [
    {
     "data": {
      "text/html": [
       "<div>\n",
       "<style scoped>\n",
       "    .dataframe tbody tr th:only-of-type {\n",
       "        vertical-align: middle;\n",
       "    }\n",
       "\n",
       "    .dataframe tbody tr th {\n",
       "        vertical-align: top;\n",
       "    }\n",
       "\n",
       "    .dataframe thead th {\n",
       "        text-align: right;\n",
       "    }\n",
       "</style>\n",
       "<table border=\"1\" class=\"dataframe\">\n",
       "  <thead>\n",
       "    <tr style=\"text-align: right;\">\n",
       "      <th></th>\n",
       "      <th>C</th>\n",
       "      <th>Mn</th>\n",
       "      <th>Si</th>\n",
       "      <th>Cr</th>\n",
       "      <th>Ni</th>\n",
       "      <th>A1</th>\n",
       "      <th>A1prime</th>\n",
       "      <th>A3</th>\n",
       "      <th>eutectoid</th>\n",
       "      <th>C2</th>\n",
       "      <th>...</th>\n",
       "      <th>CNi</th>\n",
       "      <th>Mn2</th>\n",
       "      <th>MnSi</th>\n",
       "      <th>MnCr</th>\n",
       "      <th>MnNi</th>\n",
       "      <th>SiCr</th>\n",
       "      <th>SiNi</th>\n",
       "      <th>Cr2</th>\n",
       "      <th>CrNi</th>\n",
       "      <th>Ni2</th>\n",
       "    </tr>\n",
       "  </thead>\n",
       "  <tbody>\n",
       "    <tr>\n",
       "      <th>0</th>\n",
       "      <td>0.0</td>\n",
       "      <td>0.0001</td>\n",
       "      <td>1.000000e-08</td>\n",
       "      <td>0.0001</td>\n",
       "      <td>0.000100</td>\n",
       "      <td>NaN</td>\n",
       "      <td>NaN</td>\n",
       "      <td>911.65</td>\n",
       "      <td>hipo</td>\n",
       "      <td>0.0</td>\n",
       "      <td>...</td>\n",
       "      <td>0.0</td>\n",
       "      <td>1.000000e-08</td>\n",
       "      <td>1.000000e-08</td>\n",
       "      <td>1.000000e-08</td>\n",
       "      <td>1.000000e-08</td>\n",
       "      <td>1.000000e-12</td>\n",
       "      <td>1.000000e-12</td>\n",
       "      <td>1.000000e-08</td>\n",
       "      <td>1.000000e-08</td>\n",
       "      <td>1.000000e-08</td>\n",
       "    </tr>\n",
       "    <tr>\n",
       "      <th>1</th>\n",
       "      <td>0.0</td>\n",
       "      <td>0.0001</td>\n",
       "      <td>1.000000e-08</td>\n",
       "      <td>0.0001</td>\n",
       "      <td>0.750075</td>\n",
       "      <td>NaN</td>\n",
       "      <td>NaN</td>\n",
       "      <td>880.26</td>\n",
       "      <td>hipo</td>\n",
       "      <td>0.0</td>\n",
       "      <td>...</td>\n",
       "      <td>0.0</td>\n",
       "      <td>1.000000e-08</td>\n",
       "      <td>1.000000e-08</td>\n",
       "      <td>1.000000e-08</td>\n",
       "      <td>7.500750e-05</td>\n",
       "      <td>1.000000e-12</td>\n",
       "      <td>7.500750e-09</td>\n",
       "      <td>1.000000e-08</td>\n",
       "      <td>7.500750e-05</td>\n",
       "      <td>5.626125e-01</td>\n",
       "    </tr>\n",
       "    <tr>\n",
       "      <th>2</th>\n",
       "      <td>0.0</td>\n",
       "      <td>0.0001</td>\n",
       "      <td>1.000000e-08</td>\n",
       "      <td>0.0001</td>\n",
       "      <td>1.500050</td>\n",
       "      <td>NaN</td>\n",
       "      <td>NaN</td>\n",
       "      <td>853.25</td>\n",
       "      <td>hipo</td>\n",
       "      <td>0.0</td>\n",
       "      <td>...</td>\n",
       "      <td>0.0</td>\n",
       "      <td>1.000000e-08</td>\n",
       "      <td>1.000000e-08</td>\n",
       "      <td>1.000000e-08</td>\n",
       "      <td>1.500050e-04</td>\n",
       "      <td>1.000000e-12</td>\n",
       "      <td>1.500050e-08</td>\n",
       "      <td>1.000000e-08</td>\n",
       "      <td>1.500050e-04</td>\n",
       "      <td>2.250150e+00</td>\n",
       "    </tr>\n",
       "    <tr>\n",
       "      <th>3</th>\n",
       "      <td>0.0</td>\n",
       "      <td>0.0001</td>\n",
       "      <td>1.000000e-08</td>\n",
       "      <td>0.0001</td>\n",
       "      <td>2.250025</td>\n",
       "      <td>NaN</td>\n",
       "      <td>NaN</td>\n",
       "      <td>829.60</td>\n",
       "      <td>hipo</td>\n",
       "      <td>0.0</td>\n",
       "      <td>...</td>\n",
       "      <td>0.0</td>\n",
       "      <td>1.000000e-08</td>\n",
       "      <td>1.000000e-08</td>\n",
       "      <td>1.000000e-08</td>\n",
       "      <td>2.250025e-04</td>\n",
       "      <td>1.000000e-12</td>\n",
       "      <td>2.250025e-08</td>\n",
       "      <td>1.000000e-08</td>\n",
       "      <td>2.250025e-04</td>\n",
       "      <td>5.062613e+00</td>\n",
       "    </tr>\n",
       "    <tr>\n",
       "      <th>4</th>\n",
       "      <td>0.0</td>\n",
       "      <td>0.0001</td>\n",
       "      <td>1.000000e-08</td>\n",
       "      <td>0.0001</td>\n",
       "      <td>3.000000</td>\n",
       "      <td>NaN</td>\n",
       "      <td>NaN</td>\n",
       "      <td>808.65</td>\n",
       "      <td>hipo</td>\n",
       "      <td>0.0</td>\n",
       "      <td>...</td>\n",
       "      <td>0.0</td>\n",
       "      <td>1.000000e-08</td>\n",
       "      <td>1.000000e-08</td>\n",
       "      <td>1.000000e-08</td>\n",
       "      <td>3.000000e-04</td>\n",
       "      <td>1.000000e-12</td>\n",
       "      <td>3.000000e-08</td>\n",
       "      <td>1.000000e-08</td>\n",
       "      <td>3.000000e-04</td>\n",
       "      <td>9.000000e+00</td>\n",
       "    </tr>\n",
       "  </tbody>\n",
       "</table>\n",
       "<p>5 rows × 23 columns</p>\n",
       "</div>"
      ],
      "text/plain": [
       "     C      Mn            Si      Cr        Ni  A1  A1prime      A3 eutectoid  \\\n",
       "0  0.0  0.0001  1.000000e-08  0.0001  0.000100 NaN      NaN  911.65      hipo   \n",
       "1  0.0  0.0001  1.000000e-08  0.0001  0.750075 NaN      NaN  880.26      hipo   \n",
       "2  0.0  0.0001  1.000000e-08  0.0001  1.500050 NaN      NaN  853.25      hipo   \n",
       "3  0.0  0.0001  1.000000e-08  0.0001  2.250025 NaN      NaN  829.60      hipo   \n",
       "4  0.0  0.0001  1.000000e-08  0.0001  3.000000 NaN      NaN  808.65      hipo   \n",
       "\n",
       "    C2      ...       CNi           Mn2          MnSi          MnCr  \\\n",
       "0  0.0      ...       0.0  1.000000e-08  1.000000e-08  1.000000e-08   \n",
       "1  0.0      ...       0.0  1.000000e-08  1.000000e-08  1.000000e-08   \n",
       "2  0.0      ...       0.0  1.000000e-08  1.000000e-08  1.000000e-08   \n",
       "3  0.0      ...       0.0  1.000000e-08  1.000000e-08  1.000000e-08   \n",
       "4  0.0      ...       0.0  1.000000e-08  1.000000e-08  1.000000e-08   \n",
       "\n",
       "           MnNi          SiCr          SiNi           Cr2          CrNi  \\\n",
       "0  1.000000e-08  1.000000e-12  1.000000e-12  1.000000e-08  1.000000e-08   \n",
       "1  7.500750e-05  1.000000e-12  7.500750e-09  1.000000e-08  7.500750e-05   \n",
       "2  1.500050e-04  1.000000e-12  1.500050e-08  1.000000e-08  1.500050e-04   \n",
       "3  2.250025e-04  1.000000e-12  2.250025e-08  1.000000e-08  2.250025e-04   \n",
       "4  3.000000e-04  1.000000e-12  3.000000e-08  1.000000e-08  3.000000e-04   \n",
       "\n",
       "            Ni2  \n",
       "0  1.000000e-08  \n",
       "1  5.626125e-01  \n",
       "2  2.250150e+00  \n",
       "3  5.062613e+00  \n",
       "4  9.000000e+00  \n",
       "\n",
       "[5 rows x 23 columns]"
      ]
     },
     "execution_count": 4,
     "metadata": {},
     "output_type": "execute_result"
    }
   ],
   "source": [
    "df = raw_df.copy()\n",
    "\n",
    "'''\n",
    "Variables\n",
    "C, C**2, C*Mn, C*Si, C*Cr, C*Ni, \n",
    "Mn, Mn**2, Mn*Si, Mn*Cr, Mn*Ni, \n",
    "Si, Si*Si, Si*Cr, Si*Ni, \n",
    "Cr, Cr**2, Cr*Ni,\n",
    "Ni, Ni**2]\n",
    "'''\n",
    "\n",
    "df['C2'] = df['C'].apply(lambda x: x**2)\n",
    "df['CMn'] = df['C'] * df['Mn']\n",
    "df['CSi'] = df['C'] * df['Si']\n",
    "df['CCr'] = df['C'] * df['Cr']\n",
    "df['CNi'] = df['C'] * df['Ni']\n",
    "df['Mn2'] = df['Mn'].apply(lambda x: x**2)\n",
    "df['MnSi'] = df['Si'] * df['Mn']\n",
    "df['MnCr'] = df['Cr'] * df['Mn']\n",
    "df['MnNi'] = df['Ni'] * df['Mn']\n",
    "df['Si'] = df['Si'].apply(lambda x: x**2)\n",
    "df['SiCr'] = df['Cr'] * df['Si']\n",
    "df['SiNi'] = df['Si'] * df['Ni']\n",
    "df['Cr2'] = df['Cr'].apply(lambda x: x**2)\n",
    "df['CrNi'] = df['Cr'] * df['Ni']\n",
    "df['Ni2'] = df['Ni'].apply(lambda x: x**2)\n",
    "\n",
    "df.head()"
   ]
  },
  {
   "cell_type": "markdown",
   "metadata": {},
   "source": [
    "# Preparing A1 dataset"
   ]
  },
  {
   "cell_type": "code",
   "execution_count": 5,
   "metadata": {},
   "outputs": [],
   "source": [
    "df1 = df.copy()\n",
    "df1 = df.drop(['A3', 'A1prime'], axis=1)\n",
    "is_na = df1['A1'].isna() \n",
    "df1 = df1.loc[~is_na, :] #REMOVE ALL A1 NAN\n",
    "df1_ = df1.copy()\n",
    "df1_['eutec'] = (df1_['eutectoid'].map(lambda x: 1 if x == 'hiper' else 0))\n",
    "df1_ = df1_.drop(['eutectoid'], axis=1) #REMOVE EUTECTOID COLLUMN BECAUSE IT'S A STRING\n",
    "#df1_"
   ]
  },
  {
   "cell_type": "code",
   "execution_count": 6,
   "metadata": {},
   "outputs": [
    {
     "data": {
      "text/plain": [
       "1    3308\n",
       "0    1151\n",
       "Name: eutec, dtype: int64"
      ]
     },
     "execution_count": 6,
     "metadata": {},
     "output_type": "execute_result"
    }
   ],
   "source": [
    "df1_['eutec'].value_counts()"
   ]
  },
  {
   "cell_type": "code",
   "execution_count": 7,
   "metadata": {},
   "outputs": [
    {
     "data": {
      "text/html": [
       "<div>\n",
       "<style scoped>\n",
       "    .dataframe tbody tr th:only-of-type {\n",
       "        vertical-align: middle;\n",
       "    }\n",
       "\n",
       "    .dataframe tbody tr th {\n",
       "        vertical-align: top;\n",
       "    }\n",
       "\n",
       "    .dataframe thead th {\n",
       "        text-align: right;\n",
       "    }\n",
       "</style>\n",
       "<table border=\"1\" class=\"dataframe\">\n",
       "  <thead>\n",
       "    <tr style=\"text-align: right;\">\n",
       "      <th></th>\n",
       "      <th>C</th>\n",
       "      <th>Mn</th>\n",
       "      <th>Si</th>\n",
       "      <th>Cr</th>\n",
       "      <th>Ni</th>\n",
       "      <th>A1</th>\n",
       "      <th>C2</th>\n",
       "      <th>CMn</th>\n",
       "      <th>CSi</th>\n",
       "      <th>CCr</th>\n",
       "      <th>...</th>\n",
       "      <th>Mn2</th>\n",
       "      <th>MnSi</th>\n",
       "      <th>MnCr</th>\n",
       "      <th>MnNi</th>\n",
       "      <th>SiCr</th>\n",
       "      <th>SiNi</th>\n",
       "      <th>Cr2</th>\n",
       "      <th>CrNi</th>\n",
       "      <th>Ni2</th>\n",
       "      <th>eutec</th>\n",
       "    </tr>\n",
       "  </thead>\n",
       "  <tbody>\n",
       "    <tr>\n",
       "      <th>76</th>\n",
       "      <td>0.0</td>\n",
       "      <td>0.0001</td>\n",
       "      <td>5.062613</td>\n",
       "      <td>0.000100</td>\n",
       "      <td>0.750075</td>\n",
       "      <td>1020.67</td>\n",
       "      <td>0.0</td>\n",
       "      <td>0.0</td>\n",
       "      <td>0.0</td>\n",
       "      <td>0.0</td>\n",
       "      <td>...</td>\n",
       "      <td>1.000000e-08</td>\n",
       "      <td>0.000225</td>\n",
       "      <td>1.000000e-08</td>\n",
       "      <td>7.500750e-05</td>\n",
       "      <td>0.000506</td>\n",
       "      <td>3.797339</td>\n",
       "      <td>1.000000e-08</td>\n",
       "      <td>0.000075</td>\n",
       "      <td>5.626125e-01</td>\n",
       "      <td>0</td>\n",
       "    </tr>\n",
       "    <tr>\n",
       "      <th>85</th>\n",
       "      <td>0.0</td>\n",
       "      <td>0.0001</td>\n",
       "      <td>5.062613</td>\n",
       "      <td>1.500050</td>\n",
       "      <td>0.000100</td>\n",
       "      <td>1199.85</td>\n",
       "      <td>0.0</td>\n",
       "      <td>0.0</td>\n",
       "      <td>0.0</td>\n",
       "      <td>0.0</td>\n",
       "      <td>...</td>\n",
       "      <td>1.000000e-08</td>\n",
       "      <td>0.000225</td>\n",
       "      <td>1.500050e-04</td>\n",
       "      <td>1.000000e-08</td>\n",
       "      <td>7.594172</td>\n",
       "      <td>0.000506</td>\n",
       "      <td>2.250150e+00</td>\n",
       "      <td>0.000150</td>\n",
       "      <td>1.000000e-08</td>\n",
       "      <td>0</td>\n",
       "    </tr>\n",
       "    <tr>\n",
       "      <th>90</th>\n",
       "      <td>0.0</td>\n",
       "      <td>0.0001</td>\n",
       "      <td>5.062613</td>\n",
       "      <td>2.250025</td>\n",
       "      <td>0.000100</td>\n",
       "      <td>1073.73</td>\n",
       "      <td>0.0</td>\n",
       "      <td>0.0</td>\n",
       "      <td>0.0</td>\n",
       "      <td>0.0</td>\n",
       "      <td>...</td>\n",
       "      <td>1.000000e-08</td>\n",
       "      <td>0.000225</td>\n",
       "      <td>2.250025e-04</td>\n",
       "      <td>1.000000e-08</td>\n",
       "      <td>11.391005</td>\n",
       "      <td>0.000506</td>\n",
       "      <td>5.062613e+00</td>\n",
       "      <td>0.000225</td>\n",
       "      <td>1.000000e-08</td>\n",
       "      <td>0</td>\n",
       "    </tr>\n",
       "    <tr>\n",
       "      <th>95</th>\n",
       "      <td>0.0</td>\n",
       "      <td>0.0001</td>\n",
       "      <td>5.062613</td>\n",
       "      <td>3.000000</td>\n",
       "      <td>0.000100</td>\n",
       "      <td>1045.81</td>\n",
       "      <td>0.0</td>\n",
       "      <td>0.0</td>\n",
       "      <td>0.0</td>\n",
       "      <td>0.0</td>\n",
       "      <td>...</td>\n",
       "      <td>1.000000e-08</td>\n",
       "      <td>0.000225</td>\n",
       "      <td>3.000000e-04</td>\n",
       "      <td>1.000000e-08</td>\n",
       "      <td>15.187838</td>\n",
       "      <td>0.000506</td>\n",
       "      <td>9.000000e+00</td>\n",
       "      <td>0.000300</td>\n",
       "      <td>1.000000e-08</td>\n",
       "      <td>0</td>\n",
       "    </tr>\n",
       "    <tr>\n",
       "      <th>102</th>\n",
       "      <td>0.0</td>\n",
       "      <td>0.0001</td>\n",
       "      <td>9.000000</td>\n",
       "      <td>0.000100</td>\n",
       "      <td>1.500050</td>\n",
       "      <td>1002.41</td>\n",
       "      <td>0.0</td>\n",
       "      <td>0.0</td>\n",
       "      <td>0.0</td>\n",
       "      <td>0.0</td>\n",
       "      <td>...</td>\n",
       "      <td>1.000000e-08</td>\n",
       "      <td>0.000300</td>\n",
       "      <td>1.000000e-08</td>\n",
       "      <td>1.500050e-04</td>\n",
       "      <td>0.000900</td>\n",
       "      <td>13.500450</td>\n",
       "      <td>1.000000e-08</td>\n",
       "      <td>0.000150</td>\n",
       "      <td>2.250150e+00</td>\n",
       "      <td>0</td>\n",
       "    </tr>\n",
       "  </tbody>\n",
       "</table>\n",
       "<p>5 rows × 21 columns</p>\n",
       "</div>"
      ],
      "text/plain": [
       "       C      Mn        Si        Cr        Ni       A1   C2  CMn  CSi  CCr  \\\n",
       "76   0.0  0.0001  5.062613  0.000100  0.750075  1020.67  0.0  0.0  0.0  0.0   \n",
       "85   0.0  0.0001  5.062613  1.500050  0.000100  1199.85  0.0  0.0  0.0  0.0   \n",
       "90   0.0  0.0001  5.062613  2.250025  0.000100  1073.73  0.0  0.0  0.0  0.0   \n",
       "95   0.0  0.0001  5.062613  3.000000  0.000100  1045.81  0.0  0.0  0.0  0.0   \n",
       "102  0.0  0.0001  9.000000  0.000100  1.500050  1002.41  0.0  0.0  0.0  0.0   \n",
       "\n",
       "     ...             Mn2      MnSi          MnCr          MnNi       SiCr  \\\n",
       "76   ...    1.000000e-08  0.000225  1.000000e-08  7.500750e-05   0.000506   \n",
       "85   ...    1.000000e-08  0.000225  1.500050e-04  1.000000e-08   7.594172   \n",
       "90   ...    1.000000e-08  0.000225  2.250025e-04  1.000000e-08  11.391005   \n",
       "95   ...    1.000000e-08  0.000225  3.000000e-04  1.000000e-08  15.187838   \n",
       "102  ...    1.000000e-08  0.000300  1.000000e-08  1.500050e-04   0.000900   \n",
       "\n",
       "          SiNi           Cr2      CrNi           Ni2  eutec  \n",
       "76    3.797339  1.000000e-08  0.000075  5.626125e-01      0  \n",
       "85    0.000506  2.250150e+00  0.000150  1.000000e-08      0  \n",
       "90    0.000506  5.062613e+00  0.000225  1.000000e-08      0  \n",
       "95    0.000506  9.000000e+00  0.000300  1.000000e-08      0  \n",
       "102  13.500450  1.000000e-08  0.000150  2.250150e+00      0  \n",
       "\n",
       "[5 rows x 21 columns]"
      ]
     },
     "execution_count": 7,
     "metadata": {},
     "output_type": "execute_result"
    }
   ],
   "source": [
    "df1_.head()"
   ]
  },
  {
   "cell_type": "code",
   "execution_count": 8,
   "metadata": {},
   "outputs": [],
   "source": [
    "hiper = df1_['eutec'] == 1\n",
    "hipo = df1_['eutec'] == 0\n",
    "\n",
    "df_hiper = df1_.loc[hiper, :]\n",
    "df_hipo = df1_.loc[hipo, :]"
   ]
  },
  {
   "cell_type": "code",
   "execution_count": 9,
   "metadata": {},
   "outputs": [
    {
     "data": {
      "text/plain": [
       "(3308, 21)"
      ]
     },
     "execution_count": 9,
     "metadata": {},
     "output_type": "execute_result"
    }
   ],
   "source": [
    "df_hiper.shape"
   ]
  },
  {
   "cell_type": "code",
   "execution_count": 10,
   "metadata": {},
   "outputs": [
    {
     "data": {
      "text/plain": [
       "(1151, 21)"
      ]
     },
     "execution_count": 10,
     "metadata": {},
     "output_type": "execute_result"
    }
   ],
   "source": [
    "df_hipo.shape"
   ]
  },
  {
   "cell_type": "markdown",
   "metadata": {},
   "source": [
    "# A1 Regression"
   ]
  },
  {
   "cell_type": "code",
   "execution_count": 11,
   "metadata": {},
   "outputs": [],
   "source": [
    "def _split_between_train_and_test(df, size):\n",
    "    #train size may be 0.8, 0.7 or 0.99\n",
    "    target = df['A1']\n",
    "    features = df.iloc[:, :20]\n",
    "    X_train, X_test, y_train, y_test = train_test_split(\n",
    "        features,\n",
    "        target,\n",
    "        train_size=size,\n",
    "        random_state=42\n",
    "    )\n",
    "    \n",
    "    X_train = X_train.drop(['A1'], axis=1)\n",
    "    X_test = X_test.drop(['A1'], axis=1)\n",
    "    \n",
    "    print('Train size: {}'.format(X_train.shape))\n",
    "    print('Test size: {}'.format(X_test.shape))\n",
    "    return X_train, X_test, y_train, y_test"
   ]
  },
  {
   "cell_type": "markdown",
   "metadata": {},
   "source": [
    "## Hipereutectoid"
   ]
  },
  {
   "cell_type": "code",
   "execution_count": 12,
   "metadata": {
    "scrolled": true
   },
   "outputs": [
    {
     "name": "stdout",
     "output_type": "stream",
     "text": [
      "Train size: (2646, 19)\n",
      "Test size: (662, 19)\n"
     ]
    },
    {
     "name": "stderr",
     "output_type": "stream",
     "text": [
      "/home/paula/.local/lib/python3.5/site-packages/sklearn/model_selection/_split.py:2026: FutureWarning: From version 0.21, test_size will always complement train_size unless both are specified.\n",
      "  FutureWarning)\n"
     ]
    }
   ],
   "source": [
    "X_train, X_test, y_train, y_test = _split_between_train_and_test(df_hiper, 0.8)"
   ]
  },
  {
   "cell_type": "code",
   "execution_count": 13,
   "metadata": {},
   "outputs": [
    {
     "data": {
      "text/html": [
       "<div>\n",
       "<style scoped>\n",
       "    .dataframe tbody tr th:only-of-type {\n",
       "        vertical-align: middle;\n",
       "    }\n",
       "\n",
       "    .dataframe tbody tr th {\n",
       "        vertical-align: top;\n",
       "    }\n",
       "\n",
       "    .dataframe thead th {\n",
       "        text-align: right;\n",
       "    }\n",
       "</style>\n",
       "<table border=\"1\" class=\"dataframe\">\n",
       "  <thead>\n",
       "    <tr style=\"text-align: right;\">\n",
       "      <th></th>\n",
       "      <th>C</th>\n",
       "      <th>Mn</th>\n",
       "      <th>Si</th>\n",
       "      <th>Cr</th>\n",
       "      <th>Ni</th>\n",
       "      <th>C2</th>\n",
       "      <th>CMn</th>\n",
       "      <th>CSi</th>\n",
       "      <th>CCr</th>\n",
       "      <th>CNi</th>\n",
       "      <th>Mn2</th>\n",
       "      <th>MnSi</th>\n",
       "      <th>MnCr</th>\n",
       "      <th>MnNi</th>\n",
       "      <th>SiCr</th>\n",
       "      <th>SiNi</th>\n",
       "      <th>Cr2</th>\n",
       "      <th>CrNi</th>\n",
       "      <th>Ni2</th>\n",
       "    </tr>\n",
       "  </thead>\n",
       "  <tbody>\n",
       "    <tr>\n",
       "      <th>5680</th>\n",
       "      <td>1.35</td>\n",
       "      <td>0.000100</td>\n",
       "      <td>2.250150e+00</td>\n",
       "      <td>0.750075</td>\n",
       "      <td>0.000100</td>\n",
       "      <td>1.8225</td>\n",
       "      <td>0.000135</td>\n",
       "      <td>2.025067</td>\n",
       "      <td>1.012601</td>\n",
       "      <td>0.000135</td>\n",
       "      <td>1.000000e-08</td>\n",
       "      <td>0.000150</td>\n",
       "      <td>0.000075</td>\n",
       "      <td>1.000000e-08</td>\n",
       "      <td>1.687781e+00</td>\n",
       "      <td>2.250150e-04</td>\n",
       "      <td>5.626125e-01</td>\n",
       "      <td>0.000075</td>\n",
       "      <td>1.000000e-08</td>\n",
       "    </tr>\n",
       "    <tr>\n",
       "      <th>2072</th>\n",
       "      <td>0.45</td>\n",
       "      <td>0.750075</td>\n",
       "      <td>2.250150e+00</td>\n",
       "      <td>3.000000</td>\n",
       "      <td>1.500050</td>\n",
       "      <td>0.2025</td>\n",
       "      <td>0.337534</td>\n",
       "      <td>0.675022</td>\n",
       "      <td>1.350000</td>\n",
       "      <td>0.675022</td>\n",
       "      <td>5.626125e-01</td>\n",
       "      <td>1.125150</td>\n",
       "      <td>2.250225</td>\n",
       "      <td>1.125150e+00</td>\n",
       "      <td>6.750450e+00</td>\n",
       "      <td>3.375338e+00</td>\n",
       "      <td>9.000000e+00</td>\n",
       "      <td>4.500150</td>\n",
       "      <td>2.250150e+00</td>\n",
       "    </tr>\n",
       "    <tr>\n",
       "      <th>6516</th>\n",
       "      <td>1.50</td>\n",
       "      <td>1.500050</td>\n",
       "      <td>1.000000e-08</td>\n",
       "      <td>2.250025</td>\n",
       "      <td>0.750075</td>\n",
       "      <td>2.2500</td>\n",
       "      <td>2.250075</td>\n",
       "      <td>0.000150</td>\n",
       "      <td>3.375037</td>\n",
       "      <td>1.125112</td>\n",
       "      <td>2.250150e+00</td>\n",
       "      <td>0.000150</td>\n",
       "      <td>3.375150</td>\n",
       "      <td>1.125150e+00</td>\n",
       "      <td>2.250025e-08</td>\n",
       "      <td>7.500750e-09</td>\n",
       "      <td>5.062613e+00</td>\n",
       "      <td>1.687688</td>\n",
       "      <td>5.626125e-01</td>\n",
       "    </tr>\n",
       "    <tr>\n",
       "      <th>6359</th>\n",
       "      <td>1.50</td>\n",
       "      <td>0.000100</td>\n",
       "      <td>9.000000e+00</td>\n",
       "      <td>0.750075</td>\n",
       "      <td>3.000000</td>\n",
       "      <td>2.2500</td>\n",
       "      <td>0.000150</td>\n",
       "      <td>4.500000</td>\n",
       "      <td>1.125112</td>\n",
       "      <td>4.500000</td>\n",
       "      <td>1.000000e-08</td>\n",
       "      <td>0.000300</td>\n",
       "      <td>0.000075</td>\n",
       "      <td>3.000000e-04</td>\n",
       "      <td>6.750675e+00</td>\n",
       "      <td>2.700000e+01</td>\n",
       "      <td>5.626125e-01</td>\n",
       "      <td>2.250225</td>\n",
       "      <td>9.000000e+00</td>\n",
       "    </tr>\n",
       "    <tr>\n",
       "      <th>5154</th>\n",
       "      <td>1.20</td>\n",
       "      <td>0.750075</td>\n",
       "      <td>5.626125e-01</td>\n",
       "      <td>0.000100</td>\n",
       "      <td>3.000000</td>\n",
       "      <td>1.4400</td>\n",
       "      <td>0.900090</td>\n",
       "      <td>0.900090</td>\n",
       "      <td>0.000120</td>\n",
       "      <td>3.600000</td>\n",
       "      <td>5.626125e-01</td>\n",
       "      <td>0.562613</td>\n",
       "      <td>0.000075</td>\n",
       "      <td>2.250225e+00</td>\n",
       "      <td>5.626125e-05</td>\n",
       "      <td>1.687838e+00</td>\n",
       "      <td>1.000000e-08</td>\n",
       "      <td>0.000300</td>\n",
       "      <td>9.000000e+00</td>\n",
       "    </tr>\n",
       "  </tbody>\n",
       "</table>\n",
       "</div>"
      ],
      "text/plain": [
       "         C        Mn            Si        Cr        Ni      C2       CMn  \\\n",
       "5680  1.35  0.000100  2.250150e+00  0.750075  0.000100  1.8225  0.000135   \n",
       "2072  0.45  0.750075  2.250150e+00  3.000000  1.500050  0.2025  0.337534   \n",
       "6516  1.50  1.500050  1.000000e-08  2.250025  0.750075  2.2500  2.250075   \n",
       "6359  1.50  0.000100  9.000000e+00  0.750075  3.000000  2.2500  0.000150   \n",
       "5154  1.20  0.750075  5.626125e-01  0.000100  3.000000  1.4400  0.900090   \n",
       "\n",
       "           CSi       CCr       CNi           Mn2      MnSi      MnCr  \\\n",
       "5680  2.025067  1.012601  0.000135  1.000000e-08  0.000150  0.000075   \n",
       "2072  0.675022  1.350000  0.675022  5.626125e-01  1.125150  2.250225   \n",
       "6516  0.000150  3.375037  1.125112  2.250150e+00  0.000150  3.375150   \n",
       "6359  4.500000  1.125112  4.500000  1.000000e-08  0.000300  0.000075   \n",
       "5154  0.900090  0.000120  3.600000  5.626125e-01  0.562613  0.000075   \n",
       "\n",
       "              MnNi          SiCr          SiNi           Cr2      CrNi  \\\n",
       "5680  1.000000e-08  1.687781e+00  2.250150e-04  5.626125e-01  0.000075   \n",
       "2072  1.125150e+00  6.750450e+00  3.375338e+00  9.000000e+00  4.500150   \n",
       "6516  1.125150e+00  2.250025e-08  7.500750e-09  5.062613e+00  1.687688   \n",
       "6359  3.000000e-04  6.750675e+00  2.700000e+01  5.626125e-01  2.250225   \n",
       "5154  2.250225e+00  5.626125e-05  1.687838e+00  1.000000e-08  0.000300   \n",
       "\n",
       "               Ni2  \n",
       "5680  1.000000e-08  \n",
       "2072  2.250150e+00  \n",
       "6516  5.626125e-01  \n",
       "6359  9.000000e+00  \n",
       "5154  9.000000e+00  "
      ]
     },
     "execution_count": 13,
     "metadata": {},
     "output_type": "execute_result"
    }
   ],
   "source": [
    "X_train.head()"
   ]
  },
  {
   "cell_type": "code",
   "execution_count": 14,
   "metadata": {
    "scrolled": true
   },
   "outputs": [
    {
     "data": {
      "text/plain": [
       "2021    712.102\n",
       "3313    653.475\n",
       "4270    682.167\n",
       "3771    729.120\n",
       "2561    747.180\n",
       "Name: A1, dtype: float64"
      ]
     },
     "execution_count": 14,
     "metadata": {},
     "output_type": "execute_result"
    }
   ],
   "source": [
    "y_test.head()"
   ]
  },
  {
   "cell_type": "code",
   "execution_count": 15,
   "metadata": {},
   "outputs": [
    {
     "data": {
      "text/plain": [
       "5680    761.210\n",
       "2072    699.245\n",
       "6516    690.396\n",
       "6359    669.785\n",
       "5154    583.550\n",
       "Name: A1, dtype: float64"
      ]
     },
     "execution_count": 15,
     "metadata": {},
     "output_type": "execute_result"
    }
   ],
   "source": [
    "y_train.head()"
   ]
  },
  {
   "cell_type": "code",
   "execution_count": 16,
   "metadata": {},
   "outputs": [
    {
     "data": {
      "text/plain": [
       "737.2363971593975"
      ]
     },
     "execution_count": 16,
     "metadata": {},
     "output_type": "execute_result"
    }
   ],
   "source": [
    "lm = linear_model.LinearRegression()\n",
    "model = lm.fit(X_train, y_train)\n",
    "predictions = lm.predict(X_test)\n",
    "model.intercept_\n",
    "\n",
    "# predictor = LinearRegression(n_jobs=-1, normalize=True)\n",
    "# estimator = predictor.fit(X_train, y_train)\n",
    "# estimator.intercept_"
   ]
  },
  {
   "cell_type": "code",
   "execution_count": 17,
   "metadata": {
    "scrolled": false
   },
   "outputs": [
    {
     "data": {
      "text/plain": [
       "[('C', -1.9253232252506554),\n",
       " ('Mn', -34.148543534848116),\n",
       " ('Si', 4.411931179170842),\n",
       " ('Cr', 11.171284130875023),\n",
       " ('Ni', -4.746348086428423),\n",
       " ('C2', -7.395133233882422),\n",
       " ('CMn', 20.52106388685329),\n",
       " ('CSi', 6.2189215291426745),\n",
       " ('CCr', -2.381619209069754),\n",
       " ('CNi', 1.03978497532386),\n",
       " ('Mn2', -0.3175112629251168),\n",
       " ('MnSi', -1.0194518281423595),\n",
       " ('MnCr', -2.506956271844109),\n",
       " ('MnNi', -15.788797274819304),\n",
       " ('SiCr', 0.1364466102572628),\n",
       " ('SiNi', -0.4835121752388645),\n",
       " ('Cr2', -0.19529238973860963),\n",
       " ('CrNi', -2.163105104886979),\n",
       " ('Ni2', -10.325248744064416)]"
      ]
     },
     "execution_count": 17,
     "metadata": {},
     "output_type": "execute_result"
    }
   ],
   "source": [
    "list(zip(X_test.keys(), model.coef_))"
   ]
  },
  {
   "cell_type": "code",
   "execution_count": 72,
   "metadata": {},
   "outputs": [
    {
     "data": {
      "text/plain": [
       "Index(['C', 'Mn', 'Si', 'Cr', 'Ni', 'C2', 'CMn', 'CSi', 'CCr', 'CNi', 'Mn2',\n",
       "       'MnSi', 'MnCr', 'MnNi', 'SiCr', 'SiNi', 'Cr2', 'CrNi', 'Ni2'],\n",
       "      dtype='object')"
      ]
     },
     "execution_count": 72,
     "metadata": {},
     "output_type": "execute_result"
    }
   ],
   "source": [
    "X_test.keys()"
   ]
  },
  {
   "cell_type": "code",
   "execution_count": 18,
   "metadata": {},
   "outputs": [],
   "source": [
    "# fit a model\n",
    "lm = linear_model.LinearRegression()\n",
    "model = lm.fit(X_train, y_train)\n",
    "predictions = lm.predict(X_test)"
   ]
  },
  {
   "cell_type": "markdown",
   "metadata": {},
   "source": [
    "### The line / model"
   ]
  },
  {
   "cell_type": "code",
   "execution_count": 19,
   "metadata": {},
   "outputs": [
    {
     "data": {
      "image/png": "[encoded data removed]",
      "text/plain": [
       "<Figure size 432x288 with 1 Axes>"
      ]
     },
     "metadata": {
      "needs_background": "light"
     },
     "output_type": "display_data"
    }
   ],
   "source": [
    "# plt.scatter(y_test, predictions)\n",
    "# plt.xlabel('True_Values')\n",
    "# plt.ylabel('Predictions')\n",
    "# plt.title('A1 Hipereutectoid non-standardized')\n",
    "# plt.show()\n",
    "\n",
    "fig, ax = plt.subplots()\n",
    "ax.scatter(y_test, predictions)\n",
    "lims = [\n",
    "    np.min([ax.get_xlim(), ax.get_ylim()]),  # min of both axes\n",
    "    np.max([ax.get_xlim(), ax.get_ylim()]),  # max of both axes\n",
    "]\n",
    "ax.plot(lims, lims, 'r-', alpha=0.75, color='black')\n",
    "ax.set_aspect('equal')\n",
    "ax.set_xlim(lims)\n",
    "ax.set_ylim(lims)\n",
    "ax.set_xlabel('Valor esperado')\n",
    "ax.set_ylabel('Valor predito')\n",
    "ax.set_title('A1 Hipereutetóide')\n",
    "plt.savefig('img/A1_hiper.png')"
   ]
  },
  {
   "cell_type": "code",
   "execution_count": 20,
   "metadata": {},
   "outputs": [
    {
     "data": {
      "text/plain": [
       "0.981703817145134"
      ]
     },
     "execution_count": 20,
     "metadata": {},
     "output_type": "execute_result"
    }
   ],
   "source": [
    "metrics.r2_score(y_test, predictions)"
   ]
  },
  {
   "cell_type": "code",
   "execution_count": 21,
   "metadata": {},
   "outputs": [
    {
     "data": {
      "text/plain": [
       "53.68515817322108"
      ]
     },
     "execution_count": 21,
     "metadata": {},
     "output_type": "execute_result"
    }
   ],
   "source": [
    "#MSE\n",
    "metrics.mean_squared_error(y_test, predictions)"
   ]
  },
  {
   "cell_type": "code",
   "execution_count": 22,
   "metadata": {},
   "outputs": [
    {
     "data": {
      "text/plain": [
       "7.327015638936571"
      ]
     },
     "execution_count": 22,
     "metadata": {},
     "output_type": "execute_result"
    }
   ],
   "source": [
    "#RMSE\n",
    "math.sqrt(metrics.mean_squared_error(y_test, predictions))"
   ]
  },
  {
   "cell_type": "markdown",
   "metadata": {
    "collapsed": true
   },
   "source": [
    "## Hipoeutectoid"
   ]
  },
  {
   "cell_type": "code",
   "execution_count": 23,
   "metadata": {
    "scrolled": false
   },
   "outputs": [
    {
     "name": "stdout",
     "output_type": "stream",
     "text": [
      "Train size: (920, 19)\n",
      "Test size: (231, 19)\n"
     ]
    }
   ],
   "source": [
    "X_train, X_test, y_train, y_test = _split_between_train_and_test(df_hipo, 0.8)"
   ]
  },
  {
   "cell_type": "code",
   "execution_count": 24,
   "metadata": {},
   "outputs": [
    {
     "data": {
      "text/html": [
       "<div>\n",
       "<style scoped>\n",
       "    .dataframe tbody tr th:only-of-type {\n",
       "        vertical-align: middle;\n",
       "    }\n",
       "\n",
       "    .dataframe tbody tr th {\n",
       "        vertical-align: top;\n",
       "    }\n",
       "\n",
       "    .dataframe thead th {\n",
       "        text-align: right;\n",
       "    }\n",
       "</style>\n",
       "<table border=\"1\" class=\"dataframe\">\n",
       "  <thead>\n",
       "    <tr style=\"text-align: right;\">\n",
       "      <th></th>\n",
       "      <th>C</th>\n",
       "      <th>Mn</th>\n",
       "      <th>Si</th>\n",
       "      <th>Cr</th>\n",
       "      <th>Ni</th>\n",
       "      <th>C2</th>\n",
       "      <th>CMn</th>\n",
       "      <th>CSi</th>\n",
       "      <th>CCr</th>\n",
       "      <th>CNi</th>\n",
       "      <th>Mn2</th>\n",
       "      <th>MnSi</th>\n",
       "      <th>MnCr</th>\n",
       "      <th>MnNi</th>\n",
       "      <th>SiCr</th>\n",
       "      <th>SiNi</th>\n",
       "      <th>Cr2</th>\n",
       "      <th>CrNi</th>\n",
       "      <th>Ni2</th>\n",
       "    </tr>\n",
       "  </thead>\n",
       "  <tbody>\n",
       "    <tr>\n",
       "      <th>710</th>\n",
       "      <td>0.15</td>\n",
       "      <td>0.000100</td>\n",
       "      <td>5.062613e+00</td>\n",
       "      <td>1.500050</td>\n",
       "      <td>0.00010</td>\n",
       "      <td>0.0225</td>\n",
       "      <td>0.000015</td>\n",
       "      <td>0.337504</td>\n",
       "      <td>0.225007</td>\n",
       "      <td>0.000015</td>\n",
       "      <td>1.000000e-08</td>\n",
       "      <td>0.000225</td>\n",
       "      <td>0.000150</td>\n",
       "      <td>1.000000e-08</td>\n",
       "      <td>7.594172e+00</td>\n",
       "      <td>5.062613e-04</td>\n",
       "      <td>2.250150</td>\n",
       "      <td>0.00015</td>\n",
       "      <td>1.000000e-08</td>\n",
       "    </tr>\n",
       "    <tr>\n",
       "      <th>792</th>\n",
       "      <td>0.15</td>\n",
       "      <td>0.750075</td>\n",
       "      <td>5.626125e-01</td>\n",
       "      <td>2.250025</td>\n",
       "      <td>1.50005</td>\n",
       "      <td>0.0225</td>\n",
       "      <td>0.112511</td>\n",
       "      <td>0.112511</td>\n",
       "      <td>0.337504</td>\n",
       "      <td>0.225007</td>\n",
       "      <td>5.626125e-01</td>\n",
       "      <td>0.562613</td>\n",
       "      <td>1.687688</td>\n",
       "      <td>1.125150e+00</td>\n",
       "      <td>1.265892e+00</td>\n",
       "      <td>8.439469e-01</td>\n",
       "      <td>5.062613</td>\n",
       "      <td>3.37515</td>\n",
       "      <td>2.250150e+00</td>\n",
       "    </tr>\n",
       "    <tr>\n",
       "      <th>1472</th>\n",
       "      <td>0.30</td>\n",
       "      <td>0.750075</td>\n",
       "      <td>5.062613e+00</td>\n",
       "      <td>3.000000</td>\n",
       "      <td>1.50005</td>\n",
       "      <td>0.0900</td>\n",
       "      <td>0.225022</td>\n",
       "      <td>0.675007</td>\n",
       "      <td>0.900000</td>\n",
       "      <td>0.450015</td>\n",
       "      <td>5.626125e-01</td>\n",
       "      <td>1.687688</td>\n",
       "      <td>2.250225</td>\n",
       "      <td>1.125150e+00</td>\n",
       "      <td>1.518784e+01</td>\n",
       "      <td>7.594172e+00</td>\n",
       "      <td>9.000000</td>\n",
       "      <td>4.50015</td>\n",
       "      <td>2.250150e+00</td>\n",
       "    </tr>\n",
       "    <tr>\n",
       "      <th>1845</th>\n",
       "      <td>0.30</td>\n",
       "      <td>3.000000</td>\n",
       "      <td>5.062613e+00</td>\n",
       "      <td>3.000000</td>\n",
       "      <td>0.00010</td>\n",
       "      <td>0.0900</td>\n",
       "      <td>0.900000</td>\n",
       "      <td>0.675007</td>\n",
       "      <td>0.900000</td>\n",
       "      <td>0.000030</td>\n",
       "      <td>9.000000e+00</td>\n",
       "      <td>6.750075</td>\n",
       "      <td>9.000000</td>\n",
       "      <td>3.000000e-04</td>\n",
       "      <td>1.518784e+01</td>\n",
       "      <td>5.062613e-04</td>\n",
       "      <td>9.000000</td>\n",
       "      <td>0.00030</td>\n",
       "      <td>1.000000e-08</td>\n",
       "    </tr>\n",
       "    <tr>\n",
       "      <th>1760</th>\n",
       "      <td>0.30</td>\n",
       "      <td>3.000000</td>\n",
       "      <td>1.000000e-08</td>\n",
       "      <td>1.500050</td>\n",
       "      <td>0.00010</td>\n",
       "      <td>0.0900</td>\n",
       "      <td>0.900000</td>\n",
       "      <td>0.000030</td>\n",
       "      <td>0.450015</td>\n",
       "      <td>0.000030</td>\n",
       "      <td>9.000000e+00</td>\n",
       "      <td>0.000300</td>\n",
       "      <td>4.500150</td>\n",
       "      <td>3.000000e-04</td>\n",
       "      <td>1.500050e-08</td>\n",
       "      <td>1.000000e-12</td>\n",
       "      <td>2.250150</td>\n",
       "      <td>0.00015</td>\n",
       "      <td>1.000000e-08</td>\n",
       "    </tr>\n",
       "  </tbody>\n",
       "</table>\n",
       "</div>"
      ],
      "text/plain": [
       "         C        Mn            Si        Cr       Ni      C2       CMn  \\\n",
       "710   0.15  0.000100  5.062613e+00  1.500050  0.00010  0.0225  0.000015   \n",
       "792   0.15  0.750075  5.626125e-01  2.250025  1.50005  0.0225  0.112511   \n",
       "1472  0.30  0.750075  5.062613e+00  3.000000  1.50005  0.0900  0.225022   \n",
       "1845  0.30  3.000000  5.062613e+00  3.000000  0.00010  0.0900  0.900000   \n",
       "1760  0.30  3.000000  1.000000e-08  1.500050  0.00010  0.0900  0.900000   \n",
       "\n",
       "           CSi       CCr       CNi           Mn2      MnSi      MnCr  \\\n",
       "710   0.337504  0.225007  0.000015  1.000000e-08  0.000225  0.000150   \n",
       "792   0.112511  0.337504  0.225007  5.626125e-01  0.562613  1.687688   \n",
       "1472  0.675007  0.900000  0.450015  5.626125e-01  1.687688  2.250225   \n",
       "1845  0.675007  0.900000  0.000030  9.000000e+00  6.750075  9.000000   \n",
       "1760  0.000030  0.450015  0.000030  9.000000e+00  0.000300  4.500150   \n",
       "\n",
       "              MnNi          SiCr          SiNi       Cr2     CrNi  \\\n",
       "710   1.000000e-08  7.594172e+00  5.062613e-04  2.250150  0.00015   \n",
       "792   1.125150e+00  1.265892e+00  8.439469e-01  5.062613  3.37515   \n",
       "1472  1.125150e+00  1.518784e+01  7.594172e+00  9.000000  4.50015   \n",
       "1845  3.000000e-04  1.518784e+01  5.062613e-04  9.000000  0.00030   \n",
       "1760  3.000000e-04  1.500050e-08  1.000000e-12  2.250150  0.00015   \n",
       "\n",
       "               Ni2  \n",
       "710   1.000000e-08  \n",
       "792   2.250150e+00  \n",
       "1472  2.250150e+00  \n",
       "1845  1.000000e-08  \n",
       "1760  1.000000e-08  "
      ]
     },
     "execution_count": 24,
     "metadata": {},
     "output_type": "execute_result"
    }
   ],
   "source": [
    "X_train.head()"
   ]
  },
  {
   "cell_type": "code",
   "execution_count": 25,
   "metadata": {
    "scrolled": true
   },
   "outputs": [
    {
     "data": {
      "text/plain": [
       "800     726.799\n",
       "1851    635.998\n",
       "1343    720.779\n",
       "890     706.682\n",
       "1621    733.540\n",
       "Name: A1, dtype: float64"
      ]
     },
     "execution_count": 25,
     "metadata": {},
     "output_type": "execute_result"
    }
   ],
   "source": [
    "y_test.head()"
   ]
  },
  {
   "cell_type": "code",
   "execution_count": 26,
   "metadata": {},
   "outputs": [
    {
     "data": {
      "text/plain": [
       "710     789.420\n",
       "792     684.522\n",
       "1472    714.811\n",
       "1845    688.943\n",
       "1760    642.493\n",
       "Name: A1, dtype: float64"
      ]
     },
     "execution_count": 26,
     "metadata": {},
     "output_type": "execute_result"
    }
   ],
   "source": [
    "y_train.head()"
   ]
  },
  {
   "cell_type": "code",
   "execution_count": 27,
   "metadata": {},
   "outputs": [
    {
     "data": {
      "text/plain": [
       "848.477364329739"
      ]
     },
     "execution_count": 27,
     "metadata": {},
     "output_type": "execute_result"
    }
   ],
   "source": [
    "lm = linear_model.LinearRegression()\n",
    "model = lm.fit(X_train, y_train)\n",
    "predictions = lm.predict(X_test)\n",
    "model.intercept_\n",
    "\n",
    "# predictor = LinearRegression(n_jobs=-1, normalize=True)\n",
    "# estimator = predictor.fit(X_train, y_train)\n",
    "# estimator.intercept_"
   ]
  },
  {
   "cell_type": "code",
   "execution_count": 28,
   "metadata": {
    "scrolled": true
   },
   "outputs": [
    {
     "data": {
      "text/plain": [
       "[('C', -606.5898106243345),\n",
       " ('Mn', -57.66489495611559),\n",
       " ('Si', 9.29294110785896),\n",
       " ('Cr', 14.346246202965713),\n",
       " ('Ni', -31.4061012424471),\n",
       " ('C2', 648.5868557743352),\n",
       " ('CMn', 101.29548943354851),\n",
       " ('CSi', -19.71211866803834),\n",
       " ('CCr', 26.11770051057597),\n",
       " ('CNi', 59.70142262660468),\n",
       " ('Mn2', -2.373870082621206),\n",
       " ('MnSi', -0.20546659187693356),\n",
       " ('MnCr', -2.0413509410937722),\n",
       " ('MnNi', -22.706402721346663),\n",
       " ('SiCr', 0.06430759871173741),\n",
       " ('SiNi', -0.873923765000824),\n",
       " ('Cr2', -3.138609331552571),\n",
       " ('CrNi', -0.7556361251713217),\n",
       " ('Ni2', -6.77289959747893)]"
      ]
     },
     "execution_count": 28,
     "metadata": {},
     "output_type": "execute_result"
    }
   ],
   "source": [
    "list(zip(X_test.keys(), model.coef_))"
   ]
  },
  {
   "cell_type": "code",
   "execution_count": 29,
   "metadata": {},
   "outputs": [],
   "source": [
    "# fit a model\n",
    "lm = linear_model.LinearRegression()\n",
    "model = lm.fit(X_train, y_train)\n",
    "predictions = lm.predict(X_test)"
   ]
  },
  {
   "cell_type": "markdown",
   "metadata": {},
   "source": [
    "### The line / model"
   ]
  },
  {
   "cell_type": "code",
   "execution_count": 30,
   "metadata": {},
   "outputs": [
    {
     "data": {
      "image/png": "[encoded data removed]",
      "text/plain": [
       "<Figure size 432x288 with 1 Axes>"
      ]
     },
     "metadata": {
      "needs_background": "light"
     },
     "output_type": "display_data"
    }
   ],
   "source": [
    "# plt.scatter(y_test, predictions)\n",
    "# plt.xlabel('True_Values')\n",
    "# plt.ylabel('Predictions')\n",
    "# plt.title('A1 Hipoeutectoid non-standardized')\n",
    "# plt.show()\n",
    "\n",
    "fig, ax = plt.subplots()\n",
    "ax.scatter(y_test, predictions)\n",
    "lims = [\n",
    "    np.min([ax.get_xlim(), ax.get_ylim()]),  # min of both axes\n",
    "    np.max([ax.get_xlim(), ax.get_ylim()]),  # max of both axes\n",
    "]\n",
    "ax.plot(lims, lims, 'r-', alpha=0.75, color='black')\n",
    "ax.set_aspect('equal')\n",
    "ax.set_xlim(lims)\n",
    "ax.set_ylim(lims)\n",
    "ax.set_xlabel('Valor esperado')\n",
    "ax.set_ylabel('Valor predito')\n",
    "ax.set_title('A1 Hipoeutetóide')\n",
    "plt.savefig('img/A1_hipo.png')"
   ]
  },
  {
   "cell_type": "code",
   "execution_count": 31,
   "metadata": {},
   "outputs": [
    {
     "data": {
      "text/plain": [
       "0.8663182421208461"
      ]
     },
     "execution_count": 31,
     "metadata": {},
     "output_type": "execute_result"
    }
   ],
   "source": [
    "metrics.r2_score(y_test, predictions)"
   ]
  },
  {
   "cell_type": "code",
   "execution_count": 32,
   "metadata": {},
   "outputs": [
    {
     "data": {
      "text/plain": [
       "451.3456939609744"
      ]
     },
     "execution_count": 32,
     "metadata": {},
     "output_type": "execute_result"
    }
   ],
   "source": [
    "#MSE\n",
    "metrics.mean_squared_error(y_test, predictions)"
   ]
  },
  {
   "cell_type": "code",
   "execution_count": 33,
   "metadata": {},
   "outputs": [
    {
     "data": {
      "text/plain": [
       "21.244898068971157"
      ]
     },
     "execution_count": 33,
     "metadata": {},
     "output_type": "execute_result"
    }
   ],
   "source": [
    "#RMSE\n",
    "math.sqrt(metrics.mean_squared_error(y_test, predictions))"
   ]
  },
  {
   "cell_type": "markdown",
   "metadata": {},
   "source": [
    "## Hipo & Hipereutectoid"
   ]
  },
  {
   "cell_type": "code",
   "execution_count": 34,
   "metadata": {
    "scrolled": true
   },
   "outputs": [
    {
     "name": "stdout",
     "output_type": "stream",
     "text": [
      "Train size: (3567, 19)\n",
      "Test size: (892, 19)\n"
     ]
    }
   ],
   "source": [
    "X_train, X_test, y_train, y_test = _split_between_train_and_test(df1_, 0.8)"
   ]
  },
  {
   "cell_type": "code",
   "execution_count": 35,
   "metadata": {},
   "outputs": [
    {
     "data": {
      "text/html": [
       "<div>\n",
       "<style scoped>\n",
       "    .dataframe tbody tr th:only-of-type {\n",
       "        vertical-align: middle;\n",
       "    }\n",
       "\n",
       "    .dataframe tbody tr th {\n",
       "        vertical-align: top;\n",
       "    }\n",
       "\n",
       "    .dataframe thead th {\n",
       "        text-align: right;\n",
       "    }\n",
       "</style>\n",
       "<table border=\"1\" class=\"dataframe\">\n",
       "  <thead>\n",
       "    <tr style=\"text-align: right;\">\n",
       "      <th></th>\n",
       "      <th>C</th>\n",
       "      <th>Mn</th>\n",
       "      <th>Si</th>\n",
       "      <th>Cr</th>\n",
       "      <th>Ni</th>\n",
       "      <th>C2</th>\n",
       "      <th>CMn</th>\n",
       "      <th>CSi</th>\n",
       "      <th>CCr</th>\n",
       "      <th>CNi</th>\n",
       "      <th>Mn2</th>\n",
       "      <th>MnSi</th>\n",
       "      <th>MnCr</th>\n",
       "      <th>MnNi</th>\n",
       "      <th>SiCr</th>\n",
       "      <th>SiNi</th>\n",
       "      <th>Cr2</th>\n",
       "      <th>CrNi</th>\n",
       "      <th>Ni2</th>\n",
       "    </tr>\n",
       "  </thead>\n",
       "  <tbody>\n",
       "    <tr>\n",
       "      <th>2572</th>\n",
       "      <td>0.60</td>\n",
       "      <td>0.000100</td>\n",
       "      <td>2.250150e+00</td>\n",
       "      <td>3.000000</td>\n",
       "      <td>1.50005</td>\n",
       "      <td>0.3600</td>\n",
       "      <td>0.000060</td>\n",
       "      <td>0.900030</td>\n",
       "      <td>1.800000</td>\n",
       "      <td>0.900030</td>\n",
       "      <td>1.000000e-08</td>\n",
       "      <td>0.000150</td>\n",
       "      <td>0.000300</td>\n",
       "      <td>1.500050e-04</td>\n",
       "      <td>6.750450e+00</td>\n",
       "      <td>3.375338e+00</td>\n",
       "      <td>9.000000</td>\n",
       "      <td>4.500150</td>\n",
       "      <td>2.250150e+00</td>\n",
       "    </tr>\n",
       "    <tr>\n",
       "      <th>4755</th>\n",
       "      <td>1.05</td>\n",
       "      <td>2.250025</td>\n",
       "      <td>1.000000e-08</td>\n",
       "      <td>0.750075</td>\n",
       "      <td>0.00010</td>\n",
       "      <td>1.1025</td>\n",
       "      <td>2.362526</td>\n",
       "      <td>0.000105</td>\n",
       "      <td>0.787579</td>\n",
       "      <td>0.000105</td>\n",
       "      <td>5.062613e+00</td>\n",
       "      <td>0.000225</td>\n",
       "      <td>1.687688</td>\n",
       "      <td>2.250025e-04</td>\n",
       "      <td>7.500750e-09</td>\n",
       "      <td>1.000000e-12</td>\n",
       "      <td>0.562613</td>\n",
       "      <td>0.000075</td>\n",
       "      <td>1.000000e-08</td>\n",
       "    </tr>\n",
       "    <tr>\n",
       "      <th>3792</th>\n",
       "      <td>0.90</td>\n",
       "      <td>0.000100</td>\n",
       "      <td>5.626125e-01</td>\n",
       "      <td>2.250025</td>\n",
       "      <td>1.50005</td>\n",
       "      <td>0.8100</td>\n",
       "      <td>0.000090</td>\n",
       "      <td>0.675068</td>\n",
       "      <td>2.025023</td>\n",
       "      <td>1.350045</td>\n",
       "      <td>1.000000e-08</td>\n",
       "      <td>0.000075</td>\n",
       "      <td>0.000225</td>\n",
       "      <td>1.500050e-04</td>\n",
       "      <td>1.265892e+00</td>\n",
       "      <td>8.439469e-01</td>\n",
       "      <td>5.062613</td>\n",
       "      <td>3.375150</td>\n",
       "      <td>2.250150e+00</td>\n",
       "    </tr>\n",
       "    <tr>\n",
       "      <th>5244</th>\n",
       "      <td>1.20</td>\n",
       "      <td>0.750075</td>\n",
       "      <td>9.000000e+00</td>\n",
       "      <td>2.250025</td>\n",
       "      <td>3.00000</td>\n",
       "      <td>1.4400</td>\n",
       "      <td>0.900090</td>\n",
       "      <td>3.600000</td>\n",
       "      <td>2.700030</td>\n",
       "      <td>3.600000</td>\n",
       "      <td>5.626125e-01</td>\n",
       "      <td>2.250225</td>\n",
       "      <td>1.687688</td>\n",
       "      <td>2.250225e+00</td>\n",
       "      <td>2.025023e+01</td>\n",
       "      <td>2.700000e+01</td>\n",
       "      <td>5.062613</td>\n",
       "      <td>6.750075</td>\n",
       "      <td>9.000000e+00</td>\n",
       "    </tr>\n",
       "    <tr>\n",
       "      <th>4485</th>\n",
       "      <td>1.05</td>\n",
       "      <td>0.000100</td>\n",
       "      <td>9.000000e+00</td>\n",
       "      <td>1.500050</td>\n",
       "      <td>0.00010</td>\n",
       "      <td>1.1025</td>\n",
       "      <td>0.000105</td>\n",
       "      <td>3.150000</td>\n",
       "      <td>1.575052</td>\n",
       "      <td>0.000105</td>\n",
       "      <td>1.000000e-08</td>\n",
       "      <td>0.000300</td>\n",
       "      <td>0.000150</td>\n",
       "      <td>1.000000e-08</td>\n",
       "      <td>1.350045e+01</td>\n",
       "      <td>9.000000e-04</td>\n",
       "      <td>2.250150</td>\n",
       "      <td>0.000150</td>\n",
       "      <td>1.000000e-08</td>\n",
       "    </tr>\n",
       "  </tbody>\n",
       "</table>\n",
       "</div>"
      ],
      "text/plain": [
       "         C        Mn            Si        Cr       Ni      C2       CMn  \\\n",
       "2572  0.60  0.000100  2.250150e+00  3.000000  1.50005  0.3600  0.000060   \n",
       "4755  1.05  2.250025  1.000000e-08  0.750075  0.00010  1.1025  2.362526   \n",
       "3792  0.90  0.000100  5.626125e-01  2.250025  1.50005  0.8100  0.000090   \n",
       "5244  1.20  0.750075  9.000000e+00  2.250025  3.00000  1.4400  0.900090   \n",
       "4485  1.05  0.000100  9.000000e+00  1.500050  0.00010  1.1025  0.000105   \n",
       "\n",
       "           CSi       CCr       CNi           Mn2      MnSi      MnCr  \\\n",
       "2572  0.900030  1.800000  0.900030  1.000000e-08  0.000150  0.000300   \n",
       "4755  0.000105  0.787579  0.000105  5.062613e+00  0.000225  1.687688   \n",
       "3792  0.675068  2.025023  1.350045  1.000000e-08  0.000075  0.000225   \n",
       "5244  3.600000  2.700030  3.600000  5.626125e-01  2.250225  1.687688   \n",
       "4485  3.150000  1.575052  0.000105  1.000000e-08  0.000300  0.000150   \n",
       "\n",
       "              MnNi          SiCr          SiNi       Cr2      CrNi  \\\n",
       "2572  1.500050e-04  6.750450e+00  3.375338e+00  9.000000  4.500150   \n",
       "4755  2.250025e-04  7.500750e-09  1.000000e-12  0.562613  0.000075   \n",
       "3792  1.500050e-04  1.265892e+00  8.439469e-01  5.062613  3.375150   \n",
       "5244  2.250225e+00  2.025023e+01  2.700000e+01  5.062613  6.750075   \n",
       "4485  1.000000e-08  1.350045e+01  9.000000e-04  2.250150  0.000150   \n",
       "\n",
       "               Ni2  \n",
       "2572  2.250150e+00  \n",
       "4755  1.000000e-08  \n",
       "3792  2.250150e+00  \n",
       "5244  9.000000e+00  \n",
       "4485  1.000000e-08  "
      ]
     },
     "execution_count": 35,
     "metadata": {},
     "output_type": "execute_result"
    }
   ],
   "source": [
    "X_train.head()"
   ]
  },
  {
   "cell_type": "code",
   "execution_count": 36,
   "metadata": {
    "scrolled": true
   },
   "outputs": [
    {
     "data": {
      "text/plain": [
       "996     732.870\n",
       "4032    653.385\n",
       "4240    748.930\n",
       "5748    725.530\n",
       "6215    725.286\n",
       "Name: A1, dtype: float64"
      ]
     },
     "execution_count": 36,
     "metadata": {},
     "output_type": "execute_result"
    }
   ],
   "source": [
    "y_test.head()"
   ]
  },
  {
   "cell_type": "code",
   "execution_count": 37,
   "metadata": {},
   "outputs": [
    {
     "data": {
      "text/plain": [
       "2572    734.130\n",
       "4755    695.943\n",
       "3792    711.925\n",
       "5244    617.411\n",
       "4485    803.260\n",
       "Name: A1, dtype: float64"
      ]
     },
     "execution_count": 37,
     "metadata": {},
     "output_type": "execute_result"
    }
   ],
   "source": [
    "y_train.head()"
   ]
  },
  {
   "cell_type": "code",
   "execution_count": 38,
   "metadata": {},
   "outputs": [
    {
     "data": {
      "text/plain": [
       "756.1725974763209"
      ]
     },
     "execution_count": 38,
     "metadata": {},
     "output_type": "execute_result"
    }
   ],
   "source": [
    "lm = linear_model.LinearRegression()\n",
    "model = lm.fit(X_train, y_train)\n",
    "predictions = lm.predict(X_test)\n",
    "model.intercept_\n",
    "\n",
    "# predictor = LinearRegression(n_jobs=-1, normalize=True)\n",
    "# estimator = predictor.fit(X_train, y_train)\n",
    "# estimator.intercept_"
   ]
  },
  {
   "cell_type": "code",
   "execution_count": 39,
   "metadata": {
    "scrolled": true
   },
   "outputs": [
    {
     "data": {
      "text/plain": [
       "[('C', -41.568203855328406),\n",
       " ('Mn', -42.53501745043336),\n",
       " ('Si', 6.892423764731163),\n",
       " ('Cr', 14.903148100007591),\n",
       " ('Ni', -11.127676821774275),\n",
       " ('C2', 10.240904162625244),\n",
       " ('CMn', 28.875761206910347),\n",
       " ('CSi', 1.1167326640437079),\n",
       " ('CCr', -3.6421148327804644),\n",
       " ('CNi', 5.319328336425938),\n",
       " ('Mn2', -0.21366073616696202),\n",
       " ('MnSi', -1.1921595241491378),\n",
       " ('MnCr', -2.7348097417879713),\n",
       " ('MnNi', -16.258675199874794),\n",
       " ('SiCr', 0.05700121609027686),\n",
       " ('SiNi', -0.7351524489780106),\n",
       " ('Cr2', -0.6649918174345302),\n",
       " ('CrNi', -2.3656463073536766),\n",
       " ('Ni2', -9.148254071021029)]"
      ]
     },
     "execution_count": 39,
     "metadata": {},
     "output_type": "execute_result"
    }
   ],
   "source": [
    "list(zip(X_test.keys(), model.coef_))"
   ]
  },
  {
   "cell_type": "code",
   "execution_count": 40,
   "metadata": {},
   "outputs": [],
   "source": [
    "# fit a model\n",
    "lm = linear_model.LinearRegression()\n",
    "model = lm.fit(X_train, y_train)\n",
    "predictions = lm.predict(X_test)"
   ]
  },
  {
   "cell_type": "markdown",
   "metadata": {},
   "source": [
    "### The line / model"
   ]
  },
  {
   "cell_type": "code",
   "execution_count": 41,
   "metadata": {},
   "outputs": [
    {
     "data": {
      "image/png": "[encoded data removed]",
      "text/plain": [
       "<Figure size 432x288 with 1 Axes>"
      ]
     },
     "metadata": {
      "needs_background": "light"
     },
     "output_type": "display_data"
    }
   ],
   "source": [
    "# plt.scatter(y_test, predictions)\n",
    "# plt.xlabel('True_Values')\n",
    "# plt.ylabel('Predictions')\n",
    "# plt.title('A1 Hipo & Hipereutectoid non-standardized')\n",
    "# plt.show()\n",
    "\n",
    "fig, ax = plt.subplots()\n",
    "ax.scatter(y_test, predictions)\n",
    "lims = [\n",
    "    np.min([ax.get_xlim(), ax.get_ylim()]),  # min of both axes\n",
    "    np.max([ax.get_xlim(), ax.get_ylim()]),  # max of both axes\n",
    "]\n",
    "ax.plot(lims, lims, 'r-', alpha=0.75, color='black')\n",
    "ax.set_aspect('equal')\n",
    "ax.set_xlim(lims)\n",
    "ax.set_ylim(lims)\n",
    "ax.set_xlabel('Valor esperado')\n",
    "ax.set_ylabel('Valor predito')\n",
    "ax.set_title('A1 Hipo e Hipereutetóide')\n",
    "plt.savefig('img/A1_total.png')"
   ]
  },
  {
   "cell_type": "code",
   "execution_count": 42,
   "metadata": {
    "scrolled": true
   },
   "outputs": [
    {
     "data": {
      "text/plain": [
       "0.9424868974593862"
      ]
     },
     "execution_count": 42,
     "metadata": {},
     "output_type": "execute_result"
    }
   ],
   "source": [
    "metrics.r2_score(y_test, predictions)"
   ]
  },
  {
   "cell_type": "code",
   "execution_count": 43,
   "metadata": {},
   "outputs": [
    {
     "data": {
      "text/plain": [
       "179.93113103724144"
      ]
     },
     "execution_count": 43,
     "metadata": {},
     "output_type": "execute_result"
    }
   ],
   "source": [
    "#MSE\n",
    "metrics.mean_squared_error(y_test, predictions)"
   ]
  },
  {
   "cell_type": "code",
   "execution_count": 44,
   "metadata": {},
   "outputs": [
    {
     "data": {
      "text/plain": [
       "13.413841024749079"
      ]
     },
     "execution_count": 44,
     "metadata": {},
     "output_type": "execute_result"
    }
   ],
   "source": [
    "#RMSE\n",
    "math.sqrt(metrics.mean_squared_error(y_test, predictions))"
   ]
  },
  {
   "cell_type": "markdown",
   "metadata": {},
   "source": [
    "# A1 regression with database standardization"
   ]
  },
  {
   "cell_type": "markdown",
   "metadata": {},
   "source": [
    "## Hipereutectoid"
   ]
  },
  {
   "cell_type": "code",
   "execution_count": 45,
   "metadata": {},
   "outputs": [],
   "source": [
    "df2_hiper = df_hiper.copy()\n",
    "df2_hiper = df2_hiper.loc[~is_na, :]"
   ]
  },
  {
   "cell_type": "code",
   "execution_count": 46,
   "metadata": {},
   "outputs": [],
   "source": [
    "from sklearn.preprocessing import StandardScaler\n",
    "scaler = StandardScaler()\n",
    "scaler.fit(df2_hiper.iloc[:, :-1])\n",
    "df2_hiper.iloc[:, :-1] = scaler.transform(df2_hiper.iloc[:, :-1])"
   ]
  },
  {
   "cell_type": "code",
   "execution_count": 47,
   "metadata": {},
   "outputs": [
    {
     "data": {
      "text/html": [
       "<div>\n",
       "<style scoped>\n",
       "    .dataframe tbody tr th:only-of-type {\n",
       "        vertical-align: middle;\n",
       "    }\n",
       "\n",
       "    .dataframe tbody tr th {\n",
       "        vertical-align: top;\n",
       "    }\n",
       "\n",
       "    .dataframe thead th {\n",
       "        text-align: right;\n",
       "    }\n",
       "</style>\n",
       "<table border=\"1\" class=\"dataframe\">\n",
       "  <thead>\n",
       "    <tr style=\"text-align: right;\">\n",
       "      <th></th>\n",
       "      <th>C</th>\n",
       "      <th>Mn</th>\n",
       "      <th>Si</th>\n",
       "      <th>Cr</th>\n",
       "      <th>Ni</th>\n",
       "      <th>A1</th>\n",
       "      <th>C2</th>\n",
       "      <th>CMn</th>\n",
       "      <th>CSi</th>\n",
       "      <th>CCr</th>\n",
       "      <th>...</th>\n",
       "      <th>Mn2</th>\n",
       "      <th>MnSi</th>\n",
       "      <th>MnCr</th>\n",
       "      <th>MnNi</th>\n",
       "      <th>SiCr</th>\n",
       "      <th>SiNi</th>\n",
       "      <th>Cr2</th>\n",
       "      <th>CrNi</th>\n",
       "      <th>Ni2</th>\n",
       "      <th>eutec</th>\n",
       "    </tr>\n",
       "  </thead>\n",
       "  <tbody>\n",
       "    <tr>\n",
       "      <th>1273</th>\n",
       "      <td>-2.364845</td>\n",
       "      <td>-1.235560</td>\n",
       "      <td>-1.009829</td>\n",
       "      <td>1.356867</td>\n",
       "      <td>1.085211</td>\n",
       "      <td>0.202458</td>\n",
       "      <td>-1.713275</td>\n",
       "      <td>-1.115688</td>\n",
       "      <td>-1.242873</td>\n",
       "      <td>-0.58338</td>\n",
       "      <td>...</td>\n",
       "      <td>-0.887437</td>\n",
       "      <td>-0.819415</td>\n",
       "      <td>-0.847781</td>\n",
       "      <td>-0.858778</td>\n",
       "      <td>-0.733591</td>\n",
       "      <td>-0.676165</td>\n",
       "      <td>1.621438</td>\n",
       "      <td>2.242533</td>\n",
       "      <td>0.973450</td>\n",
       "      <td>1</td>\n",
       "    </tr>\n",
       "    <tr>\n",
       "      <th>1274</th>\n",
       "      <td>-2.364845</td>\n",
       "      <td>-1.235560</td>\n",
       "      <td>-1.009829</td>\n",
       "      <td>1.356867</td>\n",
       "      <td>1.868343</td>\n",
       "      <td>-0.402649</td>\n",
       "      <td>-1.713275</td>\n",
       "      <td>-1.115688</td>\n",
       "      <td>-1.242873</td>\n",
       "      <td>-0.58338</td>\n",
       "      <td>...</td>\n",
       "      <td>-0.887437</td>\n",
       "      <td>-0.819415</td>\n",
       "      <td>-0.847781</td>\n",
       "      <td>-0.858726</td>\n",
       "      <td>-0.733591</td>\n",
       "      <td>-0.676165</td>\n",
       "      <td>1.621438</td>\n",
       "      <td>3.277470</td>\n",
       "      <td>2.403856</td>\n",
       "      <td>1</td>\n",
       "    </tr>\n",
       "    <tr>\n",
       "      <th>1299</th>\n",
       "      <td>-2.364845</td>\n",
       "      <td>-1.235560</td>\n",
       "      <td>-0.840272</td>\n",
       "      <td>1.356867</td>\n",
       "      <td>1.868343</td>\n",
       "      <td>-0.279073</td>\n",
       "      <td>-1.713275</td>\n",
       "      <td>-1.115688</td>\n",
       "      <td>-1.066490</td>\n",
       "      <td>-0.58338</td>\n",
       "      <td>...</td>\n",
       "      <td>-0.887437</td>\n",
       "      <td>-0.819383</td>\n",
       "      <td>-0.847781</td>\n",
       "      <td>-0.858726</td>\n",
       "      <td>-0.500140</td>\n",
       "      <td>-0.401453</td>\n",
       "      <td>1.621438</td>\n",
       "      <td>3.277470</td>\n",
       "      <td>2.403856</td>\n",
       "      <td>1</td>\n",
       "    </tr>\n",
       "    <tr>\n",
       "      <th>1398</th>\n",
       "      <td>-2.364845</td>\n",
       "      <td>-0.515343</td>\n",
       "      <td>-1.009829</td>\n",
       "      <td>1.356867</td>\n",
       "      <td>1.085211</td>\n",
       "      <td>-1.442724</td>\n",
       "      <td>-1.713275</td>\n",
       "      <td>-0.931366</td>\n",
       "      <td>-1.242873</td>\n",
       "      <td>-0.58338</td>\n",
       "      <td>...</td>\n",
       "      <td>-0.705215</td>\n",
       "      <td>-0.819383</td>\n",
       "      <td>0.104293</td>\n",
       "      <td>0.320837</td>\n",
       "      <td>-0.733591</td>\n",
       "      <td>-0.676165</td>\n",
       "      <td>1.621438</td>\n",
       "      <td>2.242533</td>\n",
       "      <td>0.973450</td>\n",
       "      <td>1</td>\n",
       "    </tr>\n",
       "    <tr>\n",
       "      <th>1423</th>\n",
       "      <td>-2.364845</td>\n",
       "      <td>-0.515343</td>\n",
       "      <td>-0.840272</td>\n",
       "      <td>1.356867</td>\n",
       "      <td>1.085211</td>\n",
       "      <td>-1.032155</td>\n",
       "      <td>-1.713275</td>\n",
       "      <td>-0.931366</td>\n",
       "      <td>-1.066490</td>\n",
       "      <td>-0.58338</td>\n",
       "      <td>...</td>\n",
       "      <td>-0.705215</td>\n",
       "      <td>-0.583330</td>\n",
       "      <td>0.104293</td>\n",
       "      <td>0.320837</td>\n",
       "      <td>-0.500140</td>\n",
       "      <td>-0.470129</td>\n",
       "      <td>1.621438</td>\n",
       "      <td>2.242533</td>\n",
       "      <td>0.973450</td>\n",
       "      <td>1</td>\n",
       "    </tr>\n",
       "  </tbody>\n",
       "</table>\n",
       "<p>5 rows × 21 columns</p>\n",
       "</div>"
      ],
      "text/plain": [
       "             C        Mn        Si        Cr        Ni        A1        C2  \\\n",
       "1273 -2.364845 -1.235560 -1.009829  1.356867  1.085211  0.202458 -1.713275   \n",
       "1274 -2.364845 -1.235560 -1.009829  1.356867  1.868343 -0.402649 -1.713275   \n",
       "1299 -2.364845 -1.235560 -0.840272  1.356867  1.868343 -0.279073 -1.713275   \n",
       "1398 -2.364845 -0.515343 -1.009829  1.356867  1.085211 -1.442724 -1.713275   \n",
       "1423 -2.364845 -0.515343 -0.840272  1.356867  1.085211 -1.032155 -1.713275   \n",
       "\n",
       "           CMn       CSi      CCr  ...         Mn2      MnSi      MnCr  \\\n",
       "1273 -1.115688 -1.242873 -0.58338  ...   -0.887437 -0.819415 -0.847781   \n",
       "1274 -1.115688 -1.242873 -0.58338  ...   -0.887437 -0.819415 -0.847781   \n",
       "1299 -1.115688 -1.066490 -0.58338  ...   -0.887437 -0.819383 -0.847781   \n",
       "1398 -0.931366 -1.242873 -0.58338  ...   -0.705215 -0.819383  0.104293   \n",
       "1423 -0.931366 -1.066490 -0.58338  ...   -0.705215 -0.583330  0.104293   \n",
       "\n",
       "          MnNi      SiCr      SiNi       Cr2      CrNi       Ni2  eutec  \n",
       "1273 -0.858778 -0.733591 -0.676165  1.621438  2.242533  0.973450      1  \n",
       "1274 -0.858726 -0.733591 -0.676165  1.621438  3.277470  2.403856      1  \n",
       "1299 -0.858726 -0.500140 -0.401453  1.621438  3.277470  2.403856      1  \n",
       "1398  0.320837 -0.733591 -0.676165  1.621438  2.242533  0.973450      1  \n",
       "1423  0.320837 -0.500140 -0.470129  1.621438  2.242533  0.973450      1  \n",
       "\n",
       "[5 rows x 21 columns]"
      ]
     },
     "execution_count": 47,
     "metadata": {},
     "output_type": "execute_result"
    }
   ],
   "source": [
    "df2_hiper.head()"
   ]
  },
  {
   "cell_type": "code",
   "execution_count": 48,
   "metadata": {},
   "outputs": [
    {
     "name": "stdout",
     "output_type": "stream",
     "text": [
      "Train size: (2646, 19)\n",
      "Test size: (662, 19)\n"
     ]
    }
   ],
   "source": [
    "X2_train, X2_test, y2_train, y2_test = _split_between_train_and_test(df2_hiper, 0.8)"
   ]
  },
  {
   "cell_type": "code",
   "execution_count": 49,
   "metadata": {},
   "outputs": [
    {
     "data": {
      "text/plain": [
       "0.0013933294655042484"
      ]
     },
     "execution_count": 49,
     "metadata": {},
     "output_type": "execute_result"
    }
   ],
   "source": [
    "model2 = lm.fit(X2_train, y2_train)\n",
    "predictions2 = lm.predict(X2_test)\n",
    "model2.intercept_"
   ]
  },
  {
   "cell_type": "code",
   "execution_count": 50,
   "metadata": {},
   "outputs": [
    {
     "data": {
      "text/plain": [
       "[('C', -0.01142804809157441),\n",
       " ('Mn', -0.658322269086442),\n",
       " ('Si', 0.2710238035519349),\n",
       " ('Cr', 0.21694597099769047),\n",
       " ('Ni', -0.08415006930373382),\n",
       " ('C2', -0.09050605145619073),\n",
       " ('CMn', 0.463739931356448),\n",
       " ('CSi', 0.14686185633287646),\n",
       " ('CCr', -0.054299862694328765),\n",
       " ('CNi', 0.0219944340007818),\n",
       " ('Mn2', -0.01814888671449976),\n",
       " ('MnSi', -0.04497710174593803),\n",
       " ('MnCr', -0.10967997556124884),\n",
       " ('MnNi', -0.41814399183906414),\n",
       " ('SiCr', 0.01826332004394021),\n",
       " ('SiNi', -0.05499765279007896),\n",
       " ('Cr2', -0.012071598834041894),\n",
       " ('CrNi', -0.08705922550217521),\n",
       " ('Ni2', -0.5261780321796483)]"
      ]
     },
     "execution_count": 50,
     "metadata": {},
     "output_type": "execute_result"
    }
   ],
   "source": [
    "list(zip(X2_test.keys(), model2.coef_))"
   ]
  },
  {
   "cell_type": "code",
   "execution_count": 51,
   "metadata": {},
   "outputs": [
    {
     "data": {
      "image/png": "[encoded data removed]",
      "text/plain": [
       "<Figure size 432x288 with 1 Axes>"
      ]
     },
     "metadata": {
      "needs_background": "light"
     },
     "output_type": "display_data"
    }
   ],
   "source": [
    "plt.scatter(y2_test, predictions2)\n",
    "plt.xlabel('True_Values')\n",
    "plt.ylabel('Predictions')\n",
    "plt.title('A1 Hipereutectoid standardized')\n",
    "plt.show()"
   ]
  },
  {
   "cell_type": "code",
   "execution_count": 52,
   "metadata": {},
   "outputs": [
    {
     "data": {
      "text/plain": [
       "0.981703817145134"
      ]
     },
     "execution_count": 52,
     "metadata": {},
     "output_type": "execute_result"
    }
   ],
   "source": [
    "#R2\n",
    "metrics.r2_score(y2_test, predictions2)"
   ]
  },
  {
   "cell_type": "code",
   "execution_count": 53,
   "metadata": {},
   "outputs": [
    {
     "data": {
      "text/plain": [
       "179.93113103724144"
      ]
     },
     "execution_count": 53,
     "metadata": {},
     "output_type": "execute_result"
    }
   ],
   "source": [
    "#MSE\n",
    "metrics.mean_squared_error(y_test, predictions)"
   ]
  },
  {
   "cell_type": "code",
   "execution_count": 54,
   "metadata": {},
   "outputs": [
    {
     "data": {
      "text/plain": [
       "0.13564703106105064"
      ]
     },
     "execution_count": 54,
     "metadata": {},
     "output_type": "execute_result"
    }
   ],
   "source": [
    "#RMSE\n",
    "math.sqrt(metrics.mean_squared_error(y2_test, predictions2))"
   ]
  },
  {
   "cell_type": "markdown",
   "metadata": {},
   "source": [
    "## Hipoeutectoid"
   ]
  },
  {
   "cell_type": "code",
   "execution_count": 55,
   "metadata": {},
   "outputs": [],
   "source": [
    "df2_hipo = df_hipo.copy()\n",
    "df2_hipo = df2_hipo.loc[~is_na, :]"
   ]
  },
  {
   "cell_type": "code",
   "execution_count": 56,
   "metadata": {},
   "outputs": [],
   "source": [
    "from sklearn.preprocessing import StandardScaler\n",
    "scaler = StandardScaler()\n",
    "scaler.fit(df2_hipo.iloc[:, :-1])\n",
    "df2_hipo.iloc[:, :-1] = scaler.transform(df2_hipo.iloc[:, :-1])"
   ]
  },
  {
   "cell_type": "code",
   "execution_count": 57,
   "metadata": {},
   "outputs": [
    {
     "data": {
      "text/html": [
       "<div>\n",
       "<style scoped>\n",
       "    .dataframe tbody tr th:only-of-type {\n",
       "        vertical-align: middle;\n",
       "    }\n",
       "\n",
       "    .dataframe tbody tr th {\n",
       "        vertical-align: top;\n",
       "    }\n",
       "\n",
       "    .dataframe thead th {\n",
       "        text-align: right;\n",
       "    }\n",
       "</style>\n",
       "<table border=\"1\" class=\"dataframe\">\n",
       "  <thead>\n",
       "    <tr style=\"text-align: right;\">\n",
       "      <th></th>\n",
       "      <th>C</th>\n",
       "      <th>Mn</th>\n",
       "      <th>Si</th>\n",
       "      <th>Cr</th>\n",
       "      <th>Ni</th>\n",
       "      <th>A1</th>\n",
       "      <th>C2</th>\n",
       "      <th>CMn</th>\n",
       "      <th>CSi</th>\n",
       "      <th>CCr</th>\n",
       "      <th>...</th>\n",
       "      <th>Mn2</th>\n",
       "      <th>MnSi</th>\n",
       "      <th>MnCr</th>\n",
       "      <th>MnNi</th>\n",
       "      <th>SiCr</th>\n",
       "      <th>SiNi</th>\n",
       "      <th>Cr2</th>\n",
       "      <th>CrNi</th>\n",
       "      <th>Ni2</th>\n",
       "      <th>eutec</th>\n",
       "    </tr>\n",
       "  </thead>\n",
       "  <tbody>\n",
       "    <tr>\n",
       "      <th>76</th>\n",
       "      <td>-2.087403</td>\n",
       "      <td>-1.050297</td>\n",
       "      <td>0.393366</td>\n",
       "      <td>-1.162274</td>\n",
       "      <td>-0.220213</td>\n",
       "      <td>4.907358</td>\n",
       "      <td>-1.149036</td>\n",
       "      <td>-0.882518</td>\n",
       "      <td>-1.143918</td>\n",
       "      <td>-1.072143</td>\n",
       "      <td>...</td>\n",
       "      <td>-0.737584</td>\n",
       "      <td>-0.766677</td>\n",
       "      <td>-0.652127</td>\n",
       "      <td>-0.701657</td>\n",
       "      <td>-0.686139</td>\n",
       "      <td>0.032155</td>\n",
       "      <td>-0.829527</td>\n",
       "      <td>-0.641949</td>\n",
       "      <td>-0.479079</td>\n",
       "      <td>0</td>\n",
       "    </tr>\n",
       "    <tr>\n",
       "      <th>85</th>\n",
       "      <td>-2.087403</td>\n",
       "      <td>-1.050297</td>\n",
       "      <td>0.393366</td>\n",
       "      <td>0.290253</td>\n",
       "      <td>-1.043150</td>\n",
       "      <td>7.679506</td>\n",
       "      <td>-1.149036</td>\n",
       "      <td>-0.882518</td>\n",
       "      <td>-1.143918</td>\n",
       "      <td>-1.072143</td>\n",
       "      <td>...</td>\n",
       "      <td>-0.737584</td>\n",
       "      <td>-0.766677</td>\n",
       "      <td>-0.652044</td>\n",
       "      <td>-0.701743</td>\n",
       "      <td>0.435872</td>\n",
       "      <td>-0.641594</td>\n",
       "      <td>-0.085027</td>\n",
       "      <td>-0.641904</td>\n",
       "      <td>-0.709082</td>\n",
       "      <td>0</td>\n",
       "    </tr>\n",
       "    <tr>\n",
       "      <th>90</th>\n",
       "      <td>-2.087403</td>\n",
       "      <td>-1.050297</td>\n",
       "      <td>0.393366</td>\n",
       "      <td>1.016517</td>\n",
       "      <td>-1.043150</td>\n",
       "      <td>5.728266</td>\n",
       "      <td>-1.149036</td>\n",
       "      <td>-0.882518</td>\n",
       "      <td>-1.143918</td>\n",
       "      <td>-1.072143</td>\n",
       "      <td>...</td>\n",
       "      <td>-0.737584</td>\n",
       "      <td>-0.766677</td>\n",
       "      <td>-0.652002</td>\n",
       "      <td>-0.701743</td>\n",
       "      <td>0.996878</td>\n",
       "      <td>-0.641594</td>\n",
       "      <td>0.845524</td>\n",
       "      <td>-0.641860</td>\n",
       "      <td>-0.709082</td>\n",
       "      <td>0</td>\n",
       "    </tr>\n",
       "    <tr>\n",
       "      <th>95</th>\n",
       "      <td>-2.087403</td>\n",
       "      <td>-1.050297</td>\n",
       "      <td>0.393366</td>\n",
       "      <td>1.742781</td>\n",
       "      <td>-1.043150</td>\n",
       "      <td>5.296307</td>\n",
       "      <td>-1.149036</td>\n",
       "      <td>-0.882518</td>\n",
       "      <td>-1.143918</td>\n",
       "      <td>-1.072143</td>\n",
       "      <td>...</td>\n",
       "      <td>-0.737584</td>\n",
       "      <td>-0.766677</td>\n",
       "      <td>-0.651961</td>\n",
       "      <td>-0.701743</td>\n",
       "      <td>1.557883</td>\n",
       "      <td>-0.641594</td>\n",
       "      <td>2.148274</td>\n",
       "      <td>-0.641816</td>\n",
       "      <td>-0.709082</td>\n",
       "      <td>0</td>\n",
       "    </tr>\n",
       "    <tr>\n",
       "      <th>102</th>\n",
       "      <td>-2.087403</td>\n",
       "      <td>-1.050297</td>\n",
       "      <td>1.554658</td>\n",
       "      <td>-1.162274</td>\n",
       "      <td>0.602725</td>\n",
       "      <td>4.624852</td>\n",
       "      <td>-1.149036</td>\n",
       "      <td>-0.882518</td>\n",
       "      <td>-1.143918</td>\n",
       "      <td>-1.072143</td>\n",
       "      <td>...</td>\n",
       "      <td>-0.737584</td>\n",
       "      <td>-0.766643</td>\n",
       "      <td>-0.652127</td>\n",
       "      <td>-0.701571</td>\n",
       "      <td>-0.686081</td>\n",
       "      <td>1.753975</td>\n",
       "      <td>-0.829527</td>\n",
       "      <td>-0.641904</td>\n",
       "      <td>0.210808</td>\n",
       "      <td>0</td>\n",
       "    </tr>\n",
       "  </tbody>\n",
       "</table>\n",
       "<p>5 rows × 21 columns</p>\n",
       "</div>"
      ],
      "text/plain": [
       "            C        Mn        Si        Cr        Ni        A1        C2  \\\n",
       "76  -2.087403 -1.050297  0.393366 -1.162274 -0.220213  4.907358 -1.149036   \n",
       "85  -2.087403 -1.050297  0.393366  0.290253 -1.043150  7.679506 -1.149036   \n",
       "90  -2.087403 -1.050297  0.393366  1.016517 -1.043150  5.728266 -1.149036   \n",
       "95  -2.087403 -1.050297  0.393366  1.742781 -1.043150  5.296307 -1.149036   \n",
       "102 -2.087403 -1.050297  1.554658 -1.162274  0.602725  4.624852 -1.149036   \n",
       "\n",
       "          CMn       CSi       CCr  ...         Mn2      MnSi      MnCr  \\\n",
       "76  -0.882518 -1.143918 -1.072143  ...   -0.737584 -0.766677 -0.652127   \n",
       "85  -0.882518 -1.143918 -1.072143  ...   -0.737584 -0.766677 -0.652044   \n",
       "90  -0.882518 -1.143918 -1.072143  ...   -0.737584 -0.766677 -0.652002   \n",
       "95  -0.882518 -1.143918 -1.072143  ...   -0.737584 -0.766677 -0.651961   \n",
       "102 -0.882518 -1.143918 -1.072143  ...   -0.737584 -0.766643 -0.652127   \n",
       "\n",
       "         MnNi      SiCr      SiNi       Cr2      CrNi       Ni2  eutec  \n",
       "76  -0.701657 -0.686139  0.032155 -0.829527 -0.641949 -0.479079      0  \n",
       "85  -0.701743  0.435872 -0.641594 -0.085027 -0.641904 -0.709082      0  \n",
       "90  -0.701743  0.996878 -0.641594  0.845524 -0.641860 -0.709082      0  \n",
       "95  -0.701743  1.557883 -0.641594  2.148274 -0.641816 -0.709082      0  \n",
       "102 -0.701571 -0.686081  1.753975 -0.829527 -0.641904  0.210808      0  \n",
       "\n",
       "[5 rows x 21 columns]"
      ]
     },
     "execution_count": 57,
     "metadata": {},
     "output_type": "execute_result"
    }
   ],
   "source": [
    "df2_hipo.head()"
   ]
  },
  {
   "cell_type": "code",
   "execution_count": 58,
   "metadata": {},
   "outputs": [
    {
     "name": "stdout",
     "output_type": "stream",
     "text": [
      "Train size: (920, 19)\n",
      "Test size: (231, 19)\n"
     ]
    }
   ],
   "source": [
    "X2_train, X2_test, y2_train, y2_test = _split_between_train_and_test(df2_hipo, 0.8)"
   ]
  },
  {
   "cell_type": "code",
   "execution_count": 59,
   "metadata": {},
   "outputs": [
    {
     "data": {
      "text/plain": [
       "0.0006258526975433509"
      ]
     },
     "execution_count": 59,
     "metadata": {},
     "output_type": "execute_result"
    }
   ],
   "source": [
    "model2 = lm.fit(X2_train, y2_train)\n",
    "predictions2 = lm.predict(X2_test)\n",
    "model2.intercept_"
   ]
  },
  {
   "cell_type": "code",
   "execution_count": 60,
   "metadata": {},
   "outputs": [
    {
     "data": {
      "text/plain": [
       "[('C', -1.4184909052969314),\n",
       " ('Mn', -0.8767037449200684),\n",
       " ('Si', 0.48746865521362753),\n",
       " ('Cr', 0.22920158093996626),\n",
       " ('Ni', -0.44281368852738445),\n",
       " ('C2', 1.0688391355254379),\n",
       " ('CMn', 0.580796345907613),\n",
       " ('CSi', -0.13464610148925066),\n",
       " ('CCr', 0.12105485508033927),\n",
       " ('CNi', 0.3144873471027865),\n",
       " ('Mn2', -0.10113711750403236),\n",
       " ('MnSi', -0.007053233785264109),\n",
       " ('MnCr', -0.057117657305753425),\n",
       " ('MnNi', -0.3056460685161789),\n",
       " ('SiCr', 0.006733540227645505),\n",
       " ('SiNi', -0.0761944961532519),\n",
       " ('Cr2', -0.14676113341987418),\n",
       " ('CrNi', -0.019848073542282768),\n",
       " ('Ni2', -0.2563168466904049)]"
      ]
     },
     "execution_count": 60,
     "metadata": {},
     "output_type": "execute_result"
    }
   ],
   "source": [
    "list(zip(X2_test.keys(), model2.coef_))"
   ]
  },
  {
   "cell_type": "code",
   "execution_count": 61,
   "metadata": {},
   "outputs": [
    {
     "data": {
      "image/png": "[encoded data removed]",
      "text/plain": [
       "<Figure size 432x288 with 1 Axes>"
      ]
     },
     "metadata": {
      "needs_background": "light"
     },
     "output_type": "display_data"
    }
   ],
   "source": [
    "plt.scatter(y2_test, predictions2)\n",
    "plt.xlabel('True_Values')\n",
    "plt.ylabel('Predictions')\n",
    "plt.title('A1 Hipoeutectoid standardized')\n",
    "plt.show()"
   ]
  },
  {
   "cell_type": "code",
   "execution_count": 62,
   "metadata": {},
   "outputs": [
    {
     "data": {
      "text/plain": [
       "0.8663182421208468"
      ]
     },
     "execution_count": 62,
     "metadata": {},
     "output_type": "execute_result"
    }
   ],
   "source": [
    "#R2\n",
    "metrics.r2_score(y2_test, predictions2)"
   ]
  },
  {
   "cell_type": "code",
   "execution_count": 63,
   "metadata": {
    "scrolled": true
   },
   "outputs": [
    {
     "data": {
      "text/plain": [
       "0.32868627877390283"
      ]
     },
     "execution_count": 63,
     "metadata": {},
     "output_type": "execute_result"
    }
   ],
   "source": [
    "#RMSE\n",
    "math.sqrt(metrics.mean_squared_error(y2_test, predictions2))"
   ]
  },
  {
   "cell_type": "markdown",
   "metadata": {},
   "source": [
    "## Hipo & Hipereutectoid"
   ]
  },
  {
   "cell_type": "code",
   "execution_count": 64,
   "metadata": {},
   "outputs": [],
   "source": [
    "df2_ = df1_.copy()\n",
    "df2_ = df2_.loc[~is_na, :]"
   ]
  },
  {
   "cell_type": "code",
   "execution_count": 65,
   "metadata": {},
   "outputs": [],
   "source": [
    "from sklearn.preprocessing import StandardScaler\n",
    "scaler = StandardScaler()\n",
    "scaler.fit(df2_.iloc[:, :-1])\n",
    "df2_.iloc[:, :-1] = scaler.transform(df2_.iloc[:, :-1])"
   ]
  },
  {
   "cell_type": "code",
   "execution_count": 66,
   "metadata": {},
   "outputs": [
    {
     "name": "stdout",
     "output_type": "stream",
     "text": [
      "Train size: (3567, 19)\n",
      "Test size: (892, 19)\n"
     ]
    }
   ],
   "source": [
    "X2_train, X2_test, y2_train, y2_test = _split_between_train_and_test(df2_, 0.8)"
   ]
  },
  {
   "cell_type": "code",
   "execution_count": 67,
   "metadata": {},
   "outputs": [
    {
     "data": {
      "text/plain": [
       "0.00043088437815732693"
      ]
     },
     "execution_count": 67,
     "metadata": {},
     "output_type": "execute_result"
    }
   ],
   "source": [
    "model2 = lm.fit(X2_train, y2_train)\n",
    "predictions2 = lm.predict(X2_test)\n",
    "model2.intercept_"
   ]
  },
  {
   "cell_type": "code",
   "execution_count": 68,
   "metadata": {},
   "outputs": [
    {
     "data": {
      "text/plain": [
       "[('C', -0.3135543671923263),\n",
       " ('Mn', -0.7644783585751231),\n",
       " ('Si', 0.40084433571329303),\n",
       " ('Cr', 0.2743797886198435),\n",
       " ('Ni', -0.18454210948726038),\n",
       " ('C2', 0.1332714308981961),\n",
       " ('CMn', 0.5831192096088607),\n",
       " ('CSi', 0.02365577943511607),\n",
       " ('CCr', -0.07688060417950149),\n",
       " ('CNi', 0.10088135460024861),\n",
       " ('Mn2', -0.011235038251706728),\n",
       " ('MnSi', -0.048649525201467),\n",
       " ('MnCr', -0.10768943369091236),\n",
       " ('MnNi', -0.37829601535998036),\n",
       " ('SiCr', 0.00706389082747748),\n",
       " ('SiNi', -0.07705420487865643),\n",
       " ('Cr2', -0.03813052282181848),\n",
       " ('CrNi', -0.08606344946564498),\n",
       " ('Ni2', -0.42865795195154055)]"
      ]
     },
     "execution_count": 68,
     "metadata": {},
     "output_type": "execute_result"
    }
   ],
   "source": [
    "list(zip(X2_test.keys(), model2.coef_))"
   ]
  },
  {
   "cell_type": "code",
   "execution_count": 69,
   "metadata": {},
   "outputs": [
    {
     "data": {
      "image/png": "[encoded data removed]",
      "text/plain": [
       "<Figure size 432x288 with 1 Axes>"
      ]
     },
     "metadata": {
      "needs_background": "light"
     },
     "output_type": "display_data"
    }
   ],
   "source": [
    "plt.scatter(y2_test, predictions2)\n",
    "plt.xlabel('True_Values')\n",
    "plt.ylabel('Predictions')\n",
    "plt.title('A1 Hipo & Hipereutectoid standardized')\n",
    "plt.show()"
   ]
  },
  {
   "cell_type": "code",
   "execution_count": 70,
   "metadata": {},
   "outputs": [
    {
     "data": {
      "text/plain": [
       "0.9424868974593862"
      ]
     },
     "execution_count": 70,
     "metadata": {},
     "output_type": "execute_result"
    }
   ],
   "source": [
    "#R2\n",
    "metrics.r2_score(y2_test, predictions2)"
   ]
  },
  {
   "cell_type": "code",
   "execution_count": 71,
   "metadata": {
    "scrolled": true
   },
   "outputs": [
    {
     "data": {
      "text/plain": [
       "0.233491003585737"
      ]
     },
     "execution_count": 71,
     "metadata": {},
     "output_type": "execute_result"
    }
   ],
   "source": [
    "#RMSE\n",
    "math.sqrt(metrics.mean_squared_error(y2_test, predictions2))"
   ]
  },
  {
   "cell_type": "markdown",
   "metadata": {},
   "source": [
    "# Summarizing..."
   ]
  },
  {
   "cell_type": "markdown",
   "metadata": {},
   "source": [
    "### Non-standardized"
   ]
  },
  {
   "cell_type": "markdown",
   "metadata": {},
   "source": [
    "|  | Hipo | Hiper | All |\n",
    "| --- | --- | --- | --- |\n",
    "| R2 |0.8663|0.9817|0.9425|\n",
    "| RMSE |21.2449|7.3270|13.41384|"
   ]
  },
  {
   "cell_type": "markdown",
   "metadata": {},
   "source": [
    "### Standardized"
   ]
  },
  {
   "cell_type": "markdown",
   "metadata": {},
   "source": [
    "|  | Hipo | Hiper | All |\n",
    "| --- | --- | --- | --- |\n",
    "| R2 |0.8663|0.9817|0.9425|\n",
    "| RMSE |0.3287|0.1356|0.2335|"
   ]
  },
  {
   "cell_type": "markdown",
   "metadata": {},
   "source": [
    "### Next steps\n",
    "- other metrics: relative percentage error"
   ]
  }
 ],
 "metadata": {
  "kernelspec": {
   "display_name": "Python 3",
   "language": "python",
   "name": "python3"
  },
  "language_info": {
   "codemirror_mode": {
    "name": "ipython",
    "version": 3
   },
   "file_extension": ".py",
   "mimetype": "text/x-python",
   "name": "python",
   "nbconvert_exporter": "python",
   "pygments_lexer": "ipython3",
   "version": "3.5.2"
  }
 },
 "nbformat": 4,
 "nbformat_minor": 2
}
