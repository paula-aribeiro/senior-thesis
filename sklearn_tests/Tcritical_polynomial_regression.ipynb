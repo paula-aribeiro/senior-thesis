{
 "cells": [
  {
   "cell_type": "code",
   "execution_count": 17,
   "metadata": {},
   "outputs": [],
   "source": [
    "import pandas as pd\n",
    "import numpy as np\n",
    "from sklearn.preprocessing import PolynomialFeatures\n",
    "from sklearn import linear_model\n",
    "import matplotlib.pyplot as plt"
   ]
  },
  {
   "cell_type": "code",
   "execution_count": 20,
   "metadata": {},
   "outputs": [
    {
     "data": {
      "text/html": [
       "<div>\n",
       "<style scoped>\n",
       "    .dataframe tbody tr th:only-of-type {\n",
       "        vertical-align: middle;\n",
       "    }\n",
       "\n",
       "    .dataframe tbody tr th {\n",
       "        vertical-align: top;\n",
       "    }\n",
       "\n",
       "    .dataframe thead th {\n",
       "        text-align: right;\n",
       "    }\n",
       "</style>\n",
       "<table border=\"1\" class=\"dataframe\">\n",
       "  <thead>\n",
       "    <tr style=\"text-align: right;\">\n",
       "      <th></th>\n",
       "      <th>file</th>\n",
       "      <th>macro</th>\n",
       "      <th>C</th>\n",
       "      <th>Mn</th>\n",
       "      <th>Si</th>\n",
       "      <th>Cr</th>\n",
       "      <th>Ni</th>\n",
       "      <th>A1</th>\n",
       "      <th>A1prime</th>\n",
       "      <th>A3</th>\n",
       "      <th>eutectoid</th>\n",
       "    </tr>\n",
       "  </thead>\n",
       "  <tbody>\n",
       "    <tr>\n",
       "      <th>0</th>\n",
       "      <td>../results/00000.DAT</td>\n",
       "      <td>../macros_thermocalc/macro_1.tcm</td>\n",
       "      <td>0.0</td>\n",
       "      <td>0.000001</td>\n",
       "      <td>0.000001</td>\n",
       "      <td>0.000001</td>\n",
       "      <td>0.000001</td>\n",
       "      <td>1184.790</td>\n",
       "      <td>1184.790</td>\n",
       "      <td>1184.80</td>\n",
       "      <td>hipo</td>\n",
       "    </tr>\n",
       "    <tr>\n",
       "      <th>1</th>\n",
       "      <td>../results/00001.DAT</td>\n",
       "      <td>../macros_thermocalc/macro_1.tcm</td>\n",
       "      <td>0.0</td>\n",
       "      <td>0.000001</td>\n",
       "      <td>0.000001</td>\n",
       "      <td>0.000001</td>\n",
       "      <td>0.007501</td>\n",
       "      <td>1129.470</td>\n",
       "      <td>1129.470</td>\n",
       "      <td>1153.41</td>\n",
       "      <td>hipo</td>\n",
       "    </tr>\n",
       "    <tr>\n",
       "      <th>2</th>\n",
       "      <td>../results/00002.DAT</td>\n",
       "      <td>../macros_thermocalc/macro_1.tcm</td>\n",
       "      <td>0.0</td>\n",
       "      <td>0.000001</td>\n",
       "      <td>0.000001</td>\n",
       "      <td>0.000001</td>\n",
       "      <td>0.015000</td>\n",
       "      <td>1078.020</td>\n",
       "      <td>1078.020</td>\n",
       "      <td>1126.40</td>\n",
       "      <td>hipo</td>\n",
       "    </tr>\n",
       "    <tr>\n",
       "      <th>3</th>\n",
       "      <td>../results/00003.DAT</td>\n",
       "      <td>../macros_thermocalc/macro_1.tcm</td>\n",
       "      <td>0.0</td>\n",
       "      <td>0.000001</td>\n",
       "      <td>0.000001</td>\n",
       "      <td>0.000001</td>\n",
       "      <td>0.022500</td>\n",
       "      <td>1027.990</td>\n",
       "      <td>1027.990</td>\n",
       "      <td>1102.75</td>\n",
       "      <td>hipo</td>\n",
       "    </tr>\n",
       "    <tr>\n",
       "      <th>4</th>\n",
       "      <td>../results/00004.DAT</td>\n",
       "      <td>../macros_thermocalc/macro_1.tcm</td>\n",
       "      <td>0.0</td>\n",
       "      <td>0.000001</td>\n",
       "      <td>0.000001</td>\n",
       "      <td>0.000001</td>\n",
       "      <td>0.030000</td>\n",
       "      <td>978.821</td>\n",
       "      <td>978.821</td>\n",
       "      <td>1081.80</td>\n",
       "      <td>hipo</td>\n",
       "    </tr>\n",
       "  </tbody>\n",
       "</table>\n",
       "</div>"
      ],
      "text/plain": [
       "                   file                             macro    C        Mn  \\\n",
       "0  ../results/00000.DAT  ../macros_thermocalc/macro_1.tcm  0.0  0.000001   \n",
       "1  ../results/00001.DAT  ../macros_thermocalc/macro_1.tcm  0.0  0.000001   \n",
       "2  ../results/00002.DAT  ../macros_thermocalc/macro_1.tcm  0.0  0.000001   \n",
       "3  ../results/00003.DAT  ../macros_thermocalc/macro_1.tcm  0.0  0.000001   \n",
       "4  ../results/00004.DAT  ../macros_thermocalc/macro_1.tcm  0.0  0.000001   \n",
       "\n",
       "         Si        Cr        Ni        A1   A1prime       A3 eutectoid  \n",
       "0  0.000001  0.000001  0.000001  1184.790  1184.790  1184.80      hipo  \n",
       "1  0.000001  0.000001  0.007501  1129.470  1129.470  1153.41      hipo  \n",
       "2  0.000001  0.000001  0.015000  1078.020  1078.020  1126.40      hipo  \n",
       "3  0.000001  0.000001  0.022500  1027.990  1027.990  1102.75      hipo  \n",
       "4  0.000001  0.000001  0.030000   978.821   978.821  1081.80      hipo  "
      ]
     },
     "execution_count": 20,
     "metadata": {},
     "output_type": "execute_result"
    }
   ],
   "source": [
    "dataset = pd.read_csv('../databases/Tcritical.csv', comment='#')\n",
    "# dataset.shape[0]\n",
    "dataset.head()"
   ]
  },
  {
   "cell_type": "code",
   "execution_count": 126,
   "metadata": {},
   "outputs": [],
   "source": [
    "# sel = ~np.isnan(dataset.A3.values)\n",
    "sel = ~np.isnan(dataset.A1.values) & (dataset.eutectoid == 'hipo')"
   ]
  },
  {
   "cell_type": "code",
   "execution_count": 303,
   "metadata": {},
   "outputs": [],
   "source": [
    "def fit_polynomial(tcrit, eutectoid, degree, reg=linear_model.LinearRegression()):\n",
    "    \n",
    "    if not eutectoid:\n",
    "        sel = ~np.isnan(dataset[tcrit].values)\n",
    "        \n",
    "    else:\n",
    "        sel = ~np.isnan(dataset[tcrit].values) & (dataset.eutectoid == eutectoid)\n",
    "    \n",
    "    filtered_dataset = dataset[sel]\n",
    "    \n",
    "    ind_var = np.vstack([filtered_dataset.C.values*100, \n",
    "                    filtered_dataset.Mn.values*100, \n",
    "                    filtered_dataset.Si.values*100, \n",
    "                    filtered_dataset.Cr.values*100, \n",
    "                    filtered_dataset.Ni.values*100]).transpose()\n",
    "    \n",
    "    dep_var = filtered_dataset[tcrit].values\n",
    "    \n",
    "    poly = PolynomialFeatures(degree=degree)\n",
    "    ind_var_ = poly.fit_transform(ind_var)\n",
    "    \n",
    "#     reg = linear_model.Ridge(alpha=.5)\n",
    "#     reg = linear_model.LinearRegression()\n",
    "#     reg = linear_model.RANSACRegressor()\n",
    "#     reg = linear_model.PassiveAggressiveRegressor()\n",
    "    reg.fit(ind_var_, dep_var)\n",
    "    \n",
    "    fitting_summary = {\n",
    "        'filtered_dataset': filtered_dataset,\n",
    "        'poly': poly,\n",
    "        'reg': reg,\n",
    "        'dep_var': dep_var,\n",
    "        'ind_var_': ind_var_\n",
    "    }\n",
    "    \n",
    "    return fitting_summary"
   ]
  },
  {
   "cell_type": "code",
   "execution_count": 304,
   "metadata": {},
   "outputs": [],
   "source": [
    "def get_coeficients(poly, clf, predict):\n",
    "    print(poly.get_feature_names())\n",
    "    \n",
    "    print(reg.coef_)\n",
    "    print(reg.intercept_)\n",
    "    \n",
    "    predict_ = poly.fit_transform(predict)\n",
    "    print(reg.predict(predict_))"
   ]
  },
  {
   "cell_type": "code",
   "execution_count": 305,
   "metadata": {},
   "outputs": [],
   "source": [
    "def plot_fit(dep_var, reg, ind_var_):\n",
    "    plt.plot(dep_var, reg.predict(ind_var_), 'kx')\n",
    "    Tmin, Tmax = np.min(dep_var), np.max(dep_var)\n",
    "    plt.plot([Tmin, Tmax], [Tmin, Tmax], 'r-')    "
   ]
  },
  {
   "cell_type": "code",
   "execution_count": 312,
   "metadata": {
    "scrolled": true
   },
   "outputs": [
    {
     "data": {
      "image/png": "[encoded data removed]",
      "text/plain": [
       "<Figure size 432x288 with 1 Axes>"
      ]
     },
     "metadata": {},
     "output_type": "display_data"
    }
   ],
   "source": [
    "smry = fit_polynomial('A1', 'hipo', 2, reg=linear_model.LinearRegression())\n",
    "plot_fit(smry['dep_var'], smry['reg'], smry['ind_var_'])\n",
    "# smry['reg']\n",
    "# smry['reg'].estimator_.coef_"
   ]
  },
  {
   "cell_type": "code",
   "execution_count": 311,
   "metadata": {},
   "outputs": [
    {
     "name": "stdout",
     "output_type": "stream",
     "text": [
      "Int64Index([   0,    1,    2,    3,    4,    6,    7,    8,    9,   12,\n",
      "            ...\n",
      "            2977, 3000, 3001, 3025, 3026, 3050, 3051, 3075, 3100, 3225],\n",
      "           dtype='int64', length=1183)\n"
     ]
    },
    {
     "data": {
      "text/plain": [
       "[<matplotlib.lines.Line2D at 0x7f04f717c470>]"
      ]
     },
     "execution_count": 311,
     "metadata": {},
     "output_type": "execute_result"
    },
    {
     "data": {
      "image/png": "[encoded data removed]",
      "text/plain": [
       "<Figure size 432x288 with 1 Axes>"
      ]
     },
     "metadata": {},
     "output_type": "display_data"
    }
   ],
   "source": [
    "smry = fit_polynomial('A1', 'hipo', 2, reg=linear_model.RANSACRegressor())\n",
    "plot_fit(smry['dep_var'], smry['reg'], smry['ind_var_'])\n",
    "\n",
    "filtered_dataset = smry['filtered_dataset']\n",
    "ransac = smry['reg']\n",
    "dep_var = smry['dep_var']\n",
    "ind_var_ = smry['ind_var_']\n",
    "\n",
    "inlier_mask = ransac.inlier_mask_\n",
    "outlier_mask = ~inlier_mask\n",
    "\n",
    "# print(len(filtered_dataset.index), len(inlier_mask))\n",
    "print(filtered_dataset[inlier_mask].index)\n",
    "\n",
    "plt.plot(dep_var[inlier_mask], ransac.predict(ind_var_)[inlier_mask], 'kx')\n",
    "plt.plot(dep_var[outlier_mask], ransac.predict(ind_var_)[outlier_mask], 'gx')"
   ]
  },
  {
   "cell_type": "code",
   "execution_count": null,
   "metadata": {},
   "outputs": [],
   "source": []
  }
 ],
 "metadata": {
  "kernelspec": {
   "display_name": "Python 3",
   "language": "python",
   "name": "python3"
  },
  "language_info": {
   "codemirror_mode": {
    "name": "ipython",
    "version": 3
   },
   "file_extension": ".py",
   "mimetype": "text/x-python",
   "name": "python",
   "nbconvert_exporter": "python",
   "pygments_lexer": "ipython3",
   "version": "3.5.2"
  }
 },
 "nbformat": 4,
 "nbformat_minor": 2
}
