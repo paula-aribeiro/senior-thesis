{
 "cells": [
  {
   "cell_type": "code",
   "execution_count": 62,
   "metadata": {},
   "outputs": [],
   "source": [
    "import pandas as pd\n",
    "import matplotlib.pyplot as plt\n",
    "from collections import OrderedDict\n",
    "\n",
    "from parse_database import read_header_database, parse_header_database, VarRange"
   ]
  },
  {
   "cell_type": "code",
   "execution_count": 44,
   "metadata": {},
   "outputs": [
    {
     "data": {
      "text/plain": [
       "OrderedDict([('C', <parse_database.VarRange at 0x7fd44afe2630>),\n",
       "             ('Mn', <parse_database.VarRange at 0x7fd44afe26d8>),\n",
       "             ('Si', <parse_database.VarRange at 0x7fd44afe2748>),\n",
       "             ('Cr', <parse_database.VarRange at 0x7fd44afe27b8>),\n",
       "             ('Ni', <parse_database.VarRange at 0x7fd44afe2828>)])"
      ]
     },
     "execution_count": 44,
     "metadata": {},
     "output_type": "execute_result"
    }
   ],
   "source": [
    "file_database = '../databases/Tcritical.csv'\n",
    "\n",
    "header = read_header_database(file_database)\n",
    "Trange, comp_range = parse_header_database(header)\n",
    "\n",
    "comp_range"
   ]
  },
  {
   "cell_type": "code",
   "execution_count": 18,
   "metadata": {},
   "outputs": [
    {
     "name": "stdout",
     "output_type": "stream",
     "text": [
      "0.0 0.015 0 11\n"
     ]
    }
   ],
   "source": [
    "print(comp_range['C'].min,\n",
    "      comp_range['C'].max, \n",
    "      comp_range['C'].step,\n",
    "      comp_range['C'].lvls)"
   ]
  },
  {
   "cell_type": "code",
   "execution_count": 19,
   "metadata": {},
   "outputs": [
    {
     "name": "stdout",
     "output_type": "stream",
     "text": [
      "(11, 5, 5, 5, 5)\n"
     ]
    }
   ],
   "source": [
    "newshape = (comp_range['C'].lvls, comp_range['Mn'].lvls, \n",
    "            comp_range['Si'].lvls, comp_range['Cr'].lvls, \n",
    "            comp_range['Ni'].lvls)\n",
    "\n",
    "print(newshape)"
   ]
  },
  {
   "cell_type": "code",
   "execution_count": 46,
   "metadata": {},
   "outputs": [
    {
     "data": {
      "text/html": [
       "<div>\n",
       "<style scoped>\n",
       "    .dataframe tbody tr th:only-of-type {\n",
       "        vertical-align: middle;\n",
       "    }\n",
       "\n",
       "    .dataframe tbody tr th {\n",
       "        vertical-align: top;\n",
       "    }\n",
       "\n",
       "    .dataframe thead th {\n",
       "        text-align: right;\n",
       "    }\n",
       "</style>\n",
       "<table border=\"1\" class=\"dataframe\">\n",
       "  <thead>\n",
       "    <tr style=\"text-align: right;\">\n",
       "      <th></th>\n",
       "      <th>file</th>\n",
       "      <th>macro</th>\n",
       "      <th>C</th>\n",
       "      <th>Mn</th>\n",
       "      <th>Si</th>\n",
       "      <th>Cr</th>\n",
       "      <th>Ni</th>\n",
       "      <th>A1</th>\n",
       "      <th>A1prime</th>\n",
       "      <th>A3</th>\n",
       "      <th>eutectoid</th>\n",
       "    </tr>\n",
       "  </thead>\n",
       "  <tbody>\n",
       "    <tr>\n",
       "      <th>0</th>\n",
       "      <td>../results/00000.DAT</td>\n",
       "      <td>../macros_thermocalc/macro_1.tcm</td>\n",
       "      <td>0.0</td>\n",
       "      <td>0.000001</td>\n",
       "      <td>0.000001</td>\n",
       "      <td>0.000001</td>\n",
       "      <td>0.000001</td>\n",
       "      <td>1184.790</td>\n",
       "      <td>1184.790</td>\n",
       "      <td>1184.80</td>\n",
       "      <td>hipo</td>\n",
       "    </tr>\n",
       "    <tr>\n",
       "      <th>1</th>\n",
       "      <td>../results/00001.DAT</td>\n",
       "      <td>../macros_thermocalc/macro_1.tcm</td>\n",
       "      <td>0.0</td>\n",
       "      <td>0.000001</td>\n",
       "      <td>0.000001</td>\n",
       "      <td>0.000001</td>\n",
       "      <td>0.007501</td>\n",
       "      <td>1129.470</td>\n",
       "      <td>1129.470</td>\n",
       "      <td>1153.41</td>\n",
       "      <td>hipo</td>\n",
       "    </tr>\n",
       "    <tr>\n",
       "      <th>2</th>\n",
       "      <td>../results/00002.DAT</td>\n",
       "      <td>../macros_thermocalc/macro_1.tcm</td>\n",
       "      <td>0.0</td>\n",
       "      <td>0.000001</td>\n",
       "      <td>0.000001</td>\n",
       "      <td>0.000001</td>\n",
       "      <td>0.015000</td>\n",
       "      <td>1078.020</td>\n",
       "      <td>1078.020</td>\n",
       "      <td>1126.40</td>\n",
       "      <td>hipo</td>\n",
       "    </tr>\n",
       "    <tr>\n",
       "      <th>3</th>\n",
       "      <td>../results/00003.DAT</td>\n",
       "      <td>../macros_thermocalc/macro_1.tcm</td>\n",
       "      <td>0.0</td>\n",
       "      <td>0.000001</td>\n",
       "      <td>0.000001</td>\n",
       "      <td>0.000001</td>\n",
       "      <td>0.022500</td>\n",
       "      <td>1027.990</td>\n",
       "      <td>1027.990</td>\n",
       "      <td>1102.75</td>\n",
       "      <td>hipo</td>\n",
       "    </tr>\n",
       "    <tr>\n",
       "      <th>4</th>\n",
       "      <td>../results/00004.DAT</td>\n",
       "      <td>../macros_thermocalc/macro_1.tcm</td>\n",
       "      <td>0.0</td>\n",
       "      <td>0.000001</td>\n",
       "      <td>0.000001</td>\n",
       "      <td>0.000001</td>\n",
       "      <td>0.030000</td>\n",
       "      <td>978.821</td>\n",
       "      <td>978.821</td>\n",
       "      <td>1081.80</td>\n",
       "      <td>hipo</td>\n",
       "    </tr>\n",
       "  </tbody>\n",
       "</table>\n",
       "</div>"
      ],
      "text/plain": [
       "                   file                             macro    C        Mn  \\\n",
       "0  ../results/00000.DAT  ../macros_thermocalc/macro_1.tcm  0.0  0.000001   \n",
       "1  ../results/00001.DAT  ../macros_thermocalc/macro_1.tcm  0.0  0.000001   \n",
       "2  ../results/00002.DAT  ../macros_thermocalc/macro_1.tcm  0.0  0.000001   \n",
       "3  ../results/00003.DAT  ../macros_thermocalc/macro_1.tcm  0.0  0.000001   \n",
       "4  ../results/00004.DAT  ../macros_thermocalc/macro_1.tcm  0.0  0.000001   \n",
       "\n",
       "         Si        Cr        Ni        A1   A1prime       A3 eutectoid  \n",
       "0  0.000001  0.000001  0.000001  1184.790  1184.790  1184.80      hipo  \n",
       "1  0.000001  0.000001  0.007501  1129.470  1129.470  1153.41      hipo  \n",
       "2  0.000001  0.000001  0.015000  1078.020  1078.020  1126.40      hipo  \n",
       "3  0.000001  0.000001  0.022500  1027.990  1027.990  1102.75      hipo  \n",
       "4  0.000001  0.000001  0.030000   978.821   978.821  1081.80      hipo  "
      ]
     },
     "execution_count": 46,
     "metadata": {},
     "output_type": "execute_result"
    }
   ],
   "source": [
    "dataset = pd.read_csv(file_database, comment='#')\n",
    "dataset.head()"
   ]
  },
  {
   "cell_type": "code",
   "execution_count": 75,
   "metadata": {},
   "outputs": [
    {
     "data": {
      "text/plain": [
       "(11, 5, 5, 5, 5)"
      ]
     },
     "execution_count": 75,
     "metadata": {},
     "output_type": "execute_result"
    }
   ],
   "source": [
    "dataset_multidim = OrderedDict()\n",
    "\n",
    "dataset_multidim['C'] = dataset['C'].values.reshape(newshape)\n",
    "dataset_multidim['Mn'] = dataset['Mn'].values.reshape(newshape)\n",
    "dataset_multidim['Si'] = dataset['Si'].values.reshape(newshape)\n",
    "dataset_multidim['Cr'] = dataset['Cr'].values.reshape(newshape)\n",
    "dataset_multidim['Ni'] = dataset['Ni'].values.reshape(newshape)\n",
    "dataset_multidim['A1'] = dataset['A1'].values.reshape(newshape)\n",
    "dataset_multidim['A3'] = dataset['A3'].values.reshape(newshape)\n",
    "dataset_multidim['A1prime'] = dataset['A1prime'].values.reshape(newshape)\n",
    "\n",
    "dataset_multidim['C'].shape"
   ]
  },
  {
   "cell_type": "code",
   "execution_count": 76,
   "metadata": {},
   "outputs": [
    {
     "data": {
      "image/png": "[encoded data removed]",
      "text/plain": [
       "<Figure size 432x288 with 1 Axes>"
      ]
     },
     "metadata": {},
     "output_type": "display_data"
    }
   ],
   "source": [
    "for j in range(comp_range['Mn'].lvls):\n",
    "    plt.plot(dataset_multidim['C'][:,j,0,0,0], dataset_multidim['A3'][:,j,0,0,0])\n"
   ]
  }
 ],
 "metadata": {
  "kernelspec": {
   "display_name": "Python 3",
   "language": "python",
   "name": "python3"
  },
  "language_info": {
   "codemirror_mode": {
    "name": "ipython",
    "version": 3
   },
   "file_extension": ".py",
   "mimetype": "text/x-python",
   "name": "python",
   "nbconvert_exporter": "python",
   "pygments_lexer": "ipython3",
   "version": "3.5.2"
  }
 },
 "nbformat": 4,
 "nbformat_minor": 2
}
