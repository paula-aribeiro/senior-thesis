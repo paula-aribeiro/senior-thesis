{
 "cells": [
  {
   "cell_type": "markdown",
   "metadata": {},
   "source": [
    "# Imports"
   ]
  },
  {
   "cell_type": "code",
   "execution_count": 1,
   "metadata": {},
   "outputs": [
    {
     "name": "stderr",
     "output_type": "stream",
     "text": [
      "Using TensorFlow backend.\n"
     ]
    }
   ],
   "source": [
    "import numpy as np\n",
    "import pandas as pd\n",
    "import matplotlib.pyplot as plt\n",
    "\n",
    "from sklearn.model_selection import train_test_split\n",
    "from sklearn.preprocessing import StandardScaler, MinMaxScaler\n",
    "\n",
    "import keras\n",
    "from keras import optimizers\n",
    "from keras.models import Sequential\n",
    "from keras.layers import Dense\n",
    "from keras.utils import np_utils\n",
    "from keras.models import model_from_json\n",
    "\n",
    "%matplotlib inline"
   ]
  },
  {
   "cell_type": "markdown",
   "metadata": {
    "collapsed": true
   },
   "source": [
    "# Preparing Dataset"
   ]
  },
  {
   "cell_type": "code",
   "execution_count": 2,
   "metadata": {},
   "outputs": [],
   "source": [
    "def load_dataset(fname):\n",
    "    # read dataset\n",
    "    dataset = pd.read_csv(fname, comment='#')\n",
    "\n",
    "    # compositions to wt.%\n",
    "    dataset.C *= 100\n",
    "    dataset.Mn *= 100\n",
    "    dataset.Si *= 100\n",
    "    dataset.Cr *= 100\n",
    "    dataset.Ni *= 100\n",
    "\n",
    "    # temperatures to oC\n",
    "    dataset.A1 -= 273.15\n",
    "    dataset.A1prime -= 273.15\n",
    "    dataset.A3 -= 273.15\n",
    "\n",
    "    return dataset"
   ]
  },
  {
   "cell_type": "code",
   "execution_count": 3,
   "metadata": {},
   "outputs": [],
   "source": [
    "def prepare_dataset(fname):\n",
    "    raw_df = load_dataset(fname)\n",
    "    \n",
    "    if set(['file']).issubset(raw_df.columns):\n",
    "        raw_df = raw_df.drop(['file'], axis=1)\n",
    "    if set(['macro']).issubset(raw_df.columns):\n",
    "        raw_df = raw_df.drop(['macro'], axis=1)\n",
    "    \n",
    "    df = raw_df.copy()\n",
    "\n",
    "    df = df.drop(['A1', 'A1prime'], axis=1)\n",
    "    is_na = df['A3'].isna() \n",
    "    df = df.loc[~is_na, :] #REMOVE ALL A3 NAN\n",
    "    #df['euct'] = (df['eutectoid'].map(lambda x: 1 if x == 'hiper' else 0))\n",
    "    df= df.drop(['eutectoid'], axis=1) #REMOVE EUCTETOID COLLUMN BECAUSE IT'S A STRING\n",
    "    \n",
    "    return df"
   ]
  },
  {
   "cell_type": "code",
   "execution_count": 4,
   "metadata": {},
   "outputs": [],
   "source": [
    "def normalize_all_data(df):\n",
    "    scaler = MinMaxScaler(feature_range=[-1, 1])\n",
    "    scaler.fit(df)\n",
    "    df.loc[:, :] = scaler.transform(df)\n",
    "    return df"
   ]
  },
  {
   "cell_type": "code",
   "execution_count": 5,
   "metadata": {},
   "outputs": [],
   "source": [
    "def split_between_train_and_test(df, size):\n",
    "    #train size may be 0.8, 0.7 or 0.99\n",
    "    target = df['A3']\n",
    "    features = df.iloc[:, :20]\n",
    "    X_train, X_test, y_train, y_test = train_test_split(\n",
    "        features,\n",
    "        target,\n",
    "        train_size=size,\n",
    "        random_state=42\n",
    "    )\n",
    "    \n",
    "    X_train = X_train.drop(['A3'], axis=1)\n",
    "    X_test = X_test.drop(['A3'], axis=1)\n",
    "    \n",
    "    print('Train size: {}'.format(X_train.shape))\n",
    "    print('Test size: {}'.format(X_test.shape))\n",
    "    return X_train, y_train, X_test, y_test"
   ]
  },
  {
   "cell_type": "code",
   "execution_count": 6,
   "metadata": {},
   "outputs": [
    {
     "data": {
      "text/html": [
       "<div>\n",
       "<style scoped>\n",
       "    .dataframe tbody tr th:only-of-type {\n",
       "        vertical-align: middle;\n",
       "    }\n",
       "\n",
       "    .dataframe tbody tr th {\n",
       "        vertical-align: top;\n",
       "    }\n",
       "\n",
       "    .dataframe thead th {\n",
       "        text-align: right;\n",
       "    }\n",
       "</style>\n",
       "<table border=\"1\" class=\"dataframe\">\n",
       "  <thead>\n",
       "    <tr style=\"text-align: right;\">\n",
       "      <th></th>\n",
       "      <th>C</th>\n",
       "      <th>Mn</th>\n",
       "      <th>Si</th>\n",
       "      <th>Cr</th>\n",
       "      <th>Ni</th>\n",
       "      <th>A3</th>\n",
       "    </tr>\n",
       "  </thead>\n",
       "  <tbody>\n",
       "    <tr>\n",
       "      <th>0</th>\n",
       "      <td>-1.0</td>\n",
       "      <td>-1.0</td>\n",
       "      <td>-1.0</td>\n",
       "      <td>-1.0</td>\n",
       "      <td>-1.000000e+00</td>\n",
       "      <td>0.030744</td>\n",
       "    </tr>\n",
       "    <tr>\n",
       "      <th>1</th>\n",
       "      <td>-1.0</td>\n",
       "      <td>-1.0</td>\n",
       "      <td>-1.0</td>\n",
       "      <td>-1.0</td>\n",
       "      <td>-5.000000e-01</td>\n",
       "      <td>-0.100664</td>\n",
       "    </tr>\n",
       "    <tr>\n",
       "      <th>2</th>\n",
       "      <td>-1.0</td>\n",
       "      <td>-1.0</td>\n",
       "      <td>-1.0</td>\n",
       "      <td>-1.0</td>\n",
       "      <td>-2.220446e-16</td>\n",
       "      <td>-0.213736</td>\n",
       "    </tr>\n",
       "    <tr>\n",
       "      <th>3</th>\n",
       "      <td>-1.0</td>\n",
       "      <td>-1.0</td>\n",
       "      <td>-1.0</td>\n",
       "      <td>-1.0</td>\n",
       "      <td>5.000000e-01</td>\n",
       "      <td>-0.312742</td>\n",
       "    </tr>\n",
       "    <tr>\n",
       "      <th>4</th>\n",
       "      <td>-1.0</td>\n",
       "      <td>-1.0</td>\n",
       "      <td>-1.0</td>\n",
       "      <td>-1.0</td>\n",
       "      <td>1.000000e+00</td>\n",
       "      <td>-0.400445</td>\n",
       "    </tr>\n",
       "  </tbody>\n",
       "</table>\n",
       "</div>"
      ],
      "text/plain": [
       "     C   Mn   Si   Cr            Ni        A3\n",
       "0 -1.0 -1.0 -1.0 -1.0 -1.000000e+00  0.030744\n",
       "1 -1.0 -1.0 -1.0 -1.0 -5.000000e-01 -0.100664\n",
       "2 -1.0 -1.0 -1.0 -1.0 -2.220446e-16 -0.213736\n",
       "3 -1.0 -1.0 -1.0 -1.0  5.000000e-01 -0.312742\n",
       "4 -1.0 -1.0 -1.0 -1.0  1.000000e+00 -0.400445"
      ]
     },
     "execution_count": 6,
     "metadata": {},
     "output_type": "execute_result"
    }
   ],
   "source": [
    "df = prepare_dataset('../../databases/Tcriticalcopy.csv')\n",
    "df = normalize_all_data(df)\n",
    "df.head()"
   ]
  },
  {
   "cell_type": "code",
   "execution_count": 8,
   "metadata": {},
   "outputs": [
    {
     "name": "stdout",
     "output_type": "stream",
     "text": [
      "Train size: (5476, 5)\n",
      "Test size: (1369, 5)\n"
     ]
    }
   ],
   "source": [
    "X_train, y_train, X_test, y_test = split_between_train_and_test(df, 0.8)"
   ]
  },
  {
   "cell_type": "markdown",
   "metadata": {},
   "source": [
    "# The Model"
   ]
  },
  {
   "cell_type": "code",
   "execution_count": 29,
   "metadata": {},
   "outputs": [],
   "source": [
    "def get_model(hidden_layer_neurons, activation_function, learning_rate, \n",
    "              loss_function, epochs, plot=False, save=False, file_number=''):\n",
    "    \"\"\"\n",
    "    PARAMS\n",
    "    hidden_layer_neurons: int\n",
    "    activation_function: tanh, relu, sigmoid\n",
    "    0 < learning_rate < 1 (I'm not sure)\n",
    "    loss_function: 'mean_squared_error'\n",
    "    epochs: int\n",
    "    \"\"\"\n",
    "    \n",
    "    # Creating a KERAS model\n",
    "    model = Sequential()\n",
    "    model.add(Dense(hidden_layer_neurons, input_dim=5, activation=activation_function))\n",
    "    model.add(Dense(1, activation=activation_function))\n",
    "    \n",
    "    opt = optimizers.RMSprop(lr=learning_rate, rho=0.9, epsilon=None, decay=0.0)\n",
    "    \n",
    "    model.compile(loss=loss_function, optimizer=opt)\n",
    "    loss = []\n",
    "    \n",
    "    history = model.fit(X_train, y_train, epochs=epochs, verbose=0)\n",
    "    loss += history.history['loss']\n",
    "    \n",
    "    score = model.evaluate(X_test, y_test, verbose=0)\n",
    "#     print('Test loss (mean squared error):', score)\n",
    "    \n",
    "    if file_number:\n",
    "        file_name = '{}_{}_{}'.format(learning_rate, hidden_layer_neurons, file_number)\n",
    "    else:\n",
    "        file_name = '{}_{}'.format(learning_rate, hidden_layer_neurons)\n",
    "    \n",
    "    if plot:\n",
    "        #Plot Loss\n",
    "        fig, ax = plt.subplots()\n",
    "        ax.plot(loss, color='k', label='Loss')\n",
    "        ax.set_xlabel('Iterações')\n",
    "        ax.set_ylabel('Perda (erro quadrático médio)')\n",
    "        plt.title('Neurônios na camada intermediária: {}'.format(hidden_layer_neurons))\n",
    "        plt.savefig('img/loss/{}.png'.format(file_name))\n",
    "        \n",
    "        #Plot Expected x Predicted\n",
    "        fig, ax = plt.subplots()\n",
    "        ax.plot(model.predict(X_train), y_train, 'ko')\n",
    "        ax.plot(model.predict(X_test), y_test, 'kv', mfc='white')\n",
    "        ax.plot([-1,1],[-1,1],'r-')\n",
    "        ax.set_xlabel('Valor predito')\n",
    "        ax.set_ylabel('Valor esperado')\n",
    "        plt.title('Neurônios na camada intermediária: {}'.format(hidden_layer_neurons))\n",
    "        plt.savefig('img/predict/{}.png'.format(file_name))\n",
    "        \n",
    "    if save:\n",
    "        model_json = model.to_json()\n",
    "        model_name = 'model{}'.format(file_name)\n",
    "        \n",
    "        with open(\"models/{}.json\".format(model_name), \"w\") as json_file:\n",
    "            json_file.write(model_json)\n",
    "        # serialize weights to HDF5\n",
    "        model.save_weights(\"models/{}.h5\".format(model_name))\n",
    "        \n",
    "    return score"
   ]
  },
  {
   "cell_type": "markdown",
   "metadata": {},
   "source": [
    "## Evaluating the effects of the number of hidden layer neurons and learning rate on the score"
   ]
  },
  {
   "cell_type": "code",
   "execution_count": 33,
   "metadata": {},
   "outputs": [],
   "source": [
    "def test_number_of_neurons(max_neurons, activation_function, learning_rate, \n",
    "              loss_function, epochs, plot=False, save=False):\n",
    "    data=[]\n",
    "    for i in range(1, max_neurons+1):\n",
    "#         print(i)\n",
    "        for j in range(5):\n",
    "            score = get_model(i, activation_function, learning_rate, \n",
    "              loss_function, epochs, plot, save, str(j))\n",
    "            data.append([i, score])\n",
    "    \n",
    "    test_df = pd.DataFrame(data, columns=['neurons', 'score'])\n",
    "    return test_df"
   ]
  },
  {
   "cell_type": "code",
   "execution_count": 34,
   "metadata": {
    "scrolled": true
   },
   "outputs": [
    {
     "data": {
      "image/png": "[encoded data removed]",
      "text/plain": [
       "<Figure size 432x288 with 1 Axes>"
      ]
     },
     "metadata": {
      "needs_background": "light"
     },
     "output_type": "display_data"
    }
   ],
   "source": [
    "test_001 = test_number_of_neurons(12, 'tanh', 0.001, 'mean_squared_error', 100, save=True)\n",
    "\n",
    "test_001.plot(kind='scatter',x='neurons',y='score')\n",
    "plt.title('Learning rate = 0.001')\n",
    "plt.xlabel('Neurônios na camada intermediária')\n",
    "plt.ylabel('Erro quadrático médio')\n",
    "plt.savefig('test001')\n",
    "#plt.show"
   ]
  },
  {
   "cell_type": "code",
   "execution_count": 35,
   "metadata": {},
   "outputs": [
    {
     "data": {
      "image/png": "[encoded data removed]",
      "text/plain": [
       "<Figure size 432x288 with 1 Axes>"
      ]
     },
     "metadata": {
      "needs_background": "light"
     },
     "output_type": "display_data"
    }
   ],
   "source": [
    "test_01 = test_number_of_neurons(12, 'tanh', 0.01, 'mean_squared_error', 100, save=True)\n",
    "\n",
    "test_01.plot(kind='scatter',x='neurons',y='score')\n",
    "plt.title('Learning rate = 0.01')\n",
    "plt.xlabel('Neurônios na camada intermediária')\n",
    "plt.ylabel('Erro quadrático médio')\n",
    "plt.savefig('test01')\n",
    "#plt.show"
   ]
  },
  {
   "cell_type": "code",
   "execution_count": 36,
   "metadata": {},
   "outputs": [
    {
     "data": {
      "image/png": "[encoded data removed]",
      "text/plain": [
       "<Figure size 432x288 with 1 Axes>"
      ]
     },
     "metadata": {
      "needs_background": "light"
     },
     "output_type": "display_data"
    }
   ],
   "source": [
    "test_1 = test_number_of_neurons(12, 'tanh', 0.1, 'mean_squared_error', 100, save=True)\n",
    "\n",
    "test_1.plot(kind='scatter',x='neurons',y='score')\n",
    "plt.title('Learning rate = 0.1')\n",
    "plt.xlabel('Neurônios na camada intermediária')\n",
    "plt.ylabel('Erro quadrático médio')\n",
    "plt.savefig('test1')\n",
    "#plt.show()"
   ]
  },
  {
   "cell_type": "markdown",
   "metadata": {},
   "source": [
    "## Evaluating the effects of the number of hidden layer neurons in loss and predictions values"
   ]
  },
  {
   "cell_type": "code",
   "execution_count": 39,
   "metadata": {},
   "outputs": [],
   "source": [
    "def evaluate_loss_and_predictions(max_neurons, activation_function, learning_rate, \n",
    "              loss_function, epochs, plot=True, save=False):\n",
    "    for i in range(1, max_neurons+1):\n",
    "        get_model(i, activation_function, learning_rate, \n",
    "                  loss_function, epochs, plot, save)"
   ]
  },
  {
   "cell_type": "code",
   "execution_count": null,
   "metadata": {
    "scrolled": true
   },
   "outputs": [],
   "source": [
    "evaluate_loss_and_predictions(12, 'tanh', 0.001, 'mean_squared_error', 100, save=True)"
   ]
  },
  {
   "cell_type": "code",
   "execution_count": null,
   "metadata": {},
   "outputs": [],
   "source": []
  }
 ],
 "metadata": {
  "kernelspec": {
   "display_name": "Python 3",
   "language": "python",
   "name": "python3"
  },
  "language_info": {
   "codemirror_mode": {
    "name": "ipython",
    "version": 3
   },
   "file_extension": ".py",
   "mimetype": "text/x-python",
   "name": "python",
   "nbconvert_exporter": "python",
   "pygments_lexer": "ipython3",
   "version": "3.5.2"
  }
 },
 "nbformat": 4,
 "nbformat_minor": 2
}
