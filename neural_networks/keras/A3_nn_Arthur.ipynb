{
 "cells": [
  {
   "cell_type": "markdown",
   "metadata": {},
   "source": [
    "# Imports"
   ]
  },
  {
   "cell_type": "code",
   "execution_count": 1,
   "metadata": {},
   "outputs": [
    {
     "name": "stderr",
     "output_type": "stream",
     "text": [
      "Using TensorFlow backend.\n"
     ]
    }
   ],
   "source": [
    "import numpy as np\n",
    "import pandas as pd\n",
    "import matplotlib.pyplot as plt\n",
    "\n",
    "from sklearn.model_selection import train_test_split\n",
    "from sklearn.preprocessing import StandardScaler, MinMaxScaler\n",
    "\n",
    "import keras\n",
    "from keras import optimizers\n",
    "from keras.models import Sequential\n",
    "from keras.layers import Dense\n",
    "from keras.utils import np_utils\n",
    "\n",
    "%matplotlib inline"
   ]
  },
  {
   "cell_type": "markdown",
   "metadata": {
    "collapsed": true
   },
   "source": [
    "# Preparing Dataset"
   ]
  },
  {
   "cell_type": "code",
   "execution_count": 2,
   "metadata": {},
   "outputs": [],
   "source": [
    "def load_dataset(fname):\n",
    "    # read dataset\n",
    "    dataset = pd.read_csv(fname, comment='#')\n",
    "\n",
    "    # compositions to wt.%\n",
    "    dataset.C *= 100\n",
    "    dataset.Mn *= 100\n",
    "    dataset.Si *= 100\n",
    "    dataset.Cr *= 100\n",
    "    dataset.Ni *= 100\n",
    "\n",
    "    # temperatures to oC\n",
    "    dataset.A1 -= 273.15\n",
    "    dataset.A1prime -= 273.15\n",
    "    dataset.A3 -= 273.15\n",
    "\n",
    "    return dataset"
   ]
  },
  {
   "cell_type": "code",
   "execution_count": 3,
   "metadata": {},
   "outputs": [],
   "source": [
    "def prepare_dataset(fname):\n",
    "    raw_df = load_dataset(fname)\n",
    "    \n",
    "    if set(['file']).issubset(raw_df.columns):\n",
    "        raw_df = raw_df.drop(['file'], axis=1)\n",
    "    if set(['macro']).issubset(raw_df.columns):\n",
    "        raw_df = raw_df.drop(['macro'], axis=1)\n",
    "    \n",
    "    df = raw_df.copy()\n",
    "\n",
    "    df = df.drop(['A1', 'A1prime'], axis=1)\n",
    "    is_na = df['A3'].isna() \n",
    "    df = df.loc[~is_na, :] #REMOVE ALL A3 NAN\n",
    "    #df['euct'] = (df['eutectoid'].map(lambda x: 1 if x == 'hiper' else 0))\n",
    "    df= df.drop(['eutectoid'], axis=1) #REMOVE EUCTETOID COLLUMN BECAUSE IT'S A STRING\n",
    "    \n",
    "    return df"
   ]
  },
  {
   "cell_type": "code",
   "execution_count": 4,
   "metadata": {},
   "outputs": [],
   "source": [
    "def normalize_all_data(df):\n",
    "    scaler = MinMaxScaler(feature_range=[-1, 1])\n",
    "    scaler.fit(df)\n",
    "    df.loc[:, :] = scaler.transform(df)\n",
    "    return df"
   ]
  },
  {
   "cell_type": "code",
   "execution_count": 5,
   "metadata": {},
   "outputs": [],
   "source": [
    "def split_between_train_and_test(df, size):\n",
    "    #train size may be 0.8, 0.7 or 0.99\n",
    "    target = df['A3']\n",
    "    features = df.iloc[:, :20]\n",
    "    X_train, X_test, y_train, y_test = train_test_split(\n",
    "        features,\n",
    "        target,\n",
    "        train_size=size,\n",
    "        random_state=42\n",
    "    )\n",
    "    \n",
    "    X_train = X_train.drop(['A3'], axis=1)\n",
    "    X_test = X_test.drop(['A3'], axis=1)\n",
    "    \n",
    "    print('Train size: {}'.format(X_train.shape))\n",
    "    print('Test size: {}'.format(X_test.shape))\n",
    "    return X_train, y_train, X_test, y_test"
   ]
  },
  {
   "cell_type": "code",
   "execution_count": 6,
   "metadata": {},
   "outputs": [
    {
     "data": {
      "text/html": [
       "<div>\n",
       "<style scoped>\n",
       "    .dataframe tbody tr th:only-of-type {\n",
       "        vertical-align: middle;\n",
       "    }\n",
       "\n",
       "    .dataframe tbody tr th {\n",
       "        vertical-align: top;\n",
       "    }\n",
       "\n",
       "    .dataframe thead th {\n",
       "        text-align: right;\n",
       "    }\n",
       "</style>\n",
       "<table border=\"1\" class=\"dataframe\">\n",
       "  <thead>\n",
       "    <tr style=\"text-align: right;\">\n",
       "      <th></th>\n",
       "      <th>C</th>\n",
       "      <th>Mn</th>\n",
       "      <th>Si</th>\n",
       "      <th>Cr</th>\n",
       "      <th>Ni</th>\n",
       "      <th>A3</th>\n",
       "    </tr>\n",
       "  </thead>\n",
       "  <tbody>\n",
       "    <tr>\n",
       "      <th>0</th>\n",
       "      <td>-1.0</td>\n",
       "      <td>-1.0</td>\n",
       "      <td>-1.0</td>\n",
       "      <td>-1.0</td>\n",
       "      <td>-1.000000e+00</td>\n",
       "      <td>0.030744</td>\n",
       "    </tr>\n",
       "    <tr>\n",
       "      <th>1</th>\n",
       "      <td>-1.0</td>\n",
       "      <td>-1.0</td>\n",
       "      <td>-1.0</td>\n",
       "      <td>-1.0</td>\n",
       "      <td>-5.000000e-01</td>\n",
       "      <td>-0.100664</td>\n",
       "    </tr>\n",
       "    <tr>\n",
       "      <th>2</th>\n",
       "      <td>-1.0</td>\n",
       "      <td>-1.0</td>\n",
       "      <td>-1.0</td>\n",
       "      <td>-1.0</td>\n",
       "      <td>-2.220446e-16</td>\n",
       "      <td>-0.213736</td>\n",
       "    </tr>\n",
       "    <tr>\n",
       "      <th>3</th>\n",
       "      <td>-1.0</td>\n",
       "      <td>-1.0</td>\n",
       "      <td>-1.0</td>\n",
       "      <td>-1.0</td>\n",
       "      <td>5.000000e-01</td>\n",
       "      <td>-0.312742</td>\n",
       "    </tr>\n",
       "    <tr>\n",
       "      <th>4</th>\n",
       "      <td>-1.0</td>\n",
       "      <td>-1.0</td>\n",
       "      <td>-1.0</td>\n",
       "      <td>-1.0</td>\n",
       "      <td>1.000000e+00</td>\n",
       "      <td>-0.400445</td>\n",
       "    </tr>\n",
       "  </tbody>\n",
       "</table>\n",
       "</div>"
      ],
      "text/plain": [
       "     C   Mn   Si   Cr            Ni        A3\n",
       "0 -1.0 -1.0 -1.0 -1.0 -1.000000e+00  0.030744\n",
       "1 -1.0 -1.0 -1.0 -1.0 -5.000000e-01 -0.100664\n",
       "2 -1.0 -1.0 -1.0 -1.0 -2.220446e-16 -0.213736\n",
       "3 -1.0 -1.0 -1.0 -1.0  5.000000e-01 -0.312742\n",
       "4 -1.0 -1.0 -1.0 -1.0  1.000000e+00 -0.400445"
      ]
     },
     "execution_count": 6,
     "metadata": {},
     "output_type": "execute_result"
    }
   ],
   "source": [
    "df = prepare_dataset('../../databases/Tcriticalcopy.csv')\n",
    "df = normalize_all_data(df)\n",
    "df.head()"
   ]
  },
  {
   "cell_type": "code",
   "execution_count": 7,
   "metadata": {},
   "outputs": [
    {
     "name": "stdout",
     "output_type": "stream",
     "text": [
      "Train size: (5476, 5)\n",
      "Test size: (1369, 5)\n"
     ]
    },
    {
     "name": "stderr",
     "output_type": "stream",
     "text": [
      "/usr/local/lib/python3.5/dist-packages/sklearn/model_selection/_split.py:2026: FutureWarning: From version 0.21, test_size will always complement train_size unless both are specified.\n",
      "  FutureWarning)\n"
     ]
    }
   ],
   "source": [
    "X_train, y_train, X_test, y_test = split_between_train_and_test(df, 0.8)"
   ]
  },
  {
   "cell_type": "markdown",
   "metadata": {},
   "source": [
    "# The Model"
   ]
  },
  {
   "cell_type": "code",
   "execution_count": 25,
   "metadata": {},
   "outputs": [],
   "source": [
    "# Creating a KERAS model\n",
    "model = Sequential()\n",
    "model.add(Dense(6, input_dim=5, activation='tanh'))\n",
    "model.add(Dense(1, activation='tanh'))"
   ]
  },
  {
   "cell_type": "code",
   "execution_count": 26,
   "metadata": {},
   "outputs": [],
   "source": [
    "# Adding callback functions that they will run in every epoch\n",
    "# testmodelcb = keras.callbacks.LambdaCallback(on_epoch_end=save_model_prediction_graph)"
   ]
  },
  {
   "cell_type": "code",
   "execution_count": 27,
   "metadata": {},
   "outputs": [],
   "source": [
    "# opt = optimizers.sgd(lr=.1, momentum=0)\n",
    "opt = optimizers.RMSprop(lr=0.001, rho=0.9, epsilon=None, decay=0.0)\n",
    "# opt = optimizers.Adamax()\n",
    "\n",
    "model.compile(loss='mean_squared_error', optimizer=opt)\n",
    "loss = []"
   ]
  },
  {
   "cell_type": "code",
   "execution_count": 28,
   "metadata": {},
   "outputs": [
    {
     "name": "stdout",
     "output_type": "stream",
     "text": [
      "Epoch 1/50\n",
      "5476/5476 [==============================] - 0s 64us/step - loss: 0.3988\n",
      "Epoch 2/50\n",
      "5476/5476 [==============================] - 0s 31us/step - loss: 0.1344\n",
      "Epoch 3/50\n",
      "5476/5476 [==============================] - 0s 32us/step - loss: 0.0583\n",
      "Epoch 4/50\n",
      "5476/5476 [==============================] - 0s 34us/step - loss: 0.0519\n",
      "Epoch 5/50\n",
      "5476/5476 [==============================] - 0s 36us/step - loss: 0.0487\n",
      "Epoch 6/50\n",
      "5476/5476 [==============================] - 0s 33us/step - loss: 0.0444\n",
      "Epoch 7/50\n",
      "5476/5476 [==============================] - 0s 31us/step - loss: 0.0388\n",
      "Epoch 8/50\n",
      "5476/5476 [==============================] - 0s 32us/step - loss: 0.0326\n",
      "Epoch 9/50\n",
      "5476/5476 [==============================] - 0s 32us/step - loss: 0.0270\n",
      "Epoch 10/50\n",
      "5476/5476 [==============================] - 0s 33us/step - loss: 0.0227\n",
      "Epoch 11/50\n",
      "5476/5476 [==============================] - 0s 32us/step - loss: 0.0196\n",
      "Epoch 12/50\n",
      "5476/5476 [==============================] - 0s 33us/step - loss: 0.0176\n",
      "Epoch 13/50\n",
      "5476/5476 [==============================] - 0s 32us/step - loss: 0.0163\n",
      "Epoch 14/50\n",
      "5476/5476 [==============================] - 0s 36us/step - loss: 0.0155\n",
      "Epoch 15/50\n",
      "5476/5476 [==============================] - 0s 33us/step - loss: 0.0149\n",
      "Epoch 16/50\n",
      "5476/5476 [==============================] - 0s 36us/step - loss: 0.0144\n",
      "Epoch 17/50\n",
      "5476/5476 [==============================] - 0s 34us/step - loss: 0.0141\n",
      "Epoch 18/50\n",
      "5476/5476 [==============================] - 0s 30us/step - loss: 0.0138\n",
      "Epoch 19/50\n",
      "5476/5476 [==============================] - 0s 33us/step - loss: 0.0134\n",
      "Epoch 20/50\n",
      "5476/5476 [==============================] - 0s 32us/step - loss: 0.0131\n",
      "Epoch 21/50\n",
      "5476/5476 [==============================] - 0s 32us/step - loss: 0.0129\n",
      "Epoch 22/50\n",
      "5476/5476 [==============================] - 0s 34us/step - loss: 0.0126\n",
      "Epoch 23/50\n",
      "5476/5476 [==============================] - 0s 34us/step - loss: 0.0124\n",
      "Epoch 24/50\n",
      "5476/5476 [==============================] - 0s 32us/step - loss: 0.0121\n",
      "Epoch 25/50\n",
      "5476/5476 [==============================] - 0s 32us/step - loss: 0.0119\n",
      "Epoch 26/50\n",
      "5476/5476 [==============================] - 0s 33us/step - loss: 0.0117\n",
      "Epoch 27/50\n",
      "5476/5476 [==============================] - 0s 34us/step - loss: 0.0114\n",
      "Epoch 28/50\n",
      "5476/5476 [==============================] - 0s 32us/step - loss: 0.0112\n",
      "Epoch 29/50\n",
      "5476/5476 [==============================] - 0s 31us/step - loss: 0.0110\n",
      "Epoch 30/50\n",
      "5476/5476 [==============================] - 0s 33us/step - loss: 0.0108\n",
      "Epoch 31/50\n",
      "5476/5476 [==============================] - 0s 33us/step - loss: 0.0106\n",
      "Epoch 32/50\n",
      "5476/5476 [==============================] - 0s 35us/step - loss: 0.0103\n",
      "Epoch 33/50\n",
      "5476/5476 [==============================] - 0s 31us/step - loss: 0.0101\n",
      "Epoch 34/50\n",
      "5476/5476 [==============================] - 0s 34us/step - loss: 0.0099\n",
      "Epoch 35/50\n",
      "5476/5476 [==============================] - 0s 33us/step - loss: 0.0097\n",
      "Epoch 36/50\n",
      "5476/5476 [==============================] - 0s 34us/step - loss: 0.0096\n",
      "Epoch 37/50\n",
      "5476/5476 [==============================] - 0s 30us/step - loss: 0.0093\n",
      "Epoch 38/50\n",
      "5476/5476 [==============================] - 0s 36us/step - loss: 0.0091\n",
      "Epoch 39/50\n",
      "5476/5476 [==============================] - 0s 35us/step - loss: 0.0090\n",
      "Epoch 40/50\n",
      "5476/5476 [==============================] - 0s 33us/step - loss: 0.0087\n",
      "Epoch 41/50\n",
      "5476/5476 [==============================] - 0s 34us/step - loss: 0.0086\n",
      "Epoch 42/50\n",
      "5476/5476 [==============================] - 0s 33us/step - loss: 0.0084\n",
      "Epoch 43/50\n",
      "5476/5476 [==============================] - 0s 36us/step - loss: 0.0082\n",
      "Epoch 44/50\n",
      "5476/5476 [==============================] - 0s 40us/step - loss: 0.0080\n",
      "Epoch 45/50\n",
      "5476/5476 [==============================] - 0s 33us/step - loss: 0.0079\n",
      "Epoch 46/50\n",
      "5476/5476 [==============================] - 0s 36us/step - loss: 0.0077\n",
      "Epoch 47/50\n",
      "5476/5476 [==============================] - 0s 34us/step - loss: 0.0076\n",
      "Epoch 48/50\n",
      "5476/5476 [==============================] - 0s 36us/step - loss: 0.0074\n",
      "Epoch 49/50\n",
      "5476/5476 [==============================] - 0s 36us/step - loss: 0.0072\n",
      "Epoch 50/50\n",
      "5476/5476 [==============================] - 0s 44us/step - loss: 0.0071\n"
     ]
    }
   ],
   "source": [
    "history = model.fit(X_train, y_train, epochs=100, verbose=1)\n",
    "loss += history.history['loss']"
   ]
  },
  {
   "cell_type": "code",
   "execution_count": 30,
   "metadata": {},
   "outputs": [
    {
     "name": "stdout",
     "output_type": "stream",
     "text": [
      "Test loss (mean squared error): 0.008726324080275284\n"
     ]
    },
    {
     "data": {
      "text/plain": [
       "Text(0, 0.5, 'Expected values')"
      ]
     },
     "execution_count": 30,
     "metadata": {},
     "output_type": "execute_result"
    },
    {
     "data": {
      "image/png": "[encoded data removed]",
      "text/plain": [
       "<Figure size 432x288 with 1 Axes>"
      ]
     },
     "metadata": {
      "needs_background": "light"
     },
     "output_type": "display_data"
    },
    {
     "data": {
      "image/png": "[encoded data removed]",
      "text/plain": [
       "<Figure size 432x288 with 1 Axes>"
      ]
     },
     "metadata": {
      "needs_background": "light"
     },
     "output_type": "display_data"
    }
   ],
   "source": [
    "fig, ax = plt.subplots()\n",
    "\n",
    "ax.plot(loss, color='k', label='Loss')\n",
    "ax.set_xlabel('Epoch')\n",
    "ax.set_ylabel('Loss (mean squared error)')\n",
    "\n",
    "score = model.evaluate(X_test, y_test, verbose=0)\n",
    "print('Test loss (mean squared error):', score)\n",
    "\n",
    "fig, ax = plt.subplots()\n",
    "ax.plot(model.predict(X_train), y_train, 'ko')\n",
    "ax.plot(model.predict(X_test), y_test, 'kv', mfc='white')\n",
    "ax.plot([-1,1],[-1,1],'r-')\n",
    "ax.set_xlabel('Predicted values')\n",
    "ax.set_ylabel('Expected values')"
   ]
  },
  {
   "cell_type": "code",
   "execution_count": null,
   "metadata": {},
   "outputs": [],
   "source": []
  }
 ],
 "metadata": {
  "kernelspec": {
   "display_name": "Python 3",
   "language": "python",
   "name": "python3"
  },
  "language_info": {
   "codemirror_mode": {
    "name": "ipython",
    "version": 3
   },
   "file_extension": ".py",
   "mimetype": "text/x-python",
   "name": "python",
   "nbconvert_exporter": "python",
   "pygments_lexer": "ipython3",
   "version": "3.5.2"
  }
 },
 "nbformat": 4,
 "nbformat_minor": 2
}
