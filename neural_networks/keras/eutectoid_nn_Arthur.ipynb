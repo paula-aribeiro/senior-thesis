{
 "cells": [
  {
   "cell_type": "markdown",
   "metadata": {},
   "source": [
    "# Imports"
   ]
  },
  {
   "cell_type": "code",
   "execution_count": 1,
   "metadata": {},
   "outputs": [
    {
     "name": "stderr",
     "output_type": "stream",
     "text": [
      "Using TensorFlow backend.\n"
     ]
    }
   ],
   "source": [
    "import numpy as np\n",
    "import pandas as pd\n",
    "import matplotlib.pyplot as plt\n",
    "\n",
    "from sklearn.model_selection import train_test_split\n",
    "from sklearn.preprocessing import StandardScaler, MinMaxScaler\n",
    "\n",
    "import keras\n",
    "from keras import optimizers\n",
    "from keras.models import Sequential\n",
    "from keras.layers import Dense\n",
    "from keras.utils import np_utils\n",
    "\n",
    "%matplotlib inline"
   ]
  },
  {
   "cell_type": "markdown",
   "metadata": {
    "collapsed": true
   },
   "source": [
    "# Preparing Dataset"
   ]
  },
  {
   "cell_type": "code",
   "execution_count": 2,
   "metadata": {},
   "outputs": [],
   "source": [
    "def load_dataset(fname):\n",
    "    # read dataset\n",
    "    dataset = pd.read_csv(fname, comment='#')\n",
    "\n",
    "    # compositions to wt.%\n",
    "    dataset.C *= 100\n",
    "    dataset.Mn *= 100\n",
    "    dataset.Si *= 100\n",
    "    dataset.Cr *= 100\n",
    "    dataset.Ni *= 100\n",
    "\n",
    "    # temperatures to oC\n",
    "    dataset.A1 -= 273.15\n",
    "    dataset.A1prime -= 273.15\n",
    "    dataset.A3 -= 273.15\n",
    "\n",
    "    return dataset"
   ]
  },
  {
   "cell_type": "code",
   "execution_count": 3,
   "metadata": {},
   "outputs": [],
   "source": [
    "def prepare_dataset(fname):\n",
    "    raw_df = load_dataset(fname)\n",
    "    \n",
    "    if set(['file']).issubset(raw_df.columns):\n",
    "        raw_df = raw_df.drop(['file'], axis=1)\n",
    "    if set(['macro']).issubset(raw_df.columns):\n",
    "        raw_df = raw_df.drop(['macro'], axis=1)\n",
    "    \n",
    "    df = raw_df.copy()\n",
    "\n",
    "    df = df.drop(['A1', 'A1prime', 'A3'], axis=1)\n",
    "    df['eutectoid'] = (df['eutectoid'].map(lambda x: 1 if x == 'hiper' else 0))\n",
    "    \n",
    "    return df"
   ]
  },
  {
   "cell_type": "code",
   "execution_count": 4,
   "metadata": {},
   "outputs": [],
   "source": [
    "def normalize_all_data(df):\n",
    "    scaler = MinMaxScaler(feature_range=[-1, 1])\n",
    "    scaler.fit(df.loc[:, ['C','Mn','Si','Cr','Ni']])\n",
    "    df.loc[:, ['C','Mn','Si','Cr','Ni']] = scaler.transform(df.loc[:, ['C','Mn','Si','Cr','Ni']])\n",
    "    return df"
   ]
  },
  {
   "cell_type": "code",
   "execution_count": 10,
   "metadata": {},
   "outputs": [],
   "source": [
    "def split_between_train_and_test(df, size, target_var='A3'):\n",
    "    #train size may be 0.8, 0.7 or 0.99\n",
    "    target = df[target_var]\n",
    "    features = df.iloc[:, :20]\n",
    "    X_train, X_test, y_train, y_test = train_test_split(\n",
    "        features,\n",
    "        target,\n",
    "        train_size=size,\n",
    "        random_state=42\n",
    "    )\n",
    "    \n",
    "    X_train = X_train.drop([target_var], axis=1)\n",
    "    X_test = X_test.drop([target_var], axis=1)\n",
    "    \n",
    "    print('Train size: {}'.format(X_train.shape))\n",
    "    print('Test size: {}'.format(X_test.shape))\n",
    "    return X_train, y_train, X_test, y_test"
   ]
  },
  {
   "cell_type": "code",
   "execution_count": 11,
   "metadata": {},
   "outputs": [
    {
     "data": {
      "text/html": [
       "<div>\n",
       "<style scoped>\n",
       "    .dataframe tbody tr th:only-of-type {\n",
       "        vertical-align: middle;\n",
       "    }\n",
       "\n",
       "    .dataframe tbody tr th {\n",
       "        vertical-align: top;\n",
       "    }\n",
       "\n",
       "    .dataframe thead th {\n",
       "        text-align: right;\n",
       "    }\n",
       "</style>\n",
       "<table border=\"1\" class=\"dataframe\">\n",
       "  <thead>\n",
       "    <tr style=\"text-align: right;\">\n",
       "      <th></th>\n",
       "      <th>C</th>\n",
       "      <th>Mn</th>\n",
       "      <th>Si</th>\n",
       "      <th>Cr</th>\n",
       "      <th>Ni</th>\n",
       "      <th>eutectoid</th>\n",
       "    </tr>\n",
       "  </thead>\n",
       "  <tbody>\n",
       "    <tr>\n",
       "      <th>0</th>\n",
       "      <td>0.0</td>\n",
       "      <td>0.0001</td>\n",
       "      <td>0.0001</td>\n",
       "      <td>0.0001</td>\n",
       "      <td>0.000100</td>\n",
       "      <td>0</td>\n",
       "    </tr>\n",
       "    <tr>\n",
       "      <th>1</th>\n",
       "      <td>0.0</td>\n",
       "      <td>0.0001</td>\n",
       "      <td>0.0001</td>\n",
       "      <td>0.0001</td>\n",
       "      <td>0.750075</td>\n",
       "      <td>0</td>\n",
       "    </tr>\n",
       "    <tr>\n",
       "      <th>2</th>\n",
       "      <td>0.0</td>\n",
       "      <td>0.0001</td>\n",
       "      <td>0.0001</td>\n",
       "      <td>0.0001</td>\n",
       "      <td>1.500050</td>\n",
       "      <td>0</td>\n",
       "    </tr>\n",
       "    <tr>\n",
       "      <th>3</th>\n",
       "      <td>0.0</td>\n",
       "      <td>0.0001</td>\n",
       "      <td>0.0001</td>\n",
       "      <td>0.0001</td>\n",
       "      <td>2.250025</td>\n",
       "      <td>0</td>\n",
       "    </tr>\n",
       "    <tr>\n",
       "      <th>4</th>\n",
       "      <td>0.0</td>\n",
       "      <td>0.0001</td>\n",
       "      <td>0.0001</td>\n",
       "      <td>0.0001</td>\n",
       "      <td>3.000000</td>\n",
       "      <td>0</td>\n",
       "    </tr>\n",
       "  </tbody>\n",
       "</table>\n",
       "</div>"
      ],
      "text/plain": [
       "     C      Mn      Si      Cr        Ni  eutectoid\n",
       "0  0.0  0.0001  0.0001  0.0001  0.000100          0\n",
       "1  0.0  0.0001  0.0001  0.0001  0.750075          0\n",
       "2  0.0  0.0001  0.0001  0.0001  1.500050          0\n",
       "3  0.0  0.0001  0.0001  0.0001  2.250025          0\n",
       "4  0.0  0.0001  0.0001  0.0001  3.000000          0"
      ]
     },
     "execution_count": 11,
     "metadata": {},
     "output_type": "execute_result"
    }
   ],
   "source": [
    "df = prepare_dataset('../../databases/Tcriticalcopy.csv')\n",
    "# df = normalize_all_data(df)\n",
    "df.head()"
   ]
  },
  {
   "cell_type": "code",
   "execution_count": 12,
   "metadata": {},
   "outputs": [
    {
     "name": "stdout",
     "output_type": "stream",
     "text": [
      "Train size: (5500, 5)\n",
      "Test size: (1375, 5)\n"
     ]
    },
    {
     "name": "stderr",
     "output_type": "stream",
     "text": [
      "/usr/local/lib/python3.5/dist-packages/sklearn/model_selection/_split.py:2026: FutureWarning: From version 0.21, test_size will always complement train_size unless both are specified.\n",
      "  FutureWarning)\n"
     ]
    }
   ],
   "source": [
    "X_train, y_train, X_test, y_test = split_between_train_and_test(df, 0.8, 'eutectoid')"
   ]
  },
  {
   "cell_type": "markdown",
   "metadata": {},
   "source": [
    "# The Model"
   ]
  },
  {
   "cell_type": "code",
   "execution_count": 54,
   "metadata": {},
   "outputs": [],
   "source": [
    "# Creating a KERAS model\n",
    "model = Sequential()\n",
    "model.add(Dense(10, input_dim=5, activation='tanh'))\n",
    "model.add(Dense(10, activation='tanh'))\n",
    "model.add(Dense(1, activation='sigmoid'))"
   ]
  },
  {
   "cell_type": "code",
   "execution_count": 55,
   "metadata": {},
   "outputs": [],
   "source": [
    "# Adding callback functions that they will run in every epoch\n",
    "# testmodelcb = keras.callbacks.LambdaCallback(on_epoch_end=save_model_prediction_graph)"
   ]
  },
  {
   "cell_type": "code",
   "execution_count": 56,
   "metadata": {},
   "outputs": [],
   "source": [
    "# opt = optimizers.sgd(lr=.1, momentum=0)\n",
    "# opt = optimizers.RMSprop(lr=0.001, rho=0.9, epsilon=None, decay=0.0)\n",
    "opt = optimizers.Adamax()\n",
    "\n",
    "model.compile(loss='binary_crossentropy', optimizer=opt, metrics=['accuracy'])\n",
    "loss = []\n",
    "acc = []"
   ]
  },
  {
   "cell_type": "code",
   "execution_count": 57,
   "metadata": {},
   "outputs": [
    {
     "name": "stdout",
     "output_type": "stream",
     "text": [
      "Epoch 1/100\n",
      "5500/5500 [==============================] - 1s 112us/step - loss: 0.5504 - acc: 0.7005\n",
      "Epoch 2/100\n",
      "5500/5500 [==============================] - 0s 43us/step - loss: 0.3871 - acc: 0.8558\n",
      "Epoch 3/100\n",
      "5500/5500 [==============================] - 0s 43us/step - loss: 0.2677 - acc: 0.9102\n",
      "Epoch 4/100\n",
      "5500/5500 [==============================] - 0s 43us/step - loss: 0.2062 - acc: 0.9309\n",
      "Epoch 5/100\n",
      "5500/5500 [==============================] - 0s 39us/step - loss: 0.1656 - acc: 0.9462\n",
      "Epoch 6/100\n",
      "5500/5500 [==============================] - 0s 44us/step - loss: 0.1411 - acc: 0.9567\n",
      "Epoch 7/100\n",
      "5500/5500 [==============================] - 0s 44us/step - loss: 0.1243 - acc: 0.9635\n",
      "Epoch 8/100\n",
      "5500/5500 [==============================] - 0s 42us/step - loss: 0.1126 - acc: 0.9685\n",
      "Epoch 9/100\n",
      "5500/5500 [==============================] - 0s 43us/step - loss: 0.1057 - acc: 0.9715\n",
      "Epoch 10/100\n",
      "5500/5500 [==============================] - 0s 41us/step - loss: 0.1009 - acc: 0.9733\n",
      "Epoch 11/100\n",
      "5500/5500 [==============================] - 0s 46us/step - loss: 0.0967 - acc: 0.9740\n",
      "Epoch 12/100\n",
      "5500/5500 [==============================] - 0s 43us/step - loss: 0.0946 - acc: 0.9745\n",
      "Epoch 13/100\n",
      "5500/5500 [==============================] - 0s 42us/step - loss: 0.0920 - acc: 0.9751\n",
      "Epoch 14/100\n",
      "5500/5500 [==============================] - 0s 43us/step - loss: 0.0905 - acc: 0.9756\n",
      "Epoch 15/100\n",
      "5500/5500 [==============================] - 0s 33us/step - loss: 0.0896 - acc: 0.9751\n",
      "Epoch 16/100\n",
      "5500/5500 [==============================] - 0s 50us/step - loss: 0.0880 - acc: 0.9767\n",
      "Epoch 17/100\n",
      "5500/5500 [==============================] - 0s 43us/step - loss: 0.0874 - acc: 0.9749\n",
      "Epoch 18/100\n",
      "5500/5500 [==============================] - 0s 42us/step - loss: 0.0856 - acc: 0.9787\n",
      "Epoch 19/100\n",
      "5500/5500 [==============================] - 0s 41us/step - loss: 0.0854 - acc: 0.9791\n",
      "Epoch 20/100\n",
      "5500/5500 [==============================] - 0s 42us/step - loss: 0.0843 - acc: 0.9784\n",
      "Epoch 21/100\n",
      "5500/5500 [==============================] - 0s 40us/step - loss: 0.0842 - acc: 0.9784\n",
      "Epoch 22/100\n",
      "5500/5500 [==============================] - 0s 43us/step - loss: 0.0834 - acc: 0.9776\n",
      "Epoch 23/100\n",
      "5500/5500 [==============================] - 0s 44us/step - loss: 0.0829 - acc: 0.9785\n",
      "Epoch 24/100\n",
      "5500/5500 [==============================] - 0s 47us/step - loss: 0.0829 - acc: 0.9773\n",
      "Epoch 25/100\n",
      "5500/5500 [==============================] - 0s 44us/step - loss: 0.0821 - acc: 0.9789\n",
      "Epoch 26/100\n",
      "5500/5500 [==============================] - 0s 44us/step - loss: 0.0813 - acc: 0.9796\n",
      "Epoch 27/100\n",
      "5500/5500 [==============================] - 0s 46us/step - loss: 0.0811 - acc: 0.9798\n",
      "Epoch 28/100\n",
      "5500/5500 [==============================] - 0s 64us/step - loss: 0.0804 - acc: 0.9791\n",
      "Epoch 29/100\n",
      "5500/5500 [==============================] - 0s 50us/step - loss: 0.0800 - acc: 0.9785\n",
      "Epoch 30/100\n",
      "5500/5500 [==============================] - 0s 56us/step - loss: 0.0793 - acc: 0.9811\n",
      "Epoch 31/100\n",
      "5500/5500 [==============================] - 0s 50us/step - loss: 0.0792 - acc: 0.9787\n",
      "Epoch 32/100\n",
      "5500/5500 [==============================] - 0s 43us/step - loss: 0.0789 - acc: 0.9802\n",
      "Epoch 33/100\n",
      "5500/5500 [==============================] - 0s 45us/step - loss: 0.0786 - acc: 0.9785\n",
      "Epoch 34/100\n",
      "5500/5500 [==============================] - 0s 45us/step - loss: 0.0778 - acc: 0.9818\n",
      "Epoch 35/100\n",
      "5500/5500 [==============================] - 0s 48us/step - loss: 0.0772 - acc: 0.9813\n",
      "Epoch 36/100\n",
      "5500/5500 [==============================] - 0s 45us/step - loss: 0.0768 - acc: 0.9820\n",
      "Epoch 37/100\n",
      "5500/5500 [==============================] - 0s 46us/step - loss: 0.0766 - acc: 0.9818\n",
      "Epoch 38/100\n",
      "5500/5500 [==============================] - 0s 49us/step - loss: 0.0765 - acc: 0.9802\n",
      "Epoch 39/100\n",
      "5500/5500 [==============================] - 0s 72us/step - loss: 0.0761 - acc: 0.9815\n",
      "Epoch 40/100\n",
      "5500/5500 [==============================] - 0s 61us/step - loss: 0.0756 - acc: 0.9815\n",
      "Epoch 41/100\n",
      "5500/5500 [==============================] - 0s 32us/step - loss: 0.0751 - acc: 0.9825\n",
      "Epoch 42/100\n",
      "5500/5500 [==============================] - 0s 33us/step - loss: 0.0745 - acc: 0.9831\n",
      "Epoch 43/100\n",
      "5500/5500 [==============================] - 0s 51us/step - loss: 0.0740 - acc: 0.9820\n",
      "Epoch 44/100\n",
      "5500/5500 [==============================] - 0s 32us/step - loss: 0.0745 - acc: 0.9818\n",
      "Epoch 45/100\n",
      "5500/5500 [==============================] - 0s 33us/step - loss: 0.0742 - acc: 0.9820\n",
      "Epoch 46/100\n",
      "5500/5500 [==============================] - 0s 50us/step - loss: 0.0727 - acc: 0.9831\n",
      "Epoch 47/100\n",
      "5500/5500 [==============================] - 0s 34us/step - loss: 0.0734 - acc: 0.9824\n",
      "Epoch 48/100\n",
      "5500/5500 [==============================] - 0s 53us/step - loss: 0.0735 - acc: 0.9816\n",
      "Epoch 49/100\n",
      "5500/5500 [==============================] - 0s 34us/step - loss: 0.0726 - acc: 0.9833\n",
      "Epoch 50/100\n",
      "5500/5500 [==============================] - 0s 34us/step - loss: 0.0725 - acc: 0.9831\n",
      "Epoch 51/100\n",
      "5500/5500 [==============================] - 0s 36us/step - loss: 0.0721 - acc: 0.9820\n",
      "Epoch 52/100\n",
      "5500/5500 [==============================] - 0s 46us/step - loss: 0.0716 - acc: 0.9827\n",
      "Epoch 53/100\n",
      "5500/5500 [==============================] - 0s 34us/step - loss: 0.0714 - acc: 0.9844\n",
      "Epoch 54/100\n",
      "5500/5500 [==============================] - 0s 34us/step - loss: 0.0714 - acc: 0.9842\n",
      "Epoch 55/100\n",
      "5500/5500 [==============================] - 0s 43us/step - loss: 0.0709 - acc: 0.9840\n",
      "Epoch 56/100\n",
      "5500/5500 [==============================] - 0s 38us/step - loss: 0.0706 - acc: 0.9845\n",
      "Epoch 57/100\n",
      "5500/5500 [==============================] - 0s 53us/step - loss: 0.0713 - acc: 0.9836\n",
      "Epoch 58/100\n",
      "5500/5500 [==============================] - 0s 34us/step - loss: 0.0708 - acc: 0.9836\n",
      "Epoch 59/100\n",
      "5500/5500 [==============================] - 0s 51us/step - loss: 0.0697 - acc: 0.9849\n",
      "Epoch 60/100\n",
      "5500/5500 [==============================] - 0s 47us/step - loss: 0.0700 - acc: 0.9829\n",
      "Epoch 61/100\n",
      "5500/5500 [==============================] - 0s 52us/step - loss: 0.0699 - acc: 0.9831\n",
      "Epoch 62/100\n",
      "5500/5500 [==============================] - 0s 66us/step - loss: 0.0693 - acc: 0.9842\n",
      "Epoch 63/100\n",
      "5500/5500 [==============================] - 0s 65us/step - loss: 0.0696 - acc: 0.9835\n",
      "Epoch 64/100\n",
      "5500/5500 [==============================] - 0s 65us/step - loss: 0.0692 - acc: 0.9838\n",
      "Epoch 65/100\n",
      "5500/5500 [==============================] - 0s 46us/step - loss: 0.0690 - acc: 0.9838\n",
      "Epoch 66/100\n",
      "5500/5500 [==============================] - 0s 46us/step - loss: 0.0688 - acc: 0.9833\n",
      "Epoch 67/100\n",
      "5500/5500 [==============================] - 0s 45us/step - loss: 0.0686 - acc: 0.9838\n",
      "Epoch 68/100\n",
      "5500/5500 [==============================] - 0s 59us/step - loss: 0.0682 - acc: 0.9836\n",
      "Epoch 69/100\n",
      "5500/5500 [==============================] - 0s 54us/step - loss: 0.0688 - acc: 0.9845\n",
      "Epoch 70/100\n",
      "5500/5500 [==============================] - 0s 56us/step - loss: 0.0675 - acc: 0.9836\n",
      "Epoch 71/100\n",
      "5500/5500 [==============================] - 0s 55us/step - loss: 0.0675 - acc: 0.9836: 0s - loss: 0.0645 - acc: 0.9\n",
      "Epoch 72/100\n",
      "5500/5500 [==============================] - 0s 63us/step - loss: 0.0675 - acc: 0.9840\n",
      "Epoch 73/100\n",
      "5500/5500 [==============================] - 0s 49us/step - loss: 0.0678 - acc: 0.9835\n",
      "Epoch 74/100\n",
      "5500/5500 [==============================] - 0s 62us/step - loss: 0.0673 - acc: 0.9840\n",
      "Epoch 75/100\n",
      "5500/5500 [==============================] - 0s 43us/step - loss: 0.0668 - acc: 0.9844\n",
      "Epoch 76/100\n",
      "5500/5500 [==============================] - 0s 46us/step - loss: 0.0671 - acc: 0.9838\n",
      "Epoch 77/100\n",
      "5500/5500 [==============================] - 0s 47us/step - loss: 0.0664 - acc: 0.9845\n",
      "Epoch 78/100\n",
      "5500/5500 [==============================] - 0s 49us/step - loss: 0.0666 - acc: 0.9847\n",
      "Epoch 79/100\n",
      "5500/5500 [==============================] - 0s 49us/step - loss: 0.0668 - acc: 0.9836\n",
      "Epoch 80/100\n",
      "5500/5500 [==============================] - 0s 65us/step - loss: 0.0659 - acc: 0.9845\n",
      "Epoch 81/100\n",
      "5500/5500 [==============================] - 0s 51us/step - loss: 0.0661 - acc: 0.9844\n",
      "Epoch 82/100\n"
     ]
    },
    {
     "name": "stdout",
     "output_type": "stream",
     "text": [
      "5500/5500 [==============================] - 0s 56us/step - loss: 0.0659 - acc: 0.9829\n",
      "Epoch 83/100\n",
      "5500/5500 [==============================] - 0s 43us/step - loss: 0.0659 - acc: 0.9838\n",
      "Epoch 84/100\n",
      "5500/5500 [==============================] - 0s 55us/step - loss: 0.0654 - acc: 0.9838\n",
      "Epoch 85/100\n",
      "5500/5500 [==============================] - 0s 48us/step - loss: 0.0656 - acc: 0.9844\n",
      "Epoch 86/100\n",
      "5500/5500 [==============================] - 0s 52us/step - loss: 0.0654 - acc: 0.9836\n",
      "Epoch 87/100\n",
      "5500/5500 [==============================] - 0s 49us/step - loss: 0.0654 - acc: 0.9831\n",
      "Epoch 88/100\n",
      "5500/5500 [==============================] - 0s 58us/step - loss: 0.0646 - acc: 0.9845\n",
      "Epoch 89/100\n",
      "5500/5500 [==============================] - 0s 46us/step - loss: 0.0653 - acc: 0.9833\n",
      "Epoch 90/100\n",
      "5500/5500 [==============================] - 0s 66us/step - loss: 0.0648 - acc: 0.9847\n",
      "Epoch 91/100\n",
      "5500/5500 [==============================] - 0s 52us/step - loss: 0.0646 - acc: 0.9835\n",
      "Epoch 92/100\n",
      "5500/5500 [==============================] - 0s 43us/step - loss: 0.0644 - acc: 0.9840\n",
      "Epoch 93/100\n",
      "5500/5500 [==============================] - 0s 40us/step - loss: 0.0645 - acc: 0.9840\n",
      "Epoch 94/100\n",
      "5500/5500 [==============================] - 0s 42us/step - loss: 0.0642 - acc: 0.9825\n",
      "Epoch 95/100\n",
      "5500/5500 [==============================] - 0s 43us/step - loss: 0.0646 - acc: 0.9835\n",
      "Epoch 96/100\n",
      "5500/5500 [==============================] - 0s 41us/step - loss: 0.0643 - acc: 0.9824\n",
      "Epoch 97/100\n",
      "5500/5500 [==============================] - 0s 41us/step - loss: 0.0638 - acc: 0.9835\n",
      "Epoch 98/100\n",
      "5500/5500 [==============================] - 0s 43us/step - loss: 0.0638 - acc: 0.9845\n",
      "Epoch 99/100\n",
      "5500/5500 [==============================] - 0s 45us/step - loss: 0.0638 - acc: 0.9851\n",
      "Epoch 100/100\n",
      "5500/5500 [==============================] - 0s 44us/step - loss: 0.0637 - acc: 0.9840\n"
     ]
    }
   ],
   "source": [
    "history = model.fit(X_train, y_train, epochs=100, verbose=1)\n",
    "loss += history.history['loss']\n",
    "acc += history.history['acc']"
   ]
  },
  {
   "cell_type": "code",
   "execution_count": 58,
   "metadata": {},
   "outputs": [
    {
     "name": "stdout",
     "output_type": "stream",
     "text": [
      "Test loss): [0.06323488976196809, 0.9847272727272727]\n"
     ]
    },
    {
     "data": {
      "text/plain": [
       "Text(0, 0.5, 'Expected values')"
      ]
     },
     "execution_count": 58,
     "metadata": {},
     "output_type": "execute_result"
    },
    {
     "data": {
      "image/png": "[encoded data removed]",
      "text/plain": [
       "<Figure size 432x288 with 1 Axes>"
      ]
     },
     "metadata": {
      "needs_background": "light"
     },
     "output_type": "display_data"
    },
    {
     "data": {
      "image/png": "[encoded data removed]",
      "text/plain": [
       "<Figure size 432x288 with 1 Axes>"
      ]
     },
     "metadata": {
      "needs_background": "light"
     },
     "output_type": "display_data"
    }
   ],
   "source": [
    "fig, ax = plt.subplots()\n",
    "\n",
    "ax.plot(loss, color='k', label='Loss')\n",
    "ax.set_xlabel('Epoch')\n",
    "ax.set_ylabel('Loss')\n",
    "\n",
    "score = model.evaluate(X_test, y_test, verbose=0)\n",
    "print('Test loss):', score)\n",
    "\n",
    "fig, ax = plt.subplots()\n",
    "ax.plot(model.predict(X_train), y_train, 'ko')\n",
    "ax.plot(model.predict(X_test), y_test, 'kv', mfc='white')\n",
    "# ax.plot([-1,1],[-1,1],'r-')\n",
    "ax.axvline(.5)\n",
    "ax.set_xlabel('Predicted values')\n",
    "ax.set_ylabel('Expected values')"
   ]
  },
  {
   "cell_type": "code",
   "execution_count": 79,
   "metadata": {},
   "outputs": [
    {
     "data": {
      "text/plain": [
       "0.9852727272727273"
      ]
     },
     "execution_count": 79,
     "metadata": {},
     "output_type": "execute_result"
    }
   ],
   "source": [
    "y_predict = np.vectorize(lambda x: 1 if x > .5 else 0)(model.predict(X_train)).T[0]\n",
    "np.count_nonzero(y_predict == y_train.values)/len(y_predict)\n"
   ]
  },
  {
   "cell_type": "code",
   "execution_count": null,
   "metadata": {},
   "outputs": [],
   "source": []
  }
 ],
 "metadata": {
  "kernelspec": {
   "display_name": "Python 3",
   "language": "python",
   "name": "python3"
  },
  "language_info": {
   "codemirror_mode": {
    "name": "ipython",
    "version": 3
   },
   "file_extension": ".py",
   "mimetype": "text/x-python",
   "name": "python",
   "nbconvert_exporter": "python",
   "pygments_lexer": "ipython3",
   "version": "3.5.2"
  }
 },
 "nbformat": 4,
 "nbformat_minor": 2
}
